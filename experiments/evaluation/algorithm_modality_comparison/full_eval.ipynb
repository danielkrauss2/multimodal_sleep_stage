{
 "cells": [
  {
   "cell_type": "code",
   "execution_count": null,
   "metadata": {},
   "outputs": [],
   "source": [
    "import numpy as np\n",
    "import pandas as pd\n",
    "\n",
    "from pathlib import Path\n",
    "import matplotlib.pyplot as plt\n",
    "import seaborn as sns"
   ]
  },
  {
   "cell_type": "code",
   "execution_count": null,
   "metadata": {},
   "outputs": [],
   "source": [
    "from biopsykit.utils.dataframe_handling import multi_xs"
   ]
  },
  {
   "cell_type": "code",
   "execution_count": null,
   "metadata": {},
   "outputs": [],
   "source": [
    "%load_ext autoreload\n",
    "%autoreload 2"
   ]
  },
  {
   "cell_type": "code",
   "execution_count": null,
   "metadata": {},
   "outputs": [],
   "source": [
    "from fau_colors import register_cmaps\n",
    "register_cmaps()\n",
    "\n",
    "sns.set_theme(context=\"talk\", style=\"white\", palette=\"faculties_light\", font_scale=1.2)\n",
    "\n",
    "%matplotlib widget"
   ]
  },
  {
   "cell_type": "code",
   "execution_count": null,
   "metadata": {},
   "outputs": [],
   "source": [
    "df = pd.read_pickle(\"full_df.pkl\")"
   ]
  },
  {
   "cell_type": "markdown",
   "metadata": {},
   "source": [
    "# 5 stage"
   ]
  },
  {
   "cell_type": "code",
   "execution_count": null,
   "metadata": {},
   "outputs": [],
   "source": [
    "df_5 = multi_xs(df, [\"5stage\"], level=\"stage\")\n",
    "df_5 = multi_xs(df_5, [\"accuracy\", \"f1\", \"mcc\"],level=\"metric\")[[\"data\"]].astype(float)"
   ]
  },
  {
   "cell_type": "code",
   "execution_count": null,
   "metadata": {},
   "outputs": [],
   "source": [
    "df_5_mean = df_5.groupby(level=[\"algorithm type\", \"algorithm\", \"modality\", \"stage\", \"metric\"]).agg([\"median\"])\n",
    "df_5_mean.unstack(\"modality\")[\"data\"][\"median\"][[\"ACT\", \"ACT + HRV\", \"ACT + HRV + RRV\", \"ACT + HRV + EDR\"]]"
   ]
  },
  {
   "cell_type": "code",
   "execution_count": null,
   "metadata": {},
   "outputs": [],
   "source": [
    "df_5_plot = multi_xs(df_5, [\"mcc\"], level=\"metric\")\n",
    "df_5_plot = df_5_plot.rename(columns={'ACT + HRV + EDR': 'ACT + HRV + ED-RRV'})\n"
   ]
  },
  {
   "cell_type": "code",
   "execution_count": null,
   "metadata": {},
   "outputs": [],
   "source": [
    "fig, ax = plt.subplots(figsize=(16, 5))\n",
    "sns.boxplot(\n",
    "    data=multi_xs(\n",
    "        df_5_plot, [\"MLP\", \"AdaBoost\", \"SVM\", \"Random Forest\",\"XGBoost\", \"LSTM\", \"TCN\"], level=\"algorithm\"\n",
    "    ).reset_index(),\n",
    "    x=\"algorithm\",\n",
    "    y=\"data\",\n",
    "    hue=\"modality\",\n",
    "    hue_order=[\"ACT\", \"ACT + HRV\", \"ACT + HRV + RRV\", \"ACT + HRV + ED-RRV\"],\n",
    "    ax=ax,\n",
    ")\n",
    "ax.legend(bbox_to_anchor=(1, 1))\n",
    "\n",
    "plt.title(\"5 stage - MCC - overall performance\")"
   ]
  },
  {
   "cell_type": "markdown",
   "metadata": {},
   "source": [
    "# 3 stage"
   ]
  },
  {
   "cell_type": "code",
   "execution_count": null,
   "metadata": {},
   "outputs": [],
   "source": [
    "df_3 = multi_xs(df, [\"3stage\"], level=\"stage\")\n",
    "df_3 = multi_xs(df_3, [\"accuracy\", \"f1\", \"mcc\"],level=\"metric\")[[\"data\"]].astype(float)"
   ]
  },
  {
   "cell_type": "code",
   "execution_count": null,
   "metadata": {},
   "outputs": [],
   "source": [
    "df_3_mean = df_3.groupby(level=[\"algorithm type\", \"algorithm\", \"modality\", \"stage\", \"metric\"]).agg([\"median\"])\n",
    "df_3_mean.unstack(\"modality\")[\"data\"][\"median\"][[\"ACT\", \"ACT + HRV\", \"ACT + HRV + RRV\", \"ACT + HRV + EDR\"]]"
   ]
  },
  {
   "cell_type": "code",
   "execution_count": null,
   "metadata": {},
   "outputs": [],
   "source": [
    "df_3_plot = multi_xs(df_3, [\"mcc\"], level=\"metric\")"
   ]
  },
  {
   "cell_type": "code",
   "execution_count": null,
   "metadata": {},
   "outputs": [],
   "source": [
    "fig, ax = plt.subplots(figsize=(14, 5))\n",
    "sns.boxplot(\n",
    "    data=multi_xs(\n",
    "        df_3_plot, [\"MLP\", \"AdaBoost\", \"SVM\", \"Random Forest\", \"XGBoost\", \"LSTM\", \"TCN\"], level=\"algorithm\"\n",
    "    ).reset_index(),\n",
    "    x=\"algorithm\",\n",
    "    y=\"data\",\n",
    "    hue=\"modality\",\n",
    "    hue_order=[\"ACT\", \"ACT + HRV\", \"ACT + HRV + RRV\", \"ACT + HRV + EDR\"],\n",
    "    ax=ax,\n",
    ")\n",
    "ax.legend(bbox_to_anchor=(1, 1))\n",
    "\n",
    "plt.title(\"3 stage - MCC - overall performance\")"
   ]
  },
  {
   "cell_type": "markdown",
   "metadata": {},
   "source": [
    "# Binary"
   ]
  },
  {
   "cell_type": "code",
   "execution_count": null,
   "metadata": {},
   "outputs": [],
   "source": [
    "df_2 = multi_xs(df, [\"Binary\"], level=\"stage\")\n",
    "df_2 = multi_xs(df_2, [\"accuracy\", \"f1\", \"mcc\"],level=\"metric\")[[\"data\"]].astype(float)"
   ]
  },
  {
   "cell_type": "code",
   "execution_count": null,
   "metadata": {},
   "outputs": [],
   "source": [
    "df_2_mean = df_2.groupby(level=[\"algorithm type\", \"algorithm\", \"modality\", \"stage\", \"metric\"]).agg([\"median\"])\n",
    "df_2_mean.unstack(\"modality\")[\"data\"][\"median\"][[\"ACT\", \"ACT + HRV\", \"ACT + HRV + RRV\", \"ACT + HRV + EDR\"]]"
   ]
  },
  {
   "cell_type": "code",
   "execution_count": null,
   "metadata": {},
   "outputs": [],
   "source": [
    "df_2_plot = multi_xs(df_2, [\"mcc\"], level=\"metric\")"
   ]
  },
  {
   "cell_type": "code",
   "execution_count": null,
   "metadata": {},
   "outputs": [],
   "source": [
    "fig, ax = plt.subplots(figsize=(14, 5))\n",
    "sns.boxplot(\n",
    "    data=multi_xs(\n",
    "        df_2_plot, [\"MLP\", \"AdaBoost\", \"SVM\", \"Random Forest\", \"LSTM\", \"TCN\"], level=\"algorithm\"\n",
    "    ).reset_index(),\n",
    "    x=\"algorithm\",\n",
    "    y=\"data\",\n",
    "    hue=\"modality\",\n",
    "    hue_order=[\"ACT\", \"ACT + HRV\", \"ACT + HRV + RRV\", \"ACT + HRV + EDR\"],\n",
    "    ax=ax,\n",
    ")\n",
    "ax.legend(bbox_to_anchor=(1, 1))\n",
    "\n",
    "plt.title(\"Binary_ stage - MCC - overall performance\")"
   ]
  },
  {
   "cell_type": "code",
   "execution_count": null,
   "metadata": {},
   "outputs": [],
   "source": []
  },
  {
   "cell_type": "markdown",
   "metadata": {},
   "source": [
    "# Poster plots"
   ]
  },
  {
   "cell_type": "code",
   "execution_count": null,
   "metadata": {},
   "outputs": [],
   "source": [
    "fig, ax = plt.subplots(figsize=(15, 5))\n",
    "sns.boxplot(\n",
    "    data=multi_xs(\n",
    "        df_5_plot, [\"XGBoost\", \"LSTM\"], level=\"algorithm\"\n",
    "    ).reset_index(),\n",
    "    x=\"algorithm\",\n",
    "    y=\"data\",\n",
    "    hue=\"modality\",\n",
    "    hue_order=[\"ACT\", \"ACT + HRV\", \"ACT + HRV + RRV\", \"ACT + HRV + EDR\"],\n",
    "    ax=ax,\n",
    ")\n",
    "ax.legend(bbox_to_anchor=(1, 1))\n",
    "\n",
    "plt.title(\"5 stage - MCC - overall performance\")"
   ]
  },
  {
   "cell_type": "markdown",
   "metadata": {},
   "source": [
    "# Plot bestperforming ML + DL"
   ]
  },
  {
   "cell_type": "markdown",
   "metadata": {},
   "source": [
    "# 5stage"
   ]
  },
  {
   "cell_type": "code",
   "execution_count": null,
   "metadata": {},
   "outputs": [],
   "source": [
    "algorithm = [\"LSTM\",\"XGBoost\"]\n",
    "stage = \"5stage\""
   ]
  },
  {
   "cell_type": "code",
   "execution_count": null,
   "metadata": {},
   "outputs": [],
   "source": [
    "df_plot = multi_xs(df, [stage], level=\"stage\")\n",
    "df_plot = df_plot.rename(index={'ACT + HRV + EDR': 'ACT + HRV + ED-RRV'})"
   ]
  },
  {
   "cell_type": "code",
   "execution_count": null,
   "metadata": {},
   "outputs": [],
   "source": [
    "import biopsykit as bp\n",
    "from biopsykit.stats import StatsPipeline\n",
    "df_plot = multi_xs(df_plot, [\"accuracy\",\"mcc\", \"f1\"], level=\"metric\")"
   ]
  },
  {
   "cell_type": "code",
   "execution_count": null,
   "metadata": {},
   "outputs": [],
   "source": [
    "df_plot = multi_xs(\n",
    "        df_plot, algorithm, level=\"algorithm\"\n",
    "    )"
   ]
  },
  {
   "cell_type": "code",
   "execution_count": null,
   "metadata": {},
   "outputs": [],
   "source": [
    "dict_stats = {}\n",
    "\n",
    "for metric in [\"accuracy\", \"mcc\", \"f1\"]:\n",
    "    steps = [\n",
    "        # (\"prep\", \"normality\"),\n",
    "        # (\"test\", \"pairwise_ttests\")\n",
    "        (\"test\", \"kruskal\"),\n",
    "        (\"posthoc\", \"pairwise_tests\"),\n",
    "    ]\n",
    "\n",
    "    params = {\n",
    "        \"dv\": \"data\",\n",
    "        \"between\": \"modality\",\n",
    "        # \"subject\": \"subject\",\n",
    "        \"groupby\": [\"algorithm\"],\n",
    "        \"parametric\": False,\n",
    "        # \"multicomp\": {\"levels\": [\"algorithm\"]},\n",
    "    }\n",
    "\n",
    "    df_slice = df_plot.xs(metric, level=\"metric\")\n",
    "    pipeline = StatsPipeline(steps, params, round=4)\n",
    "    pipeline.apply(df_slice)\n",
    "\n",
    "    dict_stats[metric] = pipeline\n",
    "\n",
    "dict_stats"
   ]
  },
  {
   "cell_type": "code",
   "execution_count": null,
   "metadata": {},
   "outputs": [],
   "source": [
    "dict_brackets = {\n",
    "    key: dict_stats[key].sig_brackets(\n",
    "        \"posthoc\", stats_type=\"between\", plot_type=\"multi\", x=\"algorithm\", stats_effect_type=\"between\"\n",
    "    )\n",
    "    for key in [\"accuracy\", \"mcc\", \"f1\"]\n",
    "}"
   ]
  },
  {
   "cell_type": "code",
   "execution_count": null,
   "metadata": {},
   "outputs": [],
   "source": [
    "box_pairs = {key: val[0] for key, val in dict_brackets.items()}\n",
    "pvalues = {key: val[1] for key, val in dict_brackets.items()}"
   ]
  },
  {
   "cell_type": "code",
   "execution_count": null,
   "metadata": {},
   "outputs": [],
   "source": [
    "fig, axs = plt.subplots(figsize=(17, 7), ncols=3)\n",
    "\n",
    "features = [\"accuracy\", \"mcc\", \"f1\"]\n",
    "\n",
    "\n",
    "fig, axs = bp.plotting.multi_feature_boxplot(\n",
    "    data=df_plot,\n",
    "    x=\"algorithm\",\n",
    "    y=\"data\",\n",
    "    hue=\"modality\",\n",
    "    hue_order=[\"ACT\", \"ACT + HRV\", \"ACT + HRV + RRV\", \"ACT + HRV + ED-RRV\"],\n",
    "    group=\"metric\",\n",
    "    features=features,\n",
    "    stats_kwargs={\n",
    "        \"box_pairs\": box_pairs,\n",
    "        \"pvalues\": pvalues,\n",
    "        \"fontsize\": \"medium\",\n",
    "        \"text_offset\": -6,\n",
    "        \"verbose\": False,\n",
    "    },\n",
    "    ylabels={\"accuracy\": \"Accuracy [%]\", \"mcc\": \"Matthews's correlation coefficient\", \"f1\": \"F1-score [%]\"},\n",
    "    axs=axs,\n",
    ")\n",
    "fig.tight_layout(rect=(0, 0, 1, 0.95), pad=1.5)\n",
    "handles, labels = axs[0].get_legend_handles_labels()\n",
    "\n",
    "for ax, metric in zip(axs, features):\n",
    "    ax.legend().remove()\n",
    "    ax.set_xlabel(\"Algorithm\")\n",
    "    ax.tick_params(reset=True, right=False, top=False)\n",
    "\n",
    "\n",
    "# fig.legends[0].set_title(\"Input Modality\")\n",
    "fig.legends[0].remove()\n",
    "plt.legend(ncol=4, bbox_to_anchor=(0.7, 1.15))\n",
    "\n",
    "axs[0].set_yticks([i for i in np.arange(20, 110, 10)])\n",
    "axs[1].set_yticks([i for i in np.arange(0, 1.1, 0.2)])\n",
    "axs[2].set_yticks([i for i in np.arange(0, 110, 10)])\n",
    "\n",
    "axs[0].set_ylim(15, 115)\n",
    "\n",
    "plt.savefig(\n",
    "    Path.cwd().joinpath(\"best_performing_\"+stage+\"_.pdf\"),\n",
    "    format=\"pdf\",\n",
    "    bbox_inches=\"tight\",\n",
    ")"
   ]
  },
  {
   "cell_type": "markdown",
   "metadata": {},
   "source": [
    "# 3 stage"
   ]
  },
  {
   "cell_type": "code",
   "execution_count": null,
   "metadata": {},
   "outputs": [],
   "source": [
    "algorithm = [\"LSTM\",\"XGBoost\"]\n",
    "stage = \"3stage\""
   ]
  },
  {
   "cell_type": "code",
   "execution_count": null,
   "metadata": {},
   "outputs": [],
   "source": [
    "df_plot = multi_xs(df, [stage], level=\"stage\")\n",
    "df_plot = df_plot.rename(index={'ACT + HRV + EDR': 'ACT + HRV + ED-RRV'})"
   ]
  },
  {
   "cell_type": "code",
   "execution_count": null,
   "metadata": {},
   "outputs": [],
   "source": [
    "import biopsykit as bp\n",
    "from biopsykit.stats import StatsPipeline\n",
    "df_plot = multi_xs(df_plot, [\"accuracy\",\"mcc\", \"f1\"], level=\"metric\")"
   ]
  },
  {
   "cell_type": "code",
   "execution_count": null,
   "metadata": {},
   "outputs": [],
   "source": [
    "df_plot = multi_xs(\n",
    "        df_plot, algorithm, level=\"algorithm\"\n",
    "    )"
   ]
  },
  {
   "cell_type": "code",
   "execution_count": null,
   "metadata": {},
   "outputs": [],
   "source": [
    "dict_stats = {}\n",
    "\n",
    "for metric in [\"accuracy\", \"mcc\", \"f1\"]:\n",
    "    steps = [\n",
    "        # (\"prep\", \"normality\"),\n",
    "        # (\"test\", \"pairwise_ttests\")\n",
    "        (\"test\", \"kruskal\"),\n",
    "        (\"posthoc\", \"pairwise_tests\"),\n",
    "    ]\n",
    "\n",
    "    params = {\n",
    "        \"dv\": \"data\",\n",
    "        \"between\": \"modality\",\n",
    "        # \"subject\": \"subject\",\n",
    "        \"groupby\": [\"algorithm\"],\n",
    "        \"parametric\": False,\n",
    "        # \"multicomp\": {\"levels\": [\"algorithm\"]},\n",
    "    }\n",
    "\n",
    "    df_slice = df_plot.xs(metric, level=\"metric\")\n",
    "    pipeline = StatsPipeline(steps, params, round=4)\n",
    "    pipeline.apply(df_slice)\n",
    "\n",
    "    dict_stats[metric] = pipeline\n",
    "\n",
    "dict_stats"
   ]
  },
  {
   "cell_type": "code",
   "execution_count": null,
   "metadata": {},
   "outputs": [],
   "source": [
    "dict_brackets = {\n",
    "    key: dict_stats[key].sig_brackets(\n",
    "        \"posthoc\", stats_type=\"between\", plot_type=\"multi\", x=\"algorithm\", stats_effect_type=\"between\"\n",
    "    )\n",
    "    for key in [\"accuracy\", \"mcc\", \"f1\"]\n",
    "}"
   ]
  },
  {
   "cell_type": "code",
   "execution_count": null,
   "metadata": {},
   "outputs": [],
   "source": [
    "box_pairs = {key: val[0] for key, val in dict_brackets.items()}\n",
    "pvalues = {key: val[1] for key, val in dict_brackets.items()}"
   ]
  },
  {
   "cell_type": "code",
   "execution_count": null,
   "metadata": {},
   "outputs": [],
   "source": [
    "fig, axs = plt.subplots(figsize=(17, 7), ncols=3)\n",
    "\n",
    "features = [\"accuracy\", \"mcc\", \"f1\"]\n",
    "\n",
    "\n",
    "fig, axs = bp.plotting.multi_feature_boxplot(\n",
    "    data=df_plot,\n",
    "    x=\"algorithm\",\n",
    "    y=\"data\",\n",
    "    hue=\"modality\",\n",
    "    hue_order=[\"ACT\", \"ACT + HRV\", \"ACT + HRV + RRV\", \"ACT + HRV + ED-RRV\"],\n",
    "    group=\"metric\",\n",
    "    features=features,\n",
    "    stats_kwargs={\n",
    "        \"box_pairs\": box_pairs,\n",
    "        \"pvalues\": pvalues,\n",
    "        \"fontsize\": \"medium\",\n",
    "        \"text_offset\": -6,\n",
    "        \"verbose\": False,\n",
    "    },\n",
    "    ylabels={\"accuracy\": \"Accuracy [%]\", \"mcc\": \"Matthews's correlation coefficient\", \"f1\": \"F1-score [%]\"},\n",
    "    axs=axs,\n",
    ")\n",
    "fig.tight_layout(rect=(0, 0, 1, 0.95), pad=1.5)\n",
    "handles, labels = axs[0].get_legend_handles_labels()\n",
    "\n",
    "for ax, metric in zip(axs, features):\n",
    "    ax.legend().remove()\n",
    "    ax.set_xlabel(\"Algorithm\")\n",
    "    ax.tick_params(reset=True, right=False, top=False)\n",
    "\n",
    "\n",
    "# fig.legends[0].set_title(\"Input Modality\")\n",
    "fig.legends[0].remove()\n",
    "plt.legend(ncol=4, bbox_to_anchor=(0.7, 1.15))\n",
    "\n",
    "axs[0].set_yticks([i for i in np.arange(20, 110, 10)])\n",
    "axs[1].set_yticks([i for i in np.arange(0, 1.1, 0.2)])\n",
    "axs[2].set_yticks([i for i in np.arange(0, 110, 10)])\n",
    "\n",
    "axs[0].set_ylim(15, 135)\n",
    "\n",
    "plt.savefig(\n",
    "    Path.cwd().joinpath(\"best_performing_\"+stage+\"_.pdf\"),\n",
    "    format=\"pdf\",\n",
    "    bbox_inches=\"tight\",\n",
    ")"
   ]
  },
  {
   "cell_type": "markdown",
   "metadata": {},
   "source": [
    "# Binary"
   ]
  },
  {
   "cell_type": "code",
   "execution_count": null,
   "metadata": {},
   "outputs": [],
   "source": [
    "algorithm = [\"LSTM\",\"XGBoost\"]\n",
    "stage = \"Binary\""
   ]
  },
  {
   "cell_type": "code",
   "execution_count": null,
   "metadata": {},
   "outputs": [],
   "source": [
    "df_plot = multi_xs(df, [stage], level=\"stage\")\n",
    "df_plot = df_plot.rename(index={'ACT + HRV + EDR': 'ACT + HRV + ED-RRV'})"
   ]
  },
  {
   "cell_type": "code",
   "execution_count": null,
   "metadata": {},
   "outputs": [],
   "source": [
    "import biopsykit as bp\n",
    "from biopsykit.stats import StatsPipeline\n",
    "df_plot = multi_xs(df_plot, [\"accuracy\",\"mcc\", \"f1\"], level=\"metric\")"
   ]
  },
  {
   "cell_type": "code",
   "execution_count": null,
   "metadata": {},
   "outputs": [],
   "source": [
    "df_plot = multi_xs(\n",
    "        df_plot, algorithm, level=\"algorithm\"\n",
    "    )"
   ]
  },
  {
   "cell_type": "code",
   "execution_count": null,
   "metadata": {},
   "outputs": [],
   "source": [
    "dict_stats = {}\n",
    "\n",
    "for metric in [\"accuracy\", \"mcc\", \"f1\"]:\n",
    "    steps = [\n",
    "        # (\"prep\", \"normality\"),\n",
    "        # (\"test\", \"pairwise_ttests\")\n",
    "        (\"test\", \"kruskal\"),\n",
    "        (\"posthoc\", \"pairwise_tests\"),\n",
    "    ]\n",
    "\n",
    "    params = {\n",
    "        \"dv\": \"data\",\n",
    "        \"between\": \"modality\",\n",
    "        # \"subject\": \"subject\",\n",
    "        \"groupby\": [\"algorithm\"],\n",
    "        \"parametric\": False,\n",
    "        # \"multicomp\": {\"levels\": [\"algorithm\"]},\n",
    "    }\n",
    "\n",
    "    df_slice = df_plot.xs(metric, level=\"metric\")\n",
    "    pipeline = StatsPipeline(steps, params, round=4)\n",
    "    pipeline.apply(df_slice)\n",
    "\n",
    "    dict_stats[metric] = pipeline\n",
    "\n",
    "dict_stats"
   ]
  },
  {
   "cell_type": "code",
   "execution_count": null,
   "metadata": {},
   "outputs": [],
   "source": [
    "dict_brackets = {\n",
    "    key: dict_stats[key].sig_brackets(\n",
    "        \"posthoc\", stats_type=\"between\", plot_type=\"multi\", x=\"algorithm\", stats_effect_type=\"between\"\n",
    "    )\n",
    "    for key in [\"accuracy\", \"mcc\", \"f1\"]\n",
    "}"
   ]
  },
  {
   "cell_type": "code",
   "execution_count": null,
   "metadata": {},
   "outputs": [],
   "source": [
    "box_pairs = {key: val[0] for key, val in dict_brackets.items()}\n",
    "pvalues = {key: val[1] for key, val in dict_brackets.items()}\n",
    "display(box_pairs)\n",
    "display(pvalues)"
   ]
  },
  {
   "cell_type": "code",
   "execution_count": null,
   "metadata": {},
   "outputs": [],
   "source": [
    "fig, axs = plt.subplots(figsize=(17, 7), ncols=3)\n",
    "\n",
    "features = [\"accuracy\", \"mcc\", \"f1\"]\n",
    "\n",
    "\n",
    "fig, axs = bp.plotting.multi_feature_boxplot(\n",
    "    data=df_plot,\n",
    "    x=\"algorithm\",\n",
    "    y=\"data\",\n",
    "    hue=\"modality\",\n",
    "    hue_order=[\"ACT\", \"ACT + HRV\", \"ACT + HRV + RRV\", \"ACT + HRV + ED-RRV\"],\n",
    "    group=\"metric\",\n",
    "    features=features,\n",
    "    stats_kwargs={\n",
    "        \"box_pairs\": box_pairs,\n",
    "        \"pvalues\": pvalues,\n",
    "        \"fontsize\": \"medium\",\n",
    "        \"text_offset\": -6,\n",
    "        \"verbose\": False,\n",
    "    },\n",
    "    ylabels={\"accuracy\": \"Accuracy [%]\", \"mcc\": \"Matthews's correlation coefficient\", \"f1\": \"F1-score [%]\"},\n",
    "    axs=axs,\n",
    ")\n",
    "fig.tight_layout(rect=(0, 0, 1, 0.95), pad=1.5)\n",
    "handles, labels = axs[0].get_legend_handles_labels()\n",
    "\n",
    "for ax, metric in zip(axs, features):\n",
    "    ax.legend().remove()\n",
    "    ax.set_xlabel(\"Algorithm\")\n",
    "    ax.tick_params(reset=True, right=False, top=False)\n",
    "\n",
    "\n",
    "# fig.legends[0].set_title(\"Input Modality\")\n",
    "fig.legends[0].remove()\n",
    "plt.legend(ncol=4, bbox_to_anchor=(0.7, 1.15))\n",
    "\n",
    "axs[0].set_yticks([i for i in np.arange(20, 110, 10)])\n",
    "axs[1].set_yticks([i for i in np.arange(0, 1.1, 0.2)])\n",
    "axs[2].set_yticks([i for i in np.arange(0, 110, 10)])\n",
    "\n",
    "axs[0].set_ylim(15, 135)\n",
    "\n",
    "plt.savefig(\n",
    "    Path.cwd().joinpath(\"best_performing_\"+stage+\"_.pdf\"),\n",
    "    format=\"pdf\",\n",
    "    bbox_inches=\"tight\",\n",
    ")"
   ]
  },
  {
   "cell_type": "code",
   "execution_count": null,
   "metadata": {},
   "outputs": [],
   "source": []
  },
  {
   "cell_type": "code",
   "execution_count": null,
   "metadata": {},
   "outputs": [],
   "source": []
  },
  {
   "cell_type": "code",
   "execution_count": null,
   "metadata": {},
   "outputs": [],
   "source": []
  }
 ],
 "metadata": {
  "kernelspec": {
   "display_name": "sleep-analysis",
   "language": "python",
   "name": "sleep-analysis"
  },
  "language_info": {
   "codemirror_mode": {
    "name": "ipython",
    "version": 3
   },
   "file_extension": ".py",
   "mimetype": "text/x-python",
   "name": "python",
   "nbconvert_exporter": "python",
   "pygments_lexer": "ipython3",
   "version": "3.9.7"
  }
 },
 "nbformat": 4,
 "nbformat_minor": 4
}
