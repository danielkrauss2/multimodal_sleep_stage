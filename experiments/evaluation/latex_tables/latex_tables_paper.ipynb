{
 "cells": [
  {
   "cell_type": "code",
   "execution_count": null,
   "metadata": {},
   "outputs": [],
   "source": [
    "import numpy as np\n",
    "import pandas as pd\n",
    "\n",
    "from pathlib import Path\n",
    "import matplotlib.pyplot as plt\n",
    "import seaborn as sns"
   ]
  },
  {
   "cell_type": "code",
   "execution_count": null,
   "metadata": {},
   "outputs": [],
   "source": [
    "from biopsykit.utils.dataframe_handling import multi_xs"
   ]
  },
  {
   "cell_type": "code",
   "execution_count": null,
   "metadata": {},
   "outputs": [],
   "source": [
    "%load_ext autoreload\n",
    "%autoreload 2"
   ]
  },
  {
   "cell_type": "code",
   "execution_count": null,
   "metadata": {},
   "outputs": [],
   "source": [
    "from fau_colors import register_cmaps\n",
    "register_cmaps()\n",
    "\n",
    "sns.set_theme(context=\"talk\", style=\"white\", palette=\"faculties\", font_scale=1.2)\n",
    "\n",
    "%matplotlib widget"
   ]
  },
  {
   "cell_type": "code",
   "execution_count": null,
   "metadata": {},
   "outputs": [],
   "source": [
    "df = pd.read_pickle(\"full_df.pkl\")"
   ]
  },
  {
   "cell_type": "code",
   "execution_count": null,
   "metadata": {},
   "outputs": [],
   "source": [
    "df = df.rename(index={\"specifity\":\"specificity\"})\n",
    "df"
   ]
  },
  {
   "cell_type": "markdown",
   "metadata": {},
   "source": [
    "# 5 stage"
   ]
  },
  {
   "cell_type": "code",
   "execution_count": null,
   "metadata": {},
   "outputs": [],
   "source": [
    "df_5 = multi_xs(df, [\"5stage\"], level=\"stage\")\n",
    "df_5_mcc = multi_xs(df_5, [\"mcc\"],level=\"metric\")[[\"data\"]].astype(float)\n",
    "df_5 = multi_xs(df_5, [\"accuracy\", \"f1\", \"precision\", \"recall\", \"specificity\"],level=\"metric\")[[\"data\"]].astype(float)"
   ]
  },
  {
   "cell_type": "code",
   "execution_count": null,
   "metadata": {},
   "outputs": [],
   "source": [
    "df_5_mean = df_5.groupby(level=[\"algorithm type\", \"algorithm\", \"modality\", \"stage\", \"metric\"]).agg([np.median, lambda x: np.percentile(x, 75) - np.percentile(x, 25)])\n",
    "#df_5_mean = df_5_mean.unstack(\"modality\")[\"data\"][\"mean\"][[\"ACT\", \"ACT + HRV\", \"ACT + HRV + RRV\", \"ACT + HRV + EDR\"]]\n",
    "df_5_mean = df_5_mean.unstack(\"metric\")[\"data\"].round(decimals=1).applymap('{:,.1f}'.format).applymap('{:0>4}'.format)"
   ]
  },
  {
   "cell_type": "code",
   "execution_count": null,
   "metadata": {},
   "outputs": [],
   "source": [
    "df_5_mcc = df_5_mcc.groupby(level=[\"algorithm type\", \"algorithm\", \"modality\", \"stage\", \"metric\"]).agg([np.median, lambda x: np.percentile(x, 75) - np.percentile(x, 25)])\n",
    "df_5_mcc = df_5_mcc.unstack(\"metric\")[\"data\"].round(decimals=2).applymap('{:,.2f}'.format).applymap('{:0>4}'.format)"
   ]
  },
  {
   "cell_type": "code",
   "execution_count": null,
   "metadata": {},
   "outputs": [],
   "source": [
    "#df_5_mean.sort_values(by=[\"accuracy\"], axis=0, ascending=False).sort_index(level=\"modality\", sort_remaining=False)"
   ]
  },
  {
   "cell_type": "code",
   "execution_count": null,
   "metadata": {},
   "outputs": [],
   "source": [
    "df_5_mean = pd.DataFrame(\n",
    "    \"$\" + df_5_mean[\"median\"].astype(str) + \" (\" + df_5_mean[\"<lambda_0>\"].astype(str) + \")$\"\n",
    ").droplevel([0,3]).swaplevel(0,1).sort_index(level=0)#.sort_values(by=\"modality\")\n",
    "df_5_mean = df_5_mean.reindex([\"LSTM\", \"TCN\", \"AdaBoost\", \"MLP\", \"Random Forest\", \"SVM\", \"XGBoost\"], level=\"algorithm\")"
   ]
  },
  {
   "cell_type": "code",
   "execution_count": null,
   "metadata": {},
   "outputs": [],
   "source": [
    "df_5_mcc = pd.DataFrame(\n",
    "    \"$\" + df_5_mcc[\"median\"].astype(str) + \" (\" + df_5_mcc[\"<lambda_0>\"].astype(str) + \")$\"\n",
    ").droplevel([0,3]).swaplevel(0,1).sort_index(level=0)#.sort_values(by=\"modality\")\n",
    "df_5_mcc = df_5_mcc.reindex([\"LSTM\", \"TCN\", \"AdaBoost\", \"MLP\", \"Random Forest\", \"SVM\", \"XGBoost\"], level=\"algorithm\")"
   ]
  },
  {
   "cell_type": "code",
   "execution_count": null,
   "metadata": {},
   "outputs": [],
   "source": [
    "df_5_mean = df_5_mean.join(df_5_mcc).reindex([\"accuracy\", \"f1\", \"mcc\", \"precision\", \"recall\", \"specificity\"], axis=1)"
   ]
  },
  {
   "cell_type": "code",
   "execution_count": null,
   "metadata": {},
   "outputs": [],
   "source": [
    "df_5_mean.style.to_latex(\"5stage.tex\")"
   ]
  },
  {
   "cell_type": "code",
   "execution_count": null,
   "metadata": {},
   "outputs": [],
   "source": [
    "df_5_mean"
   ]
  },
  {
   "cell_type": "markdown",
   "metadata": {},
   "source": [
    "# 3 stage"
   ]
  },
  {
   "cell_type": "code",
   "execution_count": null,
   "metadata": {},
   "outputs": [],
   "source": [
    "df_3 = multi_xs(df, [\"3stage\"], level=\"stage\")\n",
    "df_3_mcc = multi_xs(df_3, [\"mcc\"],level=\"metric\")[[\"data\"]].astype(float)\n",
    "df_3 = multi_xs(df_3, [\"accuracy\", \"f1\", \"precision\", \"recall\", \"specificity\"],level=\"metric\")[[\"data\"]].astype(float)"
   ]
  },
  {
   "cell_type": "code",
   "execution_count": null,
   "metadata": {},
   "outputs": [],
   "source": [
    "df_3_mean = df_3.groupby(level=[\"algorithm type\", \"algorithm\", \"modality\", \"stage\", \"metric\"]).agg([np.median, lambda x: np.percentile(x, 75) - np.percentile(x, 25)])\n",
    "#df_3_mean = df_3_mean.unstack(\"modality\")[\"data\"][\"mean\"][[\"ACT\", \"ACT + HRV\", \"ACT + HRV + RRV\", \"ACT + HRV + EDR\"]]\n",
    "df_3_mean = df_3_mean.unstack(\"metric\")[\"data\"].round(decimals=1).applymap('{:,.1f}'.format).applymap('{:0>4}'.format)"
   ]
  },
  {
   "cell_type": "code",
   "execution_count": null,
   "metadata": {},
   "outputs": [],
   "source": [
    "df_3_mcc = df_3_mcc.groupby(level=[\"algorithm type\", \"algorithm\", \"modality\", \"stage\", \"metric\"]).agg([np.median, lambda x: np.percentile(x, 75) - np.percentile(x, 25)])\n",
    "df_3_mcc = df_3_mcc.unstack(\"metric\")[\"data\"].round(decimals=2).applymap('{:,.2f}'.format).applymap('{:0>4}'.format)"
   ]
  },
  {
   "cell_type": "code",
   "execution_count": null,
   "metadata": {},
   "outputs": [],
   "source": [
    "#df_3_mean.sort_values(by=[\"accuracy\"], axis=0, ascending=False).sort_index(level=\"modality\", sort_remaining=False)"
   ]
  },
  {
   "cell_type": "code",
   "execution_count": null,
   "metadata": {},
   "outputs": [],
   "source": [
    "df_3_mean = pd.DataFrame(\n",
    "    \"$\" + df_3_mean[\"median\"].astype(str) + \" (\" + df_3_mean[\"<lambda_0>\"].astype(str) + \")$\"\n",
    ").droplevel([0,3]).swaplevel(0,1).sort_index(level=0)#.sort_values(by=\"modality\")\n",
    "df_3_mean = df_3_mean.reindex([\"LSTM\", \"TCN\", \"AdaBoost\", \"MLP\", \"Random Forest\", \"SVM\", \"XGBoost\"], level=\"algorithm\")"
   ]
  },
  {
   "cell_type": "code",
   "execution_count": null,
   "metadata": {},
   "outputs": [],
   "source": [
    "df_3_mcc = pd.DataFrame(\n",
    "    \"$\" + df_3_mcc[\"median\"].astype(str) + \" (\" + df_3_mcc[\"<lambda_0>\"].astype(str) + \")$\"\n",
    ").droplevel([0,3]).swaplevel(0,1).sort_index(level=0)#.sort_values(by=\"modality\")\n",
    "df_3_mcc = df_3_mcc.reindex([\"LSTM\", \"TCN\", \"AdaBoost\", \"MLP\", \"Random Forest\", \"SVM\", \"XGBoost\"], level=\"algorithm\")"
   ]
  },
  {
   "cell_type": "code",
   "execution_count": null,
   "metadata": {},
   "outputs": [],
   "source": [
    "df_3_mean = df_3_mean.join(df_3_mcc).reindex([\"accuracy\", \"f1\", \"mcc\", \"precision\", \"recall\", \"specificity\"], axis=1)"
   ]
  },
  {
   "cell_type": "code",
   "execution_count": null,
   "metadata": {},
   "outputs": [],
   "source": [
    "df_3_mean.style.to_latex(\"3stage.tex\")"
   ]
  },
  {
   "cell_type": "code",
   "execution_count": null,
   "metadata": {},
   "outputs": [],
   "source": [
    "df_3_mean"
   ]
  },
  {
   "cell_type": "markdown",
   "metadata": {},
   "source": [
    "# 2 stage"
   ]
  },
  {
   "cell_type": "code",
   "execution_count": null,
   "metadata": {},
   "outputs": [],
   "source": [
    "df_2 = multi_xs(df, [\"Binary\"], level=\"stage\")\n",
    "df_2_mcc = multi_xs(df_2, [\"mcc\"],level=\"metric\")[[\"data\"]].astype(float)\n",
    "df_2 = multi_xs(df_2, [\"accuracy\", \"f1\", \"precision\", \"recall\", \"specificity\"],level=\"metric\")[[\"data\"]].astype(float)"
   ]
  },
  {
   "cell_type": "code",
   "execution_count": null,
   "metadata": {},
   "outputs": [],
   "source": [
    "df_2_mean = df_2.groupby(level=[\"algorithm type\", \"algorithm\", \"modality\", \"stage\", \"metric\"]).agg([np.median, lambda x: np.percentile(x, 75) - np.percentile(x, 25)])\n",
    "#df_2_mean = df_2_mean.unstack(\"modality\")[\"data\"][\"mean\"][[\"ACT\", \"ACT + HRV\", \"ACT + HRV + RRV\", \"ACT + HRV + EDR\"]]\n",
    "df_2_mean = df_2_mean.unstack(\"metric\")[\"data\"].round(decimals=1).applymap('{:,.1f}'.format).applymap('{:0>4}'.format)"
   ]
  },
  {
   "cell_type": "code",
   "execution_count": null,
   "metadata": {},
   "outputs": [],
   "source": [
    "df_2_mcc = df_2_mcc.groupby(level=[\"algorithm type\", \"algorithm\", \"modality\", \"stage\", \"metric\"]).agg([np.median, lambda x: np.percentile(x, 75) - np.percentile(x, 25)])\n",
    "df_2_mcc = df_2_mcc.unstack(\"metric\")[\"data\"].round(decimals=2).applymap('{:,.2f}'.format).applymap('{:0>4}'.format)"
   ]
  },
  {
   "cell_type": "code",
   "execution_count": null,
   "metadata": {},
   "outputs": [],
   "source": [
    "#df_2_mean.sort_values(by=[\"accuracy\"], axis=0, ascending=False).sort_index(level=\"modality\", sort_remaining=False)"
   ]
  },
  {
   "cell_type": "code",
   "execution_count": null,
   "metadata": {},
   "outputs": [],
   "source": [
    "df_2_mean = pd.DataFrame(\n",
    "    \"$\" + df_2_mean[\"median\"].astype(str) + \" (\" + df_2_mean[\"<lambda_0>\"].astype(str) + \")$\"\n",
    ").droplevel([0,3]).swaplevel(0,1).sort_index(level=0)#.sort_values(by=\"modality\")\n",
    "df_2_mean = df_2_mean.reindex([\"LSTM\", \"TCN\", \"AdaBoost\", \"MLP\", \"Random Forest\", \"SVM\", \"XGBoost\"], level=\"algorithm\")"
   ]
  },
  {
   "cell_type": "code",
   "execution_count": null,
   "metadata": {},
   "outputs": [],
   "source": [
    "df_2_mcc = pd.DataFrame(\n",
    "    \"$\" + df_2_mcc[\"median\"].astype(str) + \" (\" + df_2_mcc[\"<lambda_0>\"].astype(str) + \")$\"\n",
    ").droplevel([0,3]).swaplevel(0,1).sort_index(level=0)#.sort_values(by=\"modality\")\n",
    "df_2_mcc = df_2_mcc.reindex([\"LSTM\", \"TCN\", \"AdaBoost\", \"MLP\", \"Random Forest\", \"SVM\", \"XGBoost\"], level=\"algorithm\")"
   ]
  },
  {
   "cell_type": "code",
   "execution_count": null,
   "metadata": {},
   "outputs": [],
   "source": [
    "df_2_mean = df_2_mean.join(df_2_mcc).reindex([\"accuracy\", \"f1\", \"mcc\", \"precision\", \"recall\", \"specificity\"], axis=1)"
   ]
  },
  {
   "cell_type": "code",
   "execution_count": null,
   "metadata": {},
   "outputs": [],
   "source": [
    "df_2_mean.style.to_latex(\"2stage.tex\")"
   ]
  },
  {
   "cell_type": "code",
   "execution_count": null,
   "metadata": {},
   "outputs": [],
   "source": [
    "df_2_mean.style.to_latex(\"2stage.tex\")"
   ]
  },
  {
   "cell_type": "code",
   "execution_count": null,
   "metadata": {},
   "outputs": [],
   "source": [
    "df_2_mean"
   ]
  },
  {
   "cell_type": "code",
   "execution_count": null,
   "metadata": {},
   "outputs": [],
   "source": []
  }
 ],
 "metadata": {
  "kernelspec": {
   "display_name": "sleep-analysis",
   "language": "python",
   "name": "sleep-analysis"
  },
  "language_info": {
   "codemirror_mode": {
    "name": "ipython",
    "version": 3
   },
   "file_extension": ".py",
   "mimetype": "text/x-python",
   "name": "python",
   "nbconvert_exporter": "python",
   "pygments_lexer": "ipython3",
   "version": "3.9.7"
  }
 },
 "nbformat": 4,
 "nbformat_minor": 4
}
