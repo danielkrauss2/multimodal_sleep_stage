{
 "cells": [
  {
   "cell_type": "code",
   "execution_count": 1,
   "metadata": {},
   "outputs": [],
   "source": [
    "import numpy as np\n",
    "import pandas as pd\n",
    "\n",
    "from pathlib import Path\n",
    "import matplotlib.pyplot as plt\n",
    "import seaborn as sns"
   ]
  },
  {
   "cell_type": "code",
   "execution_count": 2,
   "metadata": {},
   "outputs": [],
   "source": [
    "%load_ext autoreload\n",
    "%autoreload 2"
   ]
  },
  {
   "cell_type": "code",
   "execution_count": 3,
   "metadata": {},
   "outputs": [],
   "source": [
    "from fau_colors import register_cmaps\n",
    "register_cmaps()\n",
    "\n",
    "sns.set_theme(context=\"talk\", style=\"white\", palette=\"faculties\", font_scale=1.2)\n",
    "\n",
    "%matplotlib widget"
   ]
  },
  {
   "cell_type": "code",
   "execution_count": 4,
   "metadata": {},
   "outputs": [],
   "source": [
    "import pickle\n",
    "import shap\n",
    "from sleep_analysis.datasets.mesadataset import MesaDataset"
   ]
  },
  {
   "cell_type": "markdown",
   "metadata": {},
   "source": [
    "# Algorithm = XGB"
   ]
  },
  {
   "cell_type": "markdown",
   "metadata": {},
   "source": [
    "# 5 stage"
   ]
  },
  {
   "cell_type": "code",
   "execution_count": 5,
   "metadata": {},
   "outputs": [],
   "source": [
    "stage = \"5stage\"\n",
    "\n",
    "algorithm = \"xgb\""
   ]
  },
  {
   "cell_type": "code",
   "execution_count": 6,
   "metadata": {},
   "outputs": [],
   "source": [
    "path = Path.cwd().parents[1].joinpath(\"../exports/results_per_algorithm/\")\n",
    "path = path.joinpath(algorithm)\n",
    "# path where database files are stored\n",
    "model_path = path.joinpath(\"models\")"
   ]
  },
  {
   "cell_type": "code",
   "execution_count": 7,
   "metadata": {},
   "outputs": [],
   "source": [
    "dataset = MesaDataset()\n",
    "\n",
    "with open('../test_idx.pkl', 'rb') as f:\n",
    "    test_idx_list = pickle.load(f)"
   ]
  },
  {
   "cell_type": "code",
   "execution_count": 8,
   "metadata": {},
   "outputs": [],
   "source": [
    "data = dataset.get_subset(mesa_id = test_idx_list)"
   ]
  },
  {
   "cell_type": "markdown",
   "metadata": {},
   "source": [
    "# ACC + HRV + RRV"
   ]
  },
  {
   "cell_type": "code",
   "execution_count": 9,
   "metadata": {},
   "outputs": [],
   "source": [
    "modality = \"acc_hrv_RRV\""
   ]
  },
  {
   "cell_type": "code",
   "execution_count": 10,
   "metadata": {
    "tags": []
   },
   "outputs": [
    {
     "ename": "FileNotFoundError",
     "evalue": "[Errno 2] No such file or directory: '/Users/danielkrauss/Documents/PhD/Paper/IMWUT/sleep-analysis/experiments/../exports/results_per_algorithm/xgb/models/xgb_benchmark_acc_hrv_RRV_5stage.obj'",
     "output_type": "error",
     "traceback": [
      "\u001b[0;31m---------------------------------------------------------------------------\u001b[0m",
      "\u001b[0;31mFileNotFoundError\u001b[0m                         Traceback (most recent call last)",
      "Cell \u001b[0;32mIn[10], line 1\u001b[0m\n\u001b[0;32m----> 1\u001b[0m \u001b[38;5;28;01mwith\u001b[39;00m \u001b[38;5;28;43mopen\u001b[39;49m\u001b[43m \u001b[49m\u001b[43m(\u001b[49m\u001b[43mmodel_path\u001b[49m\u001b[38;5;241;43m.\u001b[39;49m\u001b[43mjoinpath\u001b[49m\u001b[43m(\u001b[49m\u001b[43malgorithm\u001b[49m\u001b[43m \u001b[49m\u001b[38;5;241;43m+\u001b[39;49m\u001b[43m \u001b[49m\u001b[38;5;124;43m\"\u001b[39;49m\u001b[38;5;124;43m_benchmark_\u001b[39;49m\u001b[38;5;124;43m\"\u001b[39;49m\u001b[43m \u001b[49m\u001b[38;5;241;43m+\u001b[39;49m\u001b[43m \u001b[49m\u001b[43mmodality\u001b[49m\u001b[43m \u001b[49m\u001b[38;5;241;43m+\u001b[39;49m\u001b[43m \u001b[49m\u001b[38;5;124;43m\"\u001b[39;49m\u001b[38;5;124;43m_\u001b[39;49m\u001b[38;5;124;43m\"\u001b[39;49m\u001b[43m \u001b[49m\u001b[38;5;241;43m+\u001b[39;49m\u001b[43m \u001b[49m\u001b[43mstage\u001b[49m\u001b[43m \u001b[49m\u001b[38;5;241;43m+\u001b[39;49m\u001b[43m \u001b[49m\u001b[38;5;124;43m\"\u001b[39;49m\u001b[38;5;124;43m.obj\u001b[39;49m\u001b[38;5;124;43m\"\u001b[39;49m\u001b[43m)\u001b[49m\u001b[43m,\u001b[49m\u001b[43m \u001b[49m\u001b[38;5;124;43m\"\u001b[39;49m\u001b[38;5;124;43mrb\u001b[39;49m\u001b[38;5;124;43m\"\u001b[39;49m\u001b[43m)\u001b[49m \u001b[38;5;28;01mas\u001b[39;00m f:\n\u001b[1;32m      2\u001b[0m     pipeline \u001b[38;5;241m=\u001b[39m pickle\u001b[38;5;241m.\u001b[39mload(f)\n",
      "File \u001b[0;32m~/code/Empkins/sleep-analysis/.venv/lib/python3.9/site-packages/IPython/core/interactiveshell.py:282\u001b[0m, in \u001b[0;36m_modified_open\u001b[0;34m(file, *args, **kwargs)\u001b[0m\n\u001b[1;32m    275\u001b[0m \u001b[38;5;28;01mif\u001b[39;00m file \u001b[38;5;129;01min\u001b[39;00m {\u001b[38;5;241m0\u001b[39m, \u001b[38;5;241m1\u001b[39m, \u001b[38;5;241m2\u001b[39m}:\n\u001b[1;32m    276\u001b[0m     \u001b[38;5;28;01mraise\u001b[39;00m \u001b[38;5;167;01mValueError\u001b[39;00m(\n\u001b[1;32m    277\u001b[0m         \u001b[38;5;124mf\u001b[39m\u001b[38;5;124m\"\u001b[39m\u001b[38;5;124mIPython won\u001b[39m\u001b[38;5;124m'\u001b[39m\u001b[38;5;124mt let you open fd=\u001b[39m\u001b[38;5;132;01m{\u001b[39;00mfile\u001b[38;5;132;01m}\u001b[39;00m\u001b[38;5;124m by default \u001b[39m\u001b[38;5;124m\"\u001b[39m\n\u001b[1;32m    278\u001b[0m         \u001b[38;5;124m\"\u001b[39m\u001b[38;5;124mas it is likely to crash IPython. If you know what you are doing, \u001b[39m\u001b[38;5;124m\"\u001b[39m\n\u001b[1;32m    279\u001b[0m         \u001b[38;5;124m\"\u001b[39m\u001b[38;5;124myou can use builtins\u001b[39m\u001b[38;5;124m'\u001b[39m\u001b[38;5;124m open.\u001b[39m\u001b[38;5;124m\"\u001b[39m\n\u001b[1;32m    280\u001b[0m     )\n\u001b[0;32m--> 282\u001b[0m \u001b[38;5;28;01mreturn\u001b[39;00m \u001b[43mio_open\u001b[49m\u001b[43m(\u001b[49m\u001b[43mfile\u001b[49m\u001b[43m,\u001b[49m\u001b[43m \u001b[49m\u001b[38;5;241;43m*\u001b[39;49m\u001b[43margs\u001b[49m\u001b[43m,\u001b[49m\u001b[43m \u001b[49m\u001b[38;5;241;43m*\u001b[39;49m\u001b[38;5;241;43m*\u001b[39;49m\u001b[43mkwargs\u001b[49m\u001b[43m)\u001b[49m\n",
      "\u001b[0;31mFileNotFoundError\u001b[0m: [Errno 2] No such file or directory: '/Users/danielkrauss/Documents/PhD/Paper/IMWUT/sleep-analysis/experiments/../exports/results_per_algorithm/xgb/models/xgb_benchmark_acc_hrv_RRV_5stage.obj'"
     ]
    }
   ],
   "source": [
    "with open (model_path.joinpath(algorithm + \"_benchmark_\" + modality + \"_\" + stage + \".obj\"), \"rb\") as f:\n",
    "    pipeline = pickle.load(f)"
   ]
  },
  {
   "cell_type": "code",
   "execution_count": null,
   "metadata": {},
   "outputs": [],
   "source": [
    "model = pipeline.optimized_pipeline_"
   ]
  },
  {
   "cell_type": "code",
   "execution_count": null,
   "metadata": {},
   "outputs": [],
   "source": [
    "model.classifier"
   ]
  },
  {
   "cell_type": "code",
   "execution_count": null,
   "metadata": {},
   "outputs": [],
   "source": [
    "explainer = shap.TreeExplainer(model.classifier)"
   ]
  },
  {
   "cell_type": "code",
   "execution_count": null,
   "metadata": {},
   "outputs": [],
   "source": [
    "features, ground_truth = data.get_concat_dataset(data, modality=[\"acc\", \"hrv\", \"RRV\"])#data.get_concat_dataset(data, modality=[\"acc\", \"hrv\", \"RRV\"])\n",
    "features = features.droplevel(0)\n",
    "features = features.reset_index(drop=True)"
   ]
  },
  {
   "cell_type": "code",
   "execution_count": null,
   "metadata": {},
   "outputs": [],
   "source": [
    "features = features.rename(columns={\n",
    "                        \"270_RRV_MCVBB\":\"RRV_MCVBB_270\",\n",
    "                         \"270_RRV_CVBB\":\"RRV_CVBB_270\",\n",
    "                         \"150_RRV_CVBB\":\"RRV_CVBB_150\",\n",
    "                        \"270_EDR_MCVBB\":\"EDR_MCVBB_270\",\n",
    "                         \"270_EDR_CVBB\":\"EDR_CVBB_270\",\n",
    "                         \"150_EDR_CVBB\":\"EDR_CVBB_150\",\n",
    "                         \"_acc_mean_19\":\"ACT_Mean_19\",\n",
    "                         \"_acc_anyact_centered_19\":\"ACT_Any_centered_19\",\n",
    "                         \"_acc_mean_centered_19\":\"ACT_Mean_centered_19\",\n",
    "                         \"270_RRV_MedianBB\":\"RRV_MedianBB_270\",\n",
    "                         \"270_RRV_SampEn\":\"RRV_SampEn_270\",\n",
    "                         \"270_EDR_MedianBB\":\"EDR_MedianBB_270\",\n",
    "                         \"270_EDR_SampEn\":\"EDR_SampEn_270\",\n",
    "                         \"_hrv_Modified_csi\":\"HRV_Modified_csi\",\n",
    "                         \"_hrv_median_nni\":\"HRV_Median_NN\",\n",
    "                         \"210_RRV_CVBB\":\"RRV_CVBB_210\",\n",
    "                         \"210_EDR_CVBB\":\"EDR_CVBB_210\",\n",
    "                         \"_acc_std_19\":\"ACT_SD_19\",\n",
    "                         \"150_RRV_MeanBB\":\"RRV_MeanBB_150\",\n",
    "                         \"150_EDR_MeanBB\":\"EDR_MeanBB_150\",\n",
    "                         \"_hrv_ratio_sd2_sd1\":\"HRV_SD2SD1\",\n",
    "                         \"270_RRV_SD2SD1\":\"RRV_SD2SD1_270\",\n",
    "                         \"150_RRV_MCVBB\":\"RRV_MCVBB_150\",\n",
    "                         \"210_RRV_MCVBB\":\"RRV_MCVBB_210\",\n",
    "                         \"270_EDR_SD2SD1\":\"EDR_SD2SD1_270\",\n",
    "                         \"150_EDR_MCVBB\":\"EDR_MCVBB_150\",\n",
    "                         \"210_EDR_MCVBB\":\"EDR_MCVBB_210\",\n",
    "                         \"_acc_anyact_19\":\"ACT_Any_19\",\n",
    "                         \"150_RRV_SD2\":\"RRV_SD2_150\",\n",
    "                         \"270_RRV_SD2\":\"RRV_SD2_270\",\n",
    "                         \"150_EDR_SD2\":\"EDR_SD2_150\",\n",
    "                         \"270_EDR_SD2\":\"EDR_SD2_270\",\n",
    "                        \"_hrv_ratio_sd1_sd2\":\"HRV_SD2SD1\",\n",
    "                        \"_acc_max_19\":\"ACT_Max_19\",\n",
    "                        \"_acc_skew_centered_19\":\"ACT_Skew_centered_19\",\n",
    "                        \"_hrv_nni_20\":\"HRV_NN_20\",\n",
    "                        \"_hrv_csi\":\"HRV_CSI\",\n",
    "                        \"_hrv_std_hr\":\"HRV_std_HR\",\n",
    "                        \"hrv_max_hr\":\"HRV_Max_HR\",\n",
    "                        \n",
    "})"
   ]
  },
  {
   "cell_type": "code",
   "execution_count": null,
   "metadata": {},
   "outputs": [],
   "source": [
    "shap_values = explainer.shap_values(features)"
   ]
  },
  {
   "cell_type": "code",
   "execution_count": null,
   "metadata": {},
   "outputs": [],
   "source": [
    "plt.close(\"all\")\n",
    "fig, ax = plt.subplots()\n",
    "shap.summary_plot(shap_values, features, class_inds=[0,1,2,3,4])\n",
    "\n",
    "handles, labels = ax.get_legend_handles_labels()\n",
    "labels=[\"Wake\", \"N1\", \"N2\", \"N3\", \"REM\"]\n",
    "ax.legend(handles, labels)\n",
    "\n",
    "plt.savefig(\"Feature_importance_\" + algorithm + \"_\" + modality + \"_\" + stage + \".pdf\",\n",
    "    format=\"pdf\",\n",
    "    bbox_inches=\"tight\")\n",
    "# 0 = wake, 1 = N1, 2 = N2, 3 = N3, 4 = REM"
   ]
  },
  {
   "cell_type": "code",
   "execution_count": null,
   "metadata": {},
   "outputs": [],
   "source": [
    "#shap.force_plot(explainer.expected_value[0], shap_values[0])"
   ]
  },
  {
   "cell_type": "markdown",
   "metadata": {},
   "source": [
    "# ACC + HRV + EDR"
   ]
  },
  {
   "cell_type": "code",
   "execution_count": null,
   "metadata": {},
   "outputs": [],
   "source": [
    "modality = \"acc_hrv_EDR\""
   ]
  },
  {
   "cell_type": "code",
   "execution_count": null,
   "metadata": {
    "collapsed": true,
    "jupyter": {
     "outputs_hidden": true
    },
    "tags": []
   },
   "outputs": [],
   "source": [
    "with open (model_path.joinpath(algorithm + \"_benchmark_\" + modality + \"_\" + stage + \".obj\"), \"rb\") as f:\n",
    "    pipeline = pickle.load(f)"
   ]
  },
  {
   "cell_type": "code",
   "execution_count": null,
   "metadata": {},
   "outputs": [],
   "source": [
    "model = pipeline.optimized_pipeline_"
   ]
  },
  {
   "cell_type": "code",
   "execution_count": null,
   "metadata": {},
   "outputs": [],
   "source": [
    "model.classifier"
   ]
  },
  {
   "cell_type": "code",
   "execution_count": null,
   "metadata": {},
   "outputs": [],
   "source": [
    "explainer = shap.TreeExplainer(model.classifier)"
   ]
  },
  {
   "cell_type": "code",
   "execution_count": null,
   "metadata": {
    "tags": []
   },
   "outputs": [],
   "source": [
    "features, ground_truth = data.get_concat_dataset(data, modality=[\"acc\", \"hrv\", \"EDR\"])#data.get_concat_dataset(data, modality=[\"acc\", \"hrv\", \"RRV\"])\n",
    "features = features.droplevel(0)\n",
    "features = features.reset_index(drop=True)"
   ]
  },
  {
   "cell_type": "code",
   "execution_count": null,
   "metadata": {
    "tags": []
   },
   "outputs": [],
   "source": [
    "features = features.rename(columns={\n",
    "                        \"270_RRV_MCVBB\":\"RRV_MCVBB_270\",\n",
    "                         \"270_RRV_CVBB\":\"RRV_CVBB_270\",\n",
    "                         \"150_RRV_CVBB\":\"RRV_CVBB_150\",\n",
    "                        \"270_EDR_MCVBB\":\"EDR_MCVBB_270\",\n",
    "                         \"270_EDR_CVBB\":\"EDR_CVBB_270\",\n",
    "                         \"150_EDR_CVBB\":\"EDR_CVBB_150\",\n",
    "                         \"_acc_mean_19\":\"ACT_Mean_19\",\n",
    "                         \"_acc_anyact_centered_19\":\"ACT_Any_centered_19\",\n",
    "                         \"_acc_mean_centered_19\":\"ACT_Mean_centered_19\",\n",
    "                         \"270_RRV_MedianBB\":\"RRV_MedianBB_270\",\n",
    "                         \"270_RRV_SampEn\":\"RRV_SampEn_270\",\n",
    "                         \"270_EDR_MedianBB\":\"EDR_MedianBB_270\",\n",
    "                         \"270_EDR_SampEn\":\"EDR_SampEn_270\",\n",
    "                         \"_hrv_Modified_csi\":\"HRV_Modified_csi\",\n",
    "                         \"_hrv_median_nni\":\"HRV_Median_NN\",\n",
    "                         \"210_RRV_CVBB\":\"RRV_CVBB_210\",\n",
    "                         \"210_EDR_CVBB\":\"EDR_CVBB_210\",\n",
    "                         \"_acc_std_19\":\"ACT_SD_19\",\n",
    "                         \"150_RRV_MeanBB\":\"RRV_MeanBB_150\",\n",
    "                         \"150_EDR_MeanBB\":\"EDR_MeanBB_150\",\n",
    "                         \"_hrv_ratio_sd2_sd1\":\"HRV_SD2SD1\",\n",
    "                         \"270_RRV_SD2SD1\":\"RRV_SD2SD1_270\",\n",
    "                         \"150_RRV_MCVBB\":\"RRV_MCVBB_150\",\n",
    "                         \"210_RRV_MCVBB\":\"RRV_MCVBB_210\",\n",
    "                         \"270_EDR_SD2SD1\":\"EDR_SD2SD1_270\",\n",
    "                         \"150_EDR_MCVBB\":\"EDR_MCVBB_150\",\n",
    "                         \"210_EDR_MCVBB\":\"EDR_MCVBB_210\",\n",
    "                         \"_acc_anyact_19\":\"ACT_Any_19\",\n",
    "                         \"150_RRV_SD2\":\"RRV_SD2_150\",\n",
    "                         \"270_RRV_SD2\":\"RRV_SD2_270\",\n",
    "                         \"150_EDR_SD2\":\"EDR_SD2_150\",\n",
    "                         \"270_EDR_SD2\":\"EDR_SD2_270\",\n",
    "                        \"_hrv_ratio_sd1_sd2\":\"HRV_SD2SD1\",\n",
    "                        \"_acc_max_19\":\"ACT_Max_19\",\n",
    "                        \"_acc_skew_centered_19\":\"ACT_Skew_centered_19\",\n",
    "                        \"_hrv_nni_20\":\"HRV_NN_20\",\n",
    "                        \"_hrv_csi\":\"HRV_CSI\",\n",
    "                        \"_hrv_std_hr\":\"HRV_std_HR\",\n",
    "                        \"hrv_max_hr\":\"HRV_Max_HR\",\n",
    "                        \"_hrv_hf\":\"HRV_HF\",\n",
    "                        \"_hrv_max_hr\":\"HRV_Max_HR\"\n",
    "                        \n",
    "})"
   ]
  },
  {
   "cell_type": "code",
   "execution_count": null,
   "metadata": {},
   "outputs": [],
   "source": [
    "shap_values = explainer.shap_values(features)"
   ]
  },
  {
   "cell_type": "code",
   "execution_count": null,
   "metadata": {},
   "outputs": [],
   "source": [
    "plt.close(\"all\")\n",
    "fig, ax = plt.subplots()\n",
    "shap.summary_plot(shap_values, features, class_inds=[0,1,2,3,4])\n",
    "\n",
    "handles, labels = ax.get_legend_handles_labels()\n",
    "labels=[\"Wake\", \"N1\", \"N2\", \"N3\", \"REM\"]\n",
    "ax.legend(handles, labels)\n",
    "plt.savefig(\"Feature_importance_\" + algorithm + \"_\" + modality + \"_\" + stage + \".pdf\",\n",
    "    format=\"pdf\",\n",
    "    bbox_inches=\"tight\")\n",
    "# 0 = wake, 1 = N1, 2 = N2, 3 = N3, 4 = REM"
   ]
  },
  {
   "cell_type": "markdown",
   "metadata": {},
   "source": [
    "# 3 stage"
   ]
  },
  {
   "cell_type": "code",
   "execution_count": null,
   "metadata": {},
   "outputs": [],
   "source": [
    "stage = \"3stage\""
   ]
  },
  {
   "cell_type": "markdown",
   "metadata": {},
   "source": [
    "# ACC + HRV + RRV"
   ]
  },
  {
   "cell_type": "code",
   "execution_count": null,
   "metadata": {},
   "outputs": [],
   "source": [
    "modality = \"acc_hrv_RRV\""
   ]
  },
  {
   "cell_type": "code",
   "execution_count": null,
   "metadata": {
    "collapsed": true,
    "jupyter": {
     "outputs_hidden": true
    },
    "tags": []
   },
   "outputs": [],
   "source": [
    "with open (model_path.joinpath(algorithm + \"_benchmark_\" + modality + \"_\" + stage + \".obj\"), \"rb\") as f:\n",
    "    pipeline = pickle.load(f)"
   ]
  },
  {
   "cell_type": "code",
   "execution_count": null,
   "metadata": {},
   "outputs": [],
   "source": [
    "model = pipeline.optimized_pipeline_"
   ]
  },
  {
   "cell_type": "code",
   "execution_count": null,
   "metadata": {},
   "outputs": [],
   "source": [
    "model.classifier"
   ]
  },
  {
   "cell_type": "code",
   "execution_count": null,
   "metadata": {},
   "outputs": [],
   "source": [
    "explainer = shap.TreeExplainer(model.classifier)"
   ]
  },
  {
   "cell_type": "code",
   "execution_count": null,
   "metadata": {},
   "outputs": [],
   "source": [
    "features, ground_truth = data.get_concat_dataset(data, modality=[\"acc\", \"hrv\", \"RRV\"])#data.get_concat_dataset(data, modality=[\"acc\", \"hrv\", \"RRV\"])\n",
    "features = features.droplevel(0)\n",
    "features = features.reset_index(drop=True)"
   ]
  },
  {
   "cell_type": "code",
   "execution_count": null,
   "metadata": {},
   "outputs": [],
   "source": [
    "features = features.rename(columns={\n",
    "                        \"270_RRV_MCVBB\":\"RRV_MCVBB_270\",\n",
    "                         \"270_RRV_CVBB\":\"RRV_CVBB_270\",\n",
    "                         \"150_RRV_CVBB\":\"RRV_CVBB_150\",\n",
    "                        \"270_EDR_MCVBB\":\"EDR_MCVBB_270\",\n",
    "                         \"270_EDR_CVBB\":\"EDR_CVBB_270\",\n",
    "                         \"150_EDR_CVBB\":\"EDR_CVBB_150\",\n",
    "                         \"_acc_mean_19\":\"ACT_Mean_19\",\n",
    "                         \"_acc_anyact_centered_19\":\"ACT_Any_centered_19\",\n",
    "                         \"_acc_mean_centered_19\":\"ACT_Mean_centered_19\",\n",
    "                         \"270_RRV_MedianBB\":\"RRV_MedianBB_270\",\n",
    "                         \"270_RRV_SampEn\":\"RRV_SampEn_270\",\n",
    "                         \"270_EDR_MedianBB\":\"EDR_MedianBB_270\",\n",
    "                         \"270_EDR_SampEn\":\"EDR_SampEn_270\",\n",
    "                         \"_hrv_Modified_csi\":\"HRV_Modified_csi\",\n",
    "                         \"_hrv_median_nni\":\"HRV_Median_NN\",\n",
    "                         \"210_RRV_CVBB\":\"RRV_CVBB_210\",\n",
    "                         \"210_EDR_CVBB\":\"EDR_CVBB_210\",\n",
    "                         \"_acc_std_19\":\"ACT_SD_19\",\n",
    "                         \"150_RRV_MeanBB\":\"RRV_MeanBB_150\",\n",
    "                         \"150_EDR_MeanBB\":\"EDR_MeanBB_150\",\n",
    "                         \"_hrv_ratio_sd2_sd1\":\"HRV_SD2SD1\",\n",
    "                         \"270_RRV_SD2SD1\":\"RRV_SD2SD1_270\",\n",
    "                         \"150_RRV_MCVBB\":\"RRV_MCVBB_150\",\n",
    "                         \"210_RRV_MCVBB\":\"RRV_MCVBB_210\",\n",
    "                         \"270_EDR_SD2SD1\":\"EDR_SD2SD1_270\",\n",
    "                         \"150_EDR_MCVBB\":\"EDR_MCVBB_150\",\n",
    "                         \"210_EDR_MCVBB\":\"EDR_MCVBB_210\",\n",
    "                         \"_acc_anyact_19\":\"ACT_Any_19\",\n",
    "                         \"150_RRV_SD2\":\"RRV_SD2_150\",\n",
    "                         \"270_RRV_SD2\":\"RRV_SD2_270\",\n",
    "                         \"150_EDR_SD2\":\"EDR_SD2_150\",\n",
    "                         \"270_EDR_SD2\":\"EDR_SD2_270\",\n",
    "                        \"_hrv_ratio_sd1_sd2\":\"HRV_SD2SD1\",\n",
    "                        \"_acc_max_19\":\"ACT_Max_19\",\n",
    "                        \"_acc_skew_centered_19\":\"ACT_Skew_centered_19\",\n",
    "                        \"_hrv_nni_20\":\"HRV_NN_20\",\n",
    "                        \"_hrv_csi\":\"HRV_CSI\",\n",
    "                        \"_hrv_std_hr\":\"HRV_std_HR\",\n",
    "                        \"hrv_max_hr\":\"HRV_Max_HR\",\n",
    "                        \"_hrv_hf\":\"HRV_HF\",\n",
    "                        \"_hrv_max_hr\":\"HRV_Max_HR\"\n",
    "                        \n",
    "})"
   ]
  },
  {
   "cell_type": "code",
   "execution_count": null,
   "metadata": {},
   "outputs": [],
   "source": [
    "shap_values = explainer.shap_values(features)"
   ]
  },
  {
   "cell_type": "code",
   "execution_count": null,
   "metadata": {},
   "outputs": [],
   "source": [
    "plt.close(\"all\")\n",
    "fig, ax = plt.subplots()\n",
    "shap.summary_plot(shap_values, features, class_inds=[0,1,2])\n",
    "\n",
    "handles, labels = ax.get_legend_handles_labels()\n",
    "labels = [\"Wake\", \"NREM\", \"REM\"]\n",
    "ax.legend(handles, labels)\n",
    "\n",
    "plt.savefig(\"Feature_importance_\" + algorithm + \"_\" + modality + \"_\" + stage + \".pdf\",\n",
    "    format=\"pdf\",\n",
    "    bbox_inches=\"tight\")\n",
    "\n",
    "# 0 = wake, 1 = NREM, 2 = REM"
   ]
  },
  {
   "cell_type": "markdown",
   "metadata": {},
   "source": [
    "# ACC + HRV + EDR"
   ]
  },
  {
   "cell_type": "code",
   "execution_count": null,
   "metadata": {},
   "outputs": [],
   "source": [
    "modality = \"acc_hrv_EDR\""
   ]
  },
  {
   "cell_type": "code",
   "execution_count": null,
   "metadata": {
    "collapsed": true,
    "jupyter": {
     "outputs_hidden": true
    },
    "tags": []
   },
   "outputs": [],
   "source": [
    "with open (model_path.joinpath(algorithm + \"_benchmark_\" + modality + \"_\" + stage + \".obj\"), \"rb\") as f:\n",
    "    pipeline = pickle.load(f)"
   ]
  },
  {
   "cell_type": "code",
   "execution_count": null,
   "metadata": {},
   "outputs": [],
   "source": [
    "model = pipeline.optimized_pipeline_"
   ]
  },
  {
   "cell_type": "code",
   "execution_count": null,
   "metadata": {},
   "outputs": [],
   "source": [
    "model.classifier"
   ]
  },
  {
   "cell_type": "code",
   "execution_count": null,
   "metadata": {},
   "outputs": [],
   "source": [
    "explainer = shap.TreeExplainer(model.classifier)"
   ]
  },
  {
   "cell_type": "code",
   "execution_count": null,
   "metadata": {
    "tags": []
   },
   "outputs": [],
   "source": [
    "features, ground_truth = data.get_concat_dataset(data, modality=[\"acc\", \"hrv\", \"EDR\"])#data.get_concat_dataset(data, modality=[\"acc\", \"hrv\", \"RRV\"])\n",
    "features = features.droplevel(0)\n",
    "features = features.reset_index(drop=True)"
   ]
  },
  {
   "cell_type": "code",
   "execution_count": null,
   "metadata": {
    "tags": []
   },
   "outputs": [],
   "source": [
    "features = features.rename(columns={\n",
    "                        \"270_RRV_MCVBB\":\"RRV_MCVBB_270\",\n",
    "                         \"270_RRV_CVBB\":\"RRV_CVBB_270\",\n",
    "                         \"150_RRV_CVBB\":\"RRV_CVBB_150\",\n",
    "                        \"270_EDR_MCVBB\":\"EDR_MCVBB_270\",\n",
    "                         \"270_EDR_CVBB\":\"EDR_CVBB_270\",\n",
    "                         \"150_EDR_CVBB\":\"EDR_CVBB_150\",\n",
    "                         \"_acc_mean_19\":\"ACT_Mean_19\",\n",
    "                         \"_acc_anyact_centered_19\":\"ACT_Any_centered_19\",\n",
    "                         \"_acc_mean_centered_19\":\"ACT_Mean_centered_19\",\n",
    "                         \"270_RRV_MedianBB\":\"RRV_MedianBB_270\",\n",
    "                         \"270_RRV_SampEn\":\"RRV_SampEn_270\",\n",
    "                         \"270_EDR_MedianBB\":\"EDR_MedianBB_270\",\n",
    "                         \"270_EDR_SampEn\":\"EDR_SampEn_270\",\n",
    "                         \"_hrv_Modified_csi\":\"HRV_Modified_csi\",\n",
    "                         \"_hrv_median_nni\":\"HRV_Median_NN\",\n",
    "                         \"210_RRV_CVBB\":\"RRV_CVBB_210\",\n",
    "                         \"210_EDR_CVBB\":\"EDR_CVBB_210\",\n",
    "                         \"_acc_std_19\":\"ACT_SD_19\",\n",
    "                         \"150_RRV_MeanBB\":\"RRV_MeanBB_150\",\n",
    "                         \"150_EDR_MeanBB\":\"EDR_MeanBB_150\",\n",
    "                         \"_hrv_ratio_sd2_sd1\":\"HRV_SD2SD1\",\n",
    "                         \"270_RRV_SD2SD1\":\"RRV_SD2SD1_270\",\n",
    "                         \"150_RRV_MCVBB\":\"RRV_MCVBB_150\",\n",
    "                         \"210_RRV_MCVBB\":\"RRV_MCVBB_210\",\n",
    "                         \"270_EDR_SD2SD1\":\"EDR_SD2SD1_270\",\n",
    "                         \"150_EDR_MCVBB\":\"EDR_MCVBB_150\",\n",
    "                         \"210_EDR_MCVBB\":\"EDR_MCVBB_210\",\n",
    "                         \"_acc_anyact_19\":\"ACT_Any_19\",\n",
    "                         \"150_RRV_SD2\":\"RRV_SD2_150\",\n",
    "                         \"270_RRV_SD2\":\"RRV_SD2_270\",\n",
    "                         \"150_EDR_SD2\":\"EDR_SD2_150\",\n",
    "                         \"270_EDR_SD2\":\"EDR_SD2_270\",\n",
    "                        \"_hrv_ratio_sd1_sd2\":\"HRV_SD2SD1\",\n",
    "                        \"_acc_max_19\":\"ACT_Max_19\",\n",
    "                        \"_acc_skew_centered_19\":\"ACT_Skew_centered_19\",\n",
    "                        \"_hrv_nni_20\":\"HRV_NN_20\",\n",
    "                        \"_hrv_csi\":\"HRV_CSI\",\n",
    "                        \"_hrv_std_hr\":\"HRV_std_HR\",\n",
    "                        \"_hrv_max_hr\":\"HRV_Max_HR\",\n",
    "                        \"_hrv_hf\":\"HRV_HF\",\n",
    "                        \"_acc_median_centered_19\":\"ACC_Median_centered_19\",\n",
    "                        \"_acc_std_centered_19\":\"ACT_SD_centered_19\",\n",
    "                        \"_acc_skew_19\":\"ACT_Skew_19\",\n",
    "                        \"_acc_median_19\":\"ACT_Median_19\",\n",
    "                        \n",
    "})"
   ]
  },
  {
   "cell_type": "code",
   "execution_count": null,
   "metadata": {},
   "outputs": [],
   "source": [
    "shap_values = explainer.shap_values(features, check_additivity=False)"
   ]
  },
  {
   "cell_type": "code",
   "execution_count": null,
   "metadata": {},
   "outputs": [],
   "source": [
    "plt.close(\"all\")\n",
    "fig, ax = plt.subplots()\n",
    "shap.summary_plot(shap_values, features, class_inds=[0,1,2])\n",
    "\n",
    "handles, labels = ax.get_legend_handles_labels()\n",
    "labels = [\"Wake\", \"NREM\", \"REM\"]\n",
    "ax.legend(handles, labels)\n",
    "\n",
    "# Change the colormap of the artists\n",
    "for fc in plt.gcf().get_children():\n",
    "    for fcc in fc.get_children():\n",
    "        if hasattr(fcc, \"set_cmap\"):\n",
    "            fcc.set_cmap(newcmp)\n",
    "\n",
    "plt.savefig(\"Feature_importance_\" + algorithm + \"_\" + modality + \"_\" + stage + \".pdf\",\n",
    "    format=\"pdf\",\n",
    "    bbox_inches=\"tight\")\n",
    "# 0 = wake, 1 = NREM, 2 = REM"
   ]
  },
  {
   "cell_type": "markdown",
   "metadata": {},
   "source": [
    "# Binary"
   ]
  },
  {
   "cell_type": "code",
   "execution_count": null,
   "metadata": {},
   "outputs": [],
   "source": [
    "stage = \"binary\""
   ]
  },
  {
   "cell_type": "markdown",
   "metadata": {},
   "source": [
    "# ACC + HRV + RRV"
   ]
  },
  {
   "cell_type": "code",
   "execution_count": null,
   "metadata": {},
   "outputs": [],
   "source": [
    "modality = \"acc_hrv_RRV\""
   ]
  },
  {
   "cell_type": "code",
   "execution_count": null,
   "metadata": {},
   "outputs": [],
   "source": [
    "with open (model_path.joinpath(algorithm + \"_benchmark_\" + modality + \"_\" + stage + \".obj\"), \"rb\") as f:\n",
    "    pipeline = pickle.load(f)"
   ]
  },
  {
   "cell_type": "code",
   "execution_count": null,
   "metadata": {},
   "outputs": [],
   "source": [
    "model = pipeline.optimized_pipeline_"
   ]
  },
  {
   "cell_type": "code",
   "execution_count": null,
   "metadata": {},
   "outputs": [],
   "source": [
    "model.classifier"
   ]
  },
  {
   "cell_type": "code",
   "execution_count": null,
   "metadata": {},
   "outputs": [],
   "source": [
    "explainer = shap.TreeExplainer(model.classifier)"
   ]
  },
  {
   "cell_type": "code",
   "execution_count": null,
   "metadata": {},
   "outputs": [],
   "source": [
    "features, ground_truth = data.get_concat_dataset(data, modality=[\"acc\", \"hrv\", \"RRV\"])#data.get_concat_dataset(data, modality=[\"acc\", \"hrv\", \"RRV\"])\n",
    "features = features.droplevel(0)\n",
    "features = features.reset_index(drop=True)"
   ]
  },
  {
   "cell_type": "code",
   "execution_count": null,
   "metadata": {},
   "outputs": [],
   "source": [
    "features = features.rename(columns={\n",
    "                        \"270_RRV_MCVBB\":\"RRV_MCVBB_270\",\n",
    "                         \"270_RRV_CVBB\":\"RRV_CVBB_270\",\n",
    "                         \"150_RRV_CVBB\":\"RRV_CVBB_150\",\n",
    "                        \"270_EDR_MCVBB\":\"EDR_MCVBB_270\",\n",
    "                         \"270_EDR_CVBB\":\"EDR_CVBB_270\",\n",
    "                         \"150_EDR_CVBB\":\"EDR_CVBB_150\",\n",
    "                         \"_acc_mean_19\":\"ACT_Mean_19\",\n",
    "                         \"_acc_anyact_centered_19\":\"ACT_Any_centered_19\",\n",
    "                         \"_acc_mean_centered_19\":\"ACT_Mean_centered_19\",\n",
    "                         \"270_RRV_MedianBB\":\"RRV_MedianBB_270\",\n",
    "                         \"270_RRV_SampEn\":\"RRV_SampEn_270\",\n",
    "                         \"270_EDR_MedianBB\":\"EDR_MedianBB_270\",\n",
    "                         \"270_EDR_SampEn\":\"EDR_SampEn_270\",\n",
    "                         \"_hrv_Modified_csi\":\"HRV_Modified_csi\",\n",
    "                         \"_hrv_median_nni\":\"HRV_Median_NN\",\n",
    "                         \"210_RRV_CVBB\":\"RRV_CVBB_210\",\n",
    "                         \"210_EDR_CVBB\":\"EDR_CVBB_210\",\n",
    "                         \"_acc_std_19\":\"ACT_SD_19\",\n",
    "                         \"150_RRV_MeanBB\":\"RRV_MeanBB_150\",\n",
    "                         \"150_EDR_MeanBB\":\"EDR_MeanBB_150\",\n",
    "                         \"_hrv_ratio_sd2_sd1\":\"HRV_SD2SD1\",\n",
    "                         \"270_RRV_SD2SD1\":\"RRV_SD2SD1_270\",\n",
    "                         \"150_RRV_MCVBB\":\"RRV_MCVBB_150\",\n",
    "                         \"210_RRV_MCVBB\":\"RRV_MCVBB_210\",\n",
    "                         \"270_EDR_SD2SD1\":\"EDR_SD2SD1_270\",\n",
    "                         \"150_EDR_MCVBB\":\"EDR_MCVBB_150\",\n",
    "                         \"210_EDR_MCVBB\":\"EDR_MCVBB_210\",\n",
    "                         \"_acc_anyact_19\":\"ACT_Any_19\",\n",
    "                         \"150_RRV_SD2\":\"RRV_SD2_150\",\n",
    "                         \"270_RRV_SD2\":\"RRV_SD2_270\",\n",
    "                         \"150_EDR_SD2\":\"EDR_SD2_150\",\n",
    "                         \"270_EDR_SD2\":\"EDR_SD2_270\",\n",
    "                        \"_hrv_ratio_sd1_sd2\":\"HRV_SD2SD1\",\n",
    "                        \"_acc_max_19\":\"ACT_Max_19\",\n",
    "                        \"_acc_skew_centered_19\":\"ACT_Skew_centered_19\",\n",
    "                        \"_hrv_nni_20\":\"HRV_NN_20\",\n",
    "                        \"_hrv_csi\":\"HRV_CSI\",\n",
    "                        \"_hrv_std_hr\":\"HRV_std_HR\",\n",
    "                        \"_hrv_max_hr\":\"HRV_Max_HR\",\n",
    "                        \"_hrv_hf\":\"HRV_HF\",\n",
    "                        \"_acc_median_centered_19\":\"ACC_Median_centered_19\",\n",
    "                        \"_acc_std_centered_19\":\"ACT_SD_centered_19\",\n",
    "                        \"_acc_skew_19\":\"ACT_Skew_19\",\n",
    "                        \"_acc_median_19\":\"ACT_Median_19\",\n",
    "                        \"270_RRV_MeanBB\":\"RRV_MeanBB_270\",\n",
    "                        \"210_RRV_MedianBB\":\"RRV_MedianBB_210\",\n",
    "                        \"150_RRV_MedianBB\":\"RRV_MedianBB_150\",\n",
    "                        \"210_RRV_MeanBB\":\"RRV_MeanBB_210\",\n",
    "                        \"270_EDR_MeanBB\":\"EDR_MeanBB_270\",\n",
    "                        \"210_EDR_MedianBB\":\"EDR_MedianBB_210\",\n",
    "                        \"150_EDR_MedianBB\":\"EDR_MedianBB_150\",\n",
    "                        \"210_EDR_MeanBB\":\"EDR_MeanBB_210\",\n",
    "})"
   ]
  },
  {
   "cell_type": "code",
   "execution_count": null,
   "metadata": {},
   "outputs": [],
   "source": [
    "shap_values = explainer.shap_values(features)"
   ]
  },
  {
   "cell_type": "code",
   "execution_count": null,
   "metadata": {},
   "outputs": [],
   "source": [
    "plt.close(\"all\")\n",
    "fig, ax = plt.subplots()\n",
    "shap.summary_plot(shap_values, features , color='coolwarm')\n",
    "\n",
    "handles, labels = ax.get_legend_handles_labels()\n",
    "plt.savefig(\"Feature_importance_\" + algorithm + \"_\" + modality + \"_\" + stage + \".pdf\",\n",
    "    format=\"pdf\",\n",
    "    bbox_inches=\"tight\")\n",
    "# 0 = Wake, 1 = Sleep"
   ]
  },
  {
   "cell_type": "markdown",
   "metadata": {},
   "source": [
    "# ACC + HRV + EDR"
   ]
  },
  {
   "cell_type": "code",
   "execution_count": null,
   "metadata": {},
   "outputs": [],
   "source": [
    "modality = \"acc_hrv_EDR\""
   ]
  },
  {
   "cell_type": "code",
   "execution_count": null,
   "metadata": {},
   "outputs": [],
   "source": [
    "with open (model_path.joinpath(algorithm + \"_benchmark_\" + modality + \"_\" + stage + \".obj\"), \"rb\") as f:\n",
    "    pipeline = pickle.load(f)"
   ]
  },
  {
   "cell_type": "code",
   "execution_count": null,
   "metadata": {},
   "outputs": [],
   "source": [
    "model = pipeline.optimized_pipeline_"
   ]
  },
  {
   "cell_type": "code",
   "execution_count": null,
   "metadata": {},
   "outputs": [],
   "source": [
    "model.classifier"
   ]
  },
  {
   "cell_type": "code",
   "execution_count": null,
   "metadata": {},
   "outputs": [],
   "source": [
    "explainer = shap.TreeExplainer(model.classifier)"
   ]
  },
  {
   "cell_type": "code",
   "execution_count": null,
   "metadata": {
    "tags": []
   },
   "outputs": [],
   "source": [
    "features, ground_truth = data.get_concat_dataset(data, modality=[\"acc\", \"hrv\", \"EDR\"])#data.get_concat_dataset(data, modality=[\"acc\", \"hrv\", \"RRV\"])\n",
    "features = features.droplevel(0)\n",
    "features = features.reset_index(drop=True)"
   ]
  },
  {
   "cell_type": "code",
   "execution_count": null,
   "metadata": {
    "tags": []
   },
   "outputs": [],
   "source": [
    "features = features.rename(columns={\n",
    "                        \"270_RRV_MCVBB\":\"RRV_MCVBB_270\",\n",
    "                         \"270_RRV_CVBB\":\"RRV_CVBB_270\",\n",
    "                         \"150_RRV_CVBB\":\"RRV_CVBB_150\",\n",
    "                        \"270_EDR_MCVBB\":\"EDR_MCVBB_270\",\n",
    "                         \"270_EDR_CVBB\":\"EDR_CVBB_270\",\n",
    "                         \"150_EDR_CVBB\":\"EDR_CVBB_150\",\n",
    "                         \"_acc_mean_19\":\"ACT_Mean_19\",\n",
    "                         \"_acc_anyact_centered_19\":\"ACT_Any_centered_19\",\n",
    "                         \"_acc_mean_centered_19\":\"ACT_Mean_centered_19\",\n",
    "                         \"270_RRV_MedianBB\":\"RRV_MedianBB_270\",\n",
    "                         \"270_RRV_SampEn\":\"RRV_SampEn_270\",\n",
    "                         \"270_EDR_MedianBB\":\"EDR_MedianBB_270\",\n",
    "                         \"270_EDR_SampEn\":\"EDR_SampEn_270\",\n",
    "                         \"_hrv_Modified_csi\":\"HRV_Modified_csi\",\n",
    "                         \"_hrv_median_nni\":\"HRV_Median_NN\",\n",
    "                         \"210_RRV_CVBB\":\"RRV_CVBB_210\",\n",
    "                         \"210_EDR_CVBB\":\"EDR_CVBB_210\",\n",
    "                         \"_acc_std_19\":\"ACT_SD_19\",\n",
    "                         \"150_RRV_MeanBB\":\"RRV_MeanBB_150\",\n",
    "                         \"150_EDR_MeanBB\":\"EDR_MeanBB_150\",\n",
    "                         \"_hrv_ratio_sd2_sd1\":\"HRV_SD2SD1\",\n",
    "                         \"270_RRV_SD2SD1\":\"RRV_SD2SD1_270\",\n",
    "                         \"150_RRV_MCVBB\":\"RRV_MCVBB_150\",\n",
    "                         \"210_RRV_MCVBB\":\"RRV_MCVBB_210\",\n",
    "                         \"270_EDR_SD2SD1\":\"EDR_SD2SD1_270\",\n",
    "                         \"150_EDR_MCVBB\":\"EDR_MCVBB_150\",\n",
    "                         \"210_EDR_MCVBB\":\"EDR_MCVBB_210\",\n",
    "                         \"_acc_anyact_19\":\"ACT_Any_19\",\n",
    "                         \"150_RRV_SD2\":\"RRV_SD2_150\",\n",
    "                         \"270_RRV_SD2\":\"RRV_SD2_270\",\n",
    "                         \"150_EDR_SD2\":\"EDR_SD2_150\",\n",
    "                         \"270_EDR_SD2\":\"EDR_SD2_270\",\n",
    "                        \"_hrv_ratio_sd1_sd2\":\"HRV_SD2SD1\",\n",
    "                        \"_acc_max_19\":\"ACT_Max_19\",\n",
    "                        \"_acc_skew_centered_19\":\"ACT_Skew_centered_19\",\n",
    "                        \"_hrv_nni_20\":\"HRV_NN_20\",\n",
    "                        \"_hrv_csi\":\"HRV_CSI\",\n",
    "                        \"_hrv_std_hr\":\"HRV_std_HR\",\n",
    "                        \"_hrv_max_hr\":\"HRV_Max_HR\",\n",
    "                        \"_hrv_hf\":\"HRV_HF\",\n",
    "                        \"_acc_median_centered_19\":\"ACC_Median_centered_19\",\n",
    "                        \"_acc_std_centered_19\":\"ACT_SD_centered_19\",\n",
    "                        \"_acc_skew_19\":\"ACT_Skew_19\",\n",
    "                        \"_acc_median_19\":\"ACT_Median_19\",\n",
    "                        \"270_RRV_MeanBB\":\"RRV_MeanBB_270\",\n",
    "                        \"210_RRV_MedianBB\":\"RRV_MedianBB_210\",\n",
    "                        \"150_RRV_MedianBB\":\"RRV_MedianBB_150\",\n",
    "                        \"210_RRV_MeanBB\":\"RRV_MeanBB_210\",\n",
    "                        \"270_EDR_MeanBB\":\"EDR_MeanBB_270\",\n",
    "                        \"210_EDR_MedianBB\":\"EDR_MedianBB_210\",\n",
    "                        \"150_EDR_MedianBB\":\"EDR_MedianBB_150\",\n",
    "                        \"210_EDR_MeanBB\":\"EDR_MeanBB_210\",\n",
    "                        \"_acc_anyact_centered_18\":\"ACT_Any_centered_18\",\n",
    "                        \"_acc_median_centered_18\":\"ACC_Median_centered_18\",\n",
    "                        \"_acc_anyact_10\":\"ACT_Any_10\",\n",
    "    \n",
    "})"
   ]
  },
  {
   "cell_type": "code",
   "execution_count": null,
   "metadata": {},
   "outputs": [],
   "source": [
    "shap_values = explainer.shap_values(features)"
   ]
  },
  {
   "cell_type": "code",
   "execution_count": null,
   "metadata": {},
   "outputs": [],
   "source": [
    "from fau_colors import colors"
   ]
  },
  {
   "cell_type": "code",
   "execution_count": null,
   "metadata": {},
   "outputs": [],
   "source": [
    "from fau_colors import cmaps\n",
    "cmaps.faculties"
   ]
  },
  {
   "cell_type": "code",
   "execution_count": null,
   "metadata": {},
   "outputs": [],
   "source": [
    "plt.close(\"all\")\n",
    "fig, ax = plt.subplots()\n",
    "shap.summary_plot(shap_values, features, color=cmaps.faculties)\n",
    "\n",
    "handles, labels = ax.get_legend_handles_labels()\n",
    "\n",
    "## Change the colormap of the artists\n",
    "#for fc in plt.gcf().get_children():\n",
    "#    for fcc in fc.get_children():\n",
    "#        if hasattr(fcc, \"set_cmap\"):\n",
    "#            fcc.set_cmap()\n",
    "\n",
    "plt.savefig(\"Feature_importance_\" + algorithm + \"_\" + modality + \"_\" + stage + \".pdf\",\n",
    "    format=\"pdf\",\n",
    "    bbox_inches=\"tight\")\n",
    "# 0 = Wake, 1 = Sleep"
   ]
  }
 ],
 "metadata": {
  "kernelspec": {
   "display_name": "sleep-analysis",
   "language": "python",
   "name": "sleep-analysis"
  },
  "language_info": {
   "codemirror_mode": {
    "name": "ipython",
    "version": 3
   },
   "file_extension": ".py",
   "mimetype": "text/x-python",
   "name": "python",
   "nbconvert_exporter": "python",
   "pygments_lexer": "ipython3",
   "version": "3.9.7"
  }
 },
 "nbformat": 4,
 "nbformat_minor": 4
}
