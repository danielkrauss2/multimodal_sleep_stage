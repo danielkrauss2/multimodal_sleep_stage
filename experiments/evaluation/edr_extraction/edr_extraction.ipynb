{
 "cells": [
  {
   "cell_type": "code",
   "execution_count": null,
   "metadata": {},
   "outputs": [],
   "source": [
    "import numpy as np\n",
    "import pandas as pd\n",
    "\n",
    "from pathlib import Path\n",
    "import matplotlib.pyplot as plt\n",
    "import seaborn as sns\n",
    "import biopsykit as bp"
   ]
  },
  {
   "cell_type": "code",
   "execution_count": null,
   "metadata": {},
   "outputs": [],
   "source": [
    "%load_ext autoreload\n",
    "%autoreload 2"
   ]
  },
  {
   "cell_type": "code",
   "execution_count": null,
   "metadata": {},
   "outputs": [],
   "source": [
    "from fau_colors import register_cmaps\n",
    "register_cmaps()\n",
    "\n",
    "sns.set_theme(context=\"poster\", style=\"white\", palette=\"faculties\", font_scale=1.2)\n",
    "\n",
    "%matplotlib widget"
   ]
  },
  {
   "cell_type": "code",
   "execution_count": null,
   "metadata": {},
   "outputs": [],
   "source": [
    "from sleep_analysis.preprocessing.utils import extract_edf_channel\n",
    "from sleep_analysis.preprocessing.mesa_dataset.edr import _extract_edr\n",
    "import json\n",
    "from sleep_analysis.feature_extraction.rrv import process_resp, extract_rrv_features_helper\n"
   ]
  },
  {
   "cell_type": "code",
   "execution_count": null,
   "metadata": {},
   "outputs": [],
   "source": [
    "with open(Path.cwd().parents[1].joinpath(\"study_data.json\")) as f:\n",
    "    path_dict = json.load(f)\n",
    "    edf_path = Path(path_dict[\"mesa_path\"]).joinpath(\"polysomnography/edfs\")\n",
    "    processed_mesa_path = Path(path_dict[\"processed_mesa_path\"])\n",
    "\n"
   ]
  },
  {
   "cell_type": "markdown",
   "metadata": {},
   "source": [
    "# EDR"
   ]
  },
  {
   "cell_type": "code",
   "execution_count": null,
   "metadata": {},
   "outputs": [],
   "source": [
    "raw_ecg, epochs = extract_edf_channel(edf_path, subj_id=int(1), channel=\"EKG\")"
   ]
  },
  {
   "cell_type": "code",
   "execution_count": null,
   "metadata": {},
   "outputs": [],
   "source": [
    "downsample_ecg = bp.utils.array_handling.downsample(np.asarray(raw_ecg), 256, 32)\n",
    "downsample_ecg = pd.DataFrame(downsample_ecg).rename(columns={0: \"ECG\"})"
   ]
  },
  {
   "cell_type": "code",
   "execution_count": null,
   "metadata": {},
   "outputs": [],
   "source": [
    "edr_signal = _extract_edr(raw_ecg, sampling_rate=256)\n",
    "edr_df, epochs = process_resp(edr_signal.respiratory_signal, epochs)"
   ]
  },
  {
   "cell_type": "code",
   "execution_count": null,
   "metadata": {},
   "outputs": [],
   "source": [
    "edr_df = edr_df.rename(columns={0: \"EDR\"})"
   ]
  },
  {
   "cell_type": "markdown",
   "metadata": {},
   "source": [
    "# Thor"
   ]
  },
  {
   "cell_type": "code",
   "execution_count": null,
   "metadata": {},
   "outputs": [],
   "source": [
    "resp_df, epochs = extract_edf_channel(edf_path, subj_id=int(1), channel=\"Thor\")"
   ]
  },
  {
   "cell_type": "code",
   "execution_count": null,
   "metadata": {},
   "outputs": [],
   "source": [
    "resp_df, epochs = process_resp(resp_df, epochs)"
   ]
  },
  {
   "cell_type": "code",
   "execution_count": null,
   "metadata": {},
   "outputs": [],
   "source": [
    "resp_df = resp_df.rename(columns={0: \"Respiration\"})"
   ]
  },
  {
   "cell_type": "markdown",
   "metadata": {},
   "source": [
    "# Plotting"
   ]
  },
  {
   "cell_type": "code",
   "execution_count": null,
   "metadata": {},
   "outputs": [],
   "source": [
    "fig, axs = plt.subplots(ncols=2, figsize=((20,5)))\n",
    "sns.lineplot(x = resp_df[500000:501000].index, y = resp_df[500000:501000][\"Respiration\"], ax = axs[0])\n",
    "sns.lineplot(x = edr_df[500000:501000].index, y = edr_df[500000:501000][\"EDR\"], ax=axs[1])\n",
    "ax_2 = axs[1].twinx()\n",
    "sns.lineplot(x = edr_df[500000:501000].index, y=downsample_ecg[500000:501000][\"ECG\"], ax = ax_2, alpha=0.5, color = \"#c99313\")\n",
    "ax_2.set_ylim(-0.00125, 0.0035)\n",
    "axs[1].set_ylim(-0.002,0.00095)\n",
    "#axs[0].set_title(\"Respiration wave recorded via a thoracic belt\")\n",
    "#axs[1].set_title(\"Respiration wave extracted from ECG via EDR\")\n",
    "axs[0].set_ylabel(\"Respitraion wave in a.u.\", color = \"#003865\")\n",
    "axs[1].set_ylabel(\"EDR in a.u.\", color = \"#003865\")\n",
    "ax_2.set_ylabel(\"ECG in a.u.\", color = \"#c99313\")\n",
    "for ax in axs:\n",
    "    labels = ax.get_xticklabels()\n",
    "    ax.set_xticklabels(labels, rotation=30)\n",
    "\n",
    "#Don't save anymore because its an old image\n",
    "#plt.savefig(\"edr_extraction.pdf\", format=\"pdf\", bbox_inches=\"tight\")"
   ]
  },
  {
   "cell_type": "code",
   "execution_count": null,
   "metadata": {},
   "outputs": [],
   "source": [
    "fig, axs = plt.subplots(nrows=2, figsize=((20,12)))\n",
    "\n",
    "sns.lineplot(x = edr_df[500400:500800].index, y = edr_df[500400:500800][\"EDR\"], ax=axs[0])\n",
    "ax_1 = axs[0].twinx()\n",
    "sns.lineplot(x = edr_df[500400:500800].index, y=downsample_ecg[500400:500800][\"ECG\"], ax = ax_1, alpha=0.5, color = \"#c99313\")\n",
    "\n",
    "sns.lineplot(x = resp_df[500000:501000].index, y = resp_df[500000:501000][\"Respiration\"], ax = axs[1])\n",
    "ax_2 = axs[1].twinx()\n",
    "sns.lineplot(x = edr_df[500000:501000].index, y = edr_df[500000:501000][\"EDR\"], ax=ax_2, color = \"#c99313\")\n",
    "\n",
    "ax=axs[1].axvspan(\"1985-01-02 00:50:36.500000\", '1985-01-02 00:50:48.968750016', color=\"#779FB5\", alpha=0.3)\n",
    "\n",
    "axs[1].set_ylim(-0.00012,0.00004)\n",
    "ax_2.set_ylim(-0.0015, 0.0025)\n",
    "\n",
    "axs[0].set_ylabel(\"Respitraion wave in a.u.\", color = \"#003865\")\n",
    "axs[1].set_ylabel(\"Respitraion wave in a.u.\", color = \"#003865\")\n",
    "ax_1.set_ylabel(\"ECG in a.u.\", color = \"#c99313\")\n",
    "ax_2.set_ylabel(\"EDR in a.u.\", color = \"#c99313\")\n",
    "\n",
    "plt.savefig(\"edr_extraction.pdf\", format=\"pdf\", bbox_inches=\"tight\")"
   ]
  },
  {
   "cell_type": "code",
   "execution_count": null,
   "metadata": {},
   "outputs": [],
   "source": []
  }
 ],
 "metadata": {
  "kernelspec": {
   "display_name": "sleep-analysis",
   "language": "python",
   "name": "sleep-analysis"
  },
  "language_info": {
   "codemirror_mode": {
    "name": "ipython",
    "version": 3
   },
   "file_extension": ".py",
   "mimetype": "text/x-python",
   "name": "python",
   "nbconvert_exporter": "python",
   "pygments_lexer": "ipython3",
   "version": "3.9.7"
  }
 },
 "nbformat": 4,
 "nbformat_minor": 4
}
