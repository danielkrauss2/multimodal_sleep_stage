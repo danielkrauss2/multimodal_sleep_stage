{
 "cells": [
  {
   "cell_type": "code",
   "execution_count": null,
   "metadata": {},
   "outputs": [],
   "source": [
    "import numpy as np\n",
    "import pandas as pd\n",
    "\n",
    "from pathlib import Path\n",
    "import matplotlib.pyplot as plt\n",
    "import seaborn as sns\n",
    "from biopsykit.utils.dataframe_handling import multi_xs\n",
    "import optuna"
   ]
  },
  {
   "cell_type": "code",
   "execution_count": null,
   "metadata": {},
   "outputs": [],
   "source": [
    "%load_ext autoreload\n",
    "%autoreload 2"
   ]
  },
  {
   "cell_type": "code",
   "execution_count": null,
   "metadata": {},
   "outputs": [],
   "source": [
    "from fau_colors import register_cmaps\n",
    "register_cmaps()\n",
    "\n",
    "sns.set_theme(context=\"paper\", style=\"white\", palette=\"faculties\", font_scale=1.2)\n",
    "\n",
    "%matplotlib widget"
   ]
  },
  {
   "cell_type": "code",
   "execution_count": null,
   "metadata": {},
   "outputs": [],
   "source": [
    "def conf_matrix(confusion_matrix):\n",
    "    x = confusion_matrix.sum(axis=1)[:, np.newaxis]\n",
    "    confusion_matrix /=x\n",
    "    confusion_matrix *= 100\n",
    "    confusion_matrix = round(confusion_matrix,2)\n",
    "    return confusion_matrix"
   ]
  },
  {
   "cell_type": "code",
   "execution_count": null,
   "metadata": {},
   "outputs": [],
   "source": [
    "##### Fill in Algorithm here!! ####\n",
    "algorithm = \"xgb\"\n",
    "##### Fill in Algorithm here!! ####"
   ]
  },
  {
   "cell_type": "code",
   "execution_count": null,
   "metadata": {},
   "outputs": [],
   "source": [
    "path = Path.cwd().parents[1].joinpath(\"exports/results_per_algorithm/\")\n",
    "path = path.joinpath(algorithm)\n",
    "db_path = path.joinpath(\"db\")"
   ]
  },
  {
   "cell_type": "markdown",
   "metadata": {
    "tags": []
   },
   "source": [
    "# 5 Stage\n",
    "# Acc only"
   ]
  },
  {
   "cell_type": "code",
   "execution_count": null,
   "metadata": {},
   "outputs": [],
   "source": [
    "stage = \"5stage\"\n",
    "mod = \"acc\""
   ]
  },
  {
   "cell_type": "code",
   "execution_count": null,
   "metadata": {},
   "outputs": [],
   "source": [
    "full_results = pd.read_csv(path.joinpath(algorithm +\"_benchmark_\" + mod + \"_\" + stage + \".csv\"), index_col=\"metric\")\n",
    "full_results.columns.name = \"subject\"\n",
    "results = full_results.drop(index=\"confusion_matrix\")"
   ]
  },
  {
   "cell_type": "code",
   "execution_count": null,
   "metadata": {},
   "outputs": [],
   "source": [
    "results = pd.DataFrame(results.stack(\"subject\"), columns=[\"data\"]).astype(\"float\")"
   ]
  },
  {
   "cell_type": "code",
   "execution_count": null,
   "metadata": {
    "tags": []
   },
   "outputs": [],
   "source": [
    "results.groupby(\"metric\").agg([\"mean\", \"std\"])"
   ]
  },
  {
   "cell_type": "code",
   "execution_count": null,
   "metadata": {},
   "outputs": [],
   "source": [
    "confusion_matrix_acc = pd.read_csv(path.joinpath(\"confusion_matrix_\" + algorithm +\"_benchmark_\" + mod + \"_\" + stage + \".csv\"), index_col = \"Unnamed: 0\")\n",
    "confusion_matrix_acc"
   ]
  },
  {
   "cell_type": "markdown",
   "metadata": {
    "tags": []
   },
   "source": [
    "# 5 Stage\n",
    "# Acc + HRV"
   ]
  },
  {
   "cell_type": "code",
   "execution_count": null,
   "metadata": {},
   "outputs": [],
   "source": [
    "stage = \"5stage\"\n",
    "mod = \"acc_hrv\""
   ]
  },
  {
   "cell_type": "code",
   "execution_count": null,
   "metadata": {},
   "outputs": [],
   "source": [
    "full_results = pd.read_csv(path.joinpath(algorithm +\"_benchmark_\" + mod + \"_\" + stage + \".csv\"), index_col=\"metric\")\n",
    "full_results.columns.name = \"subject\"\n",
    "results = full_results.drop(index=\"confusion_matrix\")"
   ]
  },
  {
   "cell_type": "code",
   "execution_count": null,
   "metadata": {},
   "outputs": [],
   "source": [
    "results = pd.DataFrame(results.stack(\"subject\"), columns=[\"data\"]).astype(\"float\")"
   ]
  },
  {
   "cell_type": "code",
   "execution_count": null,
   "metadata": {},
   "outputs": [],
   "source": [
    "results.groupby(\"metric\").agg([\"mean\", \"std\"])"
   ]
  },
  {
   "cell_type": "code",
   "execution_count": null,
   "metadata": {},
   "outputs": [],
   "source": [
    "confusion_matrix_acc_hrv = pd.read_csv(path.joinpath(\"confusion_matrix_\" + algorithm +\"_benchmark_\" + mod + \"_\" + stage + \".csv\"), index_col = \"Unnamed: 0\")\n",
    "confusion_matrix_acc_hrv"
   ]
  },
  {
   "cell_type": "markdown",
   "metadata": {
    "tags": []
   },
   "source": [
    "# 5 Stage\n",
    "# ACC + HRV + RRV"
   ]
  },
  {
   "cell_type": "code",
   "execution_count": null,
   "metadata": {},
   "outputs": [],
   "source": [
    "stage = \"5stage\"\n",
    "mod = \"acc_hrv_RRV\""
   ]
  },
  {
   "cell_type": "code",
   "execution_count": null,
   "metadata": {},
   "outputs": [],
   "source": [
    "full_results = pd.read_csv(path.joinpath(algorithm +\"_benchmark_\" + mod + \"_\" + stage + \".csv\"), index_col=\"metric\")\n",
    "full_results.columns.name = \"subject\"\n",
    "results = full_results.drop(index=\"confusion_matrix\")"
   ]
  },
  {
   "cell_type": "code",
   "execution_count": null,
   "metadata": {},
   "outputs": [],
   "source": [
    "results = pd.DataFrame(results.stack(\"subject\"), columns=[\"data\"]).astype(\"float\")"
   ]
  },
  {
   "cell_type": "code",
   "execution_count": null,
   "metadata": {},
   "outputs": [],
   "source": [
    "results.groupby(\"metric\").agg([\"mean\", \"std\"])"
   ]
  },
  {
   "cell_type": "code",
   "execution_count": null,
   "metadata": {},
   "outputs": [],
   "source": [
    "confusion_matrix_acc_hrv_rrv = pd.read_csv(path.joinpath(\"confusion_matrix_\" + algorithm +\"_benchmark_\" + mod + \"_\" + stage + \".csv\"), index_col = \"Unnamed: 0\")\n",
    "confusion_matrix_acc_hrv_rrv"
   ]
  },
  {
   "cell_type": "markdown",
   "metadata": {
    "tags": []
   },
   "source": [
    "# 5 Stage\n",
    "# ACC + HRV + EDR"
   ]
  },
  {
   "cell_type": "code",
   "execution_count": null,
   "metadata": {},
   "outputs": [],
   "source": [
    "stage = \"5stage\"\n",
    "mod = \"acc_hrv_EDR\""
   ]
  },
  {
   "cell_type": "code",
   "execution_count": null,
   "metadata": {},
   "outputs": [],
   "source": [
    "full_results = pd.read_csv(path.joinpath(algorithm +\"_benchmark_\" + mod + \"_\" + stage + \".csv\"), index_col=\"metric\")\n",
    "full_results.columns.name = \"subject\"\n",
    "results = full_results.drop(index=\"confusion_matrix\")"
   ]
  },
  {
   "cell_type": "code",
   "execution_count": null,
   "metadata": {},
   "outputs": [],
   "source": [
    "results = pd.DataFrame(results.stack(\"subject\"), columns=[\"data\"]).astype(\"float\")"
   ]
  },
  {
   "cell_type": "code",
   "execution_count": null,
   "metadata": {},
   "outputs": [],
   "source": [
    "results.groupby(\"metric\").agg([\"mean\", \"std\"])"
   ]
  },
  {
   "cell_type": "code",
   "execution_count": null,
   "metadata": {},
   "outputs": [],
   "source": [
    "confusion_matrix_acc_hrv_edr = pd.read_csv(path.joinpath(\"confusion_matrix_\" + algorithm +\"_benchmark_\" + mod + \"_\" + stage + \".csv\"), index_col = \"Unnamed: 0\")\n",
    "confusion_matrix_acc_hrv_edr"
   ]
  },
  {
   "cell_type": "code",
   "execution_count": null,
   "metadata": {},
   "outputs": [],
   "source": [
    "fig, axs = plt.subplots(ncols=2, nrows=2, figsize = (12,12))\n",
    "sns.heatmap(conf_matrix(confusion_matrix_acc.rename(columns={\"wake\":\"Wake\", \"n1\":\"N1\", \"n2\":\"N2\", \"n3\":\"N3\", \"rem\": \"REM\"}, index = {\"wake\":\"Wake\", \"n1\":\"N1\", \"n2\":\"N2\", \"n3\":\"N3\", \"rem\": \"REM\"} )\n",
    "), fmt=',.2f',annot=True, ax=axs[0,0], cmap=\"Greens\")\n",
    "sns.heatmap(conf_matrix(confusion_matrix_acc_hrv.rename(columns={\"wake\":\"Wake\", \"n1\":\"N1\", \"n2\":\"N2\", \"n3\":\"N3\", \"rem\": \"REM\"}, index = {\"wake\":\"Wake\", \"n1\":\"N1\", \"n2\":\"N2\", \"n3\":\"N3\", \"rem\": \"REM\"} )\n",
    "), fmt=',.2f',annot=True, ax=axs[0,1], cmap=\"Greens\")\n",
    "sns.heatmap(conf_matrix(confusion_matrix_acc_hrv_rrv.rename(columns={\"wake\":\"Wake\", \"n1\":\"N1\", \"n2\":\"N2\", \"n3\":\"N3\", \"rem\": \"REM\"}, index = {\"wake\":\"Wake\", \"n1\":\"N1\", \"n2\":\"N2\", \"n3\":\"N3\", \"rem\": \"REM\"} )\n",
    "), fmt=',.2f',annot=True, ax=axs[1,0], cmap=\"Greens\")\n",
    "sns.heatmap(conf_matrix(confusion_matrix_acc_hrv_edr.rename(columns={\"wake\":\"Wake\", \"n1\":\"N1\", \"n2\":\"N2\", \"n3\":\"N3\", \"rem\": \"REM\"}, index = {\"wake\":\"Wake\", \"n1\":\"N1\", \"n2\":\"N2\", \"n3\":\"N3\", \"rem\": \"REM\"} )\n",
    "), fmt=',.2f',annot=True, ax=axs[1,1], cmap=\"Greens\")\n",
    "axs[0,0].set_title(\"ACT\")\n",
    "axs[0,0].set_ylabel(\"True\")\n",
    "axs[0,0].set_xlabel(\"Predicted\")\n",
    "\n",
    "axs[0,1].set_title(\"ACT + HRV\")\n",
    "axs[0,1].set_ylabel(\"True\")\n",
    "axs[0,1].set_xlabel(\"Predicted\")\n",
    "\n",
    "axs[1,0].set_title(\"ACT + HRV + RRV\")\n",
    "axs[1,0].set_ylabel(\"True\")\n",
    "axs[1,0].set_xlabel(\"Predicted\")\n",
    "\n",
    "axs[1,1].set_title(\"ACT + HRV + EDR\")\n",
    "axs[1,1].set_ylabel(\"True\")\n",
    "axs[1,1].set_xlabel(\"Predicted\")\n",
    "plt.savefig(\"confusionmatrix_\" + algorithm + \"_\" + stage + \".pdf\",     \n",
    "    format=\"pdf\",\n",
    "    bbox_inches=\"tight\")"
   ]
  },
  {
   "cell_type": "markdown",
   "metadata": {},
   "source": [
    "### Params"
   ]
  },
  {
   "cell_type": "code",
   "execution_count": null,
   "metadata": {},
   "outputs": [],
   "source": [
    "display(optuna.get_all_study_summaries(\"sqlite:///\" + str(db_path) + \"/\" + algorithm + \"_acc_\" + stage + \".db\")[0].best_trial.params)\n",
    "display(optuna.get_all_study_summaries(\"sqlite:///\" + str(db_path) + \"/\" + algorithm + \"_acc_hrv_\" + stage + \".db\")[0].best_trial.params)\n",
    "display(optuna.get_all_study_summaries(\"sqlite:///\" + str(db_path) + \"/\" + algorithm + \"_acc_hrv_RRV_\" + stage + \".db\")[0].best_trial.params)\n",
    "display(optuna.get_all_study_summaries(\"sqlite:///\" + str(db_path) + \"/\" + algorithm + \"_acc_hrv_EDR_\" + stage + \".db\")[0].best_trial.params)"
   ]
  },
  {
   "cell_type": "markdown",
   "metadata": {
    "tags": []
   },
   "source": [
    "# 3 Stage\n",
    "# Acc"
   ]
  },
  {
   "cell_type": "code",
   "execution_count": null,
   "metadata": {},
   "outputs": [],
   "source": [
    "stage = \"3stage\"\n",
    "mod = \"acc\""
   ]
  },
  {
   "cell_type": "code",
   "execution_count": null,
   "metadata": {},
   "outputs": [],
   "source": [
    "full_results = pd.read_csv(path.joinpath(algorithm +\"_benchmark_\" + mod + \"_\" + stage + \".csv\"), index_col=\"metric\")\n",
    "full_results.columns.name = \"subject\"\n",
    "results = full_results.drop(index=\"confusion_matrix\")"
   ]
  },
  {
   "cell_type": "code",
   "execution_count": null,
   "metadata": {},
   "outputs": [],
   "source": [
    "results = pd.DataFrame(results.stack(\"subject\"), columns=[\"data\"]).astype(\"float\")"
   ]
  },
  {
   "cell_type": "code",
   "execution_count": null,
   "metadata": {},
   "outputs": [],
   "source": [
    "results.groupby(\"metric\").agg([\"mean\", \"std\"])"
   ]
  },
  {
   "cell_type": "code",
   "execution_count": null,
   "metadata": {},
   "outputs": [],
   "source": [
    "confusion_matrix_acc = pd.read_csv(path.joinpath(\"confusion_matrix_\" + algorithm +\"_benchmark_\" + mod + \"_\" + stage + \".csv\"), index_col = \"Unnamed: 0\")\n",
    "confusion_matrix_acc"
   ]
  },
  {
   "cell_type": "markdown",
   "metadata": {
    "tags": []
   },
   "source": [
    "# 3 Stage\n",
    "# Acc + HRV"
   ]
  },
  {
   "cell_type": "code",
   "execution_count": null,
   "metadata": {},
   "outputs": [],
   "source": [
    "stage = \"3stage\"\n",
    "mod = \"acc_hrv\""
   ]
  },
  {
   "cell_type": "code",
   "execution_count": null,
   "metadata": {},
   "outputs": [],
   "source": [
    "full_results = pd.read_csv(path.joinpath(algorithm +\"_benchmark_\" + mod + \"_\" + stage + \".csv\"), index_col=\"metric\")\n",
    "full_results.columns.name = \"subject\"\n",
    "results = full_results.drop(index=\"confusion_matrix\")"
   ]
  },
  {
   "cell_type": "code",
   "execution_count": null,
   "metadata": {},
   "outputs": [],
   "source": [
    "results = pd.DataFrame(results.stack(\"subject\"), columns=[\"data\"]).astype(\"float\")"
   ]
  },
  {
   "cell_type": "code",
   "execution_count": null,
   "metadata": {},
   "outputs": [],
   "source": [
    "results.groupby(\"metric\").agg([\"mean\", \"std\"])"
   ]
  },
  {
   "cell_type": "code",
   "execution_count": null,
   "metadata": {},
   "outputs": [],
   "source": [
    "confusion_matrix_acc_hrv = pd.read_csv(path.joinpath(\"confusion_matrix_\" + algorithm +\"_benchmark_\" + mod + \"_\" + stage + \".csv\"), index_col = \"Unnamed: 0\")\n",
    "confusion_matrix_acc_hrv"
   ]
  },
  {
   "cell_type": "markdown",
   "metadata": {
    "tags": []
   },
   "source": [
    "# 3 Stage\n",
    "# Acc + HRV + RRV"
   ]
  },
  {
   "cell_type": "code",
   "execution_count": null,
   "metadata": {},
   "outputs": [],
   "source": [
    "stage = \"3stage\"\n",
    "mod = \"acc_hrv_RRV\""
   ]
  },
  {
   "cell_type": "code",
   "execution_count": null,
   "metadata": {},
   "outputs": [],
   "source": [
    "full_results = pd.read_csv(path.joinpath(algorithm +\"_benchmark_\" + mod + \"_\" + stage + \".csv\"), index_col=\"metric\")\n",
    "full_results.columns.name = \"subject\"\n",
    "results = full_results.drop(index=\"confusion_matrix\")"
   ]
  },
  {
   "cell_type": "code",
   "execution_count": null,
   "metadata": {},
   "outputs": [],
   "source": [
    "results = pd.DataFrame(results.stack(\"subject\"), columns=[\"data\"]).astype(\"float\")"
   ]
  },
  {
   "cell_type": "code",
   "execution_count": null,
   "metadata": {},
   "outputs": [],
   "source": [
    "results.groupby(\"metric\").agg([\"mean\", \"std\"])"
   ]
  },
  {
   "cell_type": "code",
   "execution_count": null,
   "metadata": {},
   "outputs": [],
   "source": [
    "confusion_matrix_acc_hrv_rrv = pd.read_csv(path.joinpath(\"confusion_matrix_\" + algorithm +\"_benchmark_\" + mod + \"_\" + stage + \".csv\"), index_col = \"Unnamed: 0\")\n",
    "confusion_matrix_acc_hrv_rrv"
   ]
  },
  {
   "cell_type": "markdown",
   "metadata": {
    "tags": []
   },
   "source": [
    "# 3 Stage\n",
    "# Acc + HRV + EDR"
   ]
  },
  {
   "cell_type": "code",
   "execution_count": null,
   "metadata": {},
   "outputs": [],
   "source": [
    "stage = \"3stage\"\n",
    "mod = \"acc_hrv_EDR\""
   ]
  },
  {
   "cell_type": "code",
   "execution_count": null,
   "metadata": {},
   "outputs": [],
   "source": [
    "full_results = pd.read_csv(path.joinpath(algorithm +\"_benchmark_\" + mod + \"_\" + stage + \".csv\"), index_col=\"metric\")\n",
    "full_results.columns.name = \"subject\"\n",
    "results = full_results.drop(index=\"confusion_matrix\")"
   ]
  },
  {
   "cell_type": "code",
   "execution_count": null,
   "metadata": {},
   "outputs": [],
   "source": [
    "results = pd.DataFrame(results.stack(\"subject\"), columns=[\"data\"]).astype(\"float\")"
   ]
  },
  {
   "cell_type": "code",
   "execution_count": null,
   "metadata": {},
   "outputs": [],
   "source": [
    "results.groupby(\"metric\").agg([\"mean\", \"std\"])"
   ]
  },
  {
   "cell_type": "code",
   "execution_count": null,
   "metadata": {},
   "outputs": [],
   "source": [
    "confusion_matrix_acc_hrv_edr = pd.read_csv(path.joinpath(\"confusion_matrix_\" + algorithm +\"_benchmark_\" + mod + \"_\" + stage + \".csv\"), index_col = \"Unnamed: 0\")\n",
    "confusion_matrix_acc_hrv_edr"
   ]
  },
  {
   "cell_type": "code",
   "execution_count": null,
   "metadata": {},
   "outputs": [],
   "source": [
    "sns.set_theme(context=\"talk\", style=\"white\", palette=\"faculties\", font_scale=1.2)"
   ]
  },
  {
   "cell_type": "code",
   "execution_count": null,
   "metadata": {},
   "outputs": [],
   "source": [
    "fig, axs = plt.subplots(ncols=2, nrows=2, figsize = (18,18))\n",
    "sns.heatmap(conf_matrix(confusion_matrix_acc.rename(columns={\"wake\":\"Wake\", \"nrem\":\"NREM\", \"rem\": \"REM\"}, index = {\"wake\":\"Wake\", \"nrem\":\"NREM\", \"rem\": \"REM\"})), fmt=',.2f',annot=True, ax=axs[0,0], cmap=\"Greens\")\n",
    "sns.heatmap(conf_matrix(confusion_matrix_acc_hrv.rename(columns={\"wake\":\"Wake\", \"nrem\":\"NREM\", \"rem\": \"REM\"}, index = {\"wake\":\"Wake\", \"nrem\":\"NREM\", \"rem\": \"REM\"})), fmt=',.2f',annot=True, ax=axs[0,1], cmap=\"Greens\")\n",
    "sns.heatmap(conf_matrix(confusion_matrix_acc_hrv_rrv.rename(columns={\"wake\":\"Wake\", \"nrem\":\"NREM\", \"rem\": \"REM\"}, index = {\"wake\":\"Wake\", \"nrem\":\"NREM\", \"rem\": \"REM\"})), fmt=',.2f',annot=True, ax=axs[1,0], cmap=\"Greens\")\n",
    "sns.heatmap(conf_matrix(confusion_matrix_acc_hrv_edr.rename(columns={\"wake\":\"Wake\", \"nrem\":\"NREM\", \"rem\": \"REM\"}, index = {\"wake\":\"Wake\", \"nrem\":\"NREM\", \"rem\": \"REM\"})), fmt=',.2f',annot=True, ax=axs[1,1], cmap=\"Greens\")\n",
    "axs[0,0].set_title(\"ACT\")\n",
    "axs[0,0].set_ylabel(\"True\")\n",
    "axs[0,0].set_xlabel(\"Predicted\")\n",
    "\n",
    "axs[0,1].set_title(\"ACT + HRV\")\n",
    "axs[0,1].set_ylabel(\"True\")\n",
    "axs[0,1].set_xlabel(\"Predicted\")\n",
    "\n",
    "axs[1,0].set_title(\"ACT + HRV + RRV\")\n",
    "axs[1,0].set_ylabel(\"True\")\n",
    "axs[1,0].set_xlabel(\"Predicted\")\n",
    "\n",
    "axs[1,1].set_title(\"ACT + HRV + EDR\")\n",
    "axs[1,1].set_ylabel(\"True\")\n",
    "axs[1,1].set_xlabel(\"Predicted\")\n",
    "\n",
    "plt.savefig(\"confusionmatrix_\" + algorithm + \"_\" + stage + \".pdf\",     \n",
    "    format=\"pdf\",\n",
    "    bbox_inches=\"tight\")"
   ]
  },
  {
   "cell_type": "markdown",
   "metadata": {},
   "source": [
    "### Params"
   ]
  },
  {
   "cell_type": "code",
   "execution_count": null,
   "metadata": {},
   "outputs": [],
   "source": [
    "display(optuna.get_all_study_summaries(\"sqlite:///\" + str(db_path) + \"/\" + algorithm + \"_acc_\" + stage + \".db\")[0].best_trial.params)\n",
    "display(optuna.get_all_study_summaries(\"sqlite:///\" + str(db_path) + \"/\" + algorithm + \"_acc_hrv_\" + stage + \".db\")[0].best_trial.params)\n",
    "display(optuna.get_all_study_summaries(\"sqlite:///\" + str(db_path) + \"/\" + algorithm + \"_acc_hrv_RRV_\" + stage + \".db\")[0].best_trial.params)\n",
    "display(optuna.get_all_study_summaries(\"sqlite:///\" + str(db_path) + \"/\" + algorithm + \"_acc_hrv_EDR_\" + stage + \".db\")[0].best_trial.params)"
   ]
  },
  {
   "cell_type": "markdown",
   "metadata": {
    "tags": []
   },
   "source": [
    "# Binary\n",
    "# Acc only"
   ]
  },
  {
   "cell_type": "code",
   "execution_count": null,
   "metadata": {},
   "outputs": [],
   "source": [
    "stage = \"binary\"\n",
    "mod = \"acc\""
   ]
  },
  {
   "cell_type": "code",
   "execution_count": null,
   "metadata": {},
   "outputs": [],
   "source": [
    "full_results = pd.read_csv(path.joinpath(algorithm +\"_benchmark_\" + mod + \"_\" + stage + \".csv\"), index_col=\"metric\")\n",
    "full_results.columns.name = \"subject\"\n",
    "results = full_results.drop(index=\"confusion_matrix\")"
   ]
  },
  {
   "cell_type": "code",
   "execution_count": null,
   "metadata": {},
   "outputs": [],
   "source": [
    "results = pd.DataFrame(results.stack(\"subject\"), columns=[\"data\"]).astype(\"float\")"
   ]
  },
  {
   "cell_type": "code",
   "execution_count": null,
   "metadata": {},
   "outputs": [],
   "source": [
    "results.groupby(\"metric\").agg([\"mean\", \"std\"])"
   ]
  },
  {
   "cell_type": "code",
   "execution_count": null,
   "metadata": {},
   "outputs": [],
   "source": [
    "confusion_matrix_acc = pd.read_csv(path.joinpath(\"confusion_matrix_\" + algorithm +\"_benchmark_\" + mod + \"_\" + stage + \".csv\"), index_col = \"Unnamed: 0\")\n",
    "confusion_matrix_acc"
   ]
  },
  {
   "cell_type": "markdown",
   "metadata": {
    "tags": []
   },
   "source": [
    "# Binary\n",
    "# Acc + HRV"
   ]
  },
  {
   "cell_type": "code",
   "execution_count": null,
   "metadata": {},
   "outputs": [],
   "source": [
    "stage = \"binary\"\n",
    "mod = \"acc_hrv\""
   ]
  },
  {
   "cell_type": "code",
   "execution_count": null,
   "metadata": {},
   "outputs": [],
   "source": [
    "full_results = pd.read_csv(path.joinpath(algorithm +\"_benchmark_\" + mod + \"_\" + stage + \".csv\"), index_col=\"metric\")\n",
    "full_results.columns.name = \"subject\"\n",
    "results = full_results.drop(index=\"confusion_matrix\")"
   ]
  },
  {
   "cell_type": "code",
   "execution_count": null,
   "metadata": {},
   "outputs": [],
   "source": [
    "results = pd.DataFrame(results.stack(\"subject\"), columns=[\"data\"]).astype(\"float\")"
   ]
  },
  {
   "cell_type": "code",
   "execution_count": null,
   "metadata": {},
   "outputs": [],
   "source": [
    "results.groupby(\"metric\").agg([\"mean\", \"std\"])"
   ]
  },
  {
   "cell_type": "code",
   "execution_count": null,
   "metadata": {},
   "outputs": [],
   "source": [
    "confusion_matrix_acc_hrv = pd.read_csv(path.joinpath(\"confusion_matrix_\" + algorithm +\"_benchmark_\" + mod + \"_\" + stage + \".csv\"), index_col = \"Unnamed: 0\")\n",
    "confusion_matrix_acc_hrv"
   ]
  },
  {
   "cell_type": "markdown",
   "metadata": {
    "tags": []
   },
   "source": [
    "# Binary\n",
    "# Acc + HRV + RRV"
   ]
  },
  {
   "cell_type": "code",
   "execution_count": null,
   "metadata": {},
   "outputs": [],
   "source": [
    "stage = \"binary\"\n",
    "mod = \"acc_hrv_RRV\""
   ]
  },
  {
   "cell_type": "code",
   "execution_count": null,
   "metadata": {},
   "outputs": [],
   "source": [
    "full_results = pd.read_csv(path.joinpath(algorithm +\"_benchmark_\" + mod + \"_\" + stage + \".csv\"), index_col=\"metric\")\n",
    "full_results.columns.name = \"subject\"\n",
    "results = full_results.drop(index=\"confusion_matrix\")"
   ]
  },
  {
   "cell_type": "code",
   "execution_count": null,
   "metadata": {},
   "outputs": [],
   "source": [
    "results = pd.DataFrame(results.stack(\"subject\"), columns=[\"data\"]).astype(\"float\")"
   ]
  },
  {
   "cell_type": "code",
   "execution_count": null,
   "metadata": {},
   "outputs": [],
   "source": [
    "results.groupby(\"metric\").agg([\"mean\", \"std\"])"
   ]
  },
  {
   "cell_type": "code",
   "execution_count": null,
   "metadata": {},
   "outputs": [],
   "source": [
    "confusion_matrix_acc_hrv_rrv = pd.read_csv(path.joinpath(\"confusion_matrix_\" + algorithm +\"_benchmark_\" + mod + \"_\" + stage + \".csv\"), index_col = \"Unnamed: 0\")\n",
    "confusion_matrix_acc_hrv_rrv"
   ]
  },
  {
   "cell_type": "markdown",
   "metadata": {},
   "source": [
    "### Params"
   ]
  },
  {
   "cell_type": "markdown",
   "metadata": {
    "tags": []
   },
   "source": [
    "# Binary\n",
    "# Acc + HRV + EDR"
   ]
  },
  {
   "cell_type": "code",
   "execution_count": null,
   "metadata": {},
   "outputs": [],
   "source": [
    "stage = \"binary\"\n",
    "mod = \"acc_hrv_EDR\""
   ]
  },
  {
   "cell_type": "code",
   "execution_count": null,
   "metadata": {},
   "outputs": [],
   "source": [
    "full_results = pd.read_csv(path.joinpath(algorithm +\"_benchmark_\" + mod + \"_\" + stage + \".csv\"), index_col=\"metric\")\n",
    "full_results.columns.name = \"subject\"\n",
    "results = full_results.drop(index=\"confusion_matrix\")"
   ]
  },
  {
   "cell_type": "code",
   "execution_count": null,
   "metadata": {},
   "outputs": [],
   "source": [
    "results = pd.DataFrame(results.stack(\"subject\"), columns=[\"data\"]).astype(\"float\")"
   ]
  },
  {
   "cell_type": "code",
   "execution_count": null,
   "metadata": {},
   "outputs": [],
   "source": [
    "results.groupby(\"metric\").agg([\"mean\", \"std\"])"
   ]
  },
  {
   "cell_type": "code",
   "execution_count": null,
   "metadata": {},
   "outputs": [],
   "source": [
    "confusion_matrix_acc_hrv_edr = pd.read_csv(path.joinpath(\"confusion_matrix_\" + algorithm +\"_benchmark_\" + mod + \"_\" + stage + \".csv\"), index_col = \"Unnamed: 0\")\n",
    "confusion_matrix_acc_hrv_edr"
   ]
  },
  {
   "cell_type": "code",
   "execution_count": null,
   "metadata": {},
   "outputs": [],
   "source": [
    "sns.set_theme(context=\"poster\", style=\"white\", palette=\"faculties\", font_scale=1.2)"
   ]
  },
  {
   "cell_type": "code",
   "execution_count": null,
   "metadata": {},
   "outputs": [],
   "source": [
    "fig, axs = plt.subplots(ncols=2, nrows=2, figsize = (20,20))\n",
    "\n",
    "sns.heatmap(conf_matrix(confusion_matrix_acc.rename(columns={\"wake\":\"Wake\", \"sleep\":\"Sleep\"}, index = {\"wake\":\"Wake\", \"sleep\":\"Sleep\"})), fmt=',.2f',annot=True, ax=axs[0,0], cmap=\"Greens\")\n",
    "sns.heatmap(conf_matrix(confusion_matrix_acc_hrv.rename(columns={\"wake\":\"Wake\", \"sleep\":\"Sleep\"}, index = {\"wake\":\"Wake\", \"sleep\":\"Sleep\"})), fmt=',.2f',annot=True, ax=axs[0,1], cmap=\"Greens\")\n",
    "sns.heatmap(conf_matrix(confusion_matrix_acc_hrv_rrv.rename(columns={\"wake\":\"Wake\", \"sleep\":\"Sleep\"}, index = {\"wake\":\"Wake\", \"sleep\":\"Sleep\"})), fmt=',.2f',annot=True, ax=axs[1,0], cmap=\"Greens\")\n",
    "sns.heatmap(conf_matrix(confusion_matrix_acc_hrv_edr.rename(columns={\"wake\":\"Wake\", \"sleep\":\"Sleep\"}, index = {\"wake\":\"Wake\", \"sleep\":\"Sleep\"})), fmt=',.2f',annot=True, ax=axs[1,1], cmap=\"Greens\")\n",
    "axs[0,0].set_title(\"ACT\")\n",
    "axs[0,0].set_ylabel(\"True\")\n",
    "axs[0,0].set_xlabel(\"Predicted\")\n",
    "\n",
    "axs[0,1].set_title(\"ACT + HRV\")\n",
    "axs[0,1].set_ylabel(\"True\")\n",
    "axs[0,1].set_xlabel(\"Predicted\")\n",
    "\n",
    "axs[1,0].set_title(\"ACT + HRV + RRV\")\n",
    "axs[1,0].set_ylabel(\"True\")\n",
    "axs[1,0].set_xlabel(\"Predicted\")\n",
    "\n",
    "axs[1,1].set_title(\"ACT + HRV + EDR\")\n",
    "axs[1,1].set_ylabel(\"True\")\n",
    "axs[1,1].set_xlabel(\"Predicted\")\n",
    "\n",
    "plt.savefig(\"confusionmatrix_\" + algorithm + \"_\" + stage + \".pdf\",     \n",
    "    format=\"pdf\",\n",
    "    bbox_inches=\"tight\")"
   ]
  },
  {
   "cell_type": "code",
   "execution_count": null,
   "metadata": {},
   "outputs": [],
   "source": [
    "display(optuna.get_all_study_summaries(\"sqlite:///\" + str(db_path) + \"/\" + algorithm + \"_acc_\" + stage + \".db\")[0].best_trial.params)\n",
    "display(optuna.get_all_study_summaries(\"sqlite:///\" + str(db_path) + \"/\" + algorithm + \"_acc_hrv_\" + stage + \".db\")[0].best_trial.params)\n",
    "display(optuna.get_all_study_summaries(\"sqlite:///\" + str(db_path) + \"/\" + algorithm + \"_acc_hrv_RRV_\" + stage + \".db\")[0].best_trial.params)\n",
    "display(optuna.get_all_study_summaries(\"sqlite:///\" + str(db_path) + \"/\" + algorithm + \"_acc_hrv_EDR_\" + stage + \".db\")[0].best_trial.params)"
   ]
  }
 ],
 "metadata": {
  "kernelspec": {
   "display_name": "sleep-analysis",
   "language": "python",
   "name": "sleep-analysis"
  },
  "language_info": {
   "codemirror_mode": {
    "name": "ipython",
    "version": 3
   },
   "file_extension": ".py",
   "mimetype": "text/x-python",
   "name": "python",
   "nbconvert_exporter": "python",
   "pygments_lexer": "ipython3",
   "version": "3.9.7"
  }
 },
 "nbformat": 4,
 "nbformat_minor": 4
}
