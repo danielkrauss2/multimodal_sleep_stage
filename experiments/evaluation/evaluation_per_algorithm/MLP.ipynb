{
 "cells": [
  {
   "cell_type": "code",
   "execution_count": 1,
   "metadata": {},
   "outputs": [],
   "source": [
    "import numpy as np\n",
    "import pandas as pd\n",
    "\n",
    "from pathlib import Path\n",
    "import matplotlib.pyplot as plt\n",
    "import seaborn as sns\n",
    "from biopsykit.utils.dataframe_handling import multi_xs\n"
   ]
  },
  {
   "cell_type": "code",
   "execution_count": 2,
   "metadata": {},
   "outputs": [],
   "source": [
    "%load_ext autoreload\n",
    "%autoreload 2"
   ]
  },
  {
   "cell_type": "code",
   "execution_count": 3,
   "metadata": {},
   "outputs": [],
   "source": [
    "from fau_colors import register_cmaps\n",
    "register_cmaps()\n",
    "\n",
    "sns.set_theme(context=\"paper\", style=\"white\", palette=\"faculties\", font_scale=1.2)\n",
    "\n",
    "%matplotlib widget"
   ]
  },
  {
   "cell_type": "code",
   "execution_count": 4,
   "metadata": {},
   "outputs": [],
   "source": [
    "def conf_matrix(confusion_matrix):\n",
    "    x = confusion_matrix.sum(axis=1)[:, np.newaxis]\n",
    "    confusion_matrix /=x\n",
    "    confusion_matrix *= 100\n",
    "    confusion_matrix = round(confusion_matrix,2)\n",
    "    return confusion_matrix"
   ]
  },
  {
   "cell_type": "code",
   "execution_count": 5,
   "metadata": {
    "tags": []
   },
   "outputs": [],
   "source": [
    "def get_best_params(param_list, mod, stage, optimization_metric = \"mcc\"):\n",
    "    gridsearch_df = pd.read_csv(path.joinpath(algorithm +\"_gridsearch_benchmark_\" + mod + \"_\" + stage + \".csv\"), index_col=\"Unnamed: 0\").sort_values(by=\"mean_test_\" + optimization_metric, ascending=False)\n",
    "    gridsearch_df = gridsearch_df.reset_index(drop=True)\n",
    "    param_list = [\"param_\" +param for param in param_list]\n",
    "    return gridsearch_df[param_list].loc[0]"
   ]
  },
  {
   "cell_type": "code",
   "execution_count": 6,
   "metadata": {},
   "outputs": [],
   "source": [
    "##### Fill in Algorithm here!! ####\n",
    "algorithm = \"mlp\"\n",
    "##### Fill in Algorithm here!! ####"
   ]
  },
  {
   "cell_type": "code",
   "execution_count": 7,
   "metadata": {
    "tags": []
   },
   "outputs": [],
   "source": [
    "# GridSearch Parameter: fill in here:\n",
    "param_list = [\"hidden_layer_sizes\", \"activation\", \"solver\", \"alpha\", \"learning_rate\"]"
   ]
  },
  {
   "cell_type": "code",
   "execution_count": 8,
   "metadata": {},
   "outputs": [],
   "source": [
    "path = Path.cwd().parents[2].joinpath(\"exports/results_per_algorithm/\")\n",
    "path = path.joinpath(algorithm)"
   ]
  },
  {
   "cell_type": "markdown",
   "metadata": {
    "tags": []
   },
   "source": [
    "# 5 Stage\n",
    "# Acc only"
   ]
  },
  {
   "cell_type": "code",
   "execution_count": 9,
   "metadata": {},
   "outputs": [],
   "source": [
    "stage = \"5stage\"\n",
    "mod = \"acc\""
   ]
  },
  {
   "cell_type": "code",
   "execution_count": 10,
   "metadata": {},
   "outputs": [],
   "source": [
    "full_results = pd.read_csv(path.joinpath(algorithm +\"_benchmark_\" + mod + \"_\" + stage + \".csv\"), index_col=\"metric\")\n",
    "full_results.columns.name = \"subject\"\n",
    "results = full_results.drop(index=\"confusion_matrix\")"
   ]
  },
  {
   "cell_type": "code",
   "execution_count": 11,
   "metadata": {},
   "outputs": [],
   "source": [
    "results = pd.DataFrame(results.stack(\"subject\"), columns=[\"data\"]).astype(\"float\")"
   ]
  },
  {
   "cell_type": "code",
   "execution_count": 12,
   "metadata": {},
   "outputs": [
    {
     "data": {
      "text/html": [
       "<div>\n",
       "<style scoped>\n",
       "    .dataframe tbody tr th:only-of-type {\n",
       "        vertical-align: middle;\n",
       "    }\n",
       "\n",
       "    .dataframe tbody tr th {\n",
       "        vertical-align: top;\n",
       "    }\n",
       "\n",
       "    .dataframe thead tr th {\n",
       "        text-align: left;\n",
       "    }\n",
       "\n",
       "    .dataframe thead tr:last-of-type th {\n",
       "        text-align: right;\n",
       "    }\n",
       "</style>\n",
       "<table border=\"1\" class=\"dataframe\">\n",
       "  <thead>\n",
       "    <tr>\n",
       "      <th></th>\n",
       "      <th colspan=\"2\" halign=\"left\">data</th>\n",
       "    </tr>\n",
       "    <tr>\n",
       "      <th></th>\n",
       "      <th>mean</th>\n",
       "      <th>std</th>\n",
       "    </tr>\n",
       "    <tr>\n",
       "      <th>metric</th>\n",
       "      <th></th>\n",
       "      <th></th>\n",
       "    </tr>\n",
       "  </thead>\n",
       "  <tbody>\n",
       "    <tr>\n",
       "      <th>accuracy</th>\n",
       "      <td>0.548360</td>\n",
       "      <td>0.098870</td>\n",
       "    </tr>\n",
       "    <tr>\n",
       "      <th>bed_interval_end</th>\n",
       "      <td>1049.620536</td>\n",
       "      <td>148.279048</td>\n",
       "    </tr>\n",
       "    <tr>\n",
       "      <th>bed_interval_start</th>\n",
       "      <td>67.334821</td>\n",
       "      <td>70.022350</td>\n",
       "    </tr>\n",
       "    <tr>\n",
       "      <th>f1</th>\n",
       "      <td>0.461050</td>\n",
       "      <td>0.100603</td>\n",
       "    </tr>\n",
       "    <tr>\n",
       "      <th>getup_latency</th>\n",
       "      <td>7.366071</td>\n",
       "      <td>25.749569</td>\n",
       "    </tr>\n",
       "    <tr>\n",
       "      <th>kappa</th>\n",
       "      <td>0.275345</td>\n",
       "      <td>0.128407</td>\n",
       "    </tr>\n",
       "    <tr>\n",
       "      <th>mcc</th>\n",
       "      <td>0.327487</td>\n",
       "      <td>0.136014</td>\n",
       "    </tr>\n",
       "    <tr>\n",
       "      <th>net_sleep_duration</th>\n",
       "      <td>723.812500</td>\n",
       "      <td>186.569817</td>\n",
       "    </tr>\n",
       "    <tr>\n",
       "      <th>precision</th>\n",
       "      <td>0.432313</td>\n",
       "      <td>0.104859</td>\n",
       "    </tr>\n",
       "    <tr>\n",
       "      <th>recall</th>\n",
       "      <td>0.548360</td>\n",
       "      <td>0.098870</td>\n",
       "    </tr>\n",
       "    <tr>\n",
       "      <th>sleep_efficiency</th>\n",
       "      <td>73.763471</td>\n",
       "      <td>15.782280</td>\n",
       "    </tr>\n",
       "    <tr>\n",
       "      <th>sleep_onset</th>\n",
       "      <td>114.093750</td>\n",
       "      <td>85.512515</td>\n",
       "    </tr>\n",
       "    <tr>\n",
       "      <th>sleep_onset_latency</th>\n",
       "      <td>46.758929</td>\n",
       "      <td>61.553833</td>\n",
       "    </tr>\n",
       "    <tr>\n",
       "      <th>specifity</th>\n",
       "      <td>0.836658</td>\n",
       "      <td>0.070249</td>\n",
       "    </tr>\n",
       "    <tr>\n",
       "      <th>total_sleep_duration</th>\n",
       "      <td>983.285714</td>\n",
       "      <td>152.957389</td>\n",
       "    </tr>\n",
       "    <tr>\n",
       "      <th>wake_after_sleep_onset</th>\n",
       "      <td>186.303571</td>\n",
       "      <td>135.400839</td>\n",
       "    </tr>\n",
       "    <tr>\n",
       "      <th>wake_onset</th>\n",
       "      <td>1037.910714</td>\n",
       "      <td>149.553929</td>\n",
       "    </tr>\n",
       "  </tbody>\n",
       "</table>\n",
       "</div>"
      ],
      "text/plain": [
       "                               data            \n",
       "                               mean         std\n",
       "metric                                         \n",
       "accuracy                   0.548360    0.098870\n",
       "bed_interval_end        1049.620536  148.279048\n",
       "bed_interval_start        67.334821   70.022350\n",
       "f1                         0.461050    0.100603\n",
       "getup_latency              7.366071   25.749569\n",
       "kappa                      0.275345    0.128407\n",
       "mcc                        0.327487    0.136014\n",
       "net_sleep_duration       723.812500  186.569817\n",
       "precision                  0.432313    0.104859\n",
       "recall                     0.548360    0.098870\n",
       "sleep_efficiency          73.763471   15.782280\n",
       "sleep_onset              114.093750   85.512515\n",
       "sleep_onset_latency       46.758929   61.553833\n",
       "specifity                  0.836658    0.070249\n",
       "total_sleep_duration     983.285714  152.957389\n",
       "wake_after_sleep_onset   186.303571  135.400839\n",
       "wake_onset              1037.910714  149.553929"
      ]
     },
     "execution_count": 12,
     "metadata": {},
     "output_type": "execute_result"
    }
   ],
   "source": [
    "results.groupby(\"metric\").agg([\"mean\", \"std\"])"
   ]
  },
  {
   "cell_type": "code",
   "execution_count": 13,
   "metadata": {},
   "outputs": [
    {
     "data": {
      "text/html": [
       "<div>\n",
       "<style scoped>\n",
       "    .dataframe tbody tr th:only-of-type {\n",
       "        vertical-align: middle;\n",
       "    }\n",
       "\n",
       "    .dataframe tbody tr th {\n",
       "        vertical-align: top;\n",
       "    }\n",
       "\n",
       "    .dataframe thead th {\n",
       "        text-align: right;\n",
       "    }\n",
       "</style>\n",
       "<table border=\"1\" class=\"dataframe\">\n",
       "  <thead>\n",
       "    <tr style=\"text-align: right;\">\n",
       "      <th></th>\n",
       "      <th>wake</th>\n",
       "      <th>n1</th>\n",
       "      <th>n2</th>\n",
       "      <th>n3</th>\n",
       "      <th>rem</th>\n",
       "    </tr>\n",
       "  </thead>\n",
       "  <tbody>\n",
       "    <tr>\n",
       "      <th>wake</th>\n",
       "      <td>55451.0</td>\n",
       "      <td>3.0</td>\n",
       "      <td>25405.0</td>\n",
       "      <td>0.0</td>\n",
       "      <td>0.0</td>\n",
       "    </tr>\n",
       "    <tr>\n",
       "      <th>n1</th>\n",
       "      <td>7125.0</td>\n",
       "      <td>0.0</td>\n",
       "      <td>15977.0</td>\n",
       "      <td>0.0</td>\n",
       "      <td>0.0</td>\n",
       "    </tr>\n",
       "    <tr>\n",
       "      <th>n2</th>\n",
       "      <td>13302.0</td>\n",
       "      <td>0.0</td>\n",
       "      <td>79781.0</td>\n",
       "      <td>0.0</td>\n",
       "      <td>0.0</td>\n",
       "    </tr>\n",
       "    <tr>\n",
       "      <th>n3</th>\n",
       "      <td>941.0</td>\n",
       "      <td>0.0</td>\n",
       "      <td>16143.0</td>\n",
       "      <td>0.0</td>\n",
       "      <td>0.0</td>\n",
       "    </tr>\n",
       "    <tr>\n",
       "      <th>rem</th>\n",
       "      <td>2777.0</td>\n",
       "      <td>0.0</td>\n",
       "      <td>29043.0</td>\n",
       "      <td>0.0</td>\n",
       "      <td>0.0</td>\n",
       "    </tr>\n",
       "  </tbody>\n",
       "</table>\n",
       "</div>"
      ],
      "text/plain": [
       "         wake   n1       n2   n3  rem\n",
       "wake  55451.0  3.0  25405.0  0.0  0.0\n",
       "n1     7125.0  0.0  15977.0  0.0  0.0\n",
       "n2    13302.0  0.0  79781.0  0.0  0.0\n",
       "n3      941.0  0.0  16143.0  0.0  0.0\n",
       "rem    2777.0  0.0  29043.0  0.0  0.0"
      ]
     },
     "execution_count": 13,
     "metadata": {},
     "output_type": "execute_result"
    }
   ],
   "source": [
    "confusion_matrix_acc = pd.read_csv(path.joinpath(\"confusion_matrix_\" + algorithm +\"_benchmark_\" + mod + \"_\" + stage + \".csv\"), index_col = \"Unnamed: 0\")\n",
    "confusion_matrix_acc"
   ]
  },
  {
   "cell_type": "code",
   "execution_count": 14,
   "metadata": {},
   "outputs": [
    {
     "data": {
      "text/plain": [
       "param_hidden_layer_sizes      (100,)\n",
       "param_activation                relu\n",
       "param_solver                    adam\n",
       "param_alpha                   0.0001\n",
       "param_learning_rate         constant\n",
       "Name: 0, dtype: object"
      ]
     },
     "execution_count": 14,
     "metadata": {},
     "output_type": "execute_result"
    }
   ],
   "source": [
    "get_best_params(param_list, mod=mod, stage=stage, optimization_metric=\"mcc\")"
   ]
  },
  {
   "cell_type": "markdown",
   "metadata": {
    "tags": []
   },
   "source": [
    "# 5 Stage\n",
    "# Acc + HRV"
   ]
  },
  {
   "cell_type": "code",
   "execution_count": 15,
   "metadata": {},
   "outputs": [],
   "source": [
    "stage = \"5stage\"\n",
    "mod = \"acc_hrv\""
   ]
  },
  {
   "cell_type": "code",
   "execution_count": 16,
   "metadata": {},
   "outputs": [],
   "source": [
    "full_results = pd.read_csv(path.joinpath(algorithm +\"_benchmark_\" + mod + \"_\" + stage + \".csv\"), index_col=\"metric\")\n",
    "full_results.columns.name = \"subject\"\n",
    "results = full_results.drop(index=\"confusion_matrix\")"
   ]
  },
  {
   "cell_type": "code",
   "execution_count": 17,
   "metadata": {},
   "outputs": [],
   "source": [
    "results = pd.DataFrame(results.stack(\"subject\"), columns=[\"data\"]).astype(\"float\")"
   ]
  },
  {
   "cell_type": "code",
   "execution_count": 18,
   "metadata": {},
   "outputs": [
    {
     "data": {
      "text/html": [
       "<div>\n",
       "<style scoped>\n",
       "    .dataframe tbody tr th:only-of-type {\n",
       "        vertical-align: middle;\n",
       "    }\n",
       "\n",
       "    .dataframe tbody tr th {\n",
       "        vertical-align: top;\n",
       "    }\n",
       "\n",
       "    .dataframe thead tr th {\n",
       "        text-align: left;\n",
       "    }\n",
       "\n",
       "    .dataframe thead tr:last-of-type th {\n",
       "        text-align: right;\n",
       "    }\n",
       "</style>\n",
       "<table border=\"1\" class=\"dataframe\">\n",
       "  <thead>\n",
       "    <tr>\n",
       "      <th></th>\n",
       "      <th colspan=\"2\" halign=\"left\">data</th>\n",
       "    </tr>\n",
       "    <tr>\n",
       "      <th></th>\n",
       "      <th>mean</th>\n",
       "      <th>std</th>\n",
       "    </tr>\n",
       "    <tr>\n",
       "      <th>metric</th>\n",
       "      <th></th>\n",
       "      <th></th>\n",
       "    </tr>\n",
       "  </thead>\n",
       "  <tbody>\n",
       "    <tr>\n",
       "      <th>accuracy</th>\n",
       "      <td>0.561612</td>\n",
       "      <td>0.094699</td>\n",
       "    </tr>\n",
       "    <tr>\n",
       "      <th>bed_interval_end</th>\n",
       "      <td>1049.620536</td>\n",
       "      <td>148.279048</td>\n",
       "    </tr>\n",
       "    <tr>\n",
       "      <th>bed_interval_start</th>\n",
       "      <td>67.334821</td>\n",
       "      <td>70.022350</td>\n",
       "    </tr>\n",
       "    <tr>\n",
       "      <th>f1</th>\n",
       "      <td>0.487198</td>\n",
       "      <td>0.097169</td>\n",
       "    </tr>\n",
       "    <tr>\n",
       "      <th>getup_latency</th>\n",
       "      <td>6.281250</td>\n",
       "      <td>24.676315</td>\n",
       "    </tr>\n",
       "    <tr>\n",
       "      <th>kappa</th>\n",
       "      <td>0.308497</td>\n",
       "      <td>0.119550</td>\n",
       "    </tr>\n",
       "    <tr>\n",
       "      <th>mcc</th>\n",
       "      <td>0.355529</td>\n",
       "      <td>0.120647</td>\n",
       "    </tr>\n",
       "    <tr>\n",
       "      <th>net_sleep_duration</th>\n",
       "      <td>720.910714</td>\n",
       "      <td>189.489001</td>\n",
       "    </tr>\n",
       "    <tr>\n",
       "      <th>precision</th>\n",
       "      <td>0.527210</td>\n",
       "      <td>0.105209</td>\n",
       "    </tr>\n",
       "    <tr>\n",
       "      <th>recall</th>\n",
       "      <td>0.561612</td>\n",
       "      <td>0.094699</td>\n",
       "    </tr>\n",
       "    <tr>\n",
       "      <th>sleep_efficiency</th>\n",
       "      <td>73.465430</td>\n",
       "      <td>16.088347</td>\n",
       "    </tr>\n",
       "    <tr>\n",
       "      <th>sleep_onset</th>\n",
       "      <td>108.861607</td>\n",
       "      <td>86.043338</td>\n",
       "    </tr>\n",
       "    <tr>\n",
       "      <th>sleep_onset_latency</th>\n",
       "      <td>41.526786</td>\n",
       "      <td>59.097087</td>\n",
       "    </tr>\n",
       "    <tr>\n",
       "      <th>specifity</th>\n",
       "      <td>0.844175</td>\n",
       "      <td>0.063877</td>\n",
       "    </tr>\n",
       "    <tr>\n",
       "      <th>total_sleep_duration</th>\n",
       "      <td>983.285714</td>\n",
       "      <td>152.957389</td>\n",
       "    </tr>\n",
       "    <tr>\n",
       "      <th>wake_after_sleep_onset</th>\n",
       "      <td>195.375000</td>\n",
       "      <td>141.651795</td>\n",
       "    </tr>\n",
       "    <tr>\n",
       "      <th>wake_onset</th>\n",
       "      <td>1040.799107</td>\n",
       "      <td>148.722994</td>\n",
       "    </tr>\n",
       "  </tbody>\n",
       "</table>\n",
       "</div>"
      ],
      "text/plain": [
       "                               data            \n",
       "                               mean         std\n",
       "metric                                         \n",
       "accuracy                   0.561612    0.094699\n",
       "bed_interval_end        1049.620536  148.279048\n",
       "bed_interval_start        67.334821   70.022350\n",
       "f1                         0.487198    0.097169\n",
       "getup_latency              6.281250   24.676315\n",
       "kappa                      0.308497    0.119550\n",
       "mcc                        0.355529    0.120647\n",
       "net_sleep_duration       720.910714  189.489001\n",
       "precision                  0.527210    0.105209\n",
       "recall                     0.561612    0.094699\n",
       "sleep_efficiency          73.465430   16.088347\n",
       "sleep_onset              108.861607   86.043338\n",
       "sleep_onset_latency       41.526786   59.097087\n",
       "specifity                  0.844175    0.063877\n",
       "total_sleep_duration     983.285714  152.957389\n",
       "wake_after_sleep_onset   195.375000  141.651795\n",
       "wake_onset              1040.799107  148.722994"
      ]
     },
     "execution_count": 18,
     "metadata": {},
     "output_type": "execute_result"
    }
   ],
   "source": [
    "results.groupby(\"metric\").agg([\"mean\", \"std\"])"
   ]
  },
  {
   "cell_type": "code",
   "execution_count": 19,
   "metadata": {},
   "outputs": [
    {
     "data": {
      "text/html": [
       "<div>\n",
       "<style scoped>\n",
       "    .dataframe tbody tr th:only-of-type {\n",
       "        vertical-align: middle;\n",
       "    }\n",
       "\n",
       "    .dataframe tbody tr th {\n",
       "        vertical-align: top;\n",
       "    }\n",
       "\n",
       "    .dataframe thead th {\n",
       "        text-align: right;\n",
       "    }\n",
       "</style>\n",
       "<table border=\"1\" class=\"dataframe\">\n",
       "  <thead>\n",
       "    <tr style=\"text-align: right;\">\n",
       "      <th></th>\n",
       "      <th>wake</th>\n",
       "      <th>n1</th>\n",
       "      <th>n2</th>\n",
       "      <th>n3</th>\n",
       "      <th>rem</th>\n",
       "    </tr>\n",
       "  </thead>\n",
       "  <tbody>\n",
       "    <tr>\n",
       "      <th>wake</th>\n",
       "      <td>56997.0</td>\n",
       "      <td>196.0</td>\n",
       "      <td>22420.0</td>\n",
       "      <td>29.0</td>\n",
       "      <td>1217.0</td>\n",
       "    </tr>\n",
       "    <tr>\n",
       "      <th>n1</th>\n",
       "      <td>6964.0</td>\n",
       "      <td>240.0</td>\n",
       "      <td>15092.0</td>\n",
       "      <td>15.0</td>\n",
       "      <td>791.0</td>\n",
       "    </tr>\n",
       "    <tr>\n",
       "      <th>n2</th>\n",
       "      <td>11954.0</td>\n",
       "      <td>233.0</td>\n",
       "      <td>78646.0</td>\n",
       "      <td>98.0</td>\n",
       "      <td>2152.0</td>\n",
       "    </tr>\n",
       "    <tr>\n",
       "      <th>n3</th>\n",
       "      <td>925.0</td>\n",
       "      <td>16.0</td>\n",
       "      <td>15804.0</td>\n",
       "      <td>39.0</td>\n",
       "      <td>300.0</td>\n",
       "    </tr>\n",
       "    <tr>\n",
       "      <th>rem</th>\n",
       "      <td>3342.0</td>\n",
       "      <td>139.0</td>\n",
       "      <td>25668.0</td>\n",
       "      <td>92.0</td>\n",
       "      <td>2579.0</td>\n",
       "    </tr>\n",
       "  </tbody>\n",
       "</table>\n",
       "</div>"
      ],
      "text/plain": [
       "         wake     n1       n2    n3     rem\n",
       "wake  56997.0  196.0  22420.0  29.0  1217.0\n",
       "n1     6964.0  240.0  15092.0  15.0   791.0\n",
       "n2    11954.0  233.0  78646.0  98.0  2152.0\n",
       "n3      925.0   16.0  15804.0  39.0   300.0\n",
       "rem    3342.0  139.0  25668.0  92.0  2579.0"
      ]
     },
     "execution_count": 19,
     "metadata": {},
     "output_type": "execute_result"
    }
   ],
   "source": [
    "confusion_matrix_acc_hrv = pd.read_csv(path.joinpath(\"confusion_matrix_\" + algorithm +\"_benchmark_\" + mod + \"_\" + stage + \".csv\"), index_col = \"Unnamed: 0\")\n",
    "confusion_matrix_acc_hrv"
   ]
  },
  {
   "cell_type": "code",
   "execution_count": 20,
   "metadata": {},
   "outputs": [
    {
     "data": {
      "text/plain": [
       "param_hidden_layer_sizes      (100,)\n",
       "param_activation                relu\n",
       "param_solver                    adam\n",
       "param_alpha                   0.0001\n",
       "param_learning_rate         constant\n",
       "Name: 0, dtype: object"
      ]
     },
     "execution_count": 20,
     "metadata": {},
     "output_type": "execute_result"
    }
   ],
   "source": [
    "get_best_params(param_list, mod=mod, stage=stage, optimization_metric=\"mcc\")"
   ]
  },
  {
   "cell_type": "markdown",
   "metadata": {
    "tags": []
   },
   "source": [
    "# 5 Stage\n",
    "# ACC + HRV + RRV"
   ]
  },
  {
   "cell_type": "code",
   "execution_count": 21,
   "metadata": {},
   "outputs": [],
   "source": [
    "stage = \"5stage\"\n",
    "mod = \"acc_hrv_RRV\""
   ]
  },
  {
   "cell_type": "code",
   "execution_count": 22,
   "metadata": {},
   "outputs": [],
   "source": [
    "full_results = pd.read_csv(path.joinpath(algorithm +\"_benchmark_\" + mod + \"_\" + stage + \".csv\"), index_col=\"metric\")\n",
    "full_results.columns.name = \"subject\"\n",
    "results = full_results.drop(index=\"confusion_matrix\")"
   ]
  },
  {
   "cell_type": "code",
   "execution_count": 23,
   "metadata": {},
   "outputs": [],
   "source": [
    "results = pd.DataFrame(results.stack(\"subject\"), columns=[\"data\"]).astype(\"float\")"
   ]
  },
  {
   "cell_type": "code",
   "execution_count": 24,
   "metadata": {},
   "outputs": [
    {
     "data": {
      "text/html": [
       "<div>\n",
       "<style scoped>\n",
       "    .dataframe tbody tr th:only-of-type {\n",
       "        vertical-align: middle;\n",
       "    }\n",
       "\n",
       "    .dataframe tbody tr th {\n",
       "        vertical-align: top;\n",
       "    }\n",
       "\n",
       "    .dataframe thead tr th {\n",
       "        text-align: left;\n",
       "    }\n",
       "\n",
       "    .dataframe thead tr:last-of-type th {\n",
       "        text-align: right;\n",
       "    }\n",
       "</style>\n",
       "<table border=\"1\" class=\"dataframe\">\n",
       "  <thead>\n",
       "    <tr>\n",
       "      <th></th>\n",
       "      <th colspan=\"2\" halign=\"left\">data</th>\n",
       "    </tr>\n",
       "    <tr>\n",
       "      <th></th>\n",
       "      <th>mean</th>\n",
       "      <th>std</th>\n",
       "    </tr>\n",
       "    <tr>\n",
       "      <th>metric</th>\n",
       "      <th></th>\n",
       "      <th></th>\n",
       "    </tr>\n",
       "  </thead>\n",
       "  <tbody>\n",
       "    <tr>\n",
       "      <th>accuracy</th>\n",
       "      <td>0.614417</td>\n",
       "      <td>0.102007</td>\n",
       "    </tr>\n",
       "    <tr>\n",
       "      <th>bed_interval_end</th>\n",
       "      <td>1049.620536</td>\n",
       "      <td>148.279048</td>\n",
       "    </tr>\n",
       "    <tr>\n",
       "      <th>bed_interval_start</th>\n",
       "      <td>67.334821</td>\n",
       "      <td>70.022350</td>\n",
       "    </tr>\n",
       "    <tr>\n",
       "      <th>f1</th>\n",
       "      <td>0.556959</td>\n",
       "      <td>0.107765</td>\n",
       "    </tr>\n",
       "    <tr>\n",
       "      <th>getup_latency</th>\n",
       "      <td>8.718750</td>\n",
       "      <td>32.428969</td>\n",
       "    </tr>\n",
       "    <tr>\n",
       "      <th>kappa</th>\n",
       "      <td>0.409022</td>\n",
       "      <td>0.132556</td>\n",
       "    </tr>\n",
       "    <tr>\n",
       "      <th>mcc</th>\n",
       "      <td>0.443812</td>\n",
       "      <td>0.128378</td>\n",
       "    </tr>\n",
       "    <tr>\n",
       "      <th>net_sleep_duration</th>\n",
       "      <td>710.750000</td>\n",
       "      <td>190.654925</td>\n",
       "    </tr>\n",
       "    <tr>\n",
       "      <th>precision</th>\n",
       "      <td>0.577403</td>\n",
       "      <td>0.102876</td>\n",
       "    </tr>\n",
       "    <tr>\n",
       "      <th>recall</th>\n",
       "      <td>0.614417</td>\n",
       "      <td>0.102007</td>\n",
       "    </tr>\n",
       "    <tr>\n",
       "      <th>sleep_efficiency</th>\n",
       "      <td>72.576920</td>\n",
       "      <td>16.824919</td>\n",
       "    </tr>\n",
       "    <tr>\n",
       "      <th>sleep_onset</th>\n",
       "      <td>107.562500</td>\n",
       "      <td>84.886395</td>\n",
       "    </tr>\n",
       "    <tr>\n",
       "      <th>sleep_onset_latency</th>\n",
       "      <td>40.227679</td>\n",
       "      <td>57.271730</td>\n",
       "    </tr>\n",
       "    <tr>\n",
       "      <th>specifity</th>\n",
       "      <td>0.864832</td>\n",
       "      <td>0.063540</td>\n",
       "    </tr>\n",
       "    <tr>\n",
       "      <th>total_sleep_duration</th>\n",
       "      <td>983.285714</td>\n",
       "      <td>152.957389</td>\n",
       "    </tr>\n",
       "    <tr>\n",
       "      <th>wake_after_sleep_onset</th>\n",
       "      <td>203.955357</td>\n",
       "      <td>150.054244</td>\n",
       "    </tr>\n",
       "    <tr>\n",
       "      <th>wake_onset</th>\n",
       "      <td>1037.897321</td>\n",
       "      <td>149.315248</td>\n",
       "    </tr>\n",
       "  </tbody>\n",
       "</table>\n",
       "</div>"
      ],
      "text/plain": [
       "                               data            \n",
       "                               mean         std\n",
       "metric                                         \n",
       "accuracy                   0.614417    0.102007\n",
       "bed_interval_end        1049.620536  148.279048\n",
       "bed_interval_start        67.334821   70.022350\n",
       "f1                         0.556959    0.107765\n",
       "getup_latency              8.718750   32.428969\n",
       "kappa                      0.409022    0.132556\n",
       "mcc                        0.443812    0.128378\n",
       "net_sleep_duration       710.750000  190.654925\n",
       "precision                  0.577403    0.102876\n",
       "recall                     0.614417    0.102007\n",
       "sleep_efficiency          72.576920   16.824919\n",
       "sleep_onset              107.562500   84.886395\n",
       "sleep_onset_latency       40.227679   57.271730\n",
       "specifity                  0.864832    0.063540\n",
       "total_sleep_duration     983.285714  152.957389\n",
       "wake_after_sleep_onset   203.955357  150.054244\n",
       "wake_onset              1037.897321  149.315248"
      ]
     },
     "execution_count": 24,
     "metadata": {},
     "output_type": "execute_result"
    }
   ],
   "source": [
    "results.groupby(\"metric\").agg([\"mean\", \"std\"])"
   ]
  },
  {
   "cell_type": "code",
   "execution_count": 25,
   "metadata": {},
   "outputs": [
    {
     "data": {
      "text/html": [
       "<div>\n",
       "<style scoped>\n",
       "    .dataframe tbody tr th:only-of-type {\n",
       "        vertical-align: middle;\n",
       "    }\n",
       "\n",
       "    .dataframe tbody tr th {\n",
       "        vertical-align: top;\n",
       "    }\n",
       "\n",
       "    .dataframe thead th {\n",
       "        text-align: right;\n",
       "    }\n",
       "</style>\n",
       "<table border=\"1\" class=\"dataframe\">\n",
       "  <thead>\n",
       "    <tr style=\"text-align: right;\">\n",
       "      <th></th>\n",
       "      <th>wake</th>\n",
       "      <th>n1</th>\n",
       "      <th>n2</th>\n",
       "      <th>n3</th>\n",
       "      <th>rem</th>\n",
       "    </tr>\n",
       "  </thead>\n",
       "  <tbody>\n",
       "    <tr>\n",
       "      <th>wake</th>\n",
       "      <td>60728.0</td>\n",
       "      <td>169.0</td>\n",
       "      <td>16072.0</td>\n",
       "      <td>10.0</td>\n",
       "      <td>3880.0</td>\n",
       "    </tr>\n",
       "    <tr>\n",
       "      <th>n1</th>\n",
       "      <td>7728.0</td>\n",
       "      <td>224.0</td>\n",
       "      <td>12135.0</td>\n",
       "      <td>9.0</td>\n",
       "      <td>3006.0</td>\n",
       "    </tr>\n",
       "    <tr>\n",
       "      <th>n2</th>\n",
       "      <td>10632.0</td>\n",
       "      <td>165.0</td>\n",
       "      <td>76086.0</td>\n",
       "      <td>22.0</td>\n",
       "      <td>6178.0</td>\n",
       "    </tr>\n",
       "    <tr>\n",
       "      <th>n3</th>\n",
       "      <td>526.0</td>\n",
       "      <td>5.0</td>\n",
       "      <td>15940.0</td>\n",
       "      <td>8.0</td>\n",
       "      <td>605.0</td>\n",
       "    </tr>\n",
       "    <tr>\n",
       "      <th>rem</th>\n",
       "      <td>3526.0</td>\n",
       "      <td>74.0</td>\n",
       "      <td>13887.0</td>\n",
       "      <td>1.0</td>\n",
       "      <td>14332.0</td>\n",
       "    </tr>\n",
       "  </tbody>\n",
       "</table>\n",
       "</div>"
      ],
      "text/plain": [
       "         wake     n1       n2    n3      rem\n",
       "wake  60728.0  169.0  16072.0  10.0   3880.0\n",
       "n1     7728.0  224.0  12135.0   9.0   3006.0\n",
       "n2    10632.0  165.0  76086.0  22.0   6178.0\n",
       "n3      526.0    5.0  15940.0   8.0    605.0\n",
       "rem    3526.0   74.0  13887.0   1.0  14332.0"
      ]
     },
     "execution_count": 25,
     "metadata": {},
     "output_type": "execute_result"
    }
   ],
   "source": [
    "confusion_matrix_acc_hrv_rrv = pd.read_csv(path.joinpath(\"confusion_matrix_\" + algorithm +\"_benchmark_\" + mod + \"_\" + stage + \".csv\"), index_col = \"Unnamed: 0\")\n",
    "confusion_matrix_acc_hrv_rrv"
   ]
  },
  {
   "cell_type": "code",
   "execution_count": 26,
   "metadata": {},
   "outputs": [
    {
     "data": {
      "text/plain": [
       "param_hidden_layer_sizes      (100,)\n",
       "param_activation                relu\n",
       "param_solver                    adam\n",
       "param_alpha                     0.05\n",
       "param_learning_rate         adaptive\n",
       "Name: 0, dtype: object"
      ]
     },
     "execution_count": 26,
     "metadata": {},
     "output_type": "execute_result"
    }
   ],
   "source": [
    "get_best_params(param_list, mod=mod, stage=stage, optimization_metric=\"mcc\")"
   ]
  },
  {
   "cell_type": "markdown",
   "metadata": {
    "tags": []
   },
   "source": [
    "# 5 Stage\n",
    "# ACC + HRV + EDR"
   ]
  },
  {
   "cell_type": "code",
   "execution_count": 27,
   "metadata": {},
   "outputs": [],
   "source": [
    "stage = \"5stage\"\n",
    "mod = \"acc_hrv_EDR\""
   ]
  },
  {
   "cell_type": "code",
   "execution_count": 28,
   "metadata": {},
   "outputs": [],
   "source": [
    "full_results = pd.read_csv(path.joinpath(algorithm +\"_benchmark_\" + mod + \"_\" + stage + \".csv\"), index_col=\"metric\")\n",
    "full_results.columns.name = \"subject\"\n",
    "results = full_results.drop(index=\"confusion_matrix\")"
   ]
  },
  {
   "cell_type": "code",
   "execution_count": 29,
   "metadata": {},
   "outputs": [],
   "source": [
    "results = pd.DataFrame(results.stack(\"subject\"), columns=[\"data\"]).astype(\"float\")"
   ]
  },
  {
   "cell_type": "code",
   "execution_count": 30,
   "metadata": {},
   "outputs": [
    {
     "data": {
      "text/html": [
       "<div>\n",
       "<style scoped>\n",
       "    .dataframe tbody tr th:only-of-type {\n",
       "        vertical-align: middle;\n",
       "    }\n",
       "\n",
       "    .dataframe tbody tr th {\n",
       "        vertical-align: top;\n",
       "    }\n",
       "\n",
       "    .dataframe thead tr th {\n",
       "        text-align: left;\n",
       "    }\n",
       "\n",
       "    .dataframe thead tr:last-of-type th {\n",
       "        text-align: right;\n",
       "    }\n",
       "</style>\n",
       "<table border=\"1\" class=\"dataframe\">\n",
       "  <thead>\n",
       "    <tr>\n",
       "      <th></th>\n",
       "      <th colspan=\"2\" halign=\"left\">data</th>\n",
       "    </tr>\n",
       "    <tr>\n",
       "      <th></th>\n",
       "      <th>mean</th>\n",
       "      <th>std</th>\n",
       "    </tr>\n",
       "    <tr>\n",
       "      <th>metric</th>\n",
       "      <th></th>\n",
       "      <th></th>\n",
       "    </tr>\n",
       "  </thead>\n",
       "  <tbody>\n",
       "    <tr>\n",
       "      <th>accuracy</th>\n",
       "      <td>0.573834</td>\n",
       "      <td>0.100719</td>\n",
       "    </tr>\n",
       "    <tr>\n",
       "      <th>bed_interval_end</th>\n",
       "      <td>1049.620536</td>\n",
       "      <td>148.279048</td>\n",
       "    </tr>\n",
       "    <tr>\n",
       "      <th>bed_interval_start</th>\n",
       "      <td>67.334821</td>\n",
       "      <td>70.022350</td>\n",
       "    </tr>\n",
       "    <tr>\n",
       "      <th>f1</th>\n",
       "      <td>0.510852</td>\n",
       "      <td>0.105865</td>\n",
       "    </tr>\n",
       "    <tr>\n",
       "      <th>getup_latency</th>\n",
       "      <td>7.718750</td>\n",
       "      <td>21.579271</td>\n",
       "    </tr>\n",
       "    <tr>\n",
       "      <th>kappa</th>\n",
       "      <td>0.337467</td>\n",
       "      <td>0.126803</td>\n",
       "    </tr>\n",
       "    <tr>\n",
       "      <th>mcc</th>\n",
       "      <td>0.376010</td>\n",
       "      <td>0.125278</td>\n",
       "    </tr>\n",
       "    <tr>\n",
       "      <th>net_sleep_duration</th>\n",
       "      <td>714.772321</td>\n",
       "      <td>195.145150</td>\n",
       "    </tr>\n",
       "    <tr>\n",
       "      <th>precision</th>\n",
       "      <td>0.552990</td>\n",
       "      <td>0.105851</td>\n",
       "    </tr>\n",
       "    <tr>\n",
       "      <th>recall</th>\n",
       "      <td>0.573834</td>\n",
       "      <td>0.100719</td>\n",
       "    </tr>\n",
       "    <tr>\n",
       "      <th>sleep_efficiency</th>\n",
       "      <td>72.875618</td>\n",
       "      <td>16.798606</td>\n",
       "    </tr>\n",
       "    <tr>\n",
       "      <th>sleep_onset</th>\n",
       "      <td>108.049107</td>\n",
       "      <td>88.397301</td>\n",
       "    </tr>\n",
       "    <tr>\n",
       "      <th>sleep_onset_latency</th>\n",
       "      <td>40.714286</td>\n",
       "      <td>61.351582</td>\n",
       "    </tr>\n",
       "    <tr>\n",
       "      <th>specifity</th>\n",
       "      <td>0.845810</td>\n",
       "      <td>0.061407</td>\n",
       "    </tr>\n",
       "    <tr>\n",
       "      <th>total_sleep_duration</th>\n",
       "      <td>983.285714</td>\n",
       "      <td>152.957389</td>\n",
       "    </tr>\n",
       "    <tr>\n",
       "      <th>wake_after_sleep_onset</th>\n",
       "      <td>202.419643</td>\n",
       "      <td>154.397143</td>\n",
       "    </tr>\n",
       "    <tr>\n",
       "      <th>wake_onset</th>\n",
       "      <td>1041.901786</td>\n",
       "      <td>148.320581</td>\n",
       "    </tr>\n",
       "  </tbody>\n",
       "</table>\n",
       "</div>"
      ],
      "text/plain": [
       "                               data            \n",
       "                               mean         std\n",
       "metric                                         \n",
       "accuracy                   0.573834    0.100719\n",
       "bed_interval_end        1049.620536  148.279048\n",
       "bed_interval_start        67.334821   70.022350\n",
       "f1                         0.510852    0.105865\n",
       "getup_latency              7.718750   21.579271\n",
       "kappa                      0.337467    0.126803\n",
       "mcc                        0.376010    0.125278\n",
       "net_sleep_duration       714.772321  195.145150\n",
       "precision                  0.552990    0.105851\n",
       "recall                     0.573834    0.100719\n",
       "sleep_efficiency          72.875618   16.798606\n",
       "sleep_onset              108.049107   88.397301\n",
       "sleep_onset_latency       40.714286   61.351582\n",
       "specifity                  0.845810    0.061407\n",
       "total_sleep_duration     983.285714  152.957389\n",
       "wake_after_sleep_onset   202.419643  154.397143\n",
       "wake_onset              1041.901786  148.320581"
      ]
     },
     "execution_count": 30,
     "metadata": {},
     "output_type": "execute_result"
    }
   ],
   "source": [
    "results.groupby(\"metric\").agg([\"mean\", \"std\"])"
   ]
  },
  {
   "cell_type": "code",
   "execution_count": 31,
   "metadata": {},
   "outputs": [
    {
     "data": {
      "text/html": [
       "<div>\n",
       "<style scoped>\n",
       "    .dataframe tbody tr th:only-of-type {\n",
       "        vertical-align: middle;\n",
       "    }\n",
       "\n",
       "    .dataframe tbody tr th {\n",
       "        vertical-align: top;\n",
       "    }\n",
       "\n",
       "    .dataframe thead th {\n",
       "        text-align: right;\n",
       "    }\n",
       "</style>\n",
       "<table border=\"1\" class=\"dataframe\">\n",
       "  <thead>\n",
       "    <tr style=\"text-align: right;\">\n",
       "      <th></th>\n",
       "      <th>wake</th>\n",
       "      <th>n1</th>\n",
       "      <th>n2</th>\n",
       "      <th>n3</th>\n",
       "      <th>rem</th>\n",
       "    </tr>\n",
       "  </thead>\n",
       "  <tbody>\n",
       "    <tr>\n",
       "      <th>wake</th>\n",
       "      <td>58272.0</td>\n",
       "      <td>321.0</td>\n",
       "      <td>20351.0</td>\n",
       "      <td>55.0</td>\n",
       "      <td>1860.0</td>\n",
       "    </tr>\n",
       "    <tr>\n",
       "      <th>n1</th>\n",
       "      <td>6946.0</td>\n",
       "      <td>338.0</td>\n",
       "      <td>14010.0</td>\n",
       "      <td>22.0</td>\n",
       "      <td>1786.0</td>\n",
       "    </tr>\n",
       "    <tr>\n",
       "      <th>n2</th>\n",
       "      <td>11951.0</td>\n",
       "      <td>314.0</td>\n",
       "      <td>76169.0</td>\n",
       "      <td>405.0</td>\n",
       "      <td>4244.0</td>\n",
       "    </tr>\n",
       "    <tr>\n",
       "      <th>n3</th>\n",
       "      <td>1011.0</td>\n",
       "      <td>13.0</td>\n",
       "      <td>15020.0</td>\n",
       "      <td>227.0</td>\n",
       "      <td>813.0</td>\n",
       "    </tr>\n",
       "    <tr>\n",
       "      <th>rem</th>\n",
       "      <td>3764.0</td>\n",
       "      <td>180.0</td>\n",
       "      <td>21192.0</td>\n",
       "      <td>114.0</td>\n",
       "      <td>6570.0</td>\n",
       "    </tr>\n",
       "  </tbody>\n",
       "</table>\n",
       "</div>"
      ],
      "text/plain": [
       "         wake     n1       n2     n3     rem\n",
       "wake  58272.0  321.0  20351.0   55.0  1860.0\n",
       "n1     6946.0  338.0  14010.0   22.0  1786.0\n",
       "n2    11951.0  314.0  76169.0  405.0  4244.0\n",
       "n3     1011.0   13.0  15020.0  227.0   813.0\n",
       "rem    3764.0  180.0  21192.0  114.0  6570.0"
      ]
     },
     "execution_count": 31,
     "metadata": {},
     "output_type": "execute_result"
    }
   ],
   "source": [
    "confusion_matrix_acc_hrv_edr = pd.read_csv(path.joinpath(\"confusion_matrix_\" + algorithm +\"_benchmark_\" + mod + \"_\" + stage + \".csv\"), index_col = \"Unnamed: 0\")\n",
    "confusion_matrix_acc_hrv_edr"
   ]
  },
  {
   "cell_type": "code",
   "execution_count": 32,
   "metadata": {},
   "outputs": [
    {
     "data": {
      "text/plain": [
       "param_hidden_layer_sizes      (100,)\n",
       "param_activation                relu\n",
       "param_solver                    adam\n",
       "param_alpha                   0.0001\n",
       "param_learning_rate         constant\n",
       "Name: 0, dtype: object"
      ]
     },
     "execution_count": 32,
     "metadata": {},
     "output_type": "execute_result"
    }
   ],
   "source": [
    "get_best_params(param_list, mod=mod, stage=stage, optimization_metric=\"mcc\")"
   ]
  },
  {
   "cell_type": "code",
   "execution_count": 33,
   "metadata": {},
   "outputs": [
    {
     "name": "stderr",
     "output_type": "stream",
     "text": [
      "/var/folders/kr/z18bsf7n4xsf9cd__hgnn7lh0000gn/T/ipykernel_93102/1399343355.py:2: FutureWarning: Support for multi-dimensional indexing (e.g. `obj[:, None]`) is deprecated and will be removed in a future version.  Convert to a numpy array before indexing instead.\n",
      "  x = confusion_matrix.sum(axis=1)[:, np.newaxis]\n",
      "/var/folders/kr/z18bsf7n4xsf9cd__hgnn7lh0000gn/T/ipykernel_93102/1399343355.py:2: FutureWarning: Support for multi-dimensional indexing (e.g. `obj[:, None]`) is deprecated and will be removed in a future version.  Convert to a numpy array before indexing instead.\n",
      "  x = confusion_matrix.sum(axis=1)[:, np.newaxis]\n",
      "/var/folders/kr/z18bsf7n4xsf9cd__hgnn7lh0000gn/T/ipykernel_93102/1399343355.py:2: FutureWarning: Support for multi-dimensional indexing (e.g. `obj[:, None]`) is deprecated and will be removed in a future version.  Convert to a numpy array before indexing instead.\n",
      "  x = confusion_matrix.sum(axis=1)[:, np.newaxis]\n",
      "/var/folders/kr/z18bsf7n4xsf9cd__hgnn7lh0000gn/T/ipykernel_93102/1399343355.py:2: FutureWarning: Support for multi-dimensional indexing (e.g. `obj[:, None]`) is deprecated and will be removed in a future version.  Convert to a numpy array before indexing instead.\n",
      "  x = confusion_matrix.sum(axis=1)[:, np.newaxis]\n"
     ]
    },
    {
     "data": {
      "text/plain": [
       "Text(0.5, 1.0, 'ACT + HRV + EDR')"
      ]
     },
     "execution_count": 33,
     "metadata": {},
     "output_type": "execute_result"
    },
    {
     "data": {
      "application/vnd.jupyter.widget-view+json": {
       "model_id": "68677bb22cfb41abbe80c4d9147977fe",
       "version_major": 2,
       "version_minor": 0
      },
      "image/png": "[encoded data removed]",
      "text/html": [
       "\n",
       "            <div style=\"display: inline-block;\">\n",
       "                <div class=\"jupyter-widgets widget-label\" style=\"text-align: center;\">\n",
       "                    Figure\n",
       "                </div>\n",
       "                <img src='data:image/png;base64,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' width=1500.0/>\n",
       "            </div>\n",
       "        "
      ],
      "text/plain": [
       "Canvas(toolbar=Toolbar(toolitems=[('Home', 'Reset original view', 'home', 'home'), ('Back', 'Back to previous …"
      ]
     },
     "metadata": {},
     "output_type": "display_data"
    }
   ],
   "source": [
    "fig, axs = plt.subplots(ncols=4, figsize = (15,4))\n",
    "sns.heatmap(conf_matrix(confusion_matrix_acc), fmt='g',annot=True, ax=axs[0], cmap=\"Greens\")\n",
    "sns.heatmap(conf_matrix(confusion_matrix_acc_hrv), fmt='g',annot=True, ax=axs[1], cmap=\"Greens\")\n",
    "sns.heatmap(conf_matrix(confusion_matrix_acc_hrv_rrv), fmt='g',annot=True, ax=axs[2], cmap=\"Greens\")\n",
    "sns.heatmap(conf_matrix(confusion_matrix_acc_hrv_edr), fmt='g',annot=True, ax=axs[3], cmap=\"Greens\")\n",
    "axs[0].set_title(\"ACT\")\n",
    "axs[1].set_title(\"ACT + HRV\")\n",
    "axs[2].set_title(\"ACT + HRV + RRV\")\n",
    "axs[3].set_title(\"ACT + HRV + EDR\")"
   ]
  },
  {
   "cell_type": "markdown",
   "metadata": {
    "tags": []
   },
   "source": [
    "# 3 Stage\n",
    "# Acc"
   ]
  },
  {
   "cell_type": "code",
   "execution_count": 34,
   "metadata": {},
   "outputs": [],
   "source": [
    "stage = \"3stage\"\n",
    "mod = \"acc\""
   ]
  },
  {
   "cell_type": "code",
   "execution_count": 35,
   "metadata": {},
   "outputs": [],
   "source": [
    "full_results = pd.read_csv(path.joinpath(algorithm +\"_benchmark_\" + mod + \"_\" + stage + \".csv\"), index_col=\"metric\")\n",
    "full_results.columns.name = \"subject\"\n",
    "results = full_results.drop(index=\"confusion_matrix\")"
   ]
  },
  {
   "cell_type": "code",
   "execution_count": 36,
   "metadata": {},
   "outputs": [],
   "source": [
    "results = pd.DataFrame(results.stack(\"subject\"), columns=[\"data\"]).astype(\"float\")"
   ]
  },
  {
   "cell_type": "code",
   "execution_count": 37,
   "metadata": {},
   "outputs": [
    {
     "data": {
      "text/html": [
       "<div>\n",
       "<style scoped>\n",
       "    .dataframe tbody tr th:only-of-type {\n",
       "        vertical-align: middle;\n",
       "    }\n",
       "\n",
       "    .dataframe tbody tr th {\n",
       "        vertical-align: top;\n",
       "    }\n",
       "\n",
       "    .dataframe thead tr th {\n",
       "        text-align: left;\n",
       "    }\n",
       "\n",
       "    .dataframe thead tr:last-of-type th {\n",
       "        text-align: right;\n",
       "    }\n",
       "</style>\n",
       "<table border=\"1\" class=\"dataframe\">\n",
       "  <thead>\n",
       "    <tr>\n",
       "      <th></th>\n",
       "      <th colspan=\"2\" halign=\"left\">data</th>\n",
       "    </tr>\n",
       "    <tr>\n",
       "      <th></th>\n",
       "      <th>mean</th>\n",
       "      <th>std</th>\n",
       "    </tr>\n",
       "    <tr>\n",
       "      <th>metric</th>\n",
       "      <th></th>\n",
       "      <th></th>\n",
       "    </tr>\n",
       "  </thead>\n",
       "  <tbody>\n",
       "    <tr>\n",
       "      <th>accuracy</th>\n",
       "      <td>0.685649</td>\n",
       "      <td>0.092883</td>\n",
       "    </tr>\n",
       "    <tr>\n",
       "      <th>bed_interval_end</th>\n",
       "      <td>1049.620536</td>\n",
       "      <td>148.279048</td>\n",
       "    </tr>\n",
       "    <tr>\n",
       "      <th>bed_interval_start</th>\n",
       "      <td>67.334821</td>\n",
       "      <td>70.022350</td>\n",
       "    </tr>\n",
       "    <tr>\n",
       "      <th>f1</th>\n",
       "      <td>0.630050</td>\n",
       "      <td>0.096874</td>\n",
       "    </tr>\n",
       "    <tr>\n",
       "      <th>getup_latency</th>\n",
       "      <td>6.205357</td>\n",
       "      <td>23.963776</td>\n",
       "    </tr>\n",
       "    <tr>\n",
       "      <th>kappa</th>\n",
       "      <td>0.365547</td>\n",
       "      <td>0.167875</td>\n",
       "    </tr>\n",
       "    <tr>\n",
       "      <th>mcc</th>\n",
       "      <td>0.415696</td>\n",
       "      <td>0.167775</td>\n",
       "    </tr>\n",
       "    <tr>\n",
       "      <th>net_sleep_duration</th>\n",
       "      <td>793.870536</td>\n",
       "      <td>177.182322</td>\n",
       "    </tr>\n",
       "    <tr>\n",
       "      <th>precision</th>\n",
       "      <td>0.628952</td>\n",
       "      <td>0.088298</td>\n",
       "    </tr>\n",
       "    <tr>\n",
       "      <th>recall</th>\n",
       "      <td>0.685649</td>\n",
       "      <td>0.092883</td>\n",
       "    </tr>\n",
       "    <tr>\n",
       "      <th>sleep_efficiency</th>\n",
       "      <td>80.916547</td>\n",
       "      <td>13.886230</td>\n",
       "    </tr>\n",
       "    <tr>\n",
       "      <th>sleep_onset</th>\n",
       "      <td>105.812500</td>\n",
       "      <td>83.695747</td>\n",
       "    </tr>\n",
       "    <tr>\n",
       "      <th>sleep_onset_latency</th>\n",
       "      <td>38.477679</td>\n",
       "      <td>55.418825</td>\n",
       "    </tr>\n",
       "    <tr>\n",
       "      <th>specifity</th>\n",
       "      <td>0.807762</td>\n",
       "      <td>0.112434</td>\n",
       "    </tr>\n",
       "    <tr>\n",
       "      <th>total_sleep_duration</th>\n",
       "      <td>983.285714</td>\n",
       "      <td>152.957389</td>\n",
       "    </tr>\n",
       "    <tr>\n",
       "      <th>wake_after_sleep_onset</th>\n",
       "      <td>129.303571</td>\n",
       "      <td>122.809878</td>\n",
       "    </tr>\n",
       "    <tr>\n",
       "      <th>wake_onset</th>\n",
       "      <td>1040.084821</td>\n",
       "      <td>148.745929</td>\n",
       "    </tr>\n",
       "  </tbody>\n",
       "</table>\n",
       "</div>"
      ],
      "text/plain": [
       "                               data            \n",
       "                               mean         std\n",
       "metric                                         \n",
       "accuracy                   0.685649    0.092883\n",
       "bed_interval_end        1049.620536  148.279048\n",
       "bed_interval_start        67.334821   70.022350\n",
       "f1                         0.630050    0.096874\n",
       "getup_latency              6.205357   23.963776\n",
       "kappa                      0.365547    0.167875\n",
       "mcc                        0.415696    0.167775\n",
       "net_sleep_duration       793.870536  177.182322\n",
       "precision                  0.628952    0.088298\n",
       "recall                     0.685649    0.092883\n",
       "sleep_efficiency          80.916547   13.886230\n",
       "sleep_onset              105.812500   83.695747\n",
       "sleep_onset_latency       38.477679   55.418825\n",
       "specifity                  0.807762    0.112434\n",
       "total_sleep_duration     983.285714  152.957389\n",
       "wake_after_sleep_onset   129.303571  122.809878\n",
       "wake_onset              1040.084821  148.745929"
      ]
     },
     "execution_count": 37,
     "metadata": {},
     "output_type": "execute_result"
    }
   ],
   "source": [
    "results.groupby(\"metric\").agg([\"mean\", \"std\"])"
   ]
  },
  {
   "cell_type": "code",
   "execution_count": 38,
   "metadata": {},
   "outputs": [
    {
     "data": {
      "text/html": [
       "<div>\n",
       "<style scoped>\n",
       "    .dataframe tbody tr th:only-of-type {\n",
       "        vertical-align: middle;\n",
       "    }\n",
       "\n",
       "    .dataframe tbody tr th {\n",
       "        vertical-align: top;\n",
       "    }\n",
       "\n",
       "    .dataframe thead th {\n",
       "        text-align: right;\n",
       "    }\n",
       "</style>\n",
       "<table border=\"1\" class=\"dataframe\">\n",
       "  <thead>\n",
       "    <tr style=\"text-align: right;\">\n",
       "      <th></th>\n",
       "      <th>wake</th>\n",
       "      <th>nrem</th>\n",
       "      <th>rem</th>\n",
       "    </tr>\n",
       "  </thead>\n",
       "  <tbody>\n",
       "    <tr>\n",
       "      <th>wake</th>\n",
       "      <td>48519.0</td>\n",
       "      <td>32333.0</td>\n",
       "      <td>7.0</td>\n",
       "    </tr>\n",
       "    <tr>\n",
       "      <th>nrem</th>\n",
       "      <td>12857.0</td>\n",
       "      <td>120412.0</td>\n",
       "      <td>0.0</td>\n",
       "    </tr>\n",
       "    <tr>\n",
       "      <th>rem</th>\n",
       "      <td>1272.0</td>\n",
       "      <td>30548.0</td>\n",
       "      <td>0.0</td>\n",
       "    </tr>\n",
       "  </tbody>\n",
       "</table>\n",
       "</div>"
      ],
      "text/plain": [
       "         wake      nrem  rem\n",
       "wake  48519.0   32333.0  7.0\n",
       "nrem  12857.0  120412.0  0.0\n",
       "rem    1272.0   30548.0  0.0"
      ]
     },
     "execution_count": 38,
     "metadata": {},
     "output_type": "execute_result"
    }
   ],
   "source": [
    "confusion_matrix_acc = pd.read_csv(path.joinpath(\"confusion_matrix_\" + algorithm +\"_benchmark_\" + mod + \"_\" + stage + \".csv\"), index_col = \"Unnamed: 0\")\n",
    "confusion_matrix_acc"
   ]
  },
  {
   "cell_type": "code",
   "execution_count": 39,
   "metadata": {},
   "outputs": [
    {
     "data": {
      "text/plain": [
       "param_hidden_layer_sizes      (100,)\n",
       "param_activation                relu\n",
       "param_solver                    adam\n",
       "param_alpha                   0.0001\n",
       "param_learning_rate         adaptive\n",
       "Name: 0, dtype: object"
      ]
     },
     "execution_count": 39,
     "metadata": {},
     "output_type": "execute_result"
    }
   ],
   "source": [
    "get_best_params(param_list, mod=mod, stage=stage, optimization_metric=\"mcc\")"
   ]
  },
  {
   "cell_type": "markdown",
   "metadata": {
    "tags": []
   },
   "source": [
    "# 3 Stage\n",
    "# Acc + HRV"
   ]
  },
  {
   "cell_type": "code",
   "execution_count": 40,
   "metadata": {},
   "outputs": [],
   "source": [
    "stage = \"3stage\"\n",
    "mod = \"acc_hrv\""
   ]
  },
  {
   "cell_type": "code",
   "execution_count": 41,
   "metadata": {},
   "outputs": [],
   "source": [
    "full_results = pd.read_csv(path.joinpath(algorithm +\"_benchmark_\" + mod + \"_\" + stage + \".csv\"), index_col=\"metric\")\n",
    "full_results.columns.name = \"subject\"\n",
    "results = full_results.drop(index=\"confusion_matrix\")"
   ]
  },
  {
   "cell_type": "code",
   "execution_count": 42,
   "metadata": {},
   "outputs": [],
   "source": [
    "results = pd.DataFrame(results.stack(\"subject\"), columns=[\"data\"]).astype(\"float\")"
   ]
  },
  {
   "cell_type": "code",
   "execution_count": 43,
   "metadata": {},
   "outputs": [
    {
     "data": {
      "text/html": [
       "<div>\n",
       "<style scoped>\n",
       "    .dataframe tbody tr th:only-of-type {\n",
       "        vertical-align: middle;\n",
       "    }\n",
       "\n",
       "    .dataframe tbody tr th {\n",
       "        vertical-align: top;\n",
       "    }\n",
       "\n",
       "    .dataframe thead tr th {\n",
       "        text-align: left;\n",
       "    }\n",
       "\n",
       "    .dataframe thead tr:last-of-type th {\n",
       "        text-align: right;\n",
       "    }\n",
       "</style>\n",
       "<table border=\"1\" class=\"dataframe\">\n",
       "  <thead>\n",
       "    <tr>\n",
       "      <th></th>\n",
       "      <th colspan=\"2\" halign=\"left\">data</th>\n",
       "    </tr>\n",
       "    <tr>\n",
       "      <th></th>\n",
       "      <th>mean</th>\n",
       "      <th>std</th>\n",
       "    </tr>\n",
       "    <tr>\n",
       "      <th>metric</th>\n",
       "      <th></th>\n",
       "      <th></th>\n",
       "    </tr>\n",
       "  </thead>\n",
       "  <tbody>\n",
       "    <tr>\n",
       "      <th>accuracy</th>\n",
       "      <td>0.696422</td>\n",
       "      <td>0.089942</td>\n",
       "    </tr>\n",
       "    <tr>\n",
       "      <th>bed_interval_end</th>\n",
       "      <td>1049.620536</td>\n",
       "      <td>148.279048</td>\n",
       "    </tr>\n",
       "    <tr>\n",
       "      <th>bed_interval_start</th>\n",
       "      <td>67.334821</td>\n",
       "      <td>70.022350</td>\n",
       "    </tr>\n",
       "    <tr>\n",
       "      <th>f1</th>\n",
       "      <td>0.647083</td>\n",
       "      <td>0.094848</td>\n",
       "    </tr>\n",
       "    <tr>\n",
       "      <th>getup_latency</th>\n",
       "      <td>5.343750</td>\n",
       "      <td>21.558402</td>\n",
       "    </tr>\n",
       "    <tr>\n",
       "      <th>kappa</th>\n",
       "      <td>0.399273</td>\n",
       "      <td>0.155340</td>\n",
       "    </tr>\n",
       "    <tr>\n",
       "      <th>mcc</th>\n",
       "      <td>0.443041</td>\n",
       "      <td>0.149725</td>\n",
       "    </tr>\n",
       "    <tr>\n",
       "      <th>net_sleep_duration</th>\n",
       "      <td>772.218750</td>\n",
       "      <td>175.436730</td>\n",
       "    </tr>\n",
       "    <tr>\n",
       "      <th>precision</th>\n",
       "      <td>0.688197</td>\n",
       "      <td>0.090021</td>\n",
       "    </tr>\n",
       "    <tr>\n",
       "      <th>recall</th>\n",
       "      <td>0.696422</td>\n",
       "      <td>0.089942</td>\n",
       "    </tr>\n",
       "    <tr>\n",
       "      <th>sleep_efficiency</th>\n",
       "      <td>78.724454</td>\n",
       "      <td>14.001532</td>\n",
       "    </tr>\n",
       "    <tr>\n",
       "      <th>sleep_onset</th>\n",
       "      <td>101.169643</td>\n",
       "      <td>79.554070</td>\n",
       "    </tr>\n",
       "    <tr>\n",
       "      <th>sleep_onset_latency</th>\n",
       "      <td>33.834821</td>\n",
       "      <td>46.823727</td>\n",
       "    </tr>\n",
       "    <tr>\n",
       "      <th>specifity</th>\n",
       "      <td>0.812027</td>\n",
       "      <td>0.096684</td>\n",
       "    </tr>\n",
       "    <tr>\n",
       "      <th>total_sleep_duration</th>\n",
       "      <td>983.285714</td>\n",
       "      <td>152.957389</td>\n",
       "    </tr>\n",
       "    <tr>\n",
       "      <th>wake_after_sleep_onset</th>\n",
       "      <td>153.910714</td>\n",
       "      <td>124.416922</td>\n",
       "    </tr>\n",
       "    <tr>\n",
       "      <th>wake_onset</th>\n",
       "      <td>1042.236607</td>\n",
       "      <td>148.144707</td>\n",
       "    </tr>\n",
       "  </tbody>\n",
       "</table>\n",
       "</div>"
      ],
      "text/plain": [
       "                               data            \n",
       "                               mean         std\n",
       "metric                                         \n",
       "accuracy                   0.696422    0.089942\n",
       "bed_interval_end        1049.620536  148.279048\n",
       "bed_interval_start        67.334821   70.022350\n",
       "f1                         0.647083    0.094848\n",
       "getup_latency              5.343750   21.558402\n",
       "kappa                      0.399273    0.155340\n",
       "mcc                        0.443041    0.149725\n",
       "net_sleep_duration       772.218750  175.436730\n",
       "precision                  0.688197    0.090021\n",
       "recall                     0.696422    0.089942\n",
       "sleep_efficiency          78.724454   14.001532\n",
       "sleep_onset              101.169643   79.554070\n",
       "sleep_onset_latency       33.834821   46.823727\n",
       "specifity                  0.812027    0.096684\n",
       "total_sleep_duration     983.285714  152.957389\n",
       "wake_after_sleep_onset   153.910714  124.416922\n",
       "wake_onset              1042.236607  148.144707"
      ]
     },
     "execution_count": 43,
     "metadata": {},
     "output_type": "execute_result"
    }
   ],
   "source": [
    "results.groupby(\"metric\").agg([\"mean\", \"std\"])"
   ]
  },
  {
   "cell_type": "code",
   "execution_count": 44,
   "metadata": {},
   "outputs": [
    {
     "data": {
      "text/html": [
       "<div>\n",
       "<style scoped>\n",
       "    .dataframe tbody tr th:only-of-type {\n",
       "        vertical-align: middle;\n",
       "    }\n",
       "\n",
       "    .dataframe tbody tr th {\n",
       "        vertical-align: top;\n",
       "    }\n",
       "\n",
       "    .dataframe thead th {\n",
       "        text-align: right;\n",
       "    }\n",
       "</style>\n",
       "<table border=\"1\" class=\"dataframe\">\n",
       "  <thead>\n",
       "    <tr style=\"text-align: right;\">\n",
       "      <th></th>\n",
       "      <th>wake</th>\n",
       "      <th>nrem</th>\n",
       "      <th>rem</th>\n",
       "    </tr>\n",
       "  </thead>\n",
       "  <tbody>\n",
       "    <tr>\n",
       "      <th>wake</th>\n",
       "      <td>52039.0</td>\n",
       "      <td>28487.0</td>\n",
       "      <td>333.0</td>\n",
       "    </tr>\n",
       "    <tr>\n",
       "      <th>nrem</th>\n",
       "      <td>13802.0</td>\n",
       "      <td>118815.0</td>\n",
       "      <td>652.0</td>\n",
       "    </tr>\n",
       "    <tr>\n",
       "      <th>rem</th>\n",
       "      <td>1968.0</td>\n",
       "      <td>29115.0</td>\n",
       "      <td>737.0</td>\n",
       "    </tr>\n",
       "  </tbody>\n",
       "</table>\n",
       "</div>"
      ],
      "text/plain": [
       "         wake      nrem    rem\n",
       "wake  52039.0   28487.0  333.0\n",
       "nrem  13802.0  118815.0  652.0\n",
       "rem    1968.0   29115.0  737.0"
      ]
     },
     "execution_count": 44,
     "metadata": {},
     "output_type": "execute_result"
    }
   ],
   "source": [
    "confusion_matrix_acc_hrv = pd.read_csv(path.joinpath(\"confusion_matrix_\" + algorithm +\"_benchmark_\" + mod + \"_\" + stage + \".csv\"), index_col = \"Unnamed: 0\")\n",
    "confusion_matrix_acc_hrv"
   ]
  },
  {
   "cell_type": "code",
   "execution_count": 45,
   "metadata": {},
   "outputs": [
    {
     "data": {
      "text/plain": [
       "param_hidden_layer_sizes      (100,)\n",
       "param_activation                relu\n",
       "param_solver                    adam\n",
       "param_alpha                   0.0001\n",
       "param_learning_rate         constant\n",
       "Name: 0, dtype: object"
      ]
     },
     "execution_count": 45,
     "metadata": {},
     "output_type": "execute_result"
    }
   ],
   "source": [
    "get_best_params(param_list, mod=mod, stage=stage, optimization_metric=\"mcc\")"
   ]
  },
  {
   "cell_type": "markdown",
   "metadata": {
    "tags": []
   },
   "source": [
    "# 3 Stage\n",
    "# Acc + HRV + RRV"
   ]
  },
  {
   "cell_type": "code",
   "execution_count": 46,
   "metadata": {},
   "outputs": [],
   "source": [
    "stage = \"3stage\"\n",
    "mod = \"acc_hrv_RRV\""
   ]
  },
  {
   "cell_type": "code",
   "execution_count": 47,
   "metadata": {},
   "outputs": [],
   "source": [
    "full_results = pd.read_csv(path.joinpath(algorithm +\"_benchmark_\" + mod + \"_\" + stage + \".csv\"), index_col=\"metric\")\n",
    "full_results.columns.name = \"subject\"\n",
    "results = full_results.drop(index=\"confusion_matrix\")"
   ]
  },
  {
   "cell_type": "code",
   "execution_count": 48,
   "metadata": {},
   "outputs": [],
   "source": [
    "results = pd.DataFrame(results.stack(\"subject\"), columns=[\"data\"]).astype(\"float\")"
   ]
  },
  {
   "cell_type": "code",
   "execution_count": 49,
   "metadata": {},
   "outputs": [
    {
     "data": {
      "text/html": [
       "<div>\n",
       "<style scoped>\n",
       "    .dataframe tbody tr th:only-of-type {\n",
       "        vertical-align: middle;\n",
       "    }\n",
       "\n",
       "    .dataframe tbody tr th {\n",
       "        vertical-align: top;\n",
       "    }\n",
       "\n",
       "    .dataframe thead tr th {\n",
       "        text-align: left;\n",
       "    }\n",
       "\n",
       "    .dataframe thead tr:last-of-type th {\n",
       "        text-align: right;\n",
       "    }\n",
       "</style>\n",
       "<table border=\"1\" class=\"dataframe\">\n",
       "  <thead>\n",
       "    <tr>\n",
       "      <th></th>\n",
       "      <th colspan=\"2\" halign=\"left\">data</th>\n",
       "    </tr>\n",
       "    <tr>\n",
       "      <th></th>\n",
       "      <th>mean</th>\n",
       "      <th>std</th>\n",
       "    </tr>\n",
       "    <tr>\n",
       "      <th>metric</th>\n",
       "      <th></th>\n",
       "      <th></th>\n",
       "    </tr>\n",
       "  </thead>\n",
       "  <tbody>\n",
       "    <tr>\n",
       "      <th>accuracy</th>\n",
       "      <td>0.739467</td>\n",
       "      <td>0.091793</td>\n",
       "    </tr>\n",
       "    <tr>\n",
       "      <th>bed_interval_end</th>\n",
       "      <td>1049.620536</td>\n",
       "      <td>148.279048</td>\n",
       "    </tr>\n",
       "    <tr>\n",
       "      <th>bed_interval_start</th>\n",
       "      <td>67.334821</td>\n",
       "      <td>70.022350</td>\n",
       "    </tr>\n",
       "    <tr>\n",
       "      <th>f1</th>\n",
       "      <td>0.724707</td>\n",
       "      <td>0.093957</td>\n",
       "    </tr>\n",
       "    <tr>\n",
       "      <th>getup_latency</th>\n",
       "      <td>5.053571</td>\n",
       "      <td>21.016047</td>\n",
       "    </tr>\n",
       "    <tr>\n",
       "      <th>kappa</th>\n",
       "      <td>0.516505</td>\n",
       "      <td>0.149020</td>\n",
       "    </tr>\n",
       "    <tr>\n",
       "      <th>mcc</th>\n",
       "      <td>0.541585</td>\n",
       "      <td>0.139593</td>\n",
       "    </tr>\n",
       "    <tr>\n",
       "      <th>net_sleep_duration</th>\n",
       "      <td>777.111607</td>\n",
       "      <td>168.010920</td>\n",
       "    </tr>\n",
       "    <tr>\n",
       "      <th>precision</th>\n",
       "      <td>0.765701</td>\n",
       "      <td>0.071055</td>\n",
       "    </tr>\n",
       "    <tr>\n",
       "      <th>recall</th>\n",
       "      <td>0.739467</td>\n",
       "      <td>0.091793</td>\n",
       "    </tr>\n",
       "    <tr>\n",
       "      <th>sleep_efficiency</th>\n",
       "      <td>79.324347</td>\n",
       "      <td>13.464264</td>\n",
       "    </tr>\n",
       "    <tr>\n",
       "      <th>sleep_onset</th>\n",
       "      <td>97.901786</td>\n",
       "      <td>79.800981</td>\n",
       "    </tr>\n",
       "    <tr>\n",
       "      <th>sleep_onset_latency</th>\n",
       "      <td>30.566964</td>\n",
       "      <td>48.951655</td>\n",
       "    </tr>\n",
       "    <tr>\n",
       "      <th>specifity</th>\n",
       "      <td>0.826593</td>\n",
       "      <td>0.084424</td>\n",
       "    </tr>\n",
       "    <tr>\n",
       "      <th>total_sleep_duration</th>\n",
       "      <td>983.285714</td>\n",
       "      <td>152.957389</td>\n",
       "    </tr>\n",
       "    <tr>\n",
       "      <th>wake_after_sleep_onset</th>\n",
       "      <td>152.285714</td>\n",
       "      <td>125.287682</td>\n",
       "    </tr>\n",
       "    <tr>\n",
       "      <th>wake_onset</th>\n",
       "      <td>1043.169643</td>\n",
       "      <td>148.508875</td>\n",
       "    </tr>\n",
       "  </tbody>\n",
       "</table>\n",
       "</div>"
      ],
      "text/plain": [
       "                               data            \n",
       "                               mean         std\n",
       "metric                                         \n",
       "accuracy                   0.739467    0.091793\n",
       "bed_interval_end        1049.620536  148.279048\n",
       "bed_interval_start        67.334821   70.022350\n",
       "f1                         0.724707    0.093957\n",
       "getup_latency              5.053571   21.016047\n",
       "kappa                      0.516505    0.149020\n",
       "mcc                        0.541585    0.139593\n",
       "net_sleep_duration       777.111607  168.010920\n",
       "precision                  0.765701    0.071055\n",
       "recall                     0.739467    0.091793\n",
       "sleep_efficiency          79.324347   13.464264\n",
       "sleep_onset               97.901786   79.800981\n",
       "sleep_onset_latency       30.566964   48.951655\n",
       "specifity                  0.826593    0.084424\n",
       "total_sleep_duration     983.285714  152.957389\n",
       "wake_after_sleep_onset   152.285714  125.287682\n",
       "wake_onset              1043.169643  148.508875"
      ]
     },
     "execution_count": 49,
     "metadata": {},
     "output_type": "execute_result"
    }
   ],
   "source": [
    "results.groupby(\"metric\").agg([\"mean\", \"std\"])"
   ]
  },
  {
   "cell_type": "code",
   "execution_count": 50,
   "metadata": {},
   "outputs": [
    {
     "data": {
      "text/html": [
       "<div>\n",
       "<style scoped>\n",
       "    .dataframe tbody tr th:only-of-type {\n",
       "        vertical-align: middle;\n",
       "    }\n",
       "\n",
       "    .dataframe tbody tr th {\n",
       "        vertical-align: top;\n",
       "    }\n",
       "\n",
       "    .dataframe thead th {\n",
       "        text-align: right;\n",
       "    }\n",
       "</style>\n",
       "<table border=\"1\" class=\"dataframe\">\n",
       "  <thead>\n",
       "    <tr style=\"text-align: right;\">\n",
       "      <th></th>\n",
       "      <th>wake</th>\n",
       "      <th>nrem</th>\n",
       "      <th>rem</th>\n",
       "    </tr>\n",
       "  </thead>\n",
       "  <tbody>\n",
       "    <tr>\n",
       "      <th>wake</th>\n",
       "      <td>54302.0</td>\n",
       "      <td>23800.0</td>\n",
       "      <td>2757.0</td>\n",
       "    </tr>\n",
       "    <tr>\n",
       "      <th>nrem</th>\n",
       "      <td>10876.0</td>\n",
       "      <td>115369.0</td>\n",
       "      <td>7024.0</td>\n",
       "    </tr>\n",
       "    <tr>\n",
       "      <th>rem</th>\n",
       "      <td>1875.0</td>\n",
       "      <td>17534.0</td>\n",
       "      <td>12411.0</td>\n",
       "    </tr>\n",
       "  </tbody>\n",
       "</table>\n",
       "</div>"
      ],
      "text/plain": [
       "         wake      nrem      rem\n",
       "wake  54302.0   23800.0   2757.0\n",
       "nrem  10876.0  115369.0   7024.0\n",
       "rem    1875.0   17534.0  12411.0"
      ]
     },
     "execution_count": 50,
     "metadata": {},
     "output_type": "execute_result"
    }
   ],
   "source": [
    "confusion_matrix_acc_hrv_rrv = pd.read_csv(path.joinpath(\"confusion_matrix_\" + algorithm +\"_benchmark_\" + mod + \"_\" + stage + \".csv\"), index_col = \"Unnamed: 0\")\n",
    "confusion_matrix_acc_hrv_rrv"
   ]
  },
  {
   "cell_type": "code",
   "execution_count": 51,
   "metadata": {},
   "outputs": [
    {
     "data": {
      "text/plain": [
       "param_hidden_layer_sizes      (100,)\n",
       "param_activation                relu\n",
       "param_solver                    adam\n",
       "param_alpha                   0.0001\n",
       "param_learning_rate         constant\n",
       "Name: 0, dtype: object"
      ]
     },
     "execution_count": 51,
     "metadata": {},
     "output_type": "execute_result"
    }
   ],
   "source": [
    "get_best_params(param_list, mod=mod, stage=stage, optimization_metric=\"mcc\")"
   ]
  },
  {
   "cell_type": "markdown",
   "metadata": {
    "tags": []
   },
   "source": [
    "# 3 Stage\n",
    "# Acc + HRV + EDR"
   ]
  },
  {
   "cell_type": "code",
   "execution_count": 52,
   "metadata": {},
   "outputs": [],
   "source": [
    "stage = \"3stage\"\n",
    "mod = \"acc_hrv_EDR\""
   ]
  },
  {
   "cell_type": "code",
   "execution_count": 53,
   "metadata": {},
   "outputs": [],
   "source": [
    "full_results = pd.read_csv(path.joinpath(algorithm +\"_benchmark_\" + mod + \"_\" + stage + \".csv\"), index_col=\"metric\")\n",
    "full_results.columns.name = \"subject\"\n",
    "results = full_results.drop(index=\"confusion_matrix\")"
   ]
  },
  {
   "cell_type": "code",
   "execution_count": 54,
   "metadata": {},
   "outputs": [],
   "source": [
    "results = pd.DataFrame(results.stack(\"subject\"), columns=[\"data\"]).astype(\"float\")"
   ]
  },
  {
   "cell_type": "code",
   "execution_count": 55,
   "metadata": {},
   "outputs": [
    {
     "data": {
      "text/html": [
       "<div>\n",
       "<style scoped>\n",
       "    .dataframe tbody tr th:only-of-type {\n",
       "        vertical-align: middle;\n",
       "    }\n",
       "\n",
       "    .dataframe tbody tr th {\n",
       "        vertical-align: top;\n",
       "    }\n",
       "\n",
       "    .dataframe thead tr th {\n",
       "        text-align: left;\n",
       "    }\n",
       "\n",
       "    .dataframe thead tr:last-of-type th {\n",
       "        text-align: right;\n",
       "    }\n",
       "</style>\n",
       "<table border=\"1\" class=\"dataframe\">\n",
       "  <thead>\n",
       "    <tr>\n",
       "      <th></th>\n",
       "      <th colspan=\"2\" halign=\"left\">data</th>\n",
       "    </tr>\n",
       "    <tr>\n",
       "      <th></th>\n",
       "      <th>mean</th>\n",
       "      <th>std</th>\n",
       "    </tr>\n",
       "    <tr>\n",
       "      <th>metric</th>\n",
       "      <th></th>\n",
       "      <th></th>\n",
       "    </tr>\n",
       "  </thead>\n",
       "  <tbody>\n",
       "    <tr>\n",
       "      <th>accuracy</th>\n",
       "      <td>0.702651</td>\n",
       "      <td>0.091604</td>\n",
       "    </tr>\n",
       "    <tr>\n",
       "      <th>bed_interval_end</th>\n",
       "      <td>1049.620536</td>\n",
       "      <td>148.279048</td>\n",
       "    </tr>\n",
       "    <tr>\n",
       "      <th>bed_interval_start</th>\n",
       "      <td>67.334821</td>\n",
       "      <td>70.022350</td>\n",
       "    </tr>\n",
       "    <tr>\n",
       "      <th>f1</th>\n",
       "      <td>0.660152</td>\n",
       "      <td>0.098217</td>\n",
       "    </tr>\n",
       "    <tr>\n",
       "      <th>getup_latency</th>\n",
       "      <td>6.808036</td>\n",
       "      <td>19.770743</td>\n",
       "    </tr>\n",
       "    <tr>\n",
       "      <th>kappa</th>\n",
       "      <td>0.420158</td>\n",
       "      <td>0.153851</td>\n",
       "    </tr>\n",
       "    <tr>\n",
       "      <th>mcc</th>\n",
       "      <td>0.459784</td>\n",
       "      <td>0.147302</td>\n",
       "    </tr>\n",
       "    <tr>\n",
       "      <th>net_sleep_duration</th>\n",
       "      <td>763.250000</td>\n",
       "      <td>184.369803</td>\n",
       "    </tr>\n",
       "    <tr>\n",
       "      <th>precision</th>\n",
       "      <td>0.699594</td>\n",
       "      <td>0.096060</td>\n",
       "    </tr>\n",
       "    <tr>\n",
       "      <th>recall</th>\n",
       "      <td>0.702651</td>\n",
       "      <td>0.091604</td>\n",
       "    </tr>\n",
       "    <tr>\n",
       "      <th>sleep_efficiency</th>\n",
       "      <td>77.843779</td>\n",
       "      <td>15.077440</td>\n",
       "    </tr>\n",
       "    <tr>\n",
       "      <th>sleep_onset</th>\n",
       "      <td>106.049107</td>\n",
       "      <td>82.829190</td>\n",
       "    </tr>\n",
       "    <tr>\n",
       "      <th>sleep_onset_latency</th>\n",
       "      <td>38.714286</td>\n",
       "      <td>54.692033</td>\n",
       "    </tr>\n",
       "    <tr>\n",
       "      <th>specifity</th>\n",
       "      <td>0.814194</td>\n",
       "      <td>0.093129</td>\n",
       "    </tr>\n",
       "    <tr>\n",
       "      <th>total_sleep_duration</th>\n",
       "      <td>983.285714</td>\n",
       "      <td>152.957389</td>\n",
       "    </tr>\n",
       "    <tr>\n",
       "      <th>wake_after_sleep_onset</th>\n",
       "      <td>160.075893</td>\n",
       "      <td>141.556874</td>\n",
       "    </tr>\n",
       "    <tr>\n",
       "      <th>wake_onset</th>\n",
       "      <td>1042.812500</td>\n",
       "      <td>148.421623</td>\n",
       "    </tr>\n",
       "  </tbody>\n",
       "</table>\n",
       "</div>"
      ],
      "text/plain": [
       "                               data            \n",
       "                               mean         std\n",
       "metric                                         \n",
       "accuracy                   0.702651    0.091604\n",
       "bed_interval_end        1049.620536  148.279048\n",
       "bed_interval_start        67.334821   70.022350\n",
       "f1                         0.660152    0.098217\n",
       "getup_latency              6.808036   19.770743\n",
       "kappa                      0.420158    0.153851\n",
       "mcc                        0.459784    0.147302\n",
       "net_sleep_duration       763.250000  184.369803\n",
       "precision                  0.699594    0.096060\n",
       "recall                     0.702651    0.091604\n",
       "sleep_efficiency          77.843779   15.077440\n",
       "sleep_onset              106.049107   82.829190\n",
       "sleep_onset_latency       38.714286   54.692033\n",
       "specifity                  0.814194    0.093129\n",
       "total_sleep_duration     983.285714  152.957389\n",
       "wake_after_sleep_onset   160.075893  141.556874\n",
       "wake_onset              1042.812500  148.421623"
      ]
     },
     "execution_count": 55,
     "metadata": {},
     "output_type": "execute_result"
    }
   ],
   "source": [
    "results.groupby(\"metric\").agg([\"mean\", \"std\"])"
   ]
  },
  {
   "cell_type": "code",
   "execution_count": 56,
   "metadata": {
    "tags": []
   },
   "outputs": [
    {
     "data": {
      "text/html": [
       "<div>\n",
       "<style scoped>\n",
       "    .dataframe tbody tr th:only-of-type {\n",
       "        vertical-align: middle;\n",
       "    }\n",
       "\n",
       "    .dataframe tbody tr th {\n",
       "        vertical-align: top;\n",
       "    }\n",
       "\n",
       "    .dataframe thead th {\n",
       "        text-align: right;\n",
       "    }\n",
       "</style>\n",
       "<table border=\"1\" class=\"dataframe\">\n",
       "  <thead>\n",
       "    <tr style=\"text-align: right;\">\n",
       "      <th></th>\n",
       "      <th>wake</th>\n",
       "      <th>nrem</th>\n",
       "      <th>rem</th>\n",
       "    </tr>\n",
       "  </thead>\n",
       "  <tbody>\n",
       "    <tr>\n",
       "      <th>wake</th>\n",
       "      <td>53608.0</td>\n",
       "      <td>26715.0</td>\n",
       "      <td>536.0</td>\n",
       "    </tr>\n",
       "    <tr>\n",
       "      <th>nrem</th>\n",
       "      <td>14305.0</td>\n",
       "      <td>117121.0</td>\n",
       "      <td>1843.0</td>\n",
       "    </tr>\n",
       "    <tr>\n",
       "      <th>rem</th>\n",
       "      <td>2324.0</td>\n",
       "      <td>27020.0</td>\n",
       "      <td>2476.0</td>\n",
       "    </tr>\n",
       "  </tbody>\n",
       "</table>\n",
       "</div>"
      ],
      "text/plain": [
       "         wake      nrem     rem\n",
       "wake  53608.0   26715.0   536.0\n",
       "nrem  14305.0  117121.0  1843.0\n",
       "rem    2324.0   27020.0  2476.0"
      ]
     },
     "execution_count": 56,
     "metadata": {},
     "output_type": "execute_result"
    }
   ],
   "source": [
    "confusion_matrix_acc_hrv_edr = pd.read_csv(path.joinpath(\"confusion_matrix_\" + algorithm +\"_benchmark_\" + mod + \"_\" + stage + \".csv\"), index_col = \"Unnamed: 0\")\n",
    "confusion_matrix_acc_hrv_edr"
   ]
  },
  {
   "cell_type": "code",
   "execution_count": 57,
   "metadata": {},
   "outputs": [
    {
     "data": {
      "text/plain": [
       "param_hidden_layer_sizes      (100,)\n",
       "param_activation                relu\n",
       "param_solver                    adam\n",
       "param_alpha                     0.05\n",
       "param_learning_rate         adaptive\n",
       "Name: 0, dtype: object"
      ]
     },
     "execution_count": 57,
     "metadata": {},
     "output_type": "execute_result"
    }
   ],
   "source": [
    "get_best_params(param_list, mod=mod, stage=stage, optimization_metric=\"mcc\")"
   ]
  },
  {
   "cell_type": "code",
   "execution_count": 58,
   "metadata": {},
   "outputs": [
    {
     "name": "stderr",
     "output_type": "stream",
     "text": [
      "/var/folders/kr/z18bsf7n4xsf9cd__hgnn7lh0000gn/T/ipykernel_93102/1399343355.py:2: FutureWarning: Support for multi-dimensional indexing (e.g. `obj[:, None]`) is deprecated and will be removed in a future version.  Convert to a numpy array before indexing instead.\n",
      "  x = confusion_matrix.sum(axis=1)[:, np.newaxis]\n",
      "/var/folders/kr/z18bsf7n4xsf9cd__hgnn7lh0000gn/T/ipykernel_93102/1399343355.py:2: FutureWarning: Support for multi-dimensional indexing (e.g. `obj[:, None]`) is deprecated and will be removed in a future version.  Convert to a numpy array before indexing instead.\n",
      "  x = confusion_matrix.sum(axis=1)[:, np.newaxis]\n",
      "/var/folders/kr/z18bsf7n4xsf9cd__hgnn7lh0000gn/T/ipykernel_93102/1399343355.py:2: FutureWarning: Support for multi-dimensional indexing (e.g. `obj[:, None]`) is deprecated and will be removed in a future version.  Convert to a numpy array before indexing instead.\n",
      "  x = confusion_matrix.sum(axis=1)[:, np.newaxis]\n",
      "/var/folders/kr/z18bsf7n4xsf9cd__hgnn7lh0000gn/T/ipykernel_93102/1399343355.py:2: FutureWarning: Support for multi-dimensional indexing (e.g. `obj[:, None]`) is deprecated and will be removed in a future version.  Convert to a numpy array before indexing instead.\n",
      "  x = confusion_matrix.sum(axis=1)[:, np.newaxis]\n"
     ]
    },
    {
     "data": {
      "text/plain": [
       "Text(0.5, 1.0, 'ACT + HRV + EDR')"
      ]
     },
     "execution_count": 58,
     "metadata": {},
     "output_type": "execute_result"
    },
    {
     "data": {
      "application/vnd.jupyter.widget-view+json": {
       "model_id": "55917fbf47074ce8a18145c6e9fefb29",
       "version_major": 2,
       "version_minor": 0
      },
      "image/png": "[encoded data removed]",
      "text/html": [
       "\n",
       "            <div style=\"display: inline-block;\">\n",
       "                <div class=\"jupyter-widgets widget-label\" style=\"text-align: center;\">\n",
       "                    Figure\n",
       "                </div>\n",
       "                <img src='data:image/png;base64,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' width=2000.0/>\n",
       "            </div>\n",
       "        "
      ],
      "text/plain": [
       "Canvas(toolbar=Toolbar(toolitems=[('Home', 'Reset original view', 'home', 'home'), ('Back', 'Back to previous …"
      ]
     },
     "metadata": {},
     "output_type": "display_data"
    }
   ],
   "source": [
    "fig, axs = plt.subplots(ncols=4, figsize = (20,4))\n",
    "sns.heatmap(conf_matrix(confusion_matrix_acc), fmt='g',annot=True, ax=axs[0], cmap=\"Greens\")\n",
    "sns.heatmap(conf_matrix(confusion_matrix_acc_hrv), fmt='g',annot=True, ax=axs[1], cmap=\"Greens\")\n",
    "sns.heatmap(conf_matrix(confusion_matrix_acc_hrv_rrv), fmt='g',annot=True, ax=axs[2], cmap=\"Greens\")\n",
    "sns.heatmap(conf_matrix(confusion_matrix_acc_hrv_edr), fmt='g',annot=True, ax=axs[3], cmap=\"Greens\")\n",
    "axs[0].set_title(\"ACT\")\n",
    "axs[1].set_title(\"ACT + HRV\")\n",
    "axs[2].set_title(\"ACT + HRV + RRV\")\n",
    "axs[3].set_title(\"ACT + HRV + EDR\")"
   ]
  },
  {
   "cell_type": "markdown",
   "metadata": {
    "tags": []
   },
   "source": [
    "# Binary\n",
    "# Acc only"
   ]
  },
  {
   "cell_type": "code",
   "execution_count": 59,
   "metadata": {},
   "outputs": [],
   "source": [
    "stage = \"binary\"\n",
    "mod = \"acc\""
   ]
  },
  {
   "cell_type": "code",
   "execution_count": 60,
   "metadata": {},
   "outputs": [],
   "source": [
    "full_results = pd.read_csv(path.joinpath(algorithm +\"_benchmark_\" + mod + \"_\" + stage + \".csv\"), index_col=\"metric\")\n",
    "full_results.columns.name = \"subject\"\n",
    "results = full_results.drop(index=\"confusion_matrix\")"
   ]
  },
  {
   "cell_type": "code",
   "execution_count": 61,
   "metadata": {},
   "outputs": [],
   "source": [
    "results = pd.DataFrame(results.stack(\"subject\"), columns=[\"data\"]).astype(\"float\")"
   ]
  },
  {
   "cell_type": "code",
   "execution_count": 62,
   "metadata": {},
   "outputs": [
    {
     "data": {
      "text/html": [
       "<div>\n",
       "<style scoped>\n",
       "    .dataframe tbody tr th:only-of-type {\n",
       "        vertical-align: middle;\n",
       "    }\n",
       "\n",
       "    .dataframe tbody tr th {\n",
       "        vertical-align: top;\n",
       "    }\n",
       "\n",
       "    .dataframe thead tr th {\n",
       "        text-align: left;\n",
       "    }\n",
       "\n",
       "    .dataframe thead tr:last-of-type th {\n",
       "        text-align: right;\n",
       "    }\n",
       "</style>\n",
       "<table border=\"1\" class=\"dataframe\">\n",
       "  <thead>\n",
       "    <tr>\n",
       "      <th></th>\n",
       "      <th colspan=\"2\" halign=\"left\">data</th>\n",
       "    </tr>\n",
       "    <tr>\n",
       "      <th></th>\n",
       "      <th>mean</th>\n",
       "      <th>std</th>\n",
       "    </tr>\n",
       "    <tr>\n",
       "      <th>metric</th>\n",
       "      <th></th>\n",
       "      <th></th>\n",
       "    </tr>\n",
       "  </thead>\n",
       "  <tbody>\n",
       "    <tr>\n",
       "      <th>accuracy</th>\n",
       "      <td>0.810858</td>\n",
       "      <td>0.104981</td>\n",
       "    </tr>\n",
       "    <tr>\n",
       "      <th>bed_interval_end</th>\n",
       "      <td>1049.620536</td>\n",
       "      <td>148.279048</td>\n",
       "    </tr>\n",
       "    <tr>\n",
       "      <th>bed_interval_start</th>\n",
       "      <td>67.334821</td>\n",
       "      <td>70.022350</td>\n",
       "    </tr>\n",
       "    <tr>\n",
       "      <th>f1</th>\n",
       "      <td>0.858851</td>\n",
       "      <td>0.095503</td>\n",
       "    </tr>\n",
       "    <tr>\n",
       "      <th>getup_latency</th>\n",
       "      <td>5.959821</td>\n",
       "      <td>22.827550</td>\n",
       "    </tr>\n",
       "    <tr>\n",
       "      <th>kappa</th>\n",
       "      <td>0.519781</td>\n",
       "      <td>0.223637</td>\n",
       "    </tr>\n",
       "    <tr>\n",
       "      <th>mcc</th>\n",
       "      <td>0.549508</td>\n",
       "      <td>0.212699</td>\n",
       "    </tr>\n",
       "    <tr>\n",
       "      <th>net_sleep_duration</th>\n",
       "      <td>806.580357</td>\n",
       "      <td>173.512649</td>\n",
       "    </tr>\n",
       "    <tr>\n",
       "      <th>precision</th>\n",
       "      <td>0.818551</td>\n",
       "      <td>0.113678</td>\n",
       "    </tr>\n",
       "    <tr>\n",
       "      <th>recall</th>\n",
       "      <td>0.918692</td>\n",
       "      <td>0.110077</td>\n",
       "    </tr>\n",
       "    <tr>\n",
       "      <th>sleep_efficiency</th>\n",
       "      <td>82.218407</td>\n",
       "      <td>13.299510</td>\n",
       "    </tr>\n",
       "    <tr>\n",
       "      <th>sleep_onset</th>\n",
       "      <td>102.883929</td>\n",
       "      <td>82.511882</td>\n",
       "    </tr>\n",
       "    <tr>\n",
       "      <th>sleep_onset_latency</th>\n",
       "      <td>35.549107</td>\n",
       "      <td>50.993249</td>\n",
       "    </tr>\n",
       "    <tr>\n",
       "      <th>specifity</th>\n",
       "      <td>0.573810</td>\n",
       "      <td>0.213360</td>\n",
       "    </tr>\n",
       "    <tr>\n",
       "      <th>total_sleep_duration</th>\n",
       "      <td>983.285714</td>\n",
       "      <td>152.957389</td>\n",
       "    </tr>\n",
       "    <tr>\n",
       "      <th>wake_after_sleep_onset</th>\n",
       "      <td>120.973214</td>\n",
       "      <td>119.175453</td>\n",
       "    </tr>\n",
       "    <tr>\n",
       "      <th>wake_onset</th>\n",
       "      <td>1040.500000</td>\n",
       "      <td>148.713738</td>\n",
       "    </tr>\n",
       "  </tbody>\n",
       "</table>\n",
       "</div>"
      ],
      "text/plain": [
       "                               data            \n",
       "                               mean         std\n",
       "metric                                         \n",
       "accuracy                   0.810858    0.104981\n",
       "bed_interval_end        1049.620536  148.279048\n",
       "bed_interval_start        67.334821   70.022350\n",
       "f1                         0.858851    0.095503\n",
       "getup_latency              5.959821   22.827550\n",
       "kappa                      0.519781    0.223637\n",
       "mcc                        0.549508    0.212699\n",
       "net_sleep_duration       806.580357  173.512649\n",
       "precision                  0.818551    0.113678\n",
       "recall                     0.918692    0.110077\n",
       "sleep_efficiency          82.218407   13.299510\n",
       "sleep_onset              102.883929   82.511882\n",
       "sleep_onset_latency       35.549107   50.993249\n",
       "specifity                  0.573810    0.213360\n",
       "total_sleep_duration     983.285714  152.957389\n",
       "wake_after_sleep_onset   120.973214  119.175453\n",
       "wake_onset              1040.500000  148.713738"
      ]
     },
     "execution_count": 62,
     "metadata": {},
     "output_type": "execute_result"
    }
   ],
   "source": [
    "results.groupby(\"metric\").agg([\"mean\", \"std\"])"
   ]
  },
  {
   "cell_type": "code",
   "execution_count": 63,
   "metadata": {},
   "outputs": [
    {
     "data": {
      "text/html": [
       "<div>\n",
       "<style scoped>\n",
       "    .dataframe tbody tr th:only-of-type {\n",
       "        vertical-align: middle;\n",
       "    }\n",
       "\n",
       "    .dataframe tbody tr th {\n",
       "        vertical-align: top;\n",
       "    }\n",
       "\n",
       "    .dataframe thead th {\n",
       "        text-align: right;\n",
       "    }\n",
       "</style>\n",
       "<table border=\"1\" class=\"dataframe\">\n",
       "  <thead>\n",
       "    <tr style=\"text-align: right;\">\n",
       "      <th></th>\n",
       "      <th>wake</th>\n",
       "      <th>sleep</th>\n",
       "    </tr>\n",
       "  </thead>\n",
       "  <tbody>\n",
       "    <tr>\n",
       "      <th>wake</th>\n",
       "      <td>46949.0</td>\n",
       "      <td>33910.0</td>\n",
       "    </tr>\n",
       "    <tr>\n",
       "      <th>sleep</th>\n",
       "      <td>12481.0</td>\n",
       "      <td>152608.0</td>\n",
       "    </tr>\n",
       "  </tbody>\n",
       "</table>\n",
       "</div>"
      ],
      "text/plain": [
       "          wake     sleep\n",
       "wake   46949.0   33910.0\n",
       "sleep  12481.0  152608.0"
      ]
     },
     "execution_count": 63,
     "metadata": {},
     "output_type": "execute_result"
    }
   ],
   "source": [
    "confusion_matrix_acc = pd.read_csv(path.joinpath(\"confusion_matrix_\" + algorithm +\"_benchmark_\" + mod + \"_\" + stage + \".csv\"), index_col = \"Unnamed: 0\")\n",
    "confusion_matrix_acc"
   ]
  },
  {
   "cell_type": "code",
   "execution_count": 64,
   "metadata": {},
   "outputs": [
    {
     "data": {
      "text/plain": [
       "param_hidden_layer_sizes      (100,)\n",
       "param_activation                relu\n",
       "param_solver                    adam\n",
       "param_alpha                   0.0001\n",
       "param_learning_rate         adaptive\n",
       "Name: 0, dtype: object"
      ]
     },
     "execution_count": 64,
     "metadata": {},
     "output_type": "execute_result"
    }
   ],
   "source": [
    "get_best_params(param_list, mod=mod, stage=stage, optimization_metric=\"accuracy\")"
   ]
  },
  {
   "cell_type": "markdown",
   "metadata": {
    "tags": []
   },
   "source": [
    "# Binary\n",
    "# Acc + HRV"
   ]
  },
  {
   "cell_type": "code",
   "execution_count": 65,
   "metadata": {},
   "outputs": [],
   "source": [
    "stage = \"binary\"\n",
    "mod = \"acc_hrv\""
   ]
  },
  {
   "cell_type": "code",
   "execution_count": 66,
   "metadata": {},
   "outputs": [],
   "source": [
    "full_results = pd.read_csv(path.joinpath(algorithm +\"_benchmark_\" + mod + \"_\" + stage + \".csv\"), index_col=\"metric\")\n",
    "full_results.columns.name = \"subject\"\n",
    "results = full_results.drop(index=\"confusion_matrix\")"
   ]
  },
  {
   "cell_type": "code",
   "execution_count": 67,
   "metadata": {},
   "outputs": [],
   "source": [
    "results = pd.DataFrame(results.stack(\"subject\"), columns=[\"data\"]).astype(\"float\")"
   ]
  },
  {
   "cell_type": "code",
   "execution_count": 68,
   "metadata": {},
   "outputs": [
    {
     "data": {
      "text/html": [
       "<div>\n",
       "<style scoped>\n",
       "    .dataframe tbody tr th:only-of-type {\n",
       "        vertical-align: middle;\n",
       "    }\n",
       "\n",
       "    .dataframe tbody tr th {\n",
       "        vertical-align: top;\n",
       "    }\n",
       "\n",
       "    .dataframe thead tr th {\n",
       "        text-align: left;\n",
       "    }\n",
       "\n",
       "    .dataframe thead tr:last-of-type th {\n",
       "        text-align: right;\n",
       "    }\n",
       "</style>\n",
       "<table border=\"1\" class=\"dataframe\">\n",
       "  <thead>\n",
       "    <tr>\n",
       "      <th></th>\n",
       "      <th colspan=\"2\" halign=\"left\">data</th>\n",
       "    </tr>\n",
       "    <tr>\n",
       "      <th></th>\n",
       "      <th>mean</th>\n",
       "      <th>std</th>\n",
       "    </tr>\n",
       "    <tr>\n",
       "      <th>metric</th>\n",
       "      <th></th>\n",
       "      <th></th>\n",
       "    </tr>\n",
       "  </thead>\n",
       "  <tbody>\n",
       "    <tr>\n",
       "      <th>accuracy</th>\n",
       "      <td>0.819181</td>\n",
       "      <td>0.101189</td>\n",
       "    </tr>\n",
       "    <tr>\n",
       "      <th>bed_interval_end</th>\n",
       "      <td>1049.620536</td>\n",
       "      <td>148.279048</td>\n",
       "    </tr>\n",
       "    <tr>\n",
       "      <th>bed_interval_start</th>\n",
       "      <td>67.334821</td>\n",
       "      <td>70.022350</td>\n",
       "    </tr>\n",
       "    <tr>\n",
       "      <th>f1</th>\n",
       "      <td>0.863366</td>\n",
       "      <td>0.093251</td>\n",
       "    </tr>\n",
       "    <tr>\n",
       "      <th>getup_latency</th>\n",
       "      <td>4.732143</td>\n",
       "      <td>20.458635</td>\n",
       "    </tr>\n",
       "    <tr>\n",
       "      <th>kappa</th>\n",
       "      <td>0.550874</td>\n",
       "      <td>0.206491</td>\n",
       "    </tr>\n",
       "    <tr>\n",
       "      <th>mcc</th>\n",
       "      <td>0.577878</td>\n",
       "      <td>0.192740</td>\n",
       "    </tr>\n",
       "    <tr>\n",
       "      <th>net_sleep_duration</th>\n",
       "      <td>788.678571</td>\n",
       "      <td>172.854703</td>\n",
       "    </tr>\n",
       "    <tr>\n",
       "      <th>precision</th>\n",
       "      <td>0.832757</td>\n",
       "      <td>0.113761</td>\n",
       "    </tr>\n",
       "    <tr>\n",
       "      <th>recall</th>\n",
       "      <td>0.912880</td>\n",
       "      <td>0.110475</td>\n",
       "    </tr>\n",
       "    <tr>\n",
       "      <th>sleep_efficiency</th>\n",
       "      <td>80.425281</td>\n",
       "      <td>13.619610</td>\n",
       "    </tr>\n",
       "    <tr>\n",
       "      <th>sleep_onset</th>\n",
       "      <td>100.308036</td>\n",
       "      <td>82.164653</td>\n",
       "    </tr>\n",
       "    <tr>\n",
       "      <th>sleep_onset_latency</th>\n",
       "      <td>32.973214</td>\n",
       "      <td>50.671006</td>\n",
       "    </tr>\n",
       "    <tr>\n",
       "      <th>specifity</th>\n",
       "      <td>0.619542</td>\n",
       "      <td>0.210675</td>\n",
       "    </tr>\n",
       "    <tr>\n",
       "      <th>total_sleep_duration</th>\n",
       "      <td>983.285714</td>\n",
       "      <td>152.957389</td>\n",
       "    </tr>\n",
       "    <tr>\n",
       "      <th>wake_after_sleep_onset</th>\n",
       "      <td>139.986607</td>\n",
       "      <td>124.182113</td>\n",
       "    </tr>\n",
       "    <tr>\n",
       "      <th>wake_onset</th>\n",
       "      <td>1042.910714</td>\n",
       "      <td>147.984216</td>\n",
       "    </tr>\n",
       "  </tbody>\n",
       "</table>\n",
       "</div>"
      ],
      "text/plain": [
       "                               data            \n",
       "                               mean         std\n",
       "metric                                         \n",
       "accuracy                   0.819181    0.101189\n",
       "bed_interval_end        1049.620536  148.279048\n",
       "bed_interval_start        67.334821   70.022350\n",
       "f1                         0.863366    0.093251\n",
       "getup_latency              4.732143   20.458635\n",
       "kappa                      0.550874    0.206491\n",
       "mcc                        0.577878    0.192740\n",
       "net_sleep_duration       788.678571  172.854703\n",
       "precision                  0.832757    0.113761\n",
       "recall                     0.912880    0.110475\n",
       "sleep_efficiency          80.425281   13.619610\n",
       "sleep_onset              100.308036   82.164653\n",
       "sleep_onset_latency       32.973214   50.671006\n",
       "specifity                  0.619542    0.210675\n",
       "total_sleep_duration     983.285714  152.957389\n",
       "wake_after_sleep_onset   139.986607  124.182113\n",
       "wake_onset              1042.910714  147.984216"
      ]
     },
     "execution_count": 68,
     "metadata": {},
     "output_type": "execute_result"
    }
   ],
   "source": [
    "results.groupby(\"metric\").agg([\"mean\", \"std\"])"
   ]
  },
  {
   "cell_type": "code",
   "execution_count": 69,
   "metadata": {},
   "outputs": [
    {
     "data": {
      "text/html": [
       "<div>\n",
       "<style scoped>\n",
       "    .dataframe tbody tr th:only-of-type {\n",
       "        vertical-align: middle;\n",
       "    }\n",
       "\n",
       "    .dataframe tbody tr th {\n",
       "        vertical-align: top;\n",
       "    }\n",
       "\n",
       "    .dataframe thead th {\n",
       "        text-align: right;\n",
       "    }\n",
       "</style>\n",
       "<table border=\"1\" class=\"dataframe\">\n",
       "  <thead>\n",
       "    <tr style=\"text-align: right;\">\n",
       "      <th></th>\n",
       "      <th>wake</th>\n",
       "      <th>sleep</th>\n",
       "    </tr>\n",
       "  </thead>\n",
       "  <tbody>\n",
       "    <tr>\n",
       "      <th>wake</th>\n",
       "      <td>50164.0</td>\n",
       "      <td>30695.0</td>\n",
       "    </tr>\n",
       "    <tr>\n",
       "      <th>sleep</th>\n",
       "      <td>13606.0</td>\n",
       "      <td>151483.0</td>\n",
       "    </tr>\n",
       "  </tbody>\n",
       "</table>\n",
       "</div>"
      ],
      "text/plain": [
       "          wake     sleep\n",
       "wake   50164.0   30695.0\n",
       "sleep  13606.0  151483.0"
      ]
     },
     "execution_count": 69,
     "metadata": {},
     "output_type": "execute_result"
    }
   ],
   "source": [
    "confusion_matrix_acc_hrv = pd.read_csv(path.joinpath(\"confusion_matrix_\" + algorithm +\"_benchmark_\" + mod + \"_\" + stage + \".csv\"), index_col = \"Unnamed: 0\")\n",
    "confusion_matrix_acc_hrv"
   ]
  },
  {
   "cell_type": "code",
   "execution_count": 70,
   "metadata": {},
   "outputs": [
    {
     "data": {
      "text/plain": [
       "param_hidden_layer_sizes      (100,)\n",
       "param_activation                relu\n",
       "param_solver                    adam\n",
       "param_alpha                   0.0001\n",
       "param_learning_rate         adaptive\n",
       "Name: 0, dtype: object"
      ]
     },
     "execution_count": 70,
     "metadata": {},
     "output_type": "execute_result"
    }
   ],
   "source": [
    "get_best_params(param_list, mod=mod, stage=stage, optimization_metric=\"accuracy\")"
   ]
  },
  {
   "cell_type": "markdown",
   "metadata": {
    "tags": []
   },
   "source": [
    "# Binary\n",
    "# Acc + HRV + RRV"
   ]
  },
  {
   "cell_type": "code",
   "execution_count": 71,
   "metadata": {},
   "outputs": [],
   "source": [
    "stage = \"binary\"\n",
    "mod = \"acc_hrv_RRV\""
   ]
  },
  {
   "cell_type": "code",
   "execution_count": 72,
   "metadata": {},
   "outputs": [],
   "source": [
    "full_results = pd.read_csv(path.joinpath(algorithm +\"_benchmark_\" + mod + \"_\" + stage + \".csv\"), index_col=\"metric\")\n",
    "full_results.columns.name = \"subject\"\n",
    "results = full_results.drop(index=\"confusion_matrix\")"
   ]
  },
  {
   "cell_type": "code",
   "execution_count": 73,
   "metadata": {},
   "outputs": [],
   "source": [
    "results = pd.DataFrame(results.stack(\"subject\"), columns=[\"data\"]).astype(\"float\")"
   ]
  },
  {
   "cell_type": "code",
   "execution_count": 74,
   "metadata": {},
   "outputs": [
    {
     "data": {
      "text/html": [
       "<div>\n",
       "<style scoped>\n",
       "    .dataframe tbody tr th:only-of-type {\n",
       "        vertical-align: middle;\n",
       "    }\n",
       "\n",
       "    .dataframe tbody tr th {\n",
       "        vertical-align: top;\n",
       "    }\n",
       "\n",
       "    .dataframe thead tr th {\n",
       "        text-align: left;\n",
       "    }\n",
       "\n",
       "    .dataframe thead tr:last-of-type th {\n",
       "        text-align: right;\n",
       "    }\n",
       "</style>\n",
       "<table border=\"1\" class=\"dataframe\">\n",
       "  <thead>\n",
       "    <tr>\n",
       "      <th></th>\n",
       "      <th colspan=\"2\" halign=\"left\">data</th>\n",
       "    </tr>\n",
       "    <tr>\n",
       "      <th></th>\n",
       "      <th>mean</th>\n",
       "      <th>std</th>\n",
       "    </tr>\n",
       "    <tr>\n",
       "      <th>metric</th>\n",
       "      <th></th>\n",
       "      <th></th>\n",
       "    </tr>\n",
       "  </thead>\n",
       "  <tbody>\n",
       "    <tr>\n",
       "      <th>accuracy</th>\n",
       "      <td>0.840015</td>\n",
       "      <td>0.095285</td>\n",
       "    </tr>\n",
       "    <tr>\n",
       "      <th>bed_interval_end</th>\n",
       "      <td>1049.620536</td>\n",
       "      <td>148.279048</td>\n",
       "    </tr>\n",
       "    <tr>\n",
       "      <th>bed_interval_start</th>\n",
       "      <td>67.334821</td>\n",
       "      <td>70.022350</td>\n",
       "    </tr>\n",
       "    <tr>\n",
       "      <th>f1</th>\n",
       "      <td>0.875723</td>\n",
       "      <td>0.095800</td>\n",
       "    </tr>\n",
       "    <tr>\n",
       "      <th>getup_latency</th>\n",
       "      <td>4.781250</td>\n",
       "      <td>19.913972</td>\n",
       "    </tr>\n",
       "    <tr>\n",
       "      <th>kappa</th>\n",
       "      <td>0.610337</td>\n",
       "      <td>0.186932</td>\n",
       "    </tr>\n",
       "    <tr>\n",
       "      <th>mcc</th>\n",
       "      <td>0.632865</td>\n",
       "      <td>0.170151</td>\n",
       "    </tr>\n",
       "    <tr>\n",
       "      <th>net_sleep_duration</th>\n",
       "      <td>771.517857</td>\n",
       "      <td>173.836580</td>\n",
       "    </tr>\n",
       "    <tr>\n",
       "      <th>precision</th>\n",
       "      <td>0.854803</td>\n",
       "      <td>0.106216</td>\n",
       "    </tr>\n",
       "    <tr>\n",
       "      <th>recall</th>\n",
       "      <td>0.914264</td>\n",
       "      <td>0.117937</td>\n",
       "    </tr>\n",
       "    <tr>\n",
       "      <th>sleep_efficiency</th>\n",
       "      <td>78.767903</td>\n",
       "      <td>14.315445</td>\n",
       "    </tr>\n",
       "    <tr>\n",
       "      <th>sleep_onset</th>\n",
       "      <td>98.790179</td>\n",
       "      <td>79.922528</td>\n",
       "    </tr>\n",
       "    <tr>\n",
       "      <th>sleep_onset_latency</th>\n",
       "      <td>31.455357</td>\n",
       "      <td>47.072578</td>\n",
       "    </tr>\n",
       "    <tr>\n",
       "      <th>specifity</th>\n",
       "      <td>0.682318</td>\n",
       "      <td>0.190789</td>\n",
       "    </tr>\n",
       "    <tr>\n",
       "      <th>total_sleep_duration</th>\n",
       "      <td>983.285714</td>\n",
       "      <td>152.957389</td>\n",
       "    </tr>\n",
       "    <tr>\n",
       "      <th>wake_after_sleep_onset</th>\n",
       "      <td>157.093750</td>\n",
       "      <td>134.200423</td>\n",
       "    </tr>\n",
       "    <tr>\n",
       "      <th>wake_onset</th>\n",
       "      <td>1043.312500</td>\n",
       "      <td>148.174393</td>\n",
       "    </tr>\n",
       "  </tbody>\n",
       "</table>\n",
       "</div>"
      ],
      "text/plain": [
       "                               data            \n",
       "                               mean         std\n",
       "metric                                         \n",
       "accuracy                   0.840015    0.095285\n",
       "bed_interval_end        1049.620536  148.279048\n",
       "bed_interval_start        67.334821   70.022350\n",
       "f1                         0.875723    0.095800\n",
       "getup_latency              4.781250   19.913972\n",
       "kappa                      0.610337    0.186932\n",
       "mcc                        0.632865    0.170151\n",
       "net_sleep_duration       771.517857  173.836580\n",
       "precision                  0.854803    0.106216\n",
       "recall                     0.914264    0.117937\n",
       "sleep_efficiency          78.767903   14.315445\n",
       "sleep_onset               98.790179   79.922528\n",
       "sleep_onset_latency       31.455357   47.072578\n",
       "specifity                  0.682318    0.190789\n",
       "total_sleep_duration     983.285714  152.957389\n",
       "wake_after_sleep_onset   157.093750  134.200423\n",
       "wake_onset              1043.312500  148.174393"
      ]
     },
     "execution_count": 74,
     "metadata": {},
     "output_type": "execute_result"
    }
   ],
   "source": [
    "results.groupby(\"metric\").agg([\"mean\", \"std\"])"
   ]
  },
  {
   "cell_type": "code",
   "execution_count": 75,
   "metadata": {},
   "outputs": [
    {
     "data": {
      "text/html": [
       "<div>\n",
       "<style scoped>\n",
       "    .dataframe tbody tr th:only-of-type {\n",
       "        vertical-align: middle;\n",
       "    }\n",
       "\n",
       "    .dataframe tbody tr th {\n",
       "        vertical-align: top;\n",
       "    }\n",
       "\n",
       "    .dataframe thead th {\n",
       "        text-align: right;\n",
       "    }\n",
       "</style>\n",
       "<table border=\"1\" class=\"dataframe\">\n",
       "  <thead>\n",
       "    <tr style=\"text-align: right;\">\n",
       "      <th></th>\n",
       "      <th>wake</th>\n",
       "      <th>sleep</th>\n",
       "    </tr>\n",
       "  </thead>\n",
       "  <tbody>\n",
       "    <tr>\n",
       "      <th>wake</th>\n",
       "      <td>55145.0</td>\n",
       "      <td>25714.0</td>\n",
       "    </tr>\n",
       "    <tr>\n",
       "      <th>sleep</th>\n",
       "      <td>13482.0</td>\n",
       "      <td>151607.0</td>\n",
       "    </tr>\n",
       "  </tbody>\n",
       "</table>\n",
       "</div>"
      ],
      "text/plain": [
       "          wake     sleep\n",
       "wake   55145.0   25714.0\n",
       "sleep  13482.0  151607.0"
      ]
     },
     "execution_count": 75,
     "metadata": {},
     "output_type": "execute_result"
    }
   ],
   "source": [
    "confusion_matrix_acc_hrv_rrv = pd.read_csv(path.joinpath(\"confusion_matrix_\" + algorithm +\"_benchmark_\" + mod + \"_\" + stage + \".csv\"), index_col = \"Unnamed: 0\")\n",
    "confusion_matrix_acc_hrv_rrv"
   ]
  },
  {
   "cell_type": "code",
   "execution_count": 76,
   "metadata": {},
   "outputs": [
    {
     "data": {
      "text/plain": [
       "param_hidden_layer_sizes      (100,)\n",
       "param_activation                relu\n",
       "param_solver                    adam\n",
       "param_alpha                   0.0001\n",
       "param_learning_rate         constant\n",
       "Name: 0, dtype: object"
      ]
     },
     "execution_count": 76,
     "metadata": {},
     "output_type": "execute_result"
    }
   ],
   "source": [
    "get_best_params(param_list, mod=mod, stage=stage, optimization_metric=\"accuracy\")"
   ]
  },
  {
   "cell_type": "markdown",
   "metadata": {
    "tags": []
   },
   "source": [
    "# Binary\n",
    "# Acc + HRV + EDR"
   ]
  },
  {
   "cell_type": "code",
   "execution_count": 77,
   "metadata": {},
   "outputs": [],
   "source": [
    "stage = \"binary\"\n",
    "mod = \"acc_hrv_EDR\""
   ]
  },
  {
   "cell_type": "code",
   "execution_count": 78,
   "metadata": {},
   "outputs": [],
   "source": [
    "full_results = pd.read_csv(path.joinpath(algorithm +\"_benchmark_\" + mod + \"_\" + stage + \".csv\"), index_col=\"metric\")\n",
    "full_results.columns.name = \"subject\"\n",
    "results = full_results.drop(index=\"confusion_matrix\")"
   ]
  },
  {
   "cell_type": "code",
   "execution_count": 79,
   "metadata": {},
   "outputs": [],
   "source": [
    "results = pd.DataFrame(results.stack(\"subject\"), columns=[\"data\"]).astype(\"float\")"
   ]
  },
  {
   "cell_type": "code",
   "execution_count": 80,
   "metadata": {},
   "outputs": [
    {
     "data": {
      "text/html": [
       "<div>\n",
       "<style scoped>\n",
       "    .dataframe tbody tr th:only-of-type {\n",
       "        vertical-align: middle;\n",
       "    }\n",
       "\n",
       "    .dataframe tbody tr th {\n",
       "        vertical-align: top;\n",
       "    }\n",
       "\n",
       "    .dataframe thead tr th {\n",
       "        text-align: left;\n",
       "    }\n",
       "\n",
       "    .dataframe thead tr:last-of-type th {\n",
       "        text-align: right;\n",
       "    }\n",
       "</style>\n",
       "<table border=\"1\" class=\"dataframe\">\n",
       "  <thead>\n",
       "    <tr>\n",
       "      <th></th>\n",
       "      <th colspan=\"2\" halign=\"left\">data</th>\n",
       "    </tr>\n",
       "    <tr>\n",
       "      <th></th>\n",
       "      <th>mean</th>\n",
       "      <th>std</th>\n",
       "    </tr>\n",
       "    <tr>\n",
       "      <th>metric</th>\n",
       "      <th></th>\n",
       "      <th></th>\n",
       "    </tr>\n",
       "  </thead>\n",
       "  <tbody>\n",
       "    <tr>\n",
       "      <th>accuracy</th>\n",
       "      <td>0.823804</td>\n",
       "      <td>0.099221</td>\n",
       "    </tr>\n",
       "    <tr>\n",
       "      <th>bed_interval_end</th>\n",
       "      <td>1049.620536</td>\n",
       "      <td>148.279048</td>\n",
       "    </tr>\n",
       "    <tr>\n",
       "      <th>bed_interval_start</th>\n",
       "      <td>67.334821</td>\n",
       "      <td>70.022350</td>\n",
       "    </tr>\n",
       "    <tr>\n",
       "      <th>f1</th>\n",
       "      <td>0.865590</td>\n",
       "      <td>0.093087</td>\n",
       "    </tr>\n",
       "    <tr>\n",
       "      <th>getup_latency</th>\n",
       "      <td>6.263393</td>\n",
       "      <td>19.671000</td>\n",
       "    </tr>\n",
       "    <tr>\n",
       "      <th>kappa</th>\n",
       "      <td>0.565377</td>\n",
       "      <td>0.200510</td>\n",
       "    </tr>\n",
       "    <tr>\n",
       "      <th>mcc</th>\n",
       "      <td>0.591732</td>\n",
       "      <td>0.185652</td>\n",
       "    </tr>\n",
       "    <tr>\n",
       "      <th>net_sleep_duration</th>\n",
       "      <td>781.821429</td>\n",
       "      <td>177.403885</td>\n",
       "    </tr>\n",
       "    <tr>\n",
       "      <th>precision</th>\n",
       "      <td>0.840117</td>\n",
       "      <td>0.110714</td>\n",
       "    </tr>\n",
       "    <tr>\n",
       "      <th>recall</th>\n",
       "      <td>0.910415</td>\n",
       "      <td>0.115796</td>\n",
       "    </tr>\n",
       "    <tr>\n",
       "      <th>sleep_efficiency</th>\n",
       "      <td>79.726558</td>\n",
       "      <td>14.170049</td>\n",
       "    </tr>\n",
       "    <tr>\n",
       "      <th>sleep_onset</th>\n",
       "      <td>100.973214</td>\n",
       "      <td>82.232358</td>\n",
       "    </tr>\n",
       "    <tr>\n",
       "      <th>sleep_onset_latency</th>\n",
       "      <td>33.638393</td>\n",
       "      <td>48.192612</td>\n",
       "    </tr>\n",
       "    <tr>\n",
       "      <th>specifity</th>\n",
       "      <td>0.639180</td>\n",
       "      <td>0.207859</td>\n",
       "    </tr>\n",
       "    <tr>\n",
       "      <th>total_sleep_duration</th>\n",
       "      <td>983.285714</td>\n",
       "      <td>152.957389</td>\n",
       "    </tr>\n",
       "    <tr>\n",
       "      <th>wake_after_sleep_onset</th>\n",
       "      <td>146.714286</td>\n",
       "      <td>132.391587</td>\n",
       "    </tr>\n",
       "    <tr>\n",
       "      <th>wake_onset</th>\n",
       "      <td>1043.357143</td>\n",
       "      <td>148.252110</td>\n",
       "    </tr>\n",
       "  </tbody>\n",
       "</table>\n",
       "</div>"
      ],
      "text/plain": [
       "                               data            \n",
       "                               mean         std\n",
       "metric                                         \n",
       "accuracy                   0.823804    0.099221\n",
       "bed_interval_end        1049.620536  148.279048\n",
       "bed_interval_start        67.334821   70.022350\n",
       "f1                         0.865590    0.093087\n",
       "getup_latency              6.263393   19.671000\n",
       "kappa                      0.565377    0.200510\n",
       "mcc                        0.591732    0.185652\n",
       "net_sleep_duration       781.821429  177.403885\n",
       "precision                  0.840117    0.110714\n",
       "recall                     0.910415    0.115796\n",
       "sleep_efficiency          79.726558   14.170049\n",
       "sleep_onset              100.973214   82.232358\n",
       "sleep_onset_latency       33.638393   48.192612\n",
       "specifity                  0.639180    0.207859\n",
       "total_sleep_duration     983.285714  152.957389\n",
       "wake_after_sleep_onset   146.714286  132.391587\n",
       "wake_onset              1043.357143  148.252110"
      ]
     },
     "execution_count": 80,
     "metadata": {},
     "output_type": "execute_result"
    }
   ],
   "source": [
    "results.groupby(\"metric\").agg([\"mean\", \"std\"])"
   ]
  },
  {
   "cell_type": "code",
   "execution_count": 81,
   "metadata": {},
   "outputs": [
    {
     "data": {
      "text/html": [
       "<div>\n",
       "<style scoped>\n",
       "    .dataframe tbody tr th:only-of-type {\n",
       "        vertical-align: middle;\n",
       "    }\n",
       "\n",
       "    .dataframe tbody tr th {\n",
       "        vertical-align: top;\n",
       "    }\n",
       "\n",
       "    .dataframe thead th {\n",
       "        text-align: right;\n",
       "    }\n",
       "</style>\n",
       "<table border=\"1\" class=\"dataframe\">\n",
       "  <thead>\n",
       "    <tr style=\"text-align: right;\">\n",
       "      <th></th>\n",
       "      <th>wake</th>\n",
       "      <th>sleep</th>\n",
       "    </tr>\n",
       "  </thead>\n",
       "  <tbody>\n",
       "    <tr>\n",
       "      <th>wake</th>\n",
       "      <td>51724.0</td>\n",
       "      <td>29135.0</td>\n",
       "    </tr>\n",
       "    <tr>\n",
       "      <th>sleep</th>\n",
       "      <td>14012.0</td>\n",
       "      <td>151077.0</td>\n",
       "    </tr>\n",
       "  </tbody>\n",
       "</table>\n",
       "</div>"
      ],
      "text/plain": [
       "          wake     sleep\n",
       "wake   51724.0   29135.0\n",
       "sleep  14012.0  151077.0"
      ]
     },
     "execution_count": 81,
     "metadata": {},
     "output_type": "execute_result"
    }
   ],
   "source": [
    "confusion_matrix_acc_hrv_edr = pd.read_csv(path.joinpath(\"confusion_matrix_\" + algorithm +\"_benchmark_\" + mod + \"_\" + stage + \".csv\"), index_col = \"Unnamed: 0\")\n",
    "confusion_matrix_acc_hrv_edr"
   ]
  },
  {
   "cell_type": "code",
   "execution_count": 82,
   "metadata": {},
   "outputs": [
    {
     "data": {
      "text/plain": [
       "param_hidden_layer_sizes      (100,)\n",
       "param_activation                relu\n",
       "param_solver                    adam\n",
       "param_alpha                   0.0001\n",
       "param_learning_rate         constant\n",
       "Name: 0, dtype: object"
      ]
     },
     "execution_count": 82,
     "metadata": {},
     "output_type": "execute_result"
    }
   ],
   "source": [
    "get_best_params(param_list, mod=mod, stage=stage, optimization_metric=\"accuracy\")"
   ]
  },
  {
   "cell_type": "code",
   "execution_count": 83,
   "metadata": {},
   "outputs": [
    {
     "name": "stderr",
     "output_type": "stream",
     "text": [
      "/var/folders/kr/z18bsf7n4xsf9cd__hgnn7lh0000gn/T/ipykernel_93102/1399343355.py:2: FutureWarning: Support for multi-dimensional indexing (e.g. `obj[:, None]`) is deprecated and will be removed in a future version.  Convert to a numpy array before indexing instead.\n",
      "  x = confusion_matrix.sum(axis=1)[:, np.newaxis]\n",
      "/var/folders/kr/z18bsf7n4xsf9cd__hgnn7lh0000gn/T/ipykernel_93102/1399343355.py:2: FutureWarning: Support for multi-dimensional indexing (e.g. `obj[:, None]`) is deprecated and will be removed in a future version.  Convert to a numpy array before indexing instead.\n",
      "  x = confusion_matrix.sum(axis=1)[:, np.newaxis]\n",
      "/var/folders/kr/z18bsf7n4xsf9cd__hgnn7lh0000gn/T/ipykernel_93102/1399343355.py:2: FutureWarning: Support for multi-dimensional indexing (e.g. `obj[:, None]`) is deprecated and will be removed in a future version.  Convert to a numpy array before indexing instead.\n",
      "  x = confusion_matrix.sum(axis=1)[:, np.newaxis]\n",
      "/var/folders/kr/z18bsf7n4xsf9cd__hgnn7lh0000gn/T/ipykernel_93102/1399343355.py:2: FutureWarning: Support for multi-dimensional indexing (e.g. `obj[:, None]`) is deprecated and will be removed in a future version.  Convert to a numpy array before indexing instead.\n",
      "  x = confusion_matrix.sum(axis=1)[:, np.newaxis]\n"
     ]
    },
    {
     "data": {
      "text/plain": [
       "Text(0.5, 1.0, 'ACT + HRV + EDR')"
      ]
     },
     "execution_count": 83,
     "metadata": {},
     "output_type": "execute_result"
    },
    {
     "data": {
      "application/vnd.jupyter.widget-view+json": {
       "model_id": "d3993e29794e4bfeb4c787d5c1220cdb",
       "version_major": 2,
       "version_minor": 0
      },
      "image/png": "[encoded data removed]",
      "text/html": [
       "\n",
       "            <div style=\"display: inline-block;\">\n",
       "                <div class=\"jupyter-widgets widget-label\" style=\"text-align: center;\">\n",
       "                    Figure\n",
       "                </div>\n",
       "                <img src='data:image/png;base64,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' width=2000.0/>\n",
       "            </div>\n",
       "        "
      ],
      "text/plain": [
       "Canvas(toolbar=Toolbar(toolitems=[('Home', 'Reset original view', 'home', 'home'), ('Back', 'Back to previous …"
      ]
     },
     "metadata": {},
     "output_type": "display_data"
    }
   ],
   "source": [
    "fig, axs = plt.subplots(ncols=4, figsize = (20,4))\n",
    "sns.heatmap(conf_matrix(confusion_matrix_acc), fmt='g',annot=True, ax=axs[0], cmap=\"Greens\")\n",
    "sns.heatmap(conf_matrix(confusion_matrix_acc_hrv), fmt='g',annot=True, ax=axs[1], cmap=\"Greens\")\n",
    "sns.heatmap(conf_matrix(confusion_matrix_acc_hrv_rrv), fmt='g',annot=True, ax=axs[2], cmap=\"Greens\")\n",
    "sns.heatmap(conf_matrix(confusion_matrix_acc_hrv_edr), fmt='g',annot=True, ax=axs[3], cmap=\"Greens\")\n",
    "axs[0].set_title(\"ACT\")\n",
    "axs[1].set_title(\"ACT + HRV\")\n",
    "axs[2].set_title(\"ACT + HRV + RRV\")\n",
    "axs[3].set_title(\"ACT + HRV + EDR\")"
   ]
  },
  {
   "cell_type": "code",
   "execution_count": null,
   "metadata": {},
   "outputs": [],
   "source": []
  }
 ],
 "metadata": {
  "kernelspec": {
   "display_name": "sleep-analysis",
   "language": "python",
   "name": "sleep-analysis"
  },
  "language_info": {
   "codemirror_mode": {
    "name": "ipython",
    "version": 3
   },
   "file_extension": ".py",
   "mimetype": "text/x-python",
   "name": "python",
   "nbconvert_exporter": "python",
   "pygments_lexer": "ipython3",
   "version": "3.9.7"
  }
 },
 "nbformat": 4,
 "nbformat_minor": 4
}
