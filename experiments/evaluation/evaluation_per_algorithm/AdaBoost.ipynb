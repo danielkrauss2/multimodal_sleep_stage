{
 "cells": [
  {
   "cell_type": "code",
   "execution_count": 1,
   "metadata": {},
   "outputs": [],
   "source": [
    "import numpy as np\n",
    "import pandas as pd\n",
    "\n",
    "from pathlib import Path\n",
    "import matplotlib.pyplot as plt\n",
    "import seaborn as sns\n",
    "from biopsykit.utils.dataframe_handling import multi_xs\n"
   ]
  },
  {
   "cell_type": "code",
   "execution_count": 2,
   "metadata": {},
   "outputs": [],
   "source": [
    "%load_ext autoreload\n",
    "%autoreload 2"
   ]
  },
  {
   "cell_type": "code",
   "execution_count": 3,
   "metadata": {},
   "outputs": [],
   "source": [
    "from fau_colors import register_cmaps\n",
    "register_cmaps()\n",
    "\n",
    "sns.set_theme(context=\"paper\", style=\"white\", palette=\"faculties\", font_scale=1.2)\n",
    "\n",
    "%matplotlib widget"
   ]
  },
  {
   "cell_type": "code",
   "execution_count": 4,
   "metadata": {},
   "outputs": [],
   "source": [
    "def conf_matrix(confusion_matrix):\n",
    "    x = confusion_matrix.sum(axis=1)[:, np.newaxis]\n",
    "    confusion_matrix /=x\n",
    "    confusion_matrix *= 100\n",
    "    confusion_matrix = round(confusion_matrix,2)\n",
    "    return confusion_matrix"
   ]
  },
  {
   "cell_type": "code",
   "execution_count": 5,
   "metadata": {
    "tags": []
   },
   "outputs": [],
   "source": [
    "def get_best_params(param_list, mod, stage, optimization_metric = \"mcc\"):\n",
    "    gridsearch_df = pd.read_csv(path.joinpath(algorithm +\"_gridsearch_benchmark_\" + mod + \"_\" + stage + \".csv\"), index_col=\"Unnamed: 0\").sort_values(by=\"mean_test_\" + optimization_metric, ascending=False)\n",
    "    gridsearch_df = gridsearch_df.reset_index(drop=True)\n",
    "    param_list = [\"param_\" +param for param in param_list]\n",
    "    return gridsearch_df[param_list].loc[0]"
   ]
  },
  {
   "cell_type": "code",
   "execution_count": 6,
   "metadata": {},
   "outputs": [],
   "source": [
    "##### Fill in Algorithm here!! ####\n",
    "algorithm = \"adaboost\"\n",
    "##### Fill in Algorithm here!! ####"
   ]
  },
  {
   "cell_type": "code",
   "execution_count": 7,
   "metadata": {
    "tags": []
   },
   "outputs": [],
   "source": [
    "# GridSearch Parameter: fill in here:\n",
    "param_list = [\"learning_rate\", \"n_estimators\"]"
   ]
  },
  {
   "cell_type": "code",
   "execution_count": 8,
   "metadata": {},
   "outputs": [],
   "source": [
    "path = Path.cwd().parents[2].joinpath(\"exports/results_per_algorithm/\")\n",
    "path = path.joinpath(algorithm)"
   ]
  },
  {
   "cell_type": "markdown",
   "metadata": {
    "tags": []
   },
   "source": [
    "# 5 Stage\n",
    "# Acc only"
   ]
  },
  {
   "cell_type": "code",
   "execution_count": 9,
   "metadata": {},
   "outputs": [],
   "source": [
    "stage = \"5stage\"\n",
    "mod = \"acc\""
   ]
  },
  {
   "cell_type": "code",
   "execution_count": 10,
   "metadata": {},
   "outputs": [],
   "source": [
    "full_results = pd.read_csv(path.joinpath(algorithm +\"_benchmark_\" + mod + \"_\" + stage + \".csv\"), index_col=\"metric\")\n",
    "full_results.columns.name = \"subject\"\n",
    "results = full_results.drop(index=\"confusion_matrix\")"
   ]
  },
  {
   "cell_type": "code",
   "execution_count": 11,
   "metadata": {},
   "outputs": [],
   "source": [
    "results = pd.DataFrame(results.stack(\"subject\"), columns=[\"data\"]).astype(\"float\")"
   ]
  },
  {
   "cell_type": "code",
   "execution_count": 12,
   "metadata": {},
   "outputs": [
    {
     "data": {
      "text/html": [
       "<div>\n",
       "<style scoped>\n",
       "    .dataframe tbody tr th:only-of-type {\n",
       "        vertical-align: middle;\n",
       "    }\n",
       "\n",
       "    .dataframe tbody tr th {\n",
       "        vertical-align: top;\n",
       "    }\n",
       "\n",
       "    .dataframe thead tr th {\n",
       "        text-align: left;\n",
       "    }\n",
       "\n",
       "    .dataframe thead tr:last-of-type th {\n",
       "        text-align: right;\n",
       "    }\n",
       "</style>\n",
       "<table border=\"1\" class=\"dataframe\">\n",
       "  <thead>\n",
       "    <tr>\n",
       "      <th></th>\n",
       "      <th colspan=\"2\" halign=\"left\">data</th>\n",
       "    </tr>\n",
       "    <tr>\n",
       "      <th></th>\n",
       "      <th>mean</th>\n",
       "      <th>std</th>\n",
       "    </tr>\n",
       "    <tr>\n",
       "      <th>metric</th>\n",
       "      <th></th>\n",
       "      <th></th>\n",
       "    </tr>\n",
       "  </thead>\n",
       "  <tbody>\n",
       "    <tr>\n",
       "      <th>accuracy</th>\n",
       "      <td>0.546253</td>\n",
       "      <td>0.100973</td>\n",
       "    </tr>\n",
       "    <tr>\n",
       "      <th>bed_interval_end</th>\n",
       "      <td>1049.620536</td>\n",
       "      <td>148.279048</td>\n",
       "    </tr>\n",
       "    <tr>\n",
       "      <th>bed_interval_start</th>\n",
       "      <td>67.334821</td>\n",
       "      <td>70.022350</td>\n",
       "    </tr>\n",
       "    <tr>\n",
       "      <th>f1</th>\n",
       "      <td>0.459018</td>\n",
       "      <td>0.102335</td>\n",
       "    </tr>\n",
       "    <tr>\n",
       "      <th>getup_latency</th>\n",
       "      <td>6.875000</td>\n",
       "      <td>23.816799</td>\n",
       "    </tr>\n",
       "    <tr>\n",
       "      <th>kappa</th>\n",
       "      <td>0.271112</td>\n",
       "      <td>0.130966</td>\n",
       "    </tr>\n",
       "    <tr>\n",
       "      <th>mcc</th>\n",
       "      <td>0.328111</td>\n",
       "      <td>0.138681</td>\n",
       "    </tr>\n",
       "    <tr>\n",
       "      <th>net_sleep_duration</th>\n",
       "      <td>742.258929</td>\n",
       "      <td>187.385014</td>\n",
       "    </tr>\n",
       "    <tr>\n",
       "      <th>precision</th>\n",
       "      <td>0.437023</td>\n",
       "      <td>0.106109</td>\n",
       "    </tr>\n",
       "    <tr>\n",
       "      <th>recall</th>\n",
       "      <td>0.546253</td>\n",
       "      <td>0.100973</td>\n",
       "    </tr>\n",
       "    <tr>\n",
       "      <th>sleep_efficiency</th>\n",
       "      <td>75.671290</td>\n",
       "      <td>15.767126</td>\n",
       "    </tr>\n",
       "    <tr>\n",
       "      <th>sleep_onset</th>\n",
       "      <td>109.433036</td>\n",
       "      <td>85.820362</td>\n",
       "    </tr>\n",
       "    <tr>\n",
       "      <th>sleep_onset_latency</th>\n",
       "      <td>42.098214</td>\n",
       "      <td>57.810493</td>\n",
       "    </tr>\n",
       "    <tr>\n",
       "      <th>specifity</th>\n",
       "      <td>0.839613</td>\n",
       "      <td>0.072585</td>\n",
       "    </tr>\n",
       "    <tr>\n",
       "      <th>total_sleep_duration</th>\n",
       "      <td>983.285714</td>\n",
       "      <td>152.957389</td>\n",
       "    </tr>\n",
       "    <tr>\n",
       "      <th>wake_after_sleep_onset</th>\n",
       "      <td>174.303571</td>\n",
       "      <td>140.076874</td>\n",
       "    </tr>\n",
       "    <tr>\n",
       "      <th>wake_onset</th>\n",
       "      <td>1038.709821</td>\n",
       "      <td>148.888650</td>\n",
       "    </tr>\n",
       "  </tbody>\n",
       "</table>\n",
       "</div>"
      ],
      "text/plain": [
       "                               data            \n",
       "                               mean         std\n",
       "metric                                         \n",
       "accuracy                   0.546253    0.100973\n",
       "bed_interval_end        1049.620536  148.279048\n",
       "bed_interval_start        67.334821   70.022350\n",
       "f1                         0.459018    0.102335\n",
       "getup_latency              6.875000   23.816799\n",
       "kappa                      0.271112    0.130966\n",
       "mcc                        0.328111    0.138681\n",
       "net_sleep_duration       742.258929  187.385014\n",
       "precision                  0.437023    0.106109\n",
       "recall                     0.546253    0.100973\n",
       "sleep_efficiency          75.671290   15.767126\n",
       "sleep_onset              109.433036   85.820362\n",
       "sleep_onset_latency       42.098214   57.810493\n",
       "specifity                  0.839613    0.072585\n",
       "total_sleep_duration     983.285714  152.957389\n",
       "wake_after_sleep_onset   174.303571  140.076874\n",
       "wake_onset              1038.709821  148.888650"
      ]
     },
     "execution_count": 12,
     "metadata": {},
     "output_type": "execute_result"
    }
   ],
   "source": [
    "results.groupby(\"metric\").agg([\"mean\", \"std\"])"
   ]
  },
  {
   "cell_type": "code",
   "execution_count": 13,
   "metadata": {},
   "outputs": [
    {
     "data": {
      "text/html": [
       "<div>\n",
       "<style scoped>\n",
       "    .dataframe tbody tr th:only-of-type {\n",
       "        vertical-align: middle;\n",
       "    }\n",
       "\n",
       "    .dataframe tbody tr th {\n",
       "        vertical-align: top;\n",
       "    }\n",
       "\n",
       "    .dataframe thead th {\n",
       "        text-align: right;\n",
       "    }\n",
       "</style>\n",
       "<table border=\"1\" class=\"dataframe\">\n",
       "  <thead>\n",
       "    <tr style=\"text-align: right;\">\n",
       "      <th></th>\n",
       "      <th>wake</th>\n",
       "      <th>n1</th>\n",
       "      <th>n2</th>\n",
       "      <th>n3</th>\n",
       "      <th>rem</th>\n",
       "    </tr>\n",
       "  </thead>\n",
       "  <tbody>\n",
       "    <tr>\n",
       "      <th>wake</th>\n",
       "      <td>53555.0</td>\n",
       "      <td>0.0</td>\n",
       "      <td>27304.0</td>\n",
       "      <td>0.0</td>\n",
       "      <td>0.0</td>\n",
       "    </tr>\n",
       "    <tr>\n",
       "      <th>n1</th>\n",
       "      <td>6467.0</td>\n",
       "      <td>0.0</td>\n",
       "      <td>16635.0</td>\n",
       "      <td>0.0</td>\n",
       "      <td>0.0</td>\n",
       "    </tr>\n",
       "    <tr>\n",
       "      <th>n2</th>\n",
       "      <td>11941.0</td>\n",
       "      <td>0.0</td>\n",
       "      <td>81142.0</td>\n",
       "      <td>0.0</td>\n",
       "      <td>0.0</td>\n",
       "    </tr>\n",
       "    <tr>\n",
       "      <th>n3</th>\n",
       "      <td>782.0</td>\n",
       "      <td>0.0</td>\n",
       "      <td>16302.0</td>\n",
       "      <td>0.0</td>\n",
       "      <td>0.0</td>\n",
       "    </tr>\n",
       "    <tr>\n",
       "      <th>rem</th>\n",
       "      <td>2308.0</td>\n",
       "      <td>0.0</td>\n",
       "      <td>29512.0</td>\n",
       "      <td>0.0</td>\n",
       "      <td>0.0</td>\n",
       "    </tr>\n",
       "  </tbody>\n",
       "</table>\n",
       "</div>"
      ],
      "text/plain": [
       "         wake   n1       n2   n3  rem\n",
       "wake  53555.0  0.0  27304.0  0.0  0.0\n",
       "n1     6467.0  0.0  16635.0  0.0  0.0\n",
       "n2    11941.0  0.0  81142.0  0.0  0.0\n",
       "n3      782.0  0.0  16302.0  0.0  0.0\n",
       "rem    2308.0  0.0  29512.0  0.0  0.0"
      ]
     },
     "execution_count": 13,
     "metadata": {},
     "output_type": "execute_result"
    }
   ],
   "source": [
    "confusion_matrix_acc = pd.read_csv(path.joinpath(\"confusion_matrix_\" + algorithm +\"_benchmark_\" + mod + \"_\" + stage + \".csv\"), index_col = \"Unnamed: 0\")\n",
    "confusion_matrix_acc"
   ]
  },
  {
   "cell_type": "code",
   "execution_count": 14,
   "metadata": {},
   "outputs": [
    {
     "data": {
      "text/plain": [
       "param_learning_rate      0.1\n",
       "param_n_estimators     500.0\n",
       "Name: 0, dtype: float64"
      ]
     },
     "execution_count": 14,
     "metadata": {},
     "output_type": "execute_result"
    }
   ],
   "source": [
    "get_best_params(param_list, mod=mod, stage=stage, optimization_metric=\"mcc\")"
   ]
  },
  {
   "cell_type": "markdown",
   "metadata": {
    "tags": []
   },
   "source": [
    "# 5 Stage\n",
    "# Acc + HRV"
   ]
  },
  {
   "cell_type": "code",
   "execution_count": 15,
   "metadata": {},
   "outputs": [],
   "source": [
    "stage = \"5stage\"\n",
    "mod = \"acc_hrv\""
   ]
  },
  {
   "cell_type": "code",
   "execution_count": 16,
   "metadata": {},
   "outputs": [],
   "source": [
    "full_results = pd.read_csv(path.joinpath(algorithm +\"_benchmark_\" + mod + \"_\" + stage + \".csv\"), index_col=\"metric\")\n",
    "full_results.columns.name = \"subject\"\n",
    "results = full_results.drop(index=\"confusion_matrix\")"
   ]
  },
  {
   "cell_type": "code",
   "execution_count": 17,
   "metadata": {},
   "outputs": [],
   "source": [
    "results = pd.DataFrame(results.stack(\"subject\"), columns=[\"data\"]).astype(\"float\")"
   ]
  },
  {
   "cell_type": "code",
   "execution_count": 18,
   "metadata": {},
   "outputs": [
    {
     "data": {
      "text/html": [
       "<div>\n",
       "<style scoped>\n",
       "    .dataframe tbody tr th:only-of-type {\n",
       "        vertical-align: middle;\n",
       "    }\n",
       "\n",
       "    .dataframe tbody tr th {\n",
       "        vertical-align: top;\n",
       "    }\n",
       "\n",
       "    .dataframe thead tr th {\n",
       "        text-align: left;\n",
       "    }\n",
       "\n",
       "    .dataframe thead tr:last-of-type th {\n",
       "        text-align: right;\n",
       "    }\n",
       "</style>\n",
       "<table border=\"1\" class=\"dataframe\">\n",
       "  <thead>\n",
       "    <tr>\n",
       "      <th></th>\n",
       "      <th colspan=\"2\" halign=\"left\">data</th>\n",
       "    </tr>\n",
       "    <tr>\n",
       "      <th></th>\n",
       "      <th>mean</th>\n",
       "      <th>std</th>\n",
       "    </tr>\n",
       "    <tr>\n",
       "      <th>metric</th>\n",
       "      <th></th>\n",
       "      <th></th>\n",
       "    </tr>\n",
       "  </thead>\n",
       "  <tbody>\n",
       "    <tr>\n",
       "      <th>accuracy</th>\n",
       "      <td>0.558037</td>\n",
       "      <td>0.096158</td>\n",
       "    </tr>\n",
       "    <tr>\n",
       "      <th>bed_interval_end</th>\n",
       "      <td>1049.620536</td>\n",
       "      <td>148.279048</td>\n",
       "    </tr>\n",
       "    <tr>\n",
       "      <th>bed_interval_start</th>\n",
       "      <td>67.334821</td>\n",
       "      <td>70.022350</td>\n",
       "    </tr>\n",
       "    <tr>\n",
       "      <th>f1</th>\n",
       "      <td>0.480769</td>\n",
       "      <td>0.099142</td>\n",
       "    </tr>\n",
       "    <tr>\n",
       "      <th>getup_latency</th>\n",
       "      <td>5.138393</td>\n",
       "      <td>20.755107</td>\n",
       "    </tr>\n",
       "    <tr>\n",
       "      <th>kappa</th>\n",
       "      <td>0.300360</td>\n",
       "      <td>0.122137</td>\n",
       "    </tr>\n",
       "    <tr>\n",
       "      <th>mcc</th>\n",
       "      <td>0.348608</td>\n",
       "      <td>0.122901</td>\n",
       "    </tr>\n",
       "    <tr>\n",
       "      <th>net_sleep_duration</th>\n",
       "      <td>715.669643</td>\n",
       "      <td>196.174988</td>\n",
       "    </tr>\n",
       "    <tr>\n",
       "      <th>precision</th>\n",
       "      <td>0.524216</td>\n",
       "      <td>0.104559</td>\n",
       "    </tr>\n",
       "    <tr>\n",
       "      <th>recall</th>\n",
       "      <td>0.558037</td>\n",
       "      <td>0.096158</td>\n",
       "    </tr>\n",
       "    <tr>\n",
       "      <th>sleep_efficiency</th>\n",
       "      <td>72.953719</td>\n",
       "      <td>16.945855</td>\n",
       "    </tr>\n",
       "    <tr>\n",
       "      <th>sleep_onset</th>\n",
       "      <td>107.383929</td>\n",
       "      <td>83.277347</td>\n",
       "    </tr>\n",
       "    <tr>\n",
       "      <th>sleep_onset_latency</th>\n",
       "      <td>40.049107</td>\n",
       "      <td>54.480031</td>\n",
       "    </tr>\n",
       "    <tr>\n",
       "      <th>specifity</th>\n",
       "      <td>0.843926</td>\n",
       "      <td>0.065070</td>\n",
       "    </tr>\n",
       "    <tr>\n",
       "      <th>total_sleep_duration</th>\n",
       "      <td>983.285714</td>\n",
       "      <td>152.957389</td>\n",
       "    </tr>\n",
       "    <tr>\n",
       "      <th>wake_after_sleep_onset</th>\n",
       "      <td>202.312500</td>\n",
       "      <td>153.244494</td>\n",
       "    </tr>\n",
       "    <tr>\n",
       "      <th>wake_onset</th>\n",
       "      <td>1040.821429</td>\n",
       "      <td>148.539721</td>\n",
       "    </tr>\n",
       "  </tbody>\n",
       "</table>\n",
       "</div>"
      ],
      "text/plain": [
       "                               data            \n",
       "                               mean         std\n",
       "metric                                         \n",
       "accuracy                   0.558037    0.096158\n",
       "bed_interval_end        1049.620536  148.279048\n",
       "bed_interval_start        67.334821   70.022350\n",
       "f1                         0.480769    0.099142\n",
       "getup_latency              5.138393   20.755107\n",
       "kappa                      0.300360    0.122137\n",
       "mcc                        0.348608    0.122901\n",
       "net_sleep_duration       715.669643  196.174988\n",
       "precision                  0.524216    0.104559\n",
       "recall                     0.558037    0.096158\n",
       "sleep_efficiency          72.953719   16.945855\n",
       "sleep_onset              107.383929   83.277347\n",
       "sleep_onset_latency       40.049107   54.480031\n",
       "specifity                  0.843926    0.065070\n",
       "total_sleep_duration     983.285714  152.957389\n",
       "wake_after_sleep_onset   202.312500  153.244494\n",
       "wake_onset              1040.821429  148.539721"
      ]
     },
     "execution_count": 18,
     "metadata": {},
     "output_type": "execute_result"
    }
   ],
   "source": [
    "results.groupby(\"metric\").agg([\"mean\", \"std\"])"
   ]
  },
  {
   "cell_type": "code",
   "execution_count": 19,
   "metadata": {},
   "outputs": [
    {
     "data": {
      "text/html": [
       "<div>\n",
       "<style scoped>\n",
       "    .dataframe tbody tr th:only-of-type {\n",
       "        vertical-align: middle;\n",
       "    }\n",
       "\n",
       "    .dataframe tbody tr th {\n",
       "        vertical-align: top;\n",
       "    }\n",
       "\n",
       "    .dataframe thead th {\n",
       "        text-align: right;\n",
       "    }\n",
       "</style>\n",
       "<table border=\"1\" class=\"dataframe\">\n",
       "  <thead>\n",
       "    <tr style=\"text-align: right;\">\n",
       "      <th></th>\n",
       "      <th>wake</th>\n",
       "      <th>n1</th>\n",
       "      <th>n2</th>\n",
       "      <th>n3</th>\n",
       "      <th>rem</th>\n",
       "    </tr>\n",
       "  </thead>\n",
       "  <tbody>\n",
       "    <tr>\n",
       "      <th>wake</th>\n",
       "      <td>56736.0</td>\n",
       "      <td>202.0</td>\n",
       "      <td>22952.0</td>\n",
       "      <td>31.0</td>\n",
       "      <td>938.0</td>\n",
       "    </tr>\n",
       "    <tr>\n",
       "      <th>n1</th>\n",
       "      <td>7534.0</td>\n",
       "      <td>192.0</td>\n",
       "      <td>14765.0</td>\n",
       "      <td>10.0</td>\n",
       "      <td>601.0</td>\n",
       "    </tr>\n",
       "    <tr>\n",
       "      <th>n2</th>\n",
       "      <td>12811.0</td>\n",
       "      <td>181.0</td>\n",
       "      <td>78514.0</td>\n",
       "      <td>210.0</td>\n",
       "      <td>1367.0</td>\n",
       "    </tr>\n",
       "    <tr>\n",
       "      <th>n3</th>\n",
       "      <td>861.0</td>\n",
       "      <td>7.0</td>\n",
       "      <td>15730.0</td>\n",
       "      <td>271.0</td>\n",
       "      <td>215.0</td>\n",
       "    </tr>\n",
       "    <tr>\n",
       "      <th>rem</th>\n",
       "      <td>3352.0</td>\n",
       "      <td>100.0</td>\n",
       "      <td>26421.0</td>\n",
       "      <td>108.0</td>\n",
       "      <td>1839.0</td>\n",
       "    </tr>\n",
       "  </tbody>\n",
       "</table>\n",
       "</div>"
      ],
      "text/plain": [
       "         wake     n1       n2     n3     rem\n",
       "wake  56736.0  202.0  22952.0   31.0   938.0\n",
       "n1     7534.0  192.0  14765.0   10.0   601.0\n",
       "n2    12811.0  181.0  78514.0  210.0  1367.0\n",
       "n3      861.0    7.0  15730.0  271.0   215.0\n",
       "rem    3352.0  100.0  26421.0  108.0  1839.0"
      ]
     },
     "execution_count": 19,
     "metadata": {},
     "output_type": "execute_result"
    }
   ],
   "source": [
    "confusion_matrix_acc_hrv = pd.read_csv(path.joinpath(\"confusion_matrix_\" + algorithm +\"_benchmark_\" + mod + \"_\" + stage + \".csv\"), index_col = \"Unnamed: 0\")\n",
    "confusion_matrix_acc_hrv"
   ]
  },
  {
   "cell_type": "code",
   "execution_count": 20,
   "metadata": {},
   "outputs": [
    {
     "data": {
      "text/plain": [
       "param_learning_rate      1.0\n",
       "param_n_estimators     500.0\n",
       "Name: 0, dtype: float64"
      ]
     },
     "execution_count": 20,
     "metadata": {},
     "output_type": "execute_result"
    }
   ],
   "source": [
    "get_best_params(param_list, mod=mod, stage=stage, optimization_metric=\"mcc\")"
   ]
  },
  {
   "cell_type": "markdown",
   "metadata": {
    "tags": []
   },
   "source": [
    "# 5 Stage\n",
    "# ACC + HRV + RRV"
   ]
  },
  {
   "cell_type": "code",
   "execution_count": 21,
   "metadata": {},
   "outputs": [],
   "source": [
    "stage = \"5stage\"\n",
    "mod = \"acc_hrv_RRV\""
   ]
  },
  {
   "cell_type": "code",
   "execution_count": 22,
   "metadata": {},
   "outputs": [],
   "source": [
    "full_results = pd.read_csv(path.joinpath(algorithm +\"_benchmark_\" + mod + \"_\" + stage + \".csv\"), index_col=\"metric\")\n",
    "full_results.columns.name = \"subject\"\n",
    "results = full_results.drop(index=\"confusion_matrix\")"
   ]
  },
  {
   "cell_type": "code",
   "execution_count": 23,
   "metadata": {},
   "outputs": [],
   "source": [
    "results = pd.DataFrame(results.stack(\"subject\"), columns=[\"data\"]).astype(\"float\")"
   ]
  },
  {
   "cell_type": "code",
   "execution_count": 24,
   "metadata": {},
   "outputs": [
    {
     "data": {
      "text/html": [
       "<div>\n",
       "<style scoped>\n",
       "    .dataframe tbody tr th:only-of-type {\n",
       "        vertical-align: middle;\n",
       "    }\n",
       "\n",
       "    .dataframe tbody tr th {\n",
       "        vertical-align: top;\n",
       "    }\n",
       "\n",
       "    .dataframe thead tr th {\n",
       "        text-align: left;\n",
       "    }\n",
       "\n",
       "    .dataframe thead tr:last-of-type th {\n",
       "        text-align: right;\n",
       "    }\n",
       "</style>\n",
       "<table border=\"1\" class=\"dataframe\">\n",
       "  <thead>\n",
       "    <tr>\n",
       "      <th></th>\n",
       "      <th colspan=\"2\" halign=\"left\">data</th>\n",
       "    </tr>\n",
       "    <tr>\n",
       "      <th></th>\n",
       "      <th>mean</th>\n",
       "      <th>std</th>\n",
       "    </tr>\n",
       "    <tr>\n",
       "      <th>metric</th>\n",
       "      <th></th>\n",
       "      <th></th>\n",
       "    </tr>\n",
       "  </thead>\n",
       "  <tbody>\n",
       "    <tr>\n",
       "      <th>accuracy</th>\n",
       "      <td>0.604839</td>\n",
       "      <td>0.100236</td>\n",
       "    </tr>\n",
       "    <tr>\n",
       "      <th>bed_interval_end</th>\n",
       "      <td>1049.620536</td>\n",
       "      <td>148.279048</td>\n",
       "    </tr>\n",
       "    <tr>\n",
       "      <th>bed_interval_start</th>\n",
       "      <td>67.334821</td>\n",
       "      <td>70.022350</td>\n",
       "    </tr>\n",
       "    <tr>\n",
       "      <th>f1</th>\n",
       "      <td>0.558157</td>\n",
       "      <td>0.106609</td>\n",
       "    </tr>\n",
       "    <tr>\n",
       "      <th>getup_latency</th>\n",
       "      <td>5.973214</td>\n",
       "      <td>20.602346</td>\n",
       "    </tr>\n",
       "    <tr>\n",
       "      <th>kappa</th>\n",
       "      <td>0.402029</td>\n",
       "      <td>0.131234</td>\n",
       "    </tr>\n",
       "    <tr>\n",
       "      <th>mcc</th>\n",
       "      <td>0.428967</td>\n",
       "      <td>0.127473</td>\n",
       "    </tr>\n",
       "    <tr>\n",
       "      <th>net_sleep_duration</th>\n",
       "      <td>697.714286</td>\n",
       "      <td>194.520472</td>\n",
       "    </tr>\n",
       "    <tr>\n",
       "      <th>precision</th>\n",
       "      <td>0.602208</td>\n",
       "      <td>0.100410</td>\n",
       "    </tr>\n",
       "    <tr>\n",
       "      <th>recall</th>\n",
       "      <td>0.604839</td>\n",
       "      <td>0.100236</td>\n",
       "    </tr>\n",
       "    <tr>\n",
       "      <th>sleep_efficiency</th>\n",
       "      <td>71.237954</td>\n",
       "      <td>17.303307</td>\n",
       "    </tr>\n",
       "    <tr>\n",
       "      <th>sleep_onset</th>\n",
       "      <td>109.732143</td>\n",
       "      <td>89.449385</td>\n",
       "    </tr>\n",
       "    <tr>\n",
       "      <th>sleep_onset_latency</th>\n",
       "      <td>42.397321</td>\n",
       "      <td>63.744573</td>\n",
       "    </tr>\n",
       "    <tr>\n",
       "      <th>specifity</th>\n",
       "      <td>0.851287</td>\n",
       "      <td>0.061248</td>\n",
       "    </tr>\n",
       "    <tr>\n",
       "      <th>total_sleep_duration</th>\n",
       "      <td>983.285714</td>\n",
       "      <td>152.957389</td>\n",
       "    </tr>\n",
       "    <tr>\n",
       "      <th>wake_after_sleep_onset</th>\n",
       "      <td>216.227679</td>\n",
       "      <td>152.765793</td>\n",
       "    </tr>\n",
       "    <tr>\n",
       "      <th>wake_onset</th>\n",
       "      <td>1039.883929</td>\n",
       "      <td>148.182577</td>\n",
       "    </tr>\n",
       "  </tbody>\n",
       "</table>\n",
       "</div>"
      ],
      "text/plain": [
       "                               data            \n",
       "                               mean         std\n",
       "metric                                         \n",
       "accuracy                   0.604839    0.100236\n",
       "bed_interval_end        1049.620536  148.279048\n",
       "bed_interval_start        67.334821   70.022350\n",
       "f1                         0.558157    0.106609\n",
       "getup_latency              5.973214   20.602346\n",
       "kappa                      0.402029    0.131234\n",
       "mcc                        0.428967    0.127473\n",
       "net_sleep_duration       697.714286  194.520472\n",
       "precision                  0.602208    0.100410\n",
       "recall                     0.604839    0.100236\n",
       "sleep_efficiency          71.237954   17.303307\n",
       "sleep_onset              109.732143   89.449385\n",
       "sleep_onset_latency       42.397321   63.744573\n",
       "specifity                  0.851287    0.061248\n",
       "total_sleep_duration     983.285714  152.957389\n",
       "wake_after_sleep_onset   216.227679  152.765793\n",
       "wake_onset              1039.883929  148.182577"
      ]
     },
     "execution_count": 24,
     "metadata": {},
     "output_type": "execute_result"
    }
   ],
   "source": [
    "results.groupby(\"metric\").agg([\"mean\", \"std\"])"
   ]
  },
  {
   "cell_type": "code",
   "execution_count": 25,
   "metadata": {},
   "outputs": [
    {
     "data": {
      "text/html": [
       "<div>\n",
       "<style scoped>\n",
       "    .dataframe tbody tr th:only-of-type {\n",
       "        vertical-align: middle;\n",
       "    }\n",
       "\n",
       "    .dataframe tbody tr th {\n",
       "        vertical-align: top;\n",
       "    }\n",
       "\n",
       "    .dataframe thead th {\n",
       "        text-align: right;\n",
       "    }\n",
       "</style>\n",
       "<table border=\"1\" class=\"dataframe\">\n",
       "  <thead>\n",
       "    <tr style=\"text-align: right;\">\n",
       "      <th></th>\n",
       "      <th>wake</th>\n",
       "      <th>n1</th>\n",
       "      <th>n2</th>\n",
       "      <th>n3</th>\n",
       "      <th>rem</th>\n",
       "    </tr>\n",
       "  </thead>\n",
       "  <tbody>\n",
       "    <tr>\n",
       "      <th>wake</th>\n",
       "      <td>61014.0</td>\n",
       "      <td>319.0</td>\n",
       "      <td>15112.0</td>\n",
       "      <td>159.0</td>\n",
       "      <td>4255.0</td>\n",
       "    </tr>\n",
       "    <tr>\n",
       "      <th>n1</th>\n",
       "      <td>8388.0</td>\n",
       "      <td>291.0</td>\n",
       "      <td>10825.0</td>\n",
       "      <td>44.0</td>\n",
       "      <td>3554.0</td>\n",
       "    </tr>\n",
       "    <tr>\n",
       "      <th>n2</th>\n",
       "      <td>12068.0</td>\n",
       "      <td>240.0</td>\n",
       "      <td>71042.0</td>\n",
       "      <td>2483.0</td>\n",
       "      <td>7250.0</td>\n",
       "    </tr>\n",
       "    <tr>\n",
       "      <th>n3</th>\n",
       "      <td>667.0</td>\n",
       "      <td>8.0</td>\n",
       "      <td>14021.0</td>\n",
       "      <td>1647.0</td>\n",
       "      <td>741.0</td>\n",
       "    </tr>\n",
       "    <tr>\n",
       "      <th>rem</th>\n",
       "      <td>3885.0</td>\n",
       "      <td>159.0</td>\n",
       "      <td>12612.0</td>\n",
       "      <td>103.0</td>\n",
       "      <td>15061.0</td>\n",
       "    </tr>\n",
       "  </tbody>\n",
       "</table>\n",
       "</div>"
      ],
      "text/plain": [
       "         wake     n1       n2      n3      rem\n",
       "wake  61014.0  319.0  15112.0   159.0   4255.0\n",
       "n1     8388.0  291.0  10825.0    44.0   3554.0\n",
       "n2    12068.0  240.0  71042.0  2483.0   7250.0\n",
       "n3      667.0    8.0  14021.0  1647.0    741.0\n",
       "rem    3885.0  159.0  12612.0   103.0  15061.0"
      ]
     },
     "execution_count": 25,
     "metadata": {},
     "output_type": "execute_result"
    }
   ],
   "source": [
    "confusion_matrix_acc_hrv_rrv = pd.read_csv(path.joinpath(\"confusion_matrix_\" + algorithm +\"_benchmark_\" + mod + \"_\" + stage + \".csv\"), index_col = \"Unnamed: 0\")\n",
    "confusion_matrix_acc_hrv_rrv"
   ]
  },
  {
   "cell_type": "code",
   "execution_count": 26,
   "metadata": {},
   "outputs": [
    {
     "data": {
      "text/plain": [
       "param_learning_rate      1.0\n",
       "param_n_estimators     500.0\n",
       "Name: 0, dtype: float64"
      ]
     },
     "execution_count": 26,
     "metadata": {},
     "output_type": "execute_result"
    }
   ],
   "source": [
    "get_best_params(param_list, mod=mod, stage=stage, optimization_metric=\"mcc\")"
   ]
  },
  {
   "cell_type": "markdown",
   "metadata": {
    "tags": []
   },
   "source": [
    "# 5 Stage\n",
    "# ACC + HRV + EDR"
   ]
  },
  {
   "cell_type": "code",
   "execution_count": 27,
   "metadata": {},
   "outputs": [],
   "source": [
    "stage = \"5stage\"\n",
    "mod = \"acc_hrv_EDR\""
   ]
  },
  {
   "cell_type": "code",
   "execution_count": 28,
   "metadata": {},
   "outputs": [],
   "source": [
    "full_results = pd.read_csv(path.joinpath(algorithm +\"_benchmark_\" + mod + \"_\" + stage + \".csv\"), index_col=\"metric\")\n",
    "full_results.columns.name = \"subject\"\n",
    "results = full_results.drop(index=\"confusion_matrix\")"
   ]
  },
  {
   "cell_type": "code",
   "execution_count": 29,
   "metadata": {},
   "outputs": [],
   "source": [
    "results = pd.DataFrame(results.stack(\"subject\"), columns=[\"data\"]).astype(\"float\")"
   ]
  },
  {
   "cell_type": "code",
   "execution_count": 30,
   "metadata": {},
   "outputs": [
    {
     "data": {
      "text/html": [
       "<div>\n",
       "<style scoped>\n",
       "    .dataframe tbody tr th:only-of-type {\n",
       "        vertical-align: middle;\n",
       "    }\n",
       "\n",
       "    .dataframe tbody tr th {\n",
       "        vertical-align: top;\n",
       "    }\n",
       "\n",
       "    .dataframe thead tr th {\n",
       "        text-align: left;\n",
       "    }\n",
       "\n",
       "    .dataframe thead tr:last-of-type th {\n",
       "        text-align: right;\n",
       "    }\n",
       "</style>\n",
       "<table border=\"1\" class=\"dataframe\">\n",
       "  <thead>\n",
       "    <tr>\n",
       "      <th></th>\n",
       "      <th colspan=\"2\" halign=\"left\">data</th>\n",
       "    </tr>\n",
       "    <tr>\n",
       "      <th></th>\n",
       "      <th>mean</th>\n",
       "      <th>std</th>\n",
       "    </tr>\n",
       "    <tr>\n",
       "      <th>metric</th>\n",
       "      <th></th>\n",
       "      <th></th>\n",
       "    </tr>\n",
       "  </thead>\n",
       "  <tbody>\n",
       "    <tr>\n",
       "      <th>accuracy</th>\n",
       "      <td>0.570210</td>\n",
       "      <td>0.097190</td>\n",
       "    </tr>\n",
       "    <tr>\n",
       "      <th>bed_interval_end</th>\n",
       "      <td>1049.620536</td>\n",
       "      <td>148.279048</td>\n",
       "    </tr>\n",
       "    <tr>\n",
       "      <th>bed_interval_start</th>\n",
       "      <td>67.334821</td>\n",
       "      <td>70.022350</td>\n",
       "    </tr>\n",
       "    <tr>\n",
       "      <th>f1</th>\n",
       "      <td>0.504981</td>\n",
       "      <td>0.103515</td>\n",
       "    </tr>\n",
       "    <tr>\n",
       "      <th>getup_latency</th>\n",
       "      <td>9.955357</td>\n",
       "      <td>24.342802</td>\n",
       "    </tr>\n",
       "    <tr>\n",
       "      <th>kappa</th>\n",
       "      <td>0.328040</td>\n",
       "      <td>0.126190</td>\n",
       "    </tr>\n",
       "    <tr>\n",
       "      <th>mcc</th>\n",
       "      <td>0.368072</td>\n",
       "      <td>0.125562</td>\n",
       "    </tr>\n",
       "    <tr>\n",
       "      <th>net_sleep_duration</th>\n",
       "      <td>707.879464</td>\n",
       "      <td>198.842252</td>\n",
       "    </tr>\n",
       "    <tr>\n",
       "      <th>precision</th>\n",
       "      <td>0.548451</td>\n",
       "      <td>0.116749</td>\n",
       "    </tr>\n",
       "    <tr>\n",
       "      <th>recall</th>\n",
       "      <td>0.570210</td>\n",
       "      <td>0.097190</td>\n",
       "    </tr>\n",
       "    <tr>\n",
       "      <th>sleep_efficiency</th>\n",
       "      <td>72.177796</td>\n",
       "      <td>17.286626</td>\n",
       "    </tr>\n",
       "    <tr>\n",
       "      <th>sleep_onset</th>\n",
       "      <td>111.968750</td>\n",
       "      <td>87.041529</td>\n",
       "    </tr>\n",
       "    <tr>\n",
       "      <th>sleep_onset_latency</th>\n",
       "      <td>44.633929</td>\n",
       "      <td>61.581984</td>\n",
       "    </tr>\n",
       "    <tr>\n",
       "      <th>specifity</th>\n",
       "      <td>0.844439</td>\n",
       "      <td>0.062167</td>\n",
       "    </tr>\n",
       "    <tr>\n",
       "      <th>total_sleep_duration</th>\n",
       "      <td>983.285714</td>\n",
       "      <td>152.957389</td>\n",
       "    </tr>\n",
       "    <tr>\n",
       "      <th>wake_after_sleep_onset</th>\n",
       "      <td>204.571429</td>\n",
       "      <td>153.549817</td>\n",
       "    </tr>\n",
       "    <tr>\n",
       "      <th>wake_onset</th>\n",
       "      <td>1039.665179</td>\n",
       "      <td>148.991556</td>\n",
       "    </tr>\n",
       "  </tbody>\n",
       "</table>\n",
       "</div>"
      ],
      "text/plain": [
       "                               data            \n",
       "                               mean         std\n",
       "metric                                         \n",
       "accuracy                   0.570210    0.097190\n",
       "bed_interval_end        1049.620536  148.279048\n",
       "bed_interval_start        67.334821   70.022350\n",
       "f1                         0.504981    0.103515\n",
       "getup_latency              9.955357   24.342802\n",
       "kappa                      0.328040    0.126190\n",
       "mcc                        0.368072    0.125562\n",
       "net_sleep_duration       707.879464  198.842252\n",
       "precision                  0.548451    0.116749\n",
       "recall                     0.570210    0.097190\n",
       "sleep_efficiency          72.177796   17.286626\n",
       "sleep_onset              111.968750   87.041529\n",
       "sleep_onset_latency       44.633929   61.581984\n",
       "specifity                  0.844439    0.062167\n",
       "total_sleep_duration     983.285714  152.957389\n",
       "wake_after_sleep_onset   204.571429  153.549817\n",
       "wake_onset              1039.665179  148.991556"
      ]
     },
     "execution_count": 30,
     "metadata": {},
     "output_type": "execute_result"
    }
   ],
   "source": [
    "results.groupby(\"metric\").agg([\"mean\", \"std\"])"
   ]
  },
  {
   "cell_type": "code",
   "execution_count": 31,
   "metadata": {},
   "outputs": [
    {
     "data": {
      "text/html": [
       "<div>\n",
       "<style scoped>\n",
       "    .dataframe tbody tr th:only-of-type {\n",
       "        vertical-align: middle;\n",
       "    }\n",
       "\n",
       "    .dataframe tbody tr th {\n",
       "        vertical-align: top;\n",
       "    }\n",
       "\n",
       "    .dataframe thead th {\n",
       "        text-align: right;\n",
       "    }\n",
       "</style>\n",
       "<table border=\"1\" class=\"dataframe\">\n",
       "  <thead>\n",
       "    <tr style=\"text-align: right;\">\n",
       "      <th></th>\n",
       "      <th>wake</th>\n",
       "      <th>n1</th>\n",
       "      <th>n2</th>\n",
       "      <th>n3</th>\n",
       "      <th>rem</th>\n",
       "    </tr>\n",
       "  </thead>\n",
       "  <tbody>\n",
       "    <tr>\n",
       "      <th>wake</th>\n",
       "      <td>58393.0</td>\n",
       "      <td>184.0</td>\n",
       "      <td>20423.0</td>\n",
       "      <td>57.0</td>\n",
       "      <td>1802.0</td>\n",
       "    </tr>\n",
       "    <tr>\n",
       "      <th>n1</th>\n",
       "      <td>7705.0</td>\n",
       "      <td>208.0</td>\n",
       "      <td>13608.0</td>\n",
       "      <td>18.0</td>\n",
       "      <td>1563.0</td>\n",
       "    </tr>\n",
       "    <tr>\n",
       "      <th>n2</th>\n",
       "      <td>12863.0</td>\n",
       "      <td>159.0</td>\n",
       "      <td>75928.0</td>\n",
       "      <td>758.0</td>\n",
       "      <td>3375.0</td>\n",
       "    </tr>\n",
       "    <tr>\n",
       "      <th>n3</th>\n",
       "      <td>866.0</td>\n",
       "      <td>6.0</td>\n",
       "      <td>14988.0</td>\n",
       "      <td>604.0</td>\n",
       "      <td>620.0</td>\n",
       "    </tr>\n",
       "    <tr>\n",
       "      <th>rem</th>\n",
       "      <td>3604.0</td>\n",
       "      <td>119.0</td>\n",
       "      <td>22451.0</td>\n",
       "      <td>109.0</td>\n",
       "      <td>5537.0</td>\n",
       "    </tr>\n",
       "  </tbody>\n",
       "</table>\n",
       "</div>"
      ],
      "text/plain": [
       "         wake     n1       n2     n3     rem\n",
       "wake  58393.0  184.0  20423.0   57.0  1802.0\n",
       "n1     7705.0  208.0  13608.0   18.0  1563.0\n",
       "n2    12863.0  159.0  75928.0  758.0  3375.0\n",
       "n3      866.0    6.0  14988.0  604.0   620.0\n",
       "rem    3604.0  119.0  22451.0  109.0  5537.0"
      ]
     },
     "execution_count": 31,
     "metadata": {},
     "output_type": "execute_result"
    }
   ],
   "source": [
    "confusion_matrix_acc_hrv_edr = pd.read_csv(path.joinpath(\"confusion_matrix_\" + algorithm +\"_benchmark_\" + mod + \"_\" + stage + \".csv\"), index_col = \"Unnamed: 0\")\n",
    "confusion_matrix_acc_hrv_edr"
   ]
  },
  {
   "cell_type": "code",
   "execution_count": 32,
   "metadata": {},
   "outputs": [
    {
     "data": {
      "text/plain": [
       "param_learning_rate      1.0\n",
       "param_n_estimators     500.0\n",
       "Name: 0, dtype: float64"
      ]
     },
     "execution_count": 32,
     "metadata": {},
     "output_type": "execute_result"
    }
   ],
   "source": [
    "get_best_params(param_list, mod=mod, stage=stage, optimization_metric=\"mcc\")"
   ]
  },
  {
   "cell_type": "code",
   "execution_count": 33,
   "metadata": {},
   "outputs": [
    {
     "name": "stderr",
     "output_type": "stream",
     "text": [
      "/var/folders/kr/z18bsf7n4xsf9cd__hgnn7lh0000gn/T/ipykernel_93113/1399343355.py:2: FutureWarning: Support for multi-dimensional indexing (e.g. `obj[:, None]`) is deprecated and will be removed in a future version.  Convert to a numpy array before indexing instead.\n",
      "  x = confusion_matrix.sum(axis=1)[:, np.newaxis]\n",
      "/var/folders/kr/z18bsf7n4xsf9cd__hgnn7lh0000gn/T/ipykernel_93113/1399343355.py:2: FutureWarning: Support for multi-dimensional indexing (e.g. `obj[:, None]`) is deprecated and will be removed in a future version.  Convert to a numpy array before indexing instead.\n",
      "  x = confusion_matrix.sum(axis=1)[:, np.newaxis]\n",
      "/var/folders/kr/z18bsf7n4xsf9cd__hgnn7lh0000gn/T/ipykernel_93113/1399343355.py:2: FutureWarning: Support for multi-dimensional indexing (e.g. `obj[:, None]`) is deprecated and will be removed in a future version.  Convert to a numpy array before indexing instead.\n",
      "  x = confusion_matrix.sum(axis=1)[:, np.newaxis]\n",
      "/var/folders/kr/z18bsf7n4xsf9cd__hgnn7lh0000gn/T/ipykernel_93113/1399343355.py:2: FutureWarning: Support for multi-dimensional indexing (e.g. `obj[:, None]`) is deprecated and will be removed in a future version.  Convert to a numpy array before indexing instead.\n",
      "  x = confusion_matrix.sum(axis=1)[:, np.newaxis]\n"
     ]
    },
    {
     "data": {
      "text/plain": [
       "Text(0.5, 1.0, 'ACT + HRV + EDR')"
      ]
     },
     "execution_count": 33,
     "metadata": {},
     "output_type": "execute_result"
    },
    {
     "data": {
      "application/vnd.jupyter.widget-view+json": {
       "model_id": "78a521956f8d46b8ae92291b9b373dd9",
       "version_major": 2,
       "version_minor": 0
      },
      "image/png": "[encoded data removed]",
      "text/html": [
       "\n",
       "            <div style=\"display: inline-block;\">\n",
       "                <div class=\"jupyter-widgets widget-label\" style=\"text-align: center;\">\n",
       "                    Figure\n",
       "                </div>\n",
       "                <img src='data:image/png;base64,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' width=2000.0/>\n",
       "            </div>\n",
       "        "
      ],
      "text/plain": [
       "Canvas(toolbar=Toolbar(toolitems=[('Home', 'Reset original view', 'home', 'home'), ('Back', 'Back to previous …"
      ]
     },
     "metadata": {},
     "output_type": "display_data"
    }
   ],
   "source": [
    "fig, axs = plt.subplots(ncols=4, figsize = (20,4))\n",
    "sns.heatmap(conf_matrix(confusion_matrix_acc), fmt='g',annot=True, ax=axs[0], cmap=\"Greens\")\n",
    "sns.heatmap(conf_matrix(confusion_matrix_acc_hrv), fmt='g',annot=True, ax=axs[1], cmap=\"Greens\")\n",
    "sns.heatmap(conf_matrix(confusion_matrix_acc_hrv_rrv), fmt='g',annot=True, ax=axs[2], cmap=\"Greens\")\n",
    "sns.heatmap(conf_matrix(confusion_matrix_acc_hrv_edr), fmt='g',annot=True, ax=axs[3], cmap=\"Greens\")\n",
    "axs[0].set_title(\"ACT\")\n",
    "axs[1].set_title(\"ACT + HRV\")\n",
    "axs[2].set_title(\"ACT + HRV + RRV\")\n",
    "axs[3].set_title(\"ACT + HRV + EDR\")"
   ]
  },
  {
   "cell_type": "markdown",
   "metadata": {
    "tags": []
   },
   "source": [
    "# 3 Stage\n",
    "# Acc"
   ]
  },
  {
   "cell_type": "code",
   "execution_count": 34,
   "metadata": {},
   "outputs": [],
   "source": [
    "stage = \"3stage\"\n",
    "mod = \"acc\""
   ]
  },
  {
   "cell_type": "code",
   "execution_count": 35,
   "metadata": {},
   "outputs": [],
   "source": [
    "full_results = pd.read_csv(path.joinpath(algorithm +\"_benchmark_\" + mod + \"_\" + stage + \".csv\"), index_col=\"metric\")\n",
    "full_results.columns.name = \"subject\"\n",
    "results = full_results.drop(index=\"confusion_matrix\")"
   ]
  },
  {
   "cell_type": "code",
   "execution_count": 36,
   "metadata": {},
   "outputs": [],
   "source": [
    "results = pd.DataFrame(results.stack(\"subject\"), columns=[\"data\"]).astype(\"float\")"
   ]
  },
  {
   "cell_type": "code",
   "execution_count": 37,
   "metadata": {},
   "outputs": [
    {
     "data": {
      "text/html": [
       "<div>\n",
       "<style scoped>\n",
       "    .dataframe tbody tr th:only-of-type {\n",
       "        vertical-align: middle;\n",
       "    }\n",
       "\n",
       "    .dataframe tbody tr th {\n",
       "        vertical-align: top;\n",
       "    }\n",
       "\n",
       "    .dataframe thead tr th {\n",
       "        text-align: left;\n",
       "    }\n",
       "\n",
       "    .dataframe thead tr:last-of-type th {\n",
       "        text-align: right;\n",
       "    }\n",
       "</style>\n",
       "<table border=\"1\" class=\"dataframe\">\n",
       "  <thead>\n",
       "    <tr>\n",
       "      <th></th>\n",
       "      <th colspan=\"2\" halign=\"left\">data</th>\n",
       "    </tr>\n",
       "    <tr>\n",
       "      <th></th>\n",
       "      <th>mean</th>\n",
       "      <th>std</th>\n",
       "    </tr>\n",
       "    <tr>\n",
       "      <th>metric</th>\n",
       "      <th></th>\n",
       "      <th></th>\n",
       "    </tr>\n",
       "  </thead>\n",
       "  <tbody>\n",
       "    <tr>\n",
       "      <th>accuracy</th>\n",
       "      <td>0.684401</td>\n",
       "      <td>0.093613</td>\n",
       "    </tr>\n",
       "    <tr>\n",
       "      <th>bed_interval_end</th>\n",
       "      <td>1049.620536</td>\n",
       "      <td>148.279048</td>\n",
       "    </tr>\n",
       "    <tr>\n",
       "      <th>bed_interval_start</th>\n",
       "      <td>67.334821</td>\n",
       "      <td>70.022350</td>\n",
       "    </tr>\n",
       "    <tr>\n",
       "      <th>f1</th>\n",
       "      <td>0.629109</td>\n",
       "      <td>0.097237</td>\n",
       "    </tr>\n",
       "    <tr>\n",
       "      <th>getup_latency</th>\n",
       "      <td>6.138393</td>\n",
       "      <td>23.258608</td>\n",
       "    </tr>\n",
       "    <tr>\n",
       "      <th>kappa</th>\n",
       "      <td>0.364319</td>\n",
       "      <td>0.167646</td>\n",
       "    </tr>\n",
       "    <tr>\n",
       "      <th>mcc</th>\n",
       "      <td>0.414110</td>\n",
       "      <td>0.166663</td>\n",
       "    </tr>\n",
       "    <tr>\n",
       "      <th>net_sleep_duration</th>\n",
       "      <td>790.084821</td>\n",
       "      <td>178.007424</td>\n",
       "    </tr>\n",
       "    <tr>\n",
       "      <th>precision</th>\n",
       "      <td>0.628139</td>\n",
       "      <td>0.088384</td>\n",
       "    </tr>\n",
       "    <tr>\n",
       "      <th>recall</th>\n",
       "      <td>0.684401</td>\n",
       "      <td>0.093613</td>\n",
       "    </tr>\n",
       "    <tr>\n",
       "      <th>sleep_efficiency</th>\n",
       "      <td>80.539583</td>\n",
       "      <td>14.044898</td>\n",
       "    </tr>\n",
       "    <tr>\n",
       "      <th>sleep_onset</th>\n",
       "      <td>103.669643</td>\n",
       "      <td>83.779006</td>\n",
       "    </tr>\n",
       "    <tr>\n",
       "      <th>sleep_onset_latency</th>\n",
       "      <td>36.334821</td>\n",
       "      <td>52.148971</td>\n",
       "    </tr>\n",
       "    <tr>\n",
       "      <th>specifity</th>\n",
       "      <td>0.806939</td>\n",
       "      <td>0.110253</td>\n",
       "    </tr>\n",
       "    <tr>\n",
       "      <th>total_sleep_duration</th>\n",
       "      <td>983.285714</td>\n",
       "      <td>152.957389</td>\n",
       "    </tr>\n",
       "    <tr>\n",
       "      <th>wake_after_sleep_onset</th>\n",
       "      <td>135.776786</td>\n",
       "      <td>125.739478</td>\n",
       "    </tr>\n",
       "    <tr>\n",
       "      <th>wake_onset</th>\n",
       "      <td>1040.075893</td>\n",
       "      <td>148.778249</td>\n",
       "    </tr>\n",
       "  </tbody>\n",
       "</table>\n",
       "</div>"
      ],
      "text/plain": [
       "                               data            \n",
       "                               mean         std\n",
       "metric                                         \n",
       "accuracy                   0.684401    0.093613\n",
       "bed_interval_end        1049.620536  148.279048\n",
       "bed_interval_start        67.334821   70.022350\n",
       "f1                         0.629109    0.097237\n",
       "getup_latency              6.138393   23.258608\n",
       "kappa                      0.364319    0.167646\n",
       "mcc                        0.414110    0.166663\n",
       "net_sleep_duration       790.084821  178.007424\n",
       "precision                  0.628139    0.088384\n",
       "recall                     0.684401    0.093613\n",
       "sleep_efficiency          80.539583   14.044898\n",
       "sleep_onset              103.669643   83.779006\n",
       "sleep_onset_latency       36.334821   52.148971\n",
       "specifity                  0.806939    0.110253\n",
       "total_sleep_duration     983.285714  152.957389\n",
       "wake_after_sleep_onset   135.776786  125.739478\n",
       "wake_onset              1040.075893  148.778249"
      ]
     },
     "execution_count": 37,
     "metadata": {},
     "output_type": "execute_result"
    }
   ],
   "source": [
    "results.groupby(\"metric\").agg([\"mean\", \"std\"])"
   ]
  },
  {
   "cell_type": "code",
   "execution_count": 38,
   "metadata": {},
   "outputs": [
    {
     "data": {
      "text/html": [
       "<div>\n",
       "<style scoped>\n",
       "    .dataframe tbody tr th:only-of-type {\n",
       "        vertical-align: middle;\n",
       "    }\n",
       "\n",
       "    .dataframe tbody tr th {\n",
       "        vertical-align: top;\n",
       "    }\n",
       "\n",
       "    .dataframe thead th {\n",
       "        text-align: right;\n",
       "    }\n",
       "</style>\n",
       "<table border=\"1\" class=\"dataframe\">\n",
       "  <thead>\n",
       "    <tr style=\"text-align: right;\">\n",
       "      <th></th>\n",
       "      <th>wake</th>\n",
       "      <th>nrem</th>\n",
       "      <th>rem</th>\n",
       "    </tr>\n",
       "  </thead>\n",
       "  <tbody>\n",
       "    <tr>\n",
       "      <th>wake</th>\n",
       "      <td>48707.0</td>\n",
       "      <td>32150.0</td>\n",
       "      <td>2.0</td>\n",
       "    </tr>\n",
       "    <tr>\n",
       "      <th>nrem</th>\n",
       "      <td>13378.0</td>\n",
       "      <td>119881.0</td>\n",
       "      <td>10.0</td>\n",
       "    </tr>\n",
       "    <tr>\n",
       "      <th>rem</th>\n",
       "      <td>1361.0</td>\n",
       "      <td>30459.0</td>\n",
       "      <td>0.0</td>\n",
       "    </tr>\n",
       "  </tbody>\n",
       "</table>\n",
       "</div>"
      ],
      "text/plain": [
       "         wake      nrem   rem\n",
       "wake  48707.0   32150.0   2.0\n",
       "nrem  13378.0  119881.0  10.0\n",
       "rem    1361.0   30459.0   0.0"
      ]
     },
     "execution_count": 38,
     "metadata": {},
     "output_type": "execute_result"
    }
   ],
   "source": [
    "confusion_matrix_acc= pd.read_csv(path.joinpath(\"confusion_matrix_\" + algorithm +\"_benchmark_\" + mod + \"_\" + stage + \".csv\"), index_col = \"Unnamed: 0\")\n",
    "confusion_matrix_acc"
   ]
  },
  {
   "cell_type": "markdown",
   "metadata": {
    "tags": []
   },
   "source": [
    "# 3 Stage\n",
    "# Acc + HRV"
   ]
  },
  {
   "cell_type": "code",
   "execution_count": 39,
   "metadata": {},
   "outputs": [],
   "source": [
    "stage = \"3stage\"\n",
    "mod = \"acc_hrv\""
   ]
  },
  {
   "cell_type": "code",
   "execution_count": 40,
   "metadata": {},
   "outputs": [],
   "source": [
    "full_results = pd.read_csv(path.joinpath(algorithm +\"_benchmark_\" + mod + \"_\" + stage + \".csv\"), index_col=\"metric\")\n",
    "full_results.columns.name = \"subject\"\n",
    "results = full_results.drop(index=\"confusion_matrix\")"
   ]
  },
  {
   "cell_type": "code",
   "execution_count": 41,
   "metadata": {},
   "outputs": [],
   "source": [
    "results = pd.DataFrame(results.stack(\"subject\"), columns=[\"data\"]).astype(\"float\")"
   ]
  },
  {
   "cell_type": "code",
   "execution_count": 42,
   "metadata": {},
   "outputs": [
    {
     "data": {
      "text/html": [
       "<div>\n",
       "<style scoped>\n",
       "    .dataframe tbody tr th:only-of-type {\n",
       "        vertical-align: middle;\n",
       "    }\n",
       "\n",
       "    .dataframe tbody tr th {\n",
       "        vertical-align: top;\n",
       "    }\n",
       "\n",
       "    .dataframe thead tr th {\n",
       "        text-align: left;\n",
       "    }\n",
       "\n",
       "    .dataframe thead tr:last-of-type th {\n",
       "        text-align: right;\n",
       "    }\n",
       "</style>\n",
       "<table border=\"1\" class=\"dataframe\">\n",
       "  <thead>\n",
       "    <tr>\n",
       "      <th></th>\n",
       "      <th colspan=\"2\" halign=\"left\">data</th>\n",
       "    </tr>\n",
       "    <tr>\n",
       "      <th></th>\n",
       "      <th>mean</th>\n",
       "      <th>std</th>\n",
       "    </tr>\n",
       "    <tr>\n",
       "      <th>metric</th>\n",
       "      <th></th>\n",
       "      <th></th>\n",
       "    </tr>\n",
       "  </thead>\n",
       "  <tbody>\n",
       "    <tr>\n",
       "      <th>accuracy</th>\n",
       "      <td>0.689929</td>\n",
       "      <td>0.093750</td>\n",
       "    </tr>\n",
       "    <tr>\n",
       "      <th>bed_interval_end</th>\n",
       "      <td>1049.620536</td>\n",
       "      <td>148.279048</td>\n",
       "    </tr>\n",
       "    <tr>\n",
       "      <th>bed_interval_start</th>\n",
       "      <td>67.334821</td>\n",
       "      <td>70.022350</td>\n",
       "    </tr>\n",
       "    <tr>\n",
       "      <th>f1</th>\n",
       "      <td>0.637181</td>\n",
       "      <td>0.097878</td>\n",
       "    </tr>\n",
       "    <tr>\n",
       "      <th>getup_latency</th>\n",
       "      <td>5.500000</td>\n",
       "      <td>19.629528</td>\n",
       "    </tr>\n",
       "    <tr>\n",
       "      <th>kappa</th>\n",
       "      <td>0.384545</td>\n",
       "      <td>0.160568</td>\n",
       "    </tr>\n",
       "    <tr>\n",
       "      <th>mcc</th>\n",
       "      <td>0.432720</td>\n",
       "      <td>0.154194</td>\n",
       "    </tr>\n",
       "    <tr>\n",
       "      <th>net_sleep_duration</th>\n",
       "      <td>772.334821</td>\n",
       "      <td>184.679845</td>\n",
       "    </tr>\n",
       "    <tr>\n",
       "      <th>precision</th>\n",
       "      <td>0.674915</td>\n",
       "      <td>0.094166</td>\n",
       "    </tr>\n",
       "    <tr>\n",
       "      <th>recall</th>\n",
       "      <td>0.689929</td>\n",
       "      <td>0.093750</td>\n",
       "    </tr>\n",
       "    <tr>\n",
       "      <th>sleep_efficiency</th>\n",
       "      <td>78.749365</td>\n",
       "      <td>15.073679</td>\n",
       "    </tr>\n",
       "    <tr>\n",
       "      <th>sleep_onset</th>\n",
       "      <td>101.830357</td>\n",
       "      <td>83.362237</td>\n",
       "    </tr>\n",
       "    <tr>\n",
       "      <th>sleep_onset_latency</th>\n",
       "      <td>34.495536</td>\n",
       "      <td>50.132291</td>\n",
       "    </tr>\n",
       "    <tr>\n",
       "      <th>specifity</th>\n",
       "      <td>0.813278</td>\n",
       "      <td>0.101617</td>\n",
       "    </tr>\n",
       "    <tr>\n",
       "      <th>total_sleep_duration</th>\n",
       "      <td>983.285714</td>\n",
       "      <td>152.957389</td>\n",
       "    </tr>\n",
       "    <tr>\n",
       "      <th>wake_after_sleep_onset</th>\n",
       "      <td>154.571429</td>\n",
       "      <td>135.914456</td>\n",
       "    </tr>\n",
       "    <tr>\n",
       "      <th>wake_onset</th>\n",
       "      <td>1041.187500</td>\n",
       "      <td>148.823429</td>\n",
       "    </tr>\n",
       "  </tbody>\n",
       "</table>\n",
       "</div>"
      ],
      "text/plain": [
       "                               data            \n",
       "                               mean         std\n",
       "metric                                         \n",
       "accuracy                   0.689929    0.093750\n",
       "bed_interval_end        1049.620536  148.279048\n",
       "bed_interval_start        67.334821   70.022350\n",
       "f1                         0.637181    0.097878\n",
       "getup_latency              5.500000   19.629528\n",
       "kappa                      0.384545    0.160568\n",
       "mcc                        0.432720    0.154194\n",
       "net_sleep_duration       772.334821  184.679845\n",
       "precision                  0.674915    0.094166\n",
       "recall                     0.689929    0.093750\n",
       "sleep_efficiency          78.749365   15.073679\n",
       "sleep_onset              101.830357   83.362237\n",
       "sleep_onset_latency       34.495536   50.132291\n",
       "specifity                  0.813278    0.101617\n",
       "total_sleep_duration     983.285714  152.957389\n",
       "wake_after_sleep_onset   154.571429  135.914456\n",
       "wake_onset              1041.187500  148.823429"
      ]
     },
     "execution_count": 42,
     "metadata": {},
     "output_type": "execute_result"
    }
   ],
   "source": [
    "results.groupby(\"metric\").agg([\"mean\", \"std\"])"
   ]
  },
  {
   "cell_type": "code",
   "execution_count": 43,
   "metadata": {},
   "outputs": [
    {
     "data": {
      "text/html": [
       "<div>\n",
       "<style scoped>\n",
       "    .dataframe tbody tr th:only-of-type {\n",
       "        vertical-align: middle;\n",
       "    }\n",
       "\n",
       "    .dataframe tbody tr th {\n",
       "        vertical-align: top;\n",
       "    }\n",
       "\n",
       "    .dataframe thead th {\n",
       "        text-align: right;\n",
       "    }\n",
       "</style>\n",
       "<table border=\"1\" class=\"dataframe\">\n",
       "  <thead>\n",
       "    <tr style=\"text-align: right;\">\n",
       "      <th></th>\n",
       "      <th>wake</th>\n",
       "      <th>nrem</th>\n",
       "      <th>rem</th>\n",
       "    </tr>\n",
       "  </thead>\n",
       "  <tbody>\n",
       "    <tr>\n",
       "      <th>wake</th>\n",
       "      <td>51047.0</td>\n",
       "      <td>29650.0</td>\n",
       "      <td>162.0</td>\n",
       "    </tr>\n",
       "    <tr>\n",
       "      <th>nrem</th>\n",
       "      <td>14469.0</td>\n",
       "      <td>118517.0</td>\n",
       "      <td>283.0</td>\n",
       "    </tr>\n",
       "    <tr>\n",
       "      <th>rem</th>\n",
       "      <td>1980.0</td>\n",
       "      <td>29488.0</td>\n",
       "      <td>352.0</td>\n",
       "    </tr>\n",
       "  </tbody>\n",
       "</table>\n",
       "</div>"
      ],
      "text/plain": [
       "         wake      nrem    rem\n",
       "wake  51047.0   29650.0  162.0\n",
       "nrem  14469.0  118517.0  283.0\n",
       "rem    1980.0   29488.0  352.0"
      ]
     },
     "execution_count": 43,
     "metadata": {},
     "output_type": "execute_result"
    }
   ],
   "source": [
    "confusion_matrix_acc_hrv = pd.read_csv(path.joinpath(\"confusion_matrix_\" + algorithm +\"_benchmark_\" + mod + \"_\" + stage + \".csv\"), index_col = \"Unnamed: 0\")\n",
    "confusion_matrix_acc_hrv"
   ]
  },
  {
   "cell_type": "markdown",
   "metadata": {
    "tags": []
   },
   "source": [
    "# 3 Stage\n",
    "# Acc + HRV + RRV"
   ]
  },
  {
   "cell_type": "code",
   "execution_count": 44,
   "metadata": {},
   "outputs": [],
   "source": [
    "stage = \"3stage\"\n",
    "mod = \"acc_hrv_RRV\""
   ]
  },
  {
   "cell_type": "code",
   "execution_count": 45,
   "metadata": {},
   "outputs": [],
   "source": [
    "full_results = pd.read_csv(path.joinpath(algorithm +\"_benchmark_\" + mod + \"_\" + stage + \".csv\"), index_col=\"metric\")\n",
    "full_results.columns.name = \"subject\"\n",
    "results = full_results.drop(index=\"confusion_matrix\")"
   ]
  },
  {
   "cell_type": "code",
   "execution_count": 46,
   "metadata": {},
   "outputs": [],
   "source": [
    "results = pd.DataFrame(results.stack(\"subject\"), columns=[\"data\"]).astype(\"float\")"
   ]
  },
  {
   "cell_type": "code",
   "execution_count": 47,
   "metadata": {},
   "outputs": [
    {
     "data": {
      "text/html": [
       "<div>\n",
       "<style scoped>\n",
       "    .dataframe tbody tr th:only-of-type {\n",
       "        vertical-align: middle;\n",
       "    }\n",
       "\n",
       "    .dataframe tbody tr th {\n",
       "        vertical-align: top;\n",
       "    }\n",
       "\n",
       "    .dataframe thead tr th {\n",
       "        text-align: left;\n",
       "    }\n",
       "\n",
       "    .dataframe thead tr:last-of-type th {\n",
       "        text-align: right;\n",
       "    }\n",
       "</style>\n",
       "<table border=\"1\" class=\"dataframe\">\n",
       "  <thead>\n",
       "    <tr>\n",
       "      <th></th>\n",
       "      <th colspan=\"2\" halign=\"left\">data</th>\n",
       "    </tr>\n",
       "    <tr>\n",
       "      <th></th>\n",
       "      <th>mean</th>\n",
       "      <th>std</th>\n",
       "    </tr>\n",
       "    <tr>\n",
       "      <th>metric</th>\n",
       "      <th></th>\n",
       "      <th></th>\n",
       "    </tr>\n",
       "  </thead>\n",
       "  <tbody>\n",
       "    <tr>\n",
       "      <th>accuracy</th>\n",
       "      <td>0.728752</td>\n",
       "      <td>0.098244</td>\n",
       "    </tr>\n",
       "    <tr>\n",
       "      <th>bed_interval_end</th>\n",
       "      <td>1049.620536</td>\n",
       "      <td>148.279048</td>\n",
       "    </tr>\n",
       "    <tr>\n",
       "      <th>bed_interval_start</th>\n",
       "      <td>67.334821</td>\n",
       "      <td>70.022350</td>\n",
       "    </tr>\n",
       "    <tr>\n",
       "      <th>f1</th>\n",
       "      <td>0.710206</td>\n",
       "      <td>0.104215</td>\n",
       "    </tr>\n",
       "    <tr>\n",
       "      <th>getup_latency</th>\n",
       "      <td>5.700893</td>\n",
       "      <td>20.967727</td>\n",
       "    </tr>\n",
       "    <tr>\n",
       "      <th>kappa</th>\n",
       "      <td>0.496915</td>\n",
       "      <td>0.157367</td>\n",
       "    </tr>\n",
       "    <tr>\n",
       "      <th>mcc</th>\n",
       "      <td>0.523813</td>\n",
       "      <td>0.146769</td>\n",
       "    </tr>\n",
       "    <tr>\n",
       "      <th>net_sleep_duration</th>\n",
       "      <td>754.160714</td>\n",
       "      <td>187.295697</td>\n",
       "    </tr>\n",
       "    <tr>\n",
       "      <th>precision</th>\n",
       "      <td>0.756161</td>\n",
       "      <td>0.075876</td>\n",
       "    </tr>\n",
       "    <tr>\n",
       "      <th>recall</th>\n",
       "      <td>0.728752</td>\n",
       "      <td>0.098244</td>\n",
       "    </tr>\n",
       "    <tr>\n",
       "      <th>sleep_efficiency</th>\n",
       "      <td>76.960004</td>\n",
       "      <td>15.803915</td>\n",
       "    </tr>\n",
       "    <tr>\n",
       "      <th>sleep_onset</th>\n",
       "      <td>102.861607</td>\n",
       "      <td>84.300836</td>\n",
       "    </tr>\n",
       "    <tr>\n",
       "      <th>sleep_onset_latency</th>\n",
       "      <td>35.526786</td>\n",
       "      <td>54.341712</td>\n",
       "    </tr>\n",
       "    <tr>\n",
       "      <th>specifity</th>\n",
       "      <td>0.819729</td>\n",
       "      <td>0.087971</td>\n",
       "    </tr>\n",
       "    <tr>\n",
       "      <th>total_sleep_duration</th>\n",
       "      <td>983.285714</td>\n",
       "      <td>152.957389</td>\n",
       "    </tr>\n",
       "    <tr>\n",
       "      <th>wake_after_sleep_onset</th>\n",
       "      <td>169.883929</td>\n",
       "      <td>141.382618</td>\n",
       "    </tr>\n",
       "    <tr>\n",
       "      <th>wake_onset</th>\n",
       "      <td>1041.008929</td>\n",
       "      <td>149.046566</td>\n",
       "    </tr>\n",
       "  </tbody>\n",
       "</table>\n",
       "</div>"
      ],
      "text/plain": [
       "                               data            \n",
       "                               mean         std\n",
       "metric                                         \n",
       "accuracy                   0.728752    0.098244\n",
       "bed_interval_end        1049.620536  148.279048\n",
       "bed_interval_start        67.334821   70.022350\n",
       "f1                         0.710206    0.104215\n",
       "getup_latency              5.700893   20.967727\n",
       "kappa                      0.496915    0.157367\n",
       "mcc                        0.523813    0.146769\n",
       "net_sleep_duration       754.160714  187.295697\n",
       "precision                  0.756161    0.075876\n",
       "recall                     0.728752    0.098244\n",
       "sleep_efficiency          76.960004   15.803915\n",
       "sleep_onset              102.861607   84.300836\n",
       "sleep_onset_latency       35.526786   54.341712\n",
       "specifity                  0.819729    0.087971\n",
       "total_sleep_duration     983.285714  152.957389\n",
       "wake_after_sleep_onset   169.883929  141.382618\n",
       "wake_onset              1041.008929  149.046566"
      ]
     },
     "execution_count": 47,
     "metadata": {},
     "output_type": "execute_result"
    }
   ],
   "source": [
    "results.groupby(\"metric\").agg([\"mean\", \"std\"])"
   ]
  },
  {
   "cell_type": "code",
   "execution_count": 48,
   "metadata": {},
   "outputs": [
    {
     "data": {
      "text/html": [
       "<div>\n",
       "<style scoped>\n",
       "    .dataframe tbody tr th:only-of-type {\n",
       "        vertical-align: middle;\n",
       "    }\n",
       "\n",
       "    .dataframe tbody tr th {\n",
       "        vertical-align: top;\n",
       "    }\n",
       "\n",
       "    .dataframe thead th {\n",
       "        text-align: right;\n",
       "    }\n",
       "</style>\n",
       "<table border=\"1\" class=\"dataframe\">\n",
       "  <thead>\n",
       "    <tr style=\"text-align: right;\">\n",
       "      <th></th>\n",
       "      <th>wake</th>\n",
       "      <th>nrem</th>\n",
       "      <th>rem</th>\n",
       "    </tr>\n",
       "  </thead>\n",
       "  <tbody>\n",
       "    <tr>\n",
       "      <th>wake</th>\n",
       "      <td>55542.0</td>\n",
       "      <td>22914.0</td>\n",
       "      <td>2403.0</td>\n",
       "    </tr>\n",
       "    <tr>\n",
       "      <th>nrem</th>\n",
       "      <td>14460.0</td>\n",
       "      <td>112625.0</td>\n",
       "      <td>6184.0</td>\n",
       "    </tr>\n",
       "    <tr>\n",
       "      <th>rem</th>\n",
       "      <td>2323.0</td>\n",
       "      <td>18294.0</td>\n",
       "      <td>11203.0</td>\n",
       "    </tr>\n",
       "  </tbody>\n",
       "</table>\n",
       "</div>"
      ],
      "text/plain": [
       "         wake      nrem      rem\n",
       "wake  55542.0   22914.0   2403.0\n",
       "nrem  14460.0  112625.0   6184.0\n",
       "rem    2323.0   18294.0  11203.0"
      ]
     },
     "execution_count": 48,
     "metadata": {},
     "output_type": "execute_result"
    }
   ],
   "source": [
    "confusion_matrix_acc_hrv_rrv = pd.read_csv(path.joinpath(\"confusion_matrix_\" + algorithm +\"_benchmark_\" + mod + \"_\" + stage + \".csv\"), index_col = \"Unnamed: 0\")\n",
    "confusion_matrix_acc_hrv_rrv"
   ]
  },
  {
   "cell_type": "code",
   "execution_count": 49,
   "metadata": {},
   "outputs": [
    {
     "data": {
      "text/plain": [
       "param_learning_rate      1.0\n",
       "param_n_estimators     500.0\n",
       "Name: 0, dtype: float64"
      ]
     },
     "execution_count": 49,
     "metadata": {},
     "output_type": "execute_result"
    }
   ],
   "source": [
    "get_best_params(param_list, mod=mod, stage=stage, optimization_metric=\"mcc\")"
   ]
  },
  {
   "cell_type": "markdown",
   "metadata": {
    "tags": []
   },
   "source": [
    "# 3 Stage\n",
    "# Acc + HRV + EDR"
   ]
  },
  {
   "cell_type": "code",
   "execution_count": 50,
   "metadata": {},
   "outputs": [],
   "source": [
    "stage = \"3stage\"\n",
    "mod = \"acc_hrv_EDR\""
   ]
  },
  {
   "cell_type": "code",
   "execution_count": 51,
   "metadata": {},
   "outputs": [],
   "source": [
    "full_results = pd.read_csv(path.joinpath(algorithm +\"_benchmark_\" + mod + \"_\" + stage + \".csv\"), index_col=\"metric\")\n",
    "full_results.columns.name = \"subject\"\n",
    "results = full_results.drop(index=\"confusion_matrix\")"
   ]
  },
  {
   "cell_type": "code",
   "execution_count": 52,
   "metadata": {},
   "outputs": [],
   "source": [
    "results = pd.DataFrame(results.stack(\"subject\"), columns=[\"data\"]).astype(\"float\")"
   ]
  },
  {
   "cell_type": "code",
   "execution_count": 53,
   "metadata": {},
   "outputs": [
    {
     "data": {
      "text/html": [
       "<div>\n",
       "<style scoped>\n",
       "    .dataframe tbody tr th:only-of-type {\n",
       "        vertical-align: middle;\n",
       "    }\n",
       "\n",
       "    .dataframe tbody tr th {\n",
       "        vertical-align: top;\n",
       "    }\n",
       "\n",
       "    .dataframe thead tr th {\n",
       "        text-align: left;\n",
       "    }\n",
       "\n",
       "    .dataframe thead tr:last-of-type th {\n",
       "        text-align: right;\n",
       "    }\n",
       "</style>\n",
       "<table border=\"1\" class=\"dataframe\">\n",
       "  <thead>\n",
       "    <tr>\n",
       "      <th></th>\n",
       "      <th colspan=\"2\" halign=\"left\">data</th>\n",
       "    </tr>\n",
       "    <tr>\n",
       "      <th></th>\n",
       "      <th>mean</th>\n",
       "      <th>std</th>\n",
       "    </tr>\n",
       "    <tr>\n",
       "      <th>metric</th>\n",
       "      <th></th>\n",
       "      <th></th>\n",
       "    </tr>\n",
       "  </thead>\n",
       "  <tbody>\n",
       "    <tr>\n",
       "      <th>accuracy</th>\n",
       "      <td>0.698145</td>\n",
       "      <td>0.093548</td>\n",
       "    </tr>\n",
       "    <tr>\n",
       "      <th>bed_interval_end</th>\n",
       "      <td>1049.620536</td>\n",
       "      <td>148.279048</td>\n",
       "    </tr>\n",
       "    <tr>\n",
       "      <th>bed_interval_start</th>\n",
       "      <td>67.334821</td>\n",
       "      <td>70.022350</td>\n",
       "    </tr>\n",
       "    <tr>\n",
       "      <th>f1</th>\n",
       "      <td>0.656547</td>\n",
       "      <td>0.099727</td>\n",
       "    </tr>\n",
       "    <tr>\n",
       "      <th>getup_latency</th>\n",
       "      <td>9.218750</td>\n",
       "      <td>25.714566</td>\n",
       "    </tr>\n",
       "    <tr>\n",
       "      <th>kappa</th>\n",
       "      <td>0.411219</td>\n",
       "      <td>0.158262</td>\n",
       "    </tr>\n",
       "    <tr>\n",
       "      <th>mcc</th>\n",
       "      <td>0.452286</td>\n",
       "      <td>0.150655</td>\n",
       "    </tr>\n",
       "    <tr>\n",
       "      <th>net_sleep_duration</th>\n",
       "      <td>764.450893</td>\n",
       "      <td>188.395818</td>\n",
       "    </tr>\n",
       "    <tr>\n",
       "      <th>precision</th>\n",
       "      <td>0.708041</td>\n",
       "      <td>0.091142</td>\n",
       "    </tr>\n",
       "    <tr>\n",
       "      <th>recall</th>\n",
       "      <td>0.698145</td>\n",
       "      <td>0.093548</td>\n",
       "    </tr>\n",
       "    <tr>\n",
       "      <th>sleep_efficiency</th>\n",
       "      <td>77.979055</td>\n",
       "      <td>15.711396</td>\n",
       "    </tr>\n",
       "    <tr>\n",
       "      <th>sleep_onset</th>\n",
       "      <td>104.415179</td>\n",
       "      <td>83.010410</td>\n",
       "    </tr>\n",
       "    <tr>\n",
       "      <th>sleep_onset_latency</th>\n",
       "      <td>37.080357</td>\n",
       "      <td>52.529665</td>\n",
       "    </tr>\n",
       "    <tr>\n",
       "      <th>specifity</th>\n",
       "      <td>0.811699</td>\n",
       "      <td>0.095510</td>\n",
       "    </tr>\n",
       "    <tr>\n",
       "      <th>total_sleep_duration</th>\n",
       "      <td>983.285714</td>\n",
       "      <td>152.957389</td>\n",
       "    </tr>\n",
       "    <tr>\n",
       "      <th>wake_after_sleep_onset</th>\n",
       "      <td>159.254464</td>\n",
       "      <td>141.578901</td>\n",
       "    </tr>\n",
       "    <tr>\n",
       "      <th>wake_onset</th>\n",
       "      <td>1040.401786</td>\n",
       "      <td>148.751393</td>\n",
       "    </tr>\n",
       "  </tbody>\n",
       "</table>\n",
       "</div>"
      ],
      "text/plain": [
       "                               data            \n",
       "                               mean         std\n",
       "metric                                         \n",
       "accuracy                   0.698145    0.093548\n",
       "bed_interval_end        1049.620536  148.279048\n",
       "bed_interval_start        67.334821   70.022350\n",
       "f1                         0.656547    0.099727\n",
       "getup_latency              9.218750   25.714566\n",
       "kappa                      0.411219    0.158262\n",
       "mcc                        0.452286    0.150655\n",
       "net_sleep_duration       764.450893  188.395818\n",
       "precision                  0.708041    0.091142\n",
       "recall                     0.698145    0.093548\n",
       "sleep_efficiency          77.979055   15.711396\n",
       "sleep_onset              104.415179   83.010410\n",
       "sleep_onset_latency       37.080357   52.529665\n",
       "specifity                  0.811699    0.095510\n",
       "total_sleep_duration     983.285714  152.957389\n",
       "wake_after_sleep_onset   159.254464  141.578901\n",
       "wake_onset              1040.401786  148.751393"
      ]
     },
     "execution_count": 53,
     "metadata": {},
     "output_type": "execute_result"
    }
   ],
   "source": [
    "results.groupby(\"metric\").agg([\"mean\", \"std\"])"
   ]
  },
  {
   "cell_type": "code",
   "execution_count": 54,
   "metadata": {},
   "outputs": [
    {
     "data": {
      "text/html": [
       "<div>\n",
       "<style scoped>\n",
       "    .dataframe tbody tr th:only-of-type {\n",
       "        vertical-align: middle;\n",
       "    }\n",
       "\n",
       "    .dataframe tbody tr th {\n",
       "        vertical-align: top;\n",
       "    }\n",
       "\n",
       "    .dataframe thead th {\n",
       "        text-align: right;\n",
       "    }\n",
       "</style>\n",
       "<table border=\"1\" class=\"dataframe\">\n",
       "  <thead>\n",
       "    <tr style=\"text-align: right;\">\n",
       "      <th></th>\n",
       "      <th>wake</th>\n",
       "      <th>nrem</th>\n",
       "      <th>rem</th>\n",
       "    </tr>\n",
       "  </thead>\n",
       "  <tbody>\n",
       "    <tr>\n",
       "      <th>wake</th>\n",
       "      <td>52618.0</td>\n",
       "      <td>27525.0</td>\n",
       "      <td>716.0</td>\n",
       "    </tr>\n",
       "    <tr>\n",
       "      <th>nrem</th>\n",
       "      <td>14828.0</td>\n",
       "      <td>116581.0</td>\n",
       "      <td>1860.0</td>\n",
       "    </tr>\n",
       "    <tr>\n",
       "      <th>rem</th>\n",
       "      <td>2211.0</td>\n",
       "      <td>26808.0</td>\n",
       "      <td>2801.0</td>\n",
       "    </tr>\n",
       "  </tbody>\n",
       "</table>\n",
       "</div>"
      ],
      "text/plain": [
       "         wake      nrem     rem\n",
       "wake  52618.0   27525.0   716.0\n",
       "nrem  14828.0  116581.0  1860.0\n",
       "rem    2211.0   26808.0  2801.0"
      ]
     },
     "execution_count": 54,
     "metadata": {},
     "output_type": "execute_result"
    }
   ],
   "source": [
    "confusion_matrix_acc_hrv_edr = pd.read_csv(path.joinpath(\"confusion_matrix_\" + algorithm +\"_benchmark_\" + mod + \"_\" + stage + \".csv\"), index_col = \"Unnamed: 0\")\n",
    "confusion_matrix_acc_hrv_edr"
   ]
  },
  {
   "cell_type": "code",
   "execution_count": 55,
   "metadata": {},
   "outputs": [
    {
     "data": {
      "text/plain": [
       "param_learning_rate      1.0\n",
       "param_n_estimators     500.0\n",
       "Name: 0, dtype: float64"
      ]
     },
     "execution_count": 55,
     "metadata": {},
     "output_type": "execute_result"
    }
   ],
   "source": [
    "get_best_params(param_list, mod=mod, stage=stage, optimization_metric=\"mcc\")"
   ]
  },
  {
   "cell_type": "code",
   "execution_count": 56,
   "metadata": {},
   "outputs": [
    {
     "name": "stderr",
     "output_type": "stream",
     "text": [
      "/var/folders/kr/z18bsf7n4xsf9cd__hgnn7lh0000gn/T/ipykernel_93113/1399343355.py:2: FutureWarning: Support for multi-dimensional indexing (e.g. `obj[:, None]`) is deprecated and will be removed in a future version.  Convert to a numpy array before indexing instead.\n",
      "  x = confusion_matrix.sum(axis=1)[:, np.newaxis]\n",
      "/var/folders/kr/z18bsf7n4xsf9cd__hgnn7lh0000gn/T/ipykernel_93113/1399343355.py:2: FutureWarning: Support for multi-dimensional indexing (e.g. `obj[:, None]`) is deprecated and will be removed in a future version.  Convert to a numpy array before indexing instead.\n",
      "  x = confusion_matrix.sum(axis=1)[:, np.newaxis]\n",
      "/var/folders/kr/z18bsf7n4xsf9cd__hgnn7lh0000gn/T/ipykernel_93113/1399343355.py:2: FutureWarning: Support for multi-dimensional indexing (e.g. `obj[:, None]`) is deprecated and will be removed in a future version.  Convert to a numpy array before indexing instead.\n",
      "  x = confusion_matrix.sum(axis=1)[:, np.newaxis]\n",
      "/var/folders/kr/z18bsf7n4xsf9cd__hgnn7lh0000gn/T/ipykernel_93113/1399343355.py:2: FutureWarning: Support for multi-dimensional indexing (e.g. `obj[:, None]`) is deprecated and will be removed in a future version.  Convert to a numpy array before indexing instead.\n",
      "  x = confusion_matrix.sum(axis=1)[:, np.newaxis]\n"
     ]
    },
    {
     "data": {
      "text/plain": [
       "Text(0.5, 1.0, 'ACT + HRV + EDR')"
      ]
     },
     "execution_count": 56,
     "metadata": {},
     "output_type": "execute_result"
    },
    {
     "data": {
      "application/vnd.jupyter.widget-view+json": {
       "model_id": "939730e31899461ba8e71a4ecc95fa77",
       "version_major": 2,
       "version_minor": 0
      },
      "image/png": "[encoded data removed]",
      "text/html": [
       "\n",
       "            <div style=\"display: inline-block;\">\n",
       "                <div class=\"jupyter-widgets widget-label\" style=\"text-align: center;\">\n",
       "                    Figure\n",
       "                </div>\n",
       "                <img src='data:image/png;base64,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' width=2000.0/>\n",
       "            </div>\n",
       "        "
      ],
      "text/plain": [
       "Canvas(toolbar=Toolbar(toolitems=[('Home', 'Reset original view', 'home', 'home'), ('Back', 'Back to previous …"
      ]
     },
     "metadata": {},
     "output_type": "display_data"
    }
   ],
   "source": [
    "fig, axs = plt.subplots(ncols=4, figsize = (20,4))\n",
    "sns.heatmap(conf_matrix(confusion_matrix_acc), fmt='g',annot=True, ax=axs[0], cmap=\"Greens\")\n",
    "sns.heatmap(conf_matrix(confusion_matrix_acc_hrv), fmt='g',annot=True, ax=axs[1], cmap=\"Greens\")\n",
    "sns.heatmap(conf_matrix(confusion_matrix_acc_hrv_rrv), fmt='g',annot=True, ax=axs[2], cmap=\"Greens\")\n",
    "sns.heatmap(conf_matrix(confusion_matrix_acc_hrv_edr), fmt='g',annot=True, ax=axs[3], cmap=\"Greens\")\n",
    "axs[0].set_title(\"ACT\")\n",
    "axs[1].set_title(\"ACT + HRV\")\n",
    "axs[2].set_title(\"ACT + HRV + RRV\")\n",
    "axs[3].set_title(\"ACT + HRV + EDR\")"
   ]
  },
  {
   "cell_type": "markdown",
   "metadata": {
    "tags": []
   },
   "source": [
    "# Binary\n",
    "# Acc only"
   ]
  },
  {
   "cell_type": "code",
   "execution_count": 57,
   "metadata": {},
   "outputs": [],
   "source": [
    "stage = \"binary\"\n",
    "mod = \"acc\""
   ]
  },
  {
   "cell_type": "code",
   "execution_count": 58,
   "metadata": {},
   "outputs": [],
   "source": [
    "full_results = pd.read_csv(path.joinpath(algorithm +\"_benchmark_\" + mod + \"_\" + stage + \".csv\"), index_col=\"metric\")\n",
    "full_results.columns.name = \"subject\"\n",
    "results = full_results.drop(index=\"confusion_matrix\")"
   ]
  },
  {
   "cell_type": "code",
   "execution_count": 59,
   "metadata": {},
   "outputs": [],
   "source": [
    "results = pd.DataFrame(results.stack(\"subject\"), columns=[\"data\"]).astype(\"float\")"
   ]
  },
  {
   "cell_type": "code",
   "execution_count": 60,
   "metadata": {},
   "outputs": [
    {
     "data": {
      "text/html": [
       "<div>\n",
       "<style scoped>\n",
       "    .dataframe tbody tr th:only-of-type {\n",
       "        vertical-align: middle;\n",
       "    }\n",
       "\n",
       "    .dataframe tbody tr th {\n",
       "        vertical-align: top;\n",
       "    }\n",
       "\n",
       "    .dataframe thead tr th {\n",
       "        text-align: left;\n",
       "    }\n",
       "\n",
       "    .dataframe thead tr:last-of-type th {\n",
       "        text-align: right;\n",
       "    }\n",
       "</style>\n",
       "<table border=\"1\" class=\"dataframe\">\n",
       "  <thead>\n",
       "    <tr>\n",
       "      <th></th>\n",
       "      <th colspan=\"2\" halign=\"left\">data</th>\n",
       "    </tr>\n",
       "    <tr>\n",
       "      <th></th>\n",
       "      <th>mean</th>\n",
       "      <th>std</th>\n",
       "    </tr>\n",
       "    <tr>\n",
       "      <th>metric</th>\n",
       "      <th></th>\n",
       "      <th></th>\n",
       "    </tr>\n",
       "  </thead>\n",
       "  <tbody>\n",
       "    <tr>\n",
       "      <th>accuracy</th>\n",
       "      <td>0.809494</td>\n",
       "      <td>0.106450</td>\n",
       "    </tr>\n",
       "    <tr>\n",
       "      <th>bed_interval_end</th>\n",
       "      <td>1049.620536</td>\n",
       "      <td>148.279048</td>\n",
       "    </tr>\n",
       "    <tr>\n",
       "      <th>bed_interval_start</th>\n",
       "      <td>67.334821</td>\n",
       "      <td>70.022350</td>\n",
       "    </tr>\n",
       "    <tr>\n",
       "      <th>f1</th>\n",
       "      <td>0.857355</td>\n",
       "      <td>0.097973</td>\n",
       "    </tr>\n",
       "    <tr>\n",
       "      <th>getup_latency</th>\n",
       "      <td>6.008929</td>\n",
       "      <td>23.018805</td>\n",
       "    </tr>\n",
       "    <tr>\n",
       "      <th>kappa</th>\n",
       "      <td>0.516760</td>\n",
       "      <td>0.225208</td>\n",
       "    </tr>\n",
       "    <tr>\n",
       "      <th>mcc</th>\n",
       "      <td>0.546908</td>\n",
       "      <td>0.214130</td>\n",
       "    </tr>\n",
       "    <tr>\n",
       "      <th>net_sleep_duration</th>\n",
       "      <td>804.776786</td>\n",
       "      <td>175.928324</td>\n",
       "    </tr>\n",
       "    <tr>\n",
       "      <th>precision</th>\n",
       "      <td>0.818166</td>\n",
       "      <td>0.114205</td>\n",
       "    </tr>\n",
       "    <tr>\n",
       "      <th>recall</th>\n",
       "      <td>0.916495</td>\n",
       "      <td>0.114728</td>\n",
       "    </tr>\n",
       "    <tr>\n",
       "      <th>sleep_efficiency</th>\n",
       "      <td>82.038427</td>\n",
       "      <td>13.611984</td>\n",
       "    </tr>\n",
       "    <tr>\n",
       "      <th>sleep_onset</th>\n",
       "      <td>102.651786</td>\n",
       "      <td>83.426046</td>\n",
       "    </tr>\n",
       "    <tr>\n",
       "      <th>sleep_onset_latency</th>\n",
       "      <td>35.316964</td>\n",
       "      <td>51.498030</td>\n",
       "    </tr>\n",
       "    <tr>\n",
       "      <th>specifity</th>\n",
       "      <td>0.573527</td>\n",
       "      <td>0.215263</td>\n",
       "    </tr>\n",
       "    <tr>\n",
       "      <th>total_sleep_duration</th>\n",
       "      <td>983.285714</td>\n",
       "      <td>152.957389</td>\n",
       "    </tr>\n",
       "    <tr>\n",
       "      <th>wake_after_sleep_onset</th>\n",
       "      <td>122.995536</td>\n",
       "      <td>121.010302</td>\n",
       "    </tr>\n",
       "    <tr>\n",
       "      <th>wake_onset</th>\n",
       "      <td>1040.383929</td>\n",
       "      <td>148.651864</td>\n",
       "    </tr>\n",
       "  </tbody>\n",
       "</table>\n",
       "</div>"
      ],
      "text/plain": [
       "                               data            \n",
       "                               mean         std\n",
       "metric                                         \n",
       "accuracy                   0.809494    0.106450\n",
       "bed_interval_end        1049.620536  148.279048\n",
       "bed_interval_start        67.334821   70.022350\n",
       "f1                         0.857355    0.097973\n",
       "getup_latency              6.008929   23.018805\n",
       "kappa                      0.516760    0.225208\n",
       "mcc                        0.546908    0.214130\n",
       "net_sleep_duration       804.776786  175.928324\n",
       "precision                  0.818166    0.114205\n",
       "recall                     0.916495    0.114728\n",
       "sleep_efficiency          82.038427   13.611984\n",
       "sleep_onset              102.651786   83.426046\n",
       "sleep_onset_latency       35.316964   51.498030\n",
       "specifity                  0.573527    0.215263\n",
       "total_sleep_duration     983.285714  152.957389\n",
       "wake_after_sleep_onset   122.995536  121.010302\n",
       "wake_onset              1040.383929  148.651864"
      ]
     },
     "execution_count": 60,
     "metadata": {},
     "output_type": "execute_result"
    }
   ],
   "source": [
    "results.groupby(\"metric\").agg([\"mean\", \"std\"])"
   ]
  },
  {
   "cell_type": "code",
   "execution_count": 61,
   "metadata": {},
   "outputs": [
    {
     "data": {
      "text/html": [
       "<div>\n",
       "<style scoped>\n",
       "    .dataframe tbody tr th:only-of-type {\n",
       "        vertical-align: middle;\n",
       "    }\n",
       "\n",
       "    .dataframe tbody tr th {\n",
       "        vertical-align: top;\n",
       "    }\n",
       "\n",
       "    .dataframe thead th {\n",
       "        text-align: right;\n",
       "    }\n",
       "</style>\n",
       "<table border=\"1\" class=\"dataframe\">\n",
       "  <thead>\n",
       "    <tr style=\"text-align: right;\">\n",
       "      <th></th>\n",
       "      <th>wake</th>\n",
       "      <th>sleep</th>\n",
       "    </tr>\n",
       "  </thead>\n",
       "  <tbody>\n",
       "    <tr>\n",
       "      <th>wake</th>\n",
       "      <td>46950.0</td>\n",
       "      <td>33909.0</td>\n",
       "    </tr>\n",
       "    <tr>\n",
       "      <th>sleep</th>\n",
       "      <td>12846.0</td>\n",
       "      <td>152243.0</td>\n",
       "    </tr>\n",
       "  </tbody>\n",
       "</table>\n",
       "</div>"
      ],
      "text/plain": [
       "          wake     sleep\n",
       "wake   46950.0   33909.0\n",
       "sleep  12846.0  152243.0"
      ]
     },
     "execution_count": 61,
     "metadata": {},
     "output_type": "execute_result"
    }
   ],
   "source": [
    "confusion_matrix_acc = pd.read_csv(path.joinpath(\"confusion_matrix_\" + algorithm +\"_benchmark_\" + mod + \"_\" + stage + \".csv\"), index_col = \"Unnamed: 0\")\n",
    "confusion_matrix_acc"
   ]
  },
  {
   "cell_type": "code",
   "execution_count": 62,
   "metadata": {},
   "outputs": [
    {
     "data": {
      "text/plain": [
       "param_learning_rate      1.0\n",
       "param_n_estimators     500.0\n",
       "Name: 0, dtype: float64"
      ]
     },
     "execution_count": 62,
     "metadata": {},
     "output_type": "execute_result"
    }
   ],
   "source": [
    "get_best_params(param_list, mod=mod, stage=stage, optimization_metric=\"accuracy\")"
   ]
  },
  {
   "cell_type": "markdown",
   "metadata": {
    "tags": []
   },
   "source": [
    "# Binary\n",
    "# Acc + HRV"
   ]
  },
  {
   "cell_type": "code",
   "execution_count": 63,
   "metadata": {},
   "outputs": [],
   "source": [
    "stage = \"binary\"\n",
    "mod = \"acc_hrv\""
   ]
  },
  {
   "cell_type": "code",
   "execution_count": 64,
   "metadata": {},
   "outputs": [],
   "source": [
    "full_results = pd.read_csv(path.joinpath(algorithm +\"_benchmark_\" + mod + \"_\" + stage + \".csv\"), index_col=\"metric\")\n",
    "full_results.columns.name = \"subject\"\n",
    "results = full_results.drop(index=\"confusion_matrix\")"
   ]
  },
  {
   "cell_type": "code",
   "execution_count": 65,
   "metadata": {},
   "outputs": [],
   "source": [
    "results = pd.DataFrame(results.stack(\"subject\"), columns=[\"data\"]).astype(\"float\")"
   ]
  },
  {
   "cell_type": "code",
   "execution_count": 66,
   "metadata": {},
   "outputs": [
    {
     "data": {
      "text/html": [
       "<div>\n",
       "<style scoped>\n",
       "    .dataframe tbody tr th:only-of-type {\n",
       "        vertical-align: middle;\n",
       "    }\n",
       "\n",
       "    .dataframe tbody tr th {\n",
       "        vertical-align: top;\n",
       "    }\n",
       "\n",
       "    .dataframe thead tr th {\n",
       "        text-align: left;\n",
       "    }\n",
       "\n",
       "    .dataframe thead tr:last-of-type th {\n",
       "        text-align: right;\n",
       "    }\n",
       "</style>\n",
       "<table border=\"1\" class=\"dataframe\">\n",
       "  <thead>\n",
       "    <tr>\n",
       "      <th></th>\n",
       "      <th colspan=\"2\" halign=\"left\">data</th>\n",
       "    </tr>\n",
       "    <tr>\n",
       "      <th></th>\n",
       "      <th>mean</th>\n",
       "      <th>std</th>\n",
       "    </tr>\n",
       "    <tr>\n",
       "      <th>metric</th>\n",
       "      <th></th>\n",
       "      <th></th>\n",
       "    </tr>\n",
       "  </thead>\n",
       "  <tbody>\n",
       "    <tr>\n",
       "      <th>accuracy</th>\n",
       "      <td>0.814468</td>\n",
       "      <td>0.105087</td>\n",
       "    </tr>\n",
       "    <tr>\n",
       "      <th>bed_interval_end</th>\n",
       "      <td>1049.620536</td>\n",
       "      <td>148.279048</td>\n",
       "    </tr>\n",
       "    <tr>\n",
       "      <th>bed_interval_start</th>\n",
       "      <td>67.334821</td>\n",
       "      <td>70.022350</td>\n",
       "    </tr>\n",
       "    <tr>\n",
       "      <th>f1</th>\n",
       "      <td>0.859082</td>\n",
       "      <td>0.099285</td>\n",
       "    </tr>\n",
       "    <tr>\n",
       "      <th>getup_latency</th>\n",
       "      <td>5.263393</td>\n",
       "      <td>19.123561</td>\n",
       "    </tr>\n",
       "    <tr>\n",
       "      <th>kappa</th>\n",
       "      <td>0.538158</td>\n",
       "      <td>0.213641</td>\n",
       "    </tr>\n",
       "    <tr>\n",
       "      <th>mcc</th>\n",
       "      <td>0.568513</td>\n",
       "      <td>0.198368</td>\n",
       "    </tr>\n",
       "    <tr>\n",
       "      <th>net_sleep_duration</th>\n",
       "      <td>789.031250</td>\n",
       "      <td>180.924516</td>\n",
       "    </tr>\n",
       "    <tr>\n",
       "      <th>precision</th>\n",
       "      <td>0.830021</td>\n",
       "      <td>0.114843</td>\n",
       "    </tr>\n",
       "    <tr>\n",
       "      <th>recall</th>\n",
       "      <td>0.909601</td>\n",
       "      <td>0.122142</td>\n",
       "    </tr>\n",
       "    <tr>\n",
       "      <th>sleep_efficiency</th>\n",
       "      <td>80.464106</td>\n",
       "      <td>14.511594</td>\n",
       "    </tr>\n",
       "    <tr>\n",
       "      <th>sleep_onset</th>\n",
       "      <td>102.294643</td>\n",
       "      <td>83.020624</td>\n",
       "    </tr>\n",
       "    <tr>\n",
       "      <th>sleep_onset_latency</th>\n",
       "      <td>34.959821</td>\n",
       "      <td>50.511049</td>\n",
       "    </tr>\n",
       "    <tr>\n",
       "      <th>specifity</th>\n",
       "      <td>0.609076</td>\n",
       "      <td>0.219718</td>\n",
       "    </tr>\n",
       "    <tr>\n",
       "      <th>total_sleep_duration</th>\n",
       "      <td>983.285714</td>\n",
       "      <td>152.957389</td>\n",
       "    </tr>\n",
       "    <tr>\n",
       "      <th>wake_after_sleep_onset</th>\n",
       "      <td>138.790179</td>\n",
       "      <td>130.953405</td>\n",
       "    </tr>\n",
       "    <tr>\n",
       "      <th>wake_onset</th>\n",
       "      <td>1041.504464</td>\n",
       "      <td>148.776414</td>\n",
       "    </tr>\n",
       "  </tbody>\n",
       "</table>\n",
       "</div>"
      ],
      "text/plain": [
       "                               data            \n",
       "                               mean         std\n",
       "metric                                         \n",
       "accuracy                   0.814468    0.105087\n",
       "bed_interval_end        1049.620536  148.279048\n",
       "bed_interval_start        67.334821   70.022350\n",
       "f1                         0.859082    0.099285\n",
       "getup_latency              5.263393   19.123561\n",
       "kappa                      0.538158    0.213641\n",
       "mcc                        0.568513    0.198368\n",
       "net_sleep_duration       789.031250  180.924516\n",
       "precision                  0.830021    0.114843\n",
       "recall                     0.909601    0.122142\n",
       "sleep_efficiency          80.464106   14.511594\n",
       "sleep_onset              102.294643   83.020624\n",
       "sleep_onset_latency       34.959821   50.511049\n",
       "specifity                  0.609076    0.219718\n",
       "total_sleep_duration     983.285714  152.957389\n",
       "wake_after_sleep_onset   138.790179  130.953405\n",
       "wake_onset              1041.504464  148.776414"
      ]
     },
     "execution_count": 66,
     "metadata": {},
     "output_type": "execute_result"
    }
   ],
   "source": [
    "results.groupby(\"metric\").agg([\"mean\", \"std\"])"
   ]
  },
  {
   "cell_type": "code",
   "execution_count": 67,
   "metadata": {},
   "outputs": [
    {
     "data": {
      "text/html": [
       "<div>\n",
       "<style scoped>\n",
       "    .dataframe tbody tr th:only-of-type {\n",
       "        vertical-align: middle;\n",
       "    }\n",
       "\n",
       "    .dataframe tbody tr th {\n",
       "        vertical-align: top;\n",
       "    }\n",
       "\n",
       "    .dataframe thead th {\n",
       "        text-align: right;\n",
       "    }\n",
       "</style>\n",
       "<table border=\"1\" class=\"dataframe\">\n",
       "  <thead>\n",
       "    <tr style=\"text-align: right;\">\n",
       "      <th></th>\n",
       "      <th>wake</th>\n",
       "      <th>sleep</th>\n",
       "    </tr>\n",
       "  </thead>\n",
       "  <tbody>\n",
       "    <tr>\n",
       "      <th>wake</th>\n",
       "      <td>49480.0</td>\n",
       "      <td>31379.0</td>\n",
       "    </tr>\n",
       "    <tr>\n",
       "      <th>sleep</th>\n",
       "      <td>14142.0</td>\n",
       "      <td>150947.0</td>\n",
       "    </tr>\n",
       "  </tbody>\n",
       "</table>\n",
       "</div>"
      ],
      "text/plain": [
       "          wake     sleep\n",
       "wake   49480.0   31379.0\n",
       "sleep  14142.0  150947.0"
      ]
     },
     "execution_count": 67,
     "metadata": {},
     "output_type": "execute_result"
    }
   ],
   "source": [
    "confusion_matrix_acc_hrv = pd.read_csv(path.joinpath(\"confusion_matrix_\" + algorithm +\"_benchmark_\" + mod + \"_\" + stage + \".csv\"), index_col = \"Unnamed: 0\")\n",
    "confusion_matrix_acc_hrv"
   ]
  },
  {
   "cell_type": "code",
   "execution_count": 68,
   "metadata": {},
   "outputs": [
    {
     "data": {
      "text/plain": [
       "param_learning_rate      1.0\n",
       "param_n_estimators     500.0\n",
       "Name: 0, dtype: float64"
      ]
     },
     "execution_count": 68,
     "metadata": {},
     "output_type": "execute_result"
    }
   ],
   "source": [
    "get_best_params(param_list, mod=mod, stage=stage, optimization_metric=\"accuracy\")"
   ]
  },
  {
   "cell_type": "markdown",
   "metadata": {
    "tags": []
   },
   "source": [
    "# Binary\n",
    "# Acc + HRV + RRV"
   ]
  },
  {
   "cell_type": "code",
   "execution_count": 69,
   "metadata": {},
   "outputs": [],
   "source": [
    "stage = \"binary\"\n",
    "mod = \"acc_hrv_RRV\""
   ]
  },
  {
   "cell_type": "code",
   "execution_count": 70,
   "metadata": {},
   "outputs": [],
   "source": [
    "full_results = pd.read_csv(path.joinpath(algorithm +\"_benchmark_\" + mod + \"_\" + stage + \".csv\"), index_col=\"metric\")\n",
    "full_results.columns.name = \"subject\"\n",
    "results = full_results.drop(index=\"confusion_matrix\")"
   ]
  },
  {
   "cell_type": "code",
   "execution_count": 71,
   "metadata": {},
   "outputs": [],
   "source": [
    "results = pd.DataFrame(results.stack(\"subject\"), columns=[\"data\"]).astype(\"float\")"
   ]
  },
  {
   "cell_type": "code",
   "execution_count": 72,
   "metadata": {},
   "outputs": [
    {
     "data": {
      "text/html": [
       "<div>\n",
       "<style scoped>\n",
       "    .dataframe tbody tr th:only-of-type {\n",
       "        vertical-align: middle;\n",
       "    }\n",
       "\n",
       "    .dataframe tbody tr th {\n",
       "        vertical-align: top;\n",
       "    }\n",
       "\n",
       "    .dataframe thead tr th {\n",
       "        text-align: left;\n",
       "    }\n",
       "\n",
       "    .dataframe thead tr:last-of-type th {\n",
       "        text-align: right;\n",
       "    }\n",
       "</style>\n",
       "<table border=\"1\" class=\"dataframe\">\n",
       "  <thead>\n",
       "    <tr>\n",
       "      <th></th>\n",
       "      <th colspan=\"2\" halign=\"left\">data</th>\n",
       "    </tr>\n",
       "    <tr>\n",
       "      <th></th>\n",
       "      <th>mean</th>\n",
       "      <th>std</th>\n",
       "    </tr>\n",
       "    <tr>\n",
       "      <th>metric</th>\n",
       "      <th></th>\n",
       "      <th></th>\n",
       "    </tr>\n",
       "  </thead>\n",
       "  <tbody>\n",
       "    <tr>\n",
       "      <th>accuracy</th>\n",
       "      <td>0.830616</td>\n",
       "      <td>0.099655</td>\n",
       "    </tr>\n",
       "    <tr>\n",
       "      <th>bed_interval_end</th>\n",
       "      <td>1049.620536</td>\n",
       "      <td>148.279048</td>\n",
       "    </tr>\n",
       "    <tr>\n",
       "      <th>bed_interval_start</th>\n",
       "      <td>67.334821</td>\n",
       "      <td>70.022350</td>\n",
       "    </tr>\n",
       "    <tr>\n",
       "      <th>f1</th>\n",
       "      <td>0.868088</td>\n",
       "      <td>0.105697</td>\n",
       "    </tr>\n",
       "    <tr>\n",
       "      <th>getup_latency</th>\n",
       "      <td>5.763393</td>\n",
       "      <td>21.402659</td>\n",
       "    </tr>\n",
       "    <tr>\n",
       "      <th>kappa</th>\n",
       "      <td>0.584526</td>\n",
       "      <td>0.194302</td>\n",
       "    </tr>\n",
       "    <tr>\n",
       "      <th>mcc</th>\n",
       "      <td>0.610531</td>\n",
       "      <td>0.178257</td>\n",
       "    </tr>\n",
       "    <tr>\n",
       "      <th>net_sleep_duration</th>\n",
       "      <td>774.669643</td>\n",
       "      <td>183.679819</td>\n",
       "    </tr>\n",
       "    <tr>\n",
       "      <th>precision</th>\n",
       "      <td>0.847748</td>\n",
       "      <td>0.108382</td>\n",
       "    </tr>\n",
       "    <tr>\n",
       "      <th>recall</th>\n",
       "      <td>0.909733</td>\n",
       "      <td>0.128466</td>\n",
       "    </tr>\n",
       "    <tr>\n",
       "      <th>sleep_efficiency</th>\n",
       "      <td>79.042917</td>\n",
       "      <td>15.173509</td>\n",
       "    </tr>\n",
       "    <tr>\n",
       "      <th>sleep_onset</th>\n",
       "      <td>102.196429</td>\n",
       "      <td>84.110843</td>\n",
       "    </tr>\n",
       "    <tr>\n",
       "      <th>sleep_onset_latency</th>\n",
       "      <td>34.861607</td>\n",
       "      <td>53.931975</td>\n",
       "    </tr>\n",
       "    <tr>\n",
       "      <th>specifity</th>\n",
       "      <td>0.659513</td>\n",
       "      <td>0.204126</td>\n",
       "    </tr>\n",
       "    <tr>\n",
       "      <th>total_sleep_duration</th>\n",
       "      <td>983.285714</td>\n",
       "      <td>152.957389</td>\n",
       "    </tr>\n",
       "    <tr>\n",
       "      <th>wake_after_sleep_onset</th>\n",
       "      <td>150.785714</td>\n",
       "      <td>137.134867</td>\n",
       "    </tr>\n",
       "    <tr>\n",
       "      <th>wake_onset</th>\n",
       "      <td>1040.790179</td>\n",
       "      <td>149.202801</td>\n",
       "    </tr>\n",
       "  </tbody>\n",
       "</table>\n",
       "</div>"
      ],
      "text/plain": [
       "                               data            \n",
       "                               mean         std\n",
       "metric                                         \n",
       "accuracy                   0.830616    0.099655\n",
       "bed_interval_end        1049.620536  148.279048\n",
       "bed_interval_start        67.334821   70.022350\n",
       "f1                         0.868088    0.105697\n",
       "getup_latency              5.763393   21.402659\n",
       "kappa                      0.584526    0.194302\n",
       "mcc                        0.610531    0.178257\n",
       "net_sleep_duration       774.669643  183.679819\n",
       "precision                  0.847748    0.108382\n",
       "recall                     0.909733    0.128466\n",
       "sleep_efficiency          79.042917   15.173509\n",
       "sleep_onset              102.196429   84.110843\n",
       "sleep_onset_latency       34.861607   53.931975\n",
       "specifity                  0.659513    0.204126\n",
       "total_sleep_duration     983.285714  152.957389\n",
       "wake_after_sleep_onset   150.785714  137.134867\n",
       "wake_onset              1040.790179  149.202801"
      ]
     },
     "execution_count": 72,
     "metadata": {},
     "output_type": "execute_result"
    }
   ],
   "source": [
    "results.groupby(\"metric\").agg([\"mean\", \"std\"])"
   ]
  },
  {
   "cell_type": "code",
   "execution_count": 73,
   "metadata": {},
   "outputs": [
    {
     "data": {
      "text/html": [
       "<div>\n",
       "<style scoped>\n",
       "    .dataframe tbody tr th:only-of-type {\n",
       "        vertical-align: middle;\n",
       "    }\n",
       "\n",
       "    .dataframe tbody tr th {\n",
       "        vertical-align: top;\n",
       "    }\n",
       "\n",
       "    .dataframe thead th {\n",
       "        text-align: right;\n",
       "    }\n",
       "</style>\n",
       "<table border=\"1\" class=\"dataframe\">\n",
       "  <thead>\n",
       "    <tr style=\"text-align: right;\">\n",
       "      <th></th>\n",
       "      <th>wake</th>\n",
       "      <th>sleep</th>\n",
       "    </tr>\n",
       "  </thead>\n",
       "  <tbody>\n",
       "    <tr>\n",
       "      <th>wake</th>\n",
       "      <td>53429.0</td>\n",
       "      <td>27430.0</td>\n",
       "    </tr>\n",
       "    <tr>\n",
       "      <th>sleep</th>\n",
       "      <td>14181.0</td>\n",
       "      <td>150908.0</td>\n",
       "    </tr>\n",
       "  </tbody>\n",
       "</table>\n",
       "</div>"
      ],
      "text/plain": [
       "          wake     sleep\n",
       "wake   53429.0   27430.0\n",
       "sleep  14181.0  150908.0"
      ]
     },
     "execution_count": 73,
     "metadata": {},
     "output_type": "execute_result"
    }
   ],
   "source": [
    "confusion_matrix_acc_hrv_rrv = pd.read_csv(path.joinpath(\"confusion_matrix_\" + algorithm +\"_benchmark_\" + mod + \"_\" + stage + \".csv\"), index_col = \"Unnamed: 0\")\n",
    "confusion_matrix_acc_hrv_rrv"
   ]
  },
  {
   "cell_type": "code",
   "execution_count": 74,
   "metadata": {},
   "outputs": [
    {
     "data": {
      "text/plain": [
       "param_learning_rate      1.0\n",
       "param_n_estimators     500.0\n",
       "Name: 0, dtype: float64"
      ]
     },
     "execution_count": 74,
     "metadata": {},
     "output_type": "execute_result"
    }
   ],
   "source": [
    "get_best_params(param_list, mod=mod, stage=stage, optimization_metric=\"accuracy\")"
   ]
  },
  {
   "cell_type": "markdown",
   "metadata": {
    "tags": []
   },
   "source": [
    "# Binary\n",
    "# Acc + HRV + EDR"
   ]
  },
  {
   "cell_type": "code",
   "execution_count": 75,
   "metadata": {},
   "outputs": [],
   "source": [
    "stage = \"binary\"\n",
    "mod = \"acc_hrv_EDR\""
   ]
  },
  {
   "cell_type": "code",
   "execution_count": 76,
   "metadata": {},
   "outputs": [],
   "source": [
    "full_results = pd.read_csv(path.joinpath(algorithm +\"_benchmark_\" + mod + \"_\" + stage + \".csv\"), index_col=\"metric\")\n",
    "full_results.columns.name = \"subject\"\n",
    "results = full_results.drop(index=\"confusion_matrix\")"
   ]
  },
  {
   "cell_type": "code",
   "execution_count": 77,
   "metadata": {},
   "outputs": [],
   "source": [
    "results = pd.DataFrame(results.stack(\"subject\"), columns=[\"data\"]).astype(\"float\")"
   ]
  },
  {
   "cell_type": "code",
   "execution_count": 78,
   "metadata": {},
   "outputs": [
    {
     "data": {
      "text/html": [
       "<div>\n",
       "<style scoped>\n",
       "    .dataframe tbody tr th:only-of-type {\n",
       "        vertical-align: middle;\n",
       "    }\n",
       "\n",
       "    .dataframe tbody tr th {\n",
       "        vertical-align: top;\n",
       "    }\n",
       "\n",
       "    .dataframe thead tr th {\n",
       "        text-align: left;\n",
       "    }\n",
       "\n",
       "    .dataframe thead tr:last-of-type th {\n",
       "        text-align: right;\n",
       "    }\n",
       "</style>\n",
       "<table border=\"1\" class=\"dataframe\">\n",
       "  <thead>\n",
       "    <tr>\n",
       "      <th></th>\n",
       "      <th colspan=\"2\" halign=\"left\">data</th>\n",
       "    </tr>\n",
       "    <tr>\n",
       "      <th></th>\n",
       "      <th>mean</th>\n",
       "      <th>std</th>\n",
       "    </tr>\n",
       "    <tr>\n",
       "      <th>metric</th>\n",
       "      <th></th>\n",
       "      <th></th>\n",
       "    </tr>\n",
       "  </thead>\n",
       "  <tbody>\n",
       "    <tr>\n",
       "      <th>accuracy</th>\n",
       "      <td>0.819214</td>\n",
       "      <td>0.102233</td>\n",
       "    </tr>\n",
       "    <tr>\n",
       "      <th>bed_interval_end</th>\n",
       "      <td>1049.620536</td>\n",
       "      <td>148.279048</td>\n",
       "    </tr>\n",
       "    <tr>\n",
       "      <th>bed_interval_start</th>\n",
       "      <td>67.334821</td>\n",
       "      <td>70.022350</td>\n",
       "    </tr>\n",
       "    <tr>\n",
       "      <th>f1</th>\n",
       "      <td>0.861093</td>\n",
       "      <td>0.101098</td>\n",
       "    </tr>\n",
       "    <tr>\n",
       "      <th>getup_latency</th>\n",
       "      <td>8.589286</td>\n",
       "      <td>24.824064</td>\n",
       "    </tr>\n",
       "    <tr>\n",
       "      <th>kappa</th>\n",
       "      <td>0.552299</td>\n",
       "      <td>0.206152</td>\n",
       "    </tr>\n",
       "    <tr>\n",
       "      <th>mcc</th>\n",
       "      <td>0.582097</td>\n",
       "      <td>0.190917</td>\n",
       "    </tr>\n",
       "    <tr>\n",
       "      <th>net_sleep_duration</th>\n",
       "      <td>782.151786</td>\n",
       "      <td>185.268256</td>\n",
       "    </tr>\n",
       "    <tr>\n",
       "      <th>precision</th>\n",
       "      <td>0.837338</td>\n",
       "      <td>0.112355</td>\n",
       "    </tr>\n",
       "    <tr>\n",
       "      <th>recall</th>\n",
       "      <td>0.907025</td>\n",
       "      <td>0.127198</td>\n",
       "    </tr>\n",
       "    <tr>\n",
       "      <th>sleep_efficiency</th>\n",
       "      <td>79.775765</td>\n",
       "      <td>15.110388</td>\n",
       "    </tr>\n",
       "    <tr>\n",
       "      <th>sleep_onset</th>\n",
       "      <td>105.169643</td>\n",
       "      <td>81.953108</td>\n",
       "    </tr>\n",
       "    <tr>\n",
       "      <th>sleep_onset_latency</th>\n",
       "      <td>37.834821</td>\n",
       "      <td>52.992295</td>\n",
       "    </tr>\n",
       "    <tr>\n",
       "      <th>specifity</th>\n",
       "      <td>0.627936</td>\n",
       "      <td>0.216962</td>\n",
       "    </tr>\n",
       "    <tr>\n",
       "      <th>total_sleep_duration</th>\n",
       "      <td>983.285714</td>\n",
       "      <td>152.957389</td>\n",
       "    </tr>\n",
       "    <tr>\n",
       "      <th>wake_after_sleep_onset</th>\n",
       "      <td>141.875000</td>\n",
       "      <td>135.787860</td>\n",
       "    </tr>\n",
       "    <tr>\n",
       "      <th>wake_onset</th>\n",
       "      <td>1041.031250</td>\n",
       "      <td>148.157939</td>\n",
       "    </tr>\n",
       "  </tbody>\n",
       "</table>\n",
       "</div>"
      ],
      "text/plain": [
       "                               data            \n",
       "                               mean         std\n",
       "metric                                         \n",
       "accuracy                   0.819214    0.102233\n",
       "bed_interval_end        1049.620536  148.279048\n",
       "bed_interval_start        67.334821   70.022350\n",
       "f1                         0.861093    0.101098\n",
       "getup_latency              8.589286   24.824064\n",
       "kappa                      0.552299    0.206152\n",
       "mcc                        0.582097    0.190917\n",
       "net_sleep_duration       782.151786  185.268256\n",
       "precision                  0.837338    0.112355\n",
       "recall                     0.907025    0.127198\n",
       "sleep_efficiency          79.775765   15.110388\n",
       "sleep_onset              105.169643   81.953108\n",
       "sleep_onset_latency       37.834821   52.992295\n",
       "specifity                  0.627936    0.216962\n",
       "total_sleep_duration     983.285714  152.957389\n",
       "wake_after_sleep_onset   141.875000  135.787860\n",
       "wake_onset              1041.031250  148.157939"
      ]
     },
     "execution_count": 78,
     "metadata": {},
     "output_type": "execute_result"
    }
   ],
   "source": [
    "results.groupby(\"metric\").agg([\"mean\", \"std\"])"
   ]
  },
  {
   "cell_type": "code",
   "execution_count": 79,
   "metadata": {},
   "outputs": [
    {
     "data": {
      "text/html": [
       "<div>\n",
       "<style scoped>\n",
       "    .dataframe tbody tr th:only-of-type {\n",
       "        vertical-align: middle;\n",
       "    }\n",
       "\n",
       "    .dataframe tbody tr th {\n",
       "        vertical-align: top;\n",
       "    }\n",
       "\n",
       "    .dataframe thead th {\n",
       "        text-align: right;\n",
       "    }\n",
       "</style>\n",
       "<table border=\"1\" class=\"dataframe\">\n",
       "  <thead>\n",
       "    <tr style=\"text-align: right;\">\n",
       "      <th></th>\n",
       "      <th>wake</th>\n",
       "      <th>sleep</th>\n",
       "    </tr>\n",
       "  </thead>\n",
       "  <tbody>\n",
       "    <tr>\n",
       "      <th>wake</th>\n",
       "      <td>51055.0</td>\n",
       "      <td>29804.0</td>\n",
       "    </tr>\n",
       "    <tr>\n",
       "      <th>sleep</th>\n",
       "      <td>14511.0</td>\n",
       "      <td>150578.0</td>\n",
       "    </tr>\n",
       "  </tbody>\n",
       "</table>\n",
       "</div>"
      ],
      "text/plain": [
       "          wake     sleep\n",
       "wake   51055.0   29804.0\n",
       "sleep  14511.0  150578.0"
      ]
     },
     "execution_count": 79,
     "metadata": {},
     "output_type": "execute_result"
    }
   ],
   "source": [
    "confusion_matrix_acc_hrv_edr = pd.read_csv(path.joinpath(\"confusion_matrix_\" + algorithm +\"_benchmark_\" + mod + \"_\" + stage + \".csv\"), index_col = \"Unnamed: 0\")\n",
    "confusion_matrix_acc_hrv_edr"
   ]
  },
  {
   "cell_type": "code",
   "execution_count": 80,
   "metadata": {},
   "outputs": [
    {
     "data": {
      "text/plain": [
       "param_learning_rate      1.0\n",
       "param_n_estimators     500.0\n",
       "Name: 0, dtype: float64"
      ]
     },
     "execution_count": 80,
     "metadata": {},
     "output_type": "execute_result"
    }
   ],
   "source": [
    "get_best_params(param_list, mod=mod, stage=stage, optimization_metric=\"accuracy\")"
   ]
  },
  {
   "cell_type": "code",
   "execution_count": 81,
   "metadata": {},
   "outputs": [
    {
     "name": "stderr",
     "output_type": "stream",
     "text": [
      "/var/folders/kr/z18bsf7n4xsf9cd__hgnn7lh0000gn/T/ipykernel_93113/1399343355.py:2: FutureWarning: Support for multi-dimensional indexing (e.g. `obj[:, None]`) is deprecated and will be removed in a future version.  Convert to a numpy array before indexing instead.\n",
      "  x = confusion_matrix.sum(axis=1)[:, np.newaxis]\n",
      "/var/folders/kr/z18bsf7n4xsf9cd__hgnn7lh0000gn/T/ipykernel_93113/1399343355.py:2: FutureWarning: Support for multi-dimensional indexing (e.g. `obj[:, None]`) is deprecated and will be removed in a future version.  Convert to a numpy array before indexing instead.\n",
      "  x = confusion_matrix.sum(axis=1)[:, np.newaxis]\n",
      "/var/folders/kr/z18bsf7n4xsf9cd__hgnn7lh0000gn/T/ipykernel_93113/1399343355.py:2: FutureWarning: Support for multi-dimensional indexing (e.g. `obj[:, None]`) is deprecated and will be removed in a future version.  Convert to a numpy array before indexing instead.\n",
      "  x = confusion_matrix.sum(axis=1)[:, np.newaxis]\n",
      "/var/folders/kr/z18bsf7n4xsf9cd__hgnn7lh0000gn/T/ipykernel_93113/1399343355.py:2: FutureWarning: Support for multi-dimensional indexing (e.g. `obj[:, None]`) is deprecated and will be removed in a future version.  Convert to a numpy array before indexing instead.\n",
      "  x = confusion_matrix.sum(axis=1)[:, np.newaxis]\n"
     ]
    },
    {
     "data": {
      "text/plain": [
       "Text(0.5, 1.0, 'ACT + HRV + EDR')"
      ]
     },
     "execution_count": 81,
     "metadata": {},
     "output_type": "execute_result"
    },
    {
     "data": {
      "application/vnd.jupyter.widget-view+json": {
       "model_id": "2467b839247249349bec8c6ea631bc5f",
       "version_major": 2,
       "version_minor": 0
      },
      "image/png": "[encoded data removed]",
      "text/html": [
       "\n",
       "            <div style=\"display: inline-block;\">\n",
       "                <div class=\"jupyter-widgets widget-label\" style=\"text-align: center;\">\n",
       "                    Figure\n",
       "                </div>\n",
       "                <img src='data:image/png;base64,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' width=2000.0/>\n",
       "            </div>\n",
       "        "
      ],
      "text/plain": [
       "Canvas(toolbar=Toolbar(toolitems=[('Home', 'Reset original view', 'home', 'home'), ('Back', 'Back to previous …"
      ]
     },
     "metadata": {},
     "output_type": "display_data"
    }
   ],
   "source": [
    "fig, axs = plt.subplots(ncols=4, figsize = (20,4))\n",
    "sns.heatmap(conf_matrix(confusion_matrix_acc), fmt='g',annot=True, ax=axs[0], cmap=\"Greens\")\n",
    "sns.heatmap(conf_matrix(confusion_matrix_acc_hrv), fmt='g',annot=True, ax=axs[1], cmap=\"Greens\")\n",
    "sns.heatmap(conf_matrix(confusion_matrix_acc_hrv_rrv), fmt='g',annot=True, ax=axs[2], cmap=\"Greens\")\n",
    "sns.heatmap(conf_matrix(confusion_matrix_acc_hrv_edr), fmt='g',annot=True, ax=axs[3], cmap=\"Greens\")\n",
    "axs[0].set_title(\"ACT\")\n",
    "axs[1].set_title(\"ACT + HRV\")\n",
    "axs[2].set_title(\"ACT + HRV + RRV\")\n",
    "axs[3].set_title(\"ACT + HRV + EDR\")"
   ]
  },
  {
   "cell_type": "code",
   "execution_count": null,
   "metadata": {},
   "outputs": [],
   "source": []
  }
 ],
 "metadata": {
  "kernelspec": {
   "display_name": "sleep-analysis",
   "language": "python",
   "name": "sleep-analysis"
  },
  "language_info": {
   "codemirror_mode": {
    "name": "ipython",
    "version": 3
   },
   "file_extension": ".py",
   "mimetype": "text/x-python",
   "name": "python",
   "nbconvert_exporter": "python",
   "pygments_lexer": "ipython3",
   "version": "3.9.7"
  }
 },
 "nbformat": 4,
 "nbformat_minor": 4
}
