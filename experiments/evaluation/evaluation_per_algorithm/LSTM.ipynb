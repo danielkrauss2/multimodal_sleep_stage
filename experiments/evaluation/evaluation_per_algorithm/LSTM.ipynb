{
 "cells": [
  {
   "cell_type": "code",
   "execution_count": 1,
   "metadata": {},
   "outputs": [],
   "source": [
    "import numpy as np\n",
    "import pandas as pd\n",
    "\n",
    "from pathlib import Path\n",
    "import matplotlib.pyplot as plt\n",
    "import seaborn as sns\n",
    "from biopsykit.utils.dataframe_handling import multi_xs\n",
    "import optuna"
   ]
  },
  {
   "cell_type": "code",
   "execution_count": 2,
   "metadata": {},
   "outputs": [],
   "source": [
    "%load_ext autoreload\n",
    "%autoreload 2"
   ]
  },
  {
   "cell_type": "code",
   "execution_count": 3,
   "metadata": {},
   "outputs": [],
   "source": [
    "from fau_colors import register_cmaps\n",
    "register_cmaps()\n",
    "\n",
    "sns.set_theme(context=\"paper\", style=\"white\", palette=\"faculties\", font_scale=1.2)\n",
    "\n",
    "%matplotlib widget"
   ]
  },
  {
   "cell_type": "code",
   "execution_count": 4,
   "metadata": {},
   "outputs": [],
   "source": [
    "def conf_matrix(confusion_matrix):\n",
    "    x = confusion_matrix.sum(axis=1)[:, np.newaxis]\n",
    "    confusion_matrix /=x\n",
    "    confusion_matrix *= 100\n",
    "    confusion_matrix = round(confusion_matrix,2)\n",
    "\n",
    "    #confusion_matrix = confusion_matrix.applymap(lambda x: '{:.2f}'.format(x))\n",
    "    #confusion_matrix = confusion_matrix.applymap(\n",
    "    #    lambda x: float(x) if x != '0.00' else 0.0\n",
    "    #)\n",
    "    \n",
    "    #display(confusion_matrix)\n",
    "    return confusion_matrix"
   ]
  },
  {
   "cell_type": "code",
   "execution_count": 5,
   "metadata": {},
   "outputs": [],
   "source": [
    "##### Fill in Algorithm here!! ####\n",
    "algorithm = \"LSTM\"\n",
    "##### Fill in Algorithm here!! ####"
   ]
  },
  {
   "cell_type": "code",
   "execution_count": 6,
   "metadata": {},
   "outputs": [],
   "source": [
    "path = Path.cwd().parents[2].joinpath(\"exports/results_per_algorithm/\")\n",
    "path = path.joinpath(algorithm)\n",
    "# path where database files are stored\n",
    "db_path = path.joinpath(\"db\")"
   ]
  },
  {
   "cell_type": "markdown",
   "metadata": {
    "tags": []
   },
   "source": [
    "# 5 Stage\n",
    "# Acc only"
   ]
  },
  {
   "cell_type": "code",
   "execution_count": 7,
   "metadata": {},
   "outputs": [],
   "source": [
    "stage = \"5stage\"\n",
    "mod = \"acc\""
   ]
  },
  {
   "cell_type": "code",
   "execution_count": 8,
   "metadata": {},
   "outputs": [],
   "source": [
    "full_results = pd.read_csv(path.joinpath(algorithm +\"_benchmark_\" + mod + \"_\" + stage + \".csv\"), index_col=\"metric\")\n",
    "full_results.columns.name = \"subject\"\n",
    "results = full_results.drop(index=\"confusion_matrix\")"
   ]
  },
  {
   "cell_type": "code",
   "execution_count": 9,
   "metadata": {},
   "outputs": [],
   "source": [
    "results = pd.DataFrame(results.stack(\"subject\"), columns=[\"data\"]).astype(\"float\")"
   ]
  },
  {
   "cell_type": "code",
   "execution_count": 10,
   "metadata": {},
   "outputs": [
    {
     "data": {
      "text/html": [
       "<div>\n",
       "<style scoped>\n",
       "    .dataframe tbody tr th:only-of-type {\n",
       "        vertical-align: middle;\n",
       "    }\n",
       "\n",
       "    .dataframe tbody tr th {\n",
       "        vertical-align: top;\n",
       "    }\n",
       "\n",
       "    .dataframe thead tr th {\n",
       "        text-align: left;\n",
       "    }\n",
       "\n",
       "    .dataframe thead tr:last-of-type th {\n",
       "        text-align: right;\n",
       "    }\n",
       "</style>\n",
       "<table border=\"1\" class=\"dataframe\">\n",
       "  <thead>\n",
       "    <tr>\n",
       "      <th></th>\n",
       "      <th colspan=\"2\" halign=\"left\">data</th>\n",
       "    </tr>\n",
       "    <tr>\n",
       "      <th></th>\n",
       "      <th>median</th>\n",
       "      <th>&lt;lambda_0&gt;</th>\n",
       "    </tr>\n",
       "    <tr>\n",
       "      <th>metric</th>\n",
       "      <th></th>\n",
       "      <th></th>\n",
       "    </tr>\n",
       "  </thead>\n",
       "  <tbody>\n",
       "    <tr>\n",
       "      <th>accuracy</th>\n",
       "      <td>0.560641</td>\n",
       "      <td>0.130713</td>\n",
       "    </tr>\n",
       "    <tr>\n",
       "      <th>bed_interval_end</th>\n",
       "      <td>1051.500000</td>\n",
       "      <td>181.250000</td>\n",
       "    </tr>\n",
       "    <tr>\n",
       "      <th>bed_interval_start</th>\n",
       "      <td>52.500000</td>\n",
       "      <td>121.000000</td>\n",
       "    </tr>\n",
       "    <tr>\n",
       "      <th>f1</th>\n",
       "      <td>0.464750</td>\n",
       "      <td>0.132176</td>\n",
       "    </tr>\n",
       "    <tr>\n",
       "      <th>getup_latency</th>\n",
       "      <td>0.000000</td>\n",
       "      <td>4.000000</td>\n",
       "    </tr>\n",
       "    <tr>\n",
       "      <th>kappa</th>\n",
       "      <td>0.300200</td>\n",
       "      <td>0.181270</td>\n",
       "    </tr>\n",
       "    <tr>\n",
       "      <th>mcc</th>\n",
       "      <td>0.366766</td>\n",
       "      <td>0.180670</td>\n",
       "    </tr>\n",
       "    <tr>\n",
       "      <th>net_sleep_duration</th>\n",
       "      <td>772.000000</td>\n",
       "      <td>239.250000</td>\n",
       "    </tr>\n",
       "    <tr>\n",
       "      <th>precision</th>\n",
       "      <td>0.454739</td>\n",
       "      <td>0.148889</td>\n",
       "    </tr>\n",
       "    <tr>\n",
       "      <th>recall</th>\n",
       "      <td>0.560641</td>\n",
       "      <td>0.130713</td>\n",
       "    </tr>\n",
       "    <tr>\n",
       "      <th>sleep_efficiency</th>\n",
       "      <td>80.572475</td>\n",
       "      <td>18.118732</td>\n",
       "    </tr>\n",
       "    <tr>\n",
       "      <th>sleep_onset</th>\n",
       "      <td>129.000000</td>\n",
       "      <td>133.250000</td>\n",
       "    </tr>\n",
       "    <tr>\n",
       "      <th>sleep_onset_latency</th>\n",
       "      <td>47.500000</td>\n",
       "      <td>106.250000</td>\n",
       "    </tr>\n",
       "    <tr>\n",
       "      <th>specifity</th>\n",
       "      <td>0.867766</td>\n",
       "      <td>0.083789</td>\n",
       "    </tr>\n",
       "    <tr>\n",
       "      <th>total_sleep_duration</th>\n",
       "      <td>986.500000</td>\n",
       "      <td>196.750000</td>\n",
       "    </tr>\n",
       "    <tr>\n",
       "      <th>wake_after_sleep_onset</th>\n",
       "      <td>91.000000</td>\n",
       "      <td>138.750000</td>\n",
       "    </tr>\n",
       "    <tr>\n",
       "      <th>wake_onset</th>\n",
       "      <td>1029.500000</td>\n",
       "      <td>184.250000</td>\n",
       "    </tr>\n",
       "  </tbody>\n",
       "</table>\n",
       "</div>"
      ],
      "text/plain": [
       "                               data            \n",
       "                             median  <lambda_0>\n",
       "metric                                         \n",
       "accuracy                   0.560641    0.130713\n",
       "bed_interval_end        1051.500000  181.250000\n",
       "bed_interval_start        52.500000  121.000000\n",
       "f1                         0.464750    0.132176\n",
       "getup_latency              0.000000    4.000000\n",
       "kappa                      0.300200    0.181270\n",
       "mcc                        0.366766    0.180670\n",
       "net_sleep_duration       772.000000  239.250000\n",
       "precision                  0.454739    0.148889\n",
       "recall                     0.560641    0.130713\n",
       "sleep_efficiency          80.572475   18.118732\n",
       "sleep_onset              129.000000  133.250000\n",
       "sleep_onset_latency       47.500000  106.250000\n",
       "specifity                  0.867766    0.083789\n",
       "total_sleep_duration     986.500000  196.750000\n",
       "wake_after_sleep_onset    91.000000  138.750000\n",
       "wake_onset              1029.500000  184.250000"
      ]
     },
     "execution_count": 10,
     "metadata": {},
     "output_type": "execute_result"
    }
   ],
   "source": [
    "results.groupby(\"metric\").agg([np.median, lambda x: np.percentile(x, 75) - np.percentile(x, 25)])"
   ]
  },
  {
   "cell_type": "code",
   "execution_count": 11,
   "metadata": {},
   "outputs": [
    {
     "data": {
      "text/html": [
       "<div>\n",
       "<style scoped>\n",
       "    .dataframe tbody tr th:only-of-type {\n",
       "        vertical-align: middle;\n",
       "    }\n",
       "\n",
       "    .dataframe tbody tr th {\n",
       "        vertical-align: top;\n",
       "    }\n",
       "\n",
       "    .dataframe thead th {\n",
       "        text-align: right;\n",
       "    }\n",
       "</style>\n",
       "<table border=\"1\" class=\"dataframe\">\n",
       "  <thead>\n",
       "    <tr style=\"text-align: right;\">\n",
       "      <th></th>\n",
       "      <th>wake</th>\n",
       "      <th>n1</th>\n",
       "      <th>n2</th>\n",
       "      <th>n3</th>\n",
       "      <th>rem</th>\n",
       "    </tr>\n",
       "  </thead>\n",
       "  <tbody>\n",
       "    <tr>\n",
       "      <th>wake</th>\n",
       "      <td>54788.0</td>\n",
       "      <td>0.0</td>\n",
       "      <td>26071.0</td>\n",
       "      <td>0.0</td>\n",
       "      <td>0.0</td>\n",
       "    </tr>\n",
       "    <tr>\n",
       "      <th>n1</th>\n",
       "      <td>5435.0</td>\n",
       "      <td>0.0</td>\n",
       "      <td>17667.0</td>\n",
       "      <td>0.0</td>\n",
       "      <td>0.0</td>\n",
       "    </tr>\n",
       "    <tr>\n",
       "      <th>n2</th>\n",
       "      <td>10299.0</td>\n",
       "      <td>0.0</td>\n",
       "      <td>82784.0</td>\n",
       "      <td>0.0</td>\n",
       "      <td>0.0</td>\n",
       "    </tr>\n",
       "    <tr>\n",
       "      <th>n3</th>\n",
       "      <td>860.0</td>\n",
       "      <td>0.0</td>\n",
       "      <td>16224.0</td>\n",
       "      <td>0.0</td>\n",
       "      <td>0.0</td>\n",
       "    </tr>\n",
       "    <tr>\n",
       "      <th>rem</th>\n",
       "      <td>1751.0</td>\n",
       "      <td>0.0</td>\n",
       "      <td>30069.0</td>\n",
       "      <td>0.0</td>\n",
       "      <td>0.0</td>\n",
       "    </tr>\n",
       "  </tbody>\n",
       "</table>\n",
       "</div>"
      ],
      "text/plain": [
       "         wake   n1       n2   n3  rem\n",
       "wake  54788.0  0.0  26071.0  0.0  0.0\n",
       "n1     5435.0  0.0  17667.0  0.0  0.0\n",
       "n2    10299.0  0.0  82784.0  0.0  0.0\n",
       "n3      860.0  0.0  16224.0  0.0  0.0\n",
       "rem    1751.0  0.0  30069.0  0.0  0.0"
      ]
     },
     "execution_count": 11,
     "metadata": {},
     "output_type": "execute_result"
    }
   ],
   "source": [
    "confusion_matrix_acc = pd.read_csv(path.joinpath(\"confusion_matrix_\" + algorithm +\"_benchmark_\" + mod + \"_\" + stage + \".csv\"), index_col = \"Unnamed: 0\")\n",
    "confusion_matrix_acc"
   ]
  },
  {
   "cell_type": "markdown",
   "metadata": {
    "tags": []
   },
   "source": [
    "# 5 Stage\n",
    "# Acc + HRV"
   ]
  },
  {
   "cell_type": "code",
   "execution_count": 12,
   "metadata": {},
   "outputs": [],
   "source": [
    "stage = \"5stage\"\n",
    "mod = \"acc_hrv\""
   ]
  },
  {
   "cell_type": "code",
   "execution_count": 13,
   "metadata": {},
   "outputs": [],
   "source": [
    "full_results = pd.read_csv(path.joinpath(algorithm +\"_benchmark_\" + mod + \"_\" + stage + \".csv\"), index_col=\"metric\")\n",
    "full_results.columns.name = \"subject\"\n",
    "results = full_results.drop(index=\"confusion_matrix\")"
   ]
  },
  {
   "cell_type": "code",
   "execution_count": 14,
   "metadata": {},
   "outputs": [],
   "source": [
    "results = pd.DataFrame(results.stack(\"subject\"), columns=[\"data\"]).astype(\"float\")"
   ]
  },
  {
   "cell_type": "code",
   "execution_count": 15,
   "metadata": {},
   "outputs": [
    {
     "data": {
      "text/html": [
       "<div>\n",
       "<style scoped>\n",
       "    .dataframe tbody tr th:only-of-type {\n",
       "        vertical-align: middle;\n",
       "    }\n",
       "\n",
       "    .dataframe tbody tr th {\n",
       "        vertical-align: top;\n",
       "    }\n",
       "\n",
       "    .dataframe thead tr th {\n",
       "        text-align: left;\n",
       "    }\n",
       "\n",
       "    .dataframe thead tr:last-of-type th {\n",
       "        text-align: right;\n",
       "    }\n",
       "</style>\n",
       "<table border=\"1\" class=\"dataframe\">\n",
       "  <thead>\n",
       "    <tr>\n",
       "      <th></th>\n",
       "      <th colspan=\"2\" halign=\"left\">data</th>\n",
       "    </tr>\n",
       "    <tr>\n",
       "      <th></th>\n",
       "      <th>median</th>\n",
       "      <th>&lt;lambda_0&gt;</th>\n",
       "    </tr>\n",
       "    <tr>\n",
       "      <th>metric</th>\n",
       "      <th></th>\n",
       "      <th></th>\n",
       "    </tr>\n",
       "  </thead>\n",
       "  <tbody>\n",
       "    <tr>\n",
       "      <th>accuracy</th>\n",
       "      <td>0.648635</td>\n",
       "      <td>0.149262</td>\n",
       "    </tr>\n",
       "    <tr>\n",
       "      <th>bed_interval_end</th>\n",
       "      <td>1051.500000</td>\n",
       "      <td>181.250000</td>\n",
       "    </tr>\n",
       "    <tr>\n",
       "      <th>bed_interval_start</th>\n",
       "      <td>52.500000</td>\n",
       "      <td>121.000000</td>\n",
       "    </tr>\n",
       "    <tr>\n",
       "      <th>f1</th>\n",
       "      <td>0.596343</td>\n",
       "      <td>0.154900</td>\n",
       "    </tr>\n",
       "    <tr>\n",
       "      <th>getup_latency</th>\n",
       "      <td>2.000000</td>\n",
       "      <td>9.000000</td>\n",
       "    </tr>\n",
       "    <tr>\n",
       "      <th>kappa</th>\n",
       "      <td>0.460052</td>\n",
       "      <td>0.201197</td>\n",
       "    </tr>\n",
       "    <tr>\n",
       "      <th>mcc</th>\n",
       "      <td>0.503365</td>\n",
       "      <td>0.172288</td>\n",
       "    </tr>\n",
       "    <tr>\n",
       "      <th>net_sleep_duration</th>\n",
       "      <td>793.500000</td>\n",
       "      <td>205.250000</td>\n",
       "    </tr>\n",
       "    <tr>\n",
       "      <th>precision</th>\n",
       "      <td>0.657689</td>\n",
       "      <td>0.137593</td>\n",
       "    </tr>\n",
       "    <tr>\n",
       "      <th>recall</th>\n",
       "      <td>0.648635</td>\n",
       "      <td>0.149262</td>\n",
       "    </tr>\n",
       "    <tr>\n",
       "      <th>sleep_efficiency</th>\n",
       "      <td>82.075936</td>\n",
       "      <td>15.664927</td>\n",
       "    </tr>\n",
       "    <tr>\n",
       "      <th>sleep_onset</th>\n",
       "      <td>120.000000</td>\n",
       "      <td>133.250000</td>\n",
       "    </tr>\n",
       "    <tr>\n",
       "      <th>sleep_onset_latency</th>\n",
       "      <td>22.500000</td>\n",
       "      <td>80.250000</td>\n",
       "    </tr>\n",
       "    <tr>\n",
       "      <th>specifity</th>\n",
       "      <td>0.884085</td>\n",
       "      <td>0.064560</td>\n",
       "    </tr>\n",
       "    <tr>\n",
       "      <th>total_sleep_duration</th>\n",
       "      <td>986.500000</td>\n",
       "      <td>196.750000</td>\n",
       "    </tr>\n",
       "    <tr>\n",
       "      <th>wake_after_sleep_onset</th>\n",
       "      <td>99.000000</td>\n",
       "      <td>119.000000</td>\n",
       "    </tr>\n",
       "    <tr>\n",
       "      <th>wake_onset</th>\n",
       "      <td>1048.500000</td>\n",
       "      <td>175.500000</td>\n",
       "    </tr>\n",
       "  </tbody>\n",
       "</table>\n",
       "</div>"
      ],
      "text/plain": [
       "                               data            \n",
       "                             median  <lambda_0>\n",
       "metric                                         \n",
       "accuracy                   0.648635    0.149262\n",
       "bed_interval_end        1051.500000  181.250000\n",
       "bed_interval_start        52.500000  121.000000\n",
       "f1                         0.596343    0.154900\n",
       "getup_latency              2.000000    9.000000\n",
       "kappa                      0.460052    0.201197\n",
       "mcc                        0.503365    0.172288\n",
       "net_sleep_duration       793.500000  205.250000\n",
       "precision                  0.657689    0.137593\n",
       "recall                     0.648635    0.149262\n",
       "sleep_efficiency          82.075936   15.664927\n",
       "sleep_onset              120.000000  133.250000\n",
       "sleep_onset_latency       22.500000   80.250000\n",
       "specifity                  0.884085    0.064560\n",
       "total_sleep_duration     986.500000  196.750000\n",
       "wake_after_sleep_onset    99.000000  119.000000\n",
       "wake_onset              1048.500000  175.500000"
      ]
     },
     "execution_count": 15,
     "metadata": {},
     "output_type": "execute_result"
    }
   ],
   "source": [
    "results.groupby(\"metric\").agg([np.median, lambda x: np.percentile(x, 75) - np.percentile(x, 25)])"
   ]
  },
  {
   "cell_type": "code",
   "execution_count": 16,
   "metadata": {},
   "outputs": [
    {
     "data": {
      "text/html": [
       "<div>\n",
       "<style scoped>\n",
       "    .dataframe tbody tr th:only-of-type {\n",
       "        vertical-align: middle;\n",
       "    }\n",
       "\n",
       "    .dataframe tbody tr th {\n",
       "        vertical-align: top;\n",
       "    }\n",
       "\n",
       "    .dataframe thead th {\n",
       "        text-align: right;\n",
       "    }\n",
       "</style>\n",
       "<table border=\"1\" class=\"dataframe\">\n",
       "  <thead>\n",
       "    <tr style=\"text-align: right;\">\n",
       "      <th></th>\n",
       "      <th>wake</th>\n",
       "      <th>n1</th>\n",
       "      <th>n2</th>\n",
       "      <th>n3</th>\n",
       "      <th>rem</th>\n",
       "    </tr>\n",
       "  </thead>\n",
       "  <tbody>\n",
       "    <tr>\n",
       "      <th>wake</th>\n",
       "      <td>55853.0</td>\n",
       "      <td>286.0</td>\n",
       "      <td>19649.0</td>\n",
       "      <td>79.0</td>\n",
       "      <td>4992.0</td>\n",
       "    </tr>\n",
       "    <tr>\n",
       "      <th>n1</th>\n",
       "      <td>4170.0</td>\n",
       "      <td>266.0</td>\n",
       "      <td>16338.0</td>\n",
       "      <td>14.0</td>\n",
       "      <td>2314.0</td>\n",
       "    </tr>\n",
       "    <tr>\n",
       "      <th>n2</th>\n",
       "      <td>5136.0</td>\n",
       "      <td>161.0</td>\n",
       "      <td>81859.0</td>\n",
       "      <td>1501.0</td>\n",
       "      <td>4426.0</td>\n",
       "    </tr>\n",
       "    <tr>\n",
       "      <th>n3</th>\n",
       "      <td>355.0</td>\n",
       "      <td>0.0</td>\n",
       "      <td>14752.0</td>\n",
       "      <td>1670.0</td>\n",
       "      <td>307.0</td>\n",
       "    </tr>\n",
       "    <tr>\n",
       "      <th>rem</th>\n",
       "      <td>1475.0</td>\n",
       "      <td>112.0</td>\n",
       "      <td>12105.0</td>\n",
       "      <td>3.0</td>\n",
       "      <td>18125.0</td>\n",
       "    </tr>\n",
       "  </tbody>\n",
       "</table>\n",
       "</div>"
      ],
      "text/plain": [
       "         wake     n1       n2      n3      rem\n",
       "wake  55853.0  286.0  19649.0    79.0   4992.0\n",
       "n1     4170.0  266.0  16338.0    14.0   2314.0\n",
       "n2     5136.0  161.0  81859.0  1501.0   4426.0\n",
       "n3      355.0    0.0  14752.0  1670.0    307.0\n",
       "rem    1475.0  112.0  12105.0     3.0  18125.0"
      ]
     },
     "execution_count": 16,
     "metadata": {},
     "output_type": "execute_result"
    }
   ],
   "source": [
    "confusion_matrix_acc_hrv = pd.read_csv(path.joinpath(\"confusion_matrix_\" + algorithm +\"_benchmark_\" + mod + \"_\" + stage + \".csv\"), index_col = \"Unnamed: 0\")\n",
    "confusion_matrix_acc_hrv"
   ]
  },
  {
   "cell_type": "markdown",
   "metadata": {
    "tags": []
   },
   "source": [
    "# 5 Stage\n",
    "# ACC + HRV + RRV"
   ]
  },
  {
   "cell_type": "code",
   "execution_count": 17,
   "metadata": {},
   "outputs": [],
   "source": [
    "stage = \"5stage\"\n",
    "mod = \"acc_hrv_RRV\""
   ]
  },
  {
   "cell_type": "code",
   "execution_count": 18,
   "metadata": {},
   "outputs": [],
   "source": [
    "full_results = pd.read_csv(path.joinpath(algorithm +\"_benchmark_\" + mod + \"_\" + stage + \".csv\"), index_col=\"metric\")\n",
    "full_results.columns.name = \"subject\"\n",
    "results = full_results.drop(index=\"confusion_matrix\")"
   ]
  },
  {
   "cell_type": "code",
   "execution_count": 19,
   "metadata": {},
   "outputs": [],
   "source": [
    "results = pd.DataFrame(results.stack(\"subject\"), columns=[\"data\"]).astype(\"float\")"
   ]
  },
  {
   "cell_type": "code",
   "execution_count": 20,
   "metadata": {},
   "outputs": [
    {
     "data": {
      "text/html": [
       "<div>\n",
       "<style scoped>\n",
       "    .dataframe tbody tr th:only-of-type {\n",
       "        vertical-align: middle;\n",
       "    }\n",
       "\n",
       "    .dataframe tbody tr th {\n",
       "        vertical-align: top;\n",
       "    }\n",
       "\n",
       "    .dataframe thead tr th {\n",
       "        text-align: left;\n",
       "    }\n",
       "\n",
       "    .dataframe thead tr:last-of-type th {\n",
       "        text-align: right;\n",
       "    }\n",
       "</style>\n",
       "<table border=\"1\" class=\"dataframe\">\n",
       "  <thead>\n",
       "    <tr>\n",
       "      <th></th>\n",
       "      <th colspan=\"2\" halign=\"left\">data</th>\n",
       "    </tr>\n",
       "    <tr>\n",
       "      <th></th>\n",
       "      <th>median</th>\n",
       "      <th>&lt;lambda_0&gt;</th>\n",
       "    </tr>\n",
       "    <tr>\n",
       "      <th>metric</th>\n",
       "      <th></th>\n",
       "      <th></th>\n",
       "    </tr>\n",
       "  </thead>\n",
       "  <tbody>\n",
       "    <tr>\n",
       "      <th>accuracy</th>\n",
       "      <td>0.657431</td>\n",
       "      <td>0.118764</td>\n",
       "    </tr>\n",
       "    <tr>\n",
       "      <th>bed_interval_end</th>\n",
       "      <td>1051.500000</td>\n",
       "      <td>181.250000</td>\n",
       "    </tr>\n",
       "    <tr>\n",
       "      <th>bed_interval_start</th>\n",
       "      <td>52.500000</td>\n",
       "      <td>121.000000</td>\n",
       "    </tr>\n",
       "    <tr>\n",
       "      <th>f1</th>\n",
       "      <td>0.600825</td>\n",
       "      <td>0.123728</td>\n",
       "    </tr>\n",
       "    <tr>\n",
       "      <th>getup_latency</th>\n",
       "      <td>1.000000</td>\n",
       "      <td>3.250000</td>\n",
       "    </tr>\n",
       "    <tr>\n",
       "      <th>kappa</th>\n",
       "      <td>0.472891</td>\n",
       "      <td>0.172742</td>\n",
       "    </tr>\n",
       "    <tr>\n",
       "      <th>mcc</th>\n",
       "      <td>0.513862</td>\n",
       "      <td>0.156241</td>\n",
       "    </tr>\n",
       "    <tr>\n",
       "      <th>net_sleep_duration</th>\n",
       "      <td>759.500000</td>\n",
       "      <td>210.000000</td>\n",
       "    </tr>\n",
       "    <tr>\n",
       "      <th>precision</th>\n",
       "      <td>0.645528</td>\n",
       "      <td>0.134704</td>\n",
       "    </tr>\n",
       "    <tr>\n",
       "      <th>recall</th>\n",
       "      <td>0.657431</td>\n",
       "      <td>0.118764</td>\n",
       "    </tr>\n",
       "    <tr>\n",
       "      <th>sleep_efficiency</th>\n",
       "      <td>78.677060</td>\n",
       "      <td>15.796027</td>\n",
       "    </tr>\n",
       "    <tr>\n",
       "      <th>sleep_onset</th>\n",
       "      <td>124.000000</td>\n",
       "      <td>141.500000</td>\n",
       "    </tr>\n",
       "    <tr>\n",
       "      <th>sleep_onset_latency</th>\n",
       "      <td>35.500000</td>\n",
       "      <td>81.250000</td>\n",
       "    </tr>\n",
       "    <tr>\n",
       "      <th>specificity</th>\n",
       "      <td>0.902364</td>\n",
       "      <td>0.063433</td>\n",
       "    </tr>\n",
       "    <tr>\n",
       "      <th>total_sleep_duration</th>\n",
       "      <td>986.500000</td>\n",
       "      <td>196.750000</td>\n",
       "    </tr>\n",
       "    <tr>\n",
       "      <th>wake_after_sleep_onset</th>\n",
       "      <td>124.000000</td>\n",
       "      <td>127.250000</td>\n",
       "    </tr>\n",
       "    <tr>\n",
       "      <th>wake_onset</th>\n",
       "      <td>1045.000000</td>\n",
       "      <td>170.750000</td>\n",
       "    </tr>\n",
       "  </tbody>\n",
       "</table>\n",
       "</div>"
      ],
      "text/plain": [
       "                               data            \n",
       "                             median  <lambda_0>\n",
       "metric                                         \n",
       "accuracy                   0.657431    0.118764\n",
       "bed_interval_end        1051.500000  181.250000\n",
       "bed_interval_start        52.500000  121.000000\n",
       "f1                         0.600825    0.123728\n",
       "getup_latency              1.000000    3.250000\n",
       "kappa                      0.472891    0.172742\n",
       "mcc                        0.513862    0.156241\n",
       "net_sleep_duration       759.500000  210.000000\n",
       "precision                  0.645528    0.134704\n",
       "recall                     0.657431    0.118764\n",
       "sleep_efficiency          78.677060   15.796027\n",
       "sleep_onset              124.000000  141.500000\n",
       "sleep_onset_latency       35.500000   81.250000\n",
       "specificity                0.902364    0.063433\n",
       "total_sleep_duration     986.500000  196.750000\n",
       "wake_after_sleep_onset   124.000000  127.250000\n",
       "wake_onset              1045.000000  170.750000"
      ]
     },
     "execution_count": 20,
     "metadata": {},
     "output_type": "execute_result"
    }
   ],
   "source": [
    "results.groupby(\"metric\").agg([np.median, lambda x: np.percentile(x, 75) - np.percentile(x, 25)])"
   ]
  },
  {
   "cell_type": "code",
   "execution_count": 21,
   "metadata": {},
   "outputs": [
    {
     "data": {
      "text/html": [
       "<div>\n",
       "<style scoped>\n",
       "    .dataframe tbody tr th:only-of-type {\n",
       "        vertical-align: middle;\n",
       "    }\n",
       "\n",
       "    .dataframe tbody tr th {\n",
       "        vertical-align: top;\n",
       "    }\n",
       "\n",
       "    .dataframe thead th {\n",
       "        text-align: right;\n",
       "    }\n",
       "</style>\n",
       "<table border=\"1\" class=\"dataframe\">\n",
       "  <thead>\n",
       "    <tr style=\"text-align: right;\">\n",
       "      <th></th>\n",
       "      <th>wake</th>\n",
       "      <th>n1</th>\n",
       "      <th>n2</th>\n",
       "      <th>n3</th>\n",
       "      <th>rem</th>\n",
       "    </tr>\n",
       "  </thead>\n",
       "  <tbody>\n",
       "    <tr>\n",
       "      <th>wake</th>\n",
       "      <td>60158.0</td>\n",
       "      <td>419.0</td>\n",
       "      <td>17272.0</td>\n",
       "      <td>3.0</td>\n",
       "      <td>3007.0</td>\n",
       "    </tr>\n",
       "    <tr>\n",
       "      <th>n1</th>\n",
       "      <td>4824.0</td>\n",
       "      <td>329.0</td>\n",
       "      <td>16492.0</td>\n",
       "      <td>0.0</td>\n",
       "      <td>1457.0</td>\n",
       "    </tr>\n",
       "    <tr>\n",
       "      <th>n2</th>\n",
       "      <td>5736.0</td>\n",
       "      <td>206.0</td>\n",
       "      <td>84054.0</td>\n",
       "      <td>266.0</td>\n",
       "      <td>2821.0</td>\n",
       "    </tr>\n",
       "    <tr>\n",
       "      <th>n3</th>\n",
       "      <td>374.0</td>\n",
       "      <td>3.0</td>\n",
       "      <td>16040.0</td>\n",
       "      <td>409.0</td>\n",
       "      <td>258.0</td>\n",
       "    </tr>\n",
       "    <tr>\n",
       "      <th>rem</th>\n",
       "      <td>2016.0</td>\n",
       "      <td>162.0</td>\n",
       "      <td>13660.0</td>\n",
       "      <td>0.0</td>\n",
       "      <td>15982.0</td>\n",
       "    </tr>\n",
       "  </tbody>\n",
       "</table>\n",
       "</div>"
      ],
      "text/plain": [
       "         wake     n1       n2     n3      rem\n",
       "wake  60158.0  419.0  17272.0    3.0   3007.0\n",
       "n1     4824.0  329.0  16492.0    0.0   1457.0\n",
       "n2     5736.0  206.0  84054.0  266.0   2821.0\n",
       "n3      374.0    3.0  16040.0  409.0    258.0\n",
       "rem    2016.0  162.0  13660.0    0.0  15982.0"
      ]
     },
     "execution_count": 21,
     "metadata": {},
     "output_type": "execute_result"
    }
   ],
   "source": [
    "confusion_matrix_acc_hrv_rrv = pd.read_csv(path.joinpath(\"confusion_matrix_\" + algorithm +\"_benchmark_\" + mod + \"_\" + stage + \".csv\"), index_col = \"Unnamed: 0\")\n",
    "confusion_matrix_acc_hrv_rrv"
   ]
  },
  {
   "cell_type": "markdown",
   "metadata": {
    "tags": []
   },
   "source": [
    "# 5 Stage\n",
    "# ACC + HRV + EDR"
   ]
  },
  {
   "cell_type": "code",
   "execution_count": 22,
   "metadata": {},
   "outputs": [],
   "source": [
    "stage = \"5stage\"\n",
    "mod = \"acc_hrv_EDR\""
   ]
  },
  {
   "cell_type": "code",
   "execution_count": 23,
   "metadata": {},
   "outputs": [],
   "source": [
    "full_results = pd.read_csv(path.joinpath(algorithm +\"_benchmark_\" + mod + \"_\" + stage + \".csv\"), index_col=\"metric\")\n",
    "full_results.columns.name = \"subject\"\n",
    "results = full_results.drop(index=\"confusion_matrix\")"
   ]
  },
  {
   "cell_type": "code",
   "execution_count": 24,
   "metadata": {},
   "outputs": [],
   "source": [
    "results = pd.DataFrame(results.stack(\"subject\"), columns=[\"data\"]).astype(\"float\")"
   ]
  },
  {
   "cell_type": "code",
   "execution_count": 25,
   "metadata": {},
   "outputs": [
    {
     "data": {
      "text/html": [
       "<div>\n",
       "<style scoped>\n",
       "    .dataframe tbody tr th:only-of-type {\n",
       "        vertical-align: middle;\n",
       "    }\n",
       "\n",
       "    .dataframe tbody tr th {\n",
       "        vertical-align: top;\n",
       "    }\n",
       "\n",
       "    .dataframe thead tr th {\n",
       "        text-align: left;\n",
       "    }\n",
       "\n",
       "    .dataframe thead tr:last-of-type th {\n",
       "        text-align: right;\n",
       "    }\n",
       "</style>\n",
       "<table border=\"1\" class=\"dataframe\">\n",
       "  <thead>\n",
       "    <tr>\n",
       "      <th></th>\n",
       "      <th colspan=\"2\" halign=\"left\">data</th>\n",
       "    </tr>\n",
       "    <tr>\n",
       "      <th></th>\n",
       "      <th>median</th>\n",
       "      <th>&lt;lambda_0&gt;</th>\n",
       "    </tr>\n",
       "    <tr>\n",
       "      <th>metric</th>\n",
       "      <th></th>\n",
       "      <th></th>\n",
       "    </tr>\n",
       "  </thead>\n",
       "  <tbody>\n",
       "    <tr>\n",
       "      <th>accuracy</th>\n",
       "      <td>0.636781</td>\n",
       "      <td>0.130655</td>\n",
       "    </tr>\n",
       "    <tr>\n",
       "      <th>bed_interval_end</th>\n",
       "      <td>1051.500000</td>\n",
       "      <td>181.250000</td>\n",
       "    </tr>\n",
       "    <tr>\n",
       "      <th>bed_interval_start</th>\n",
       "      <td>52.500000</td>\n",
       "      <td>121.000000</td>\n",
       "    </tr>\n",
       "    <tr>\n",
       "      <th>f1</th>\n",
       "      <td>0.572351</td>\n",
       "      <td>0.147957</td>\n",
       "    </tr>\n",
       "    <tr>\n",
       "      <th>getup_latency</th>\n",
       "      <td>2.000000</td>\n",
       "      <td>6.250000</td>\n",
       "    </tr>\n",
       "    <tr>\n",
       "      <th>kappa</th>\n",
       "      <td>0.451791</td>\n",
       "      <td>0.186391</td>\n",
       "    </tr>\n",
       "    <tr>\n",
       "      <th>mcc</th>\n",
       "      <td>0.485605</td>\n",
       "      <td>0.164035</td>\n",
       "    </tr>\n",
       "    <tr>\n",
       "      <th>net_sleep_duration</th>\n",
       "      <td>792.000000</td>\n",
       "      <td>177.250000</td>\n",
       "    </tr>\n",
       "    <tr>\n",
       "      <th>precision</th>\n",
       "      <td>0.609113</td>\n",
       "      <td>0.139403</td>\n",
       "    </tr>\n",
       "    <tr>\n",
       "      <th>recall</th>\n",
       "      <td>0.636781</td>\n",
       "      <td>0.130655</td>\n",
       "    </tr>\n",
       "    <tr>\n",
       "      <th>sleep_efficiency</th>\n",
       "      <td>81.759684</td>\n",
       "      <td>15.028112</td>\n",
       "    </tr>\n",
       "    <tr>\n",
       "      <th>sleep_onset</th>\n",
       "      <td>121.000000</td>\n",
       "      <td>134.250000</td>\n",
       "    </tr>\n",
       "    <tr>\n",
       "      <th>sleep_onset_latency</th>\n",
       "      <td>31.000000</td>\n",
       "      <td>86.250000</td>\n",
       "    </tr>\n",
       "    <tr>\n",
       "      <th>specifity</th>\n",
       "      <td>0.889002</td>\n",
       "      <td>0.063030</td>\n",
       "    </tr>\n",
       "    <tr>\n",
       "      <th>total_sleep_duration</th>\n",
       "      <td>986.500000</td>\n",
       "      <td>196.750000</td>\n",
       "    </tr>\n",
       "    <tr>\n",
       "      <th>wake_after_sleep_onset</th>\n",
       "      <td>100.000000</td>\n",
       "      <td>112.500000</td>\n",
       "    </tr>\n",
       "    <tr>\n",
       "      <th>wake_onset</th>\n",
       "      <td>1047.000000</td>\n",
       "      <td>169.250000</td>\n",
       "    </tr>\n",
       "  </tbody>\n",
       "</table>\n",
       "</div>"
      ],
      "text/plain": [
       "                               data            \n",
       "                             median  <lambda_0>\n",
       "metric                                         \n",
       "accuracy                   0.636781    0.130655\n",
       "bed_interval_end        1051.500000  181.250000\n",
       "bed_interval_start        52.500000  121.000000\n",
       "f1                         0.572351    0.147957\n",
       "getup_latency              2.000000    6.250000\n",
       "kappa                      0.451791    0.186391\n",
       "mcc                        0.485605    0.164035\n",
       "net_sleep_duration       792.000000  177.250000\n",
       "precision                  0.609113    0.139403\n",
       "recall                     0.636781    0.130655\n",
       "sleep_efficiency          81.759684   15.028112\n",
       "sleep_onset              121.000000  134.250000\n",
       "sleep_onset_latency       31.000000   86.250000\n",
       "specifity                  0.889002    0.063030\n",
       "total_sleep_duration     986.500000  196.750000\n",
       "wake_after_sleep_onset   100.000000  112.500000\n",
       "wake_onset              1047.000000  169.250000"
      ]
     },
     "execution_count": 25,
     "metadata": {},
     "output_type": "execute_result"
    }
   ],
   "source": [
    "results.groupby(\"metric\").agg([np.median, lambda x: np.percentile(x, 75) - np.percentile(x, 25)])"
   ]
  },
  {
   "cell_type": "code",
   "execution_count": 26,
   "metadata": {
    "tags": []
   },
   "outputs": [
    {
     "data": {
      "text/html": [
       "<div>\n",
       "<style scoped>\n",
       "    .dataframe tbody tr th:only-of-type {\n",
       "        vertical-align: middle;\n",
       "    }\n",
       "\n",
       "    .dataframe tbody tr th {\n",
       "        vertical-align: top;\n",
       "    }\n",
       "\n",
       "    .dataframe thead th {\n",
       "        text-align: right;\n",
       "    }\n",
       "</style>\n",
       "<table border=\"1\" class=\"dataframe\">\n",
       "  <thead>\n",
       "    <tr style=\"text-align: right;\">\n",
       "      <th></th>\n",
       "      <th>wake</th>\n",
       "      <th>n1</th>\n",
       "      <th>n2</th>\n",
       "      <th>n3</th>\n",
       "      <th>rem</th>\n",
       "    </tr>\n",
       "  </thead>\n",
       "  <tbody>\n",
       "    <tr>\n",
       "      <th>wake</th>\n",
       "      <td>55576.0</td>\n",
       "      <td>62.0</td>\n",
       "      <td>20821.0</td>\n",
       "      <td>32.0</td>\n",
       "      <td>4368.0</td>\n",
       "    </tr>\n",
       "    <tr>\n",
       "      <th>n1</th>\n",
       "      <td>4041.0</td>\n",
       "      <td>53.0</td>\n",
       "      <td>17148.0</td>\n",
       "      <td>3.0</td>\n",
       "      <td>1857.0</td>\n",
       "    </tr>\n",
       "    <tr>\n",
       "      <th>n2</th>\n",
       "      <td>5305.0</td>\n",
       "      <td>30.0</td>\n",
       "      <td>83158.0</td>\n",
       "      <td>538.0</td>\n",
       "      <td>4052.0</td>\n",
       "    </tr>\n",
       "    <tr>\n",
       "      <th>n3</th>\n",
       "      <td>397.0</td>\n",
       "      <td>0.0</td>\n",
       "      <td>15842.0</td>\n",
       "      <td>549.0</td>\n",
       "      <td>296.0</td>\n",
       "    </tr>\n",
       "    <tr>\n",
       "      <th>rem</th>\n",
       "      <td>1840.0</td>\n",
       "      <td>55.0</td>\n",
       "      <td>13294.0</td>\n",
       "      <td>0.0</td>\n",
       "      <td>16631.0</td>\n",
       "    </tr>\n",
       "  </tbody>\n",
       "</table>\n",
       "</div>"
      ],
      "text/plain": [
       "         wake    n1       n2     n3      rem\n",
       "wake  55576.0  62.0  20821.0   32.0   4368.0\n",
       "n1     4041.0  53.0  17148.0    3.0   1857.0\n",
       "n2     5305.0  30.0  83158.0  538.0   4052.0\n",
       "n3      397.0   0.0  15842.0  549.0    296.0\n",
       "rem    1840.0  55.0  13294.0    0.0  16631.0"
      ]
     },
     "execution_count": 26,
     "metadata": {},
     "output_type": "execute_result"
    }
   ],
   "source": [
    "confusion_matrix_acc_hrv_edr = pd.read_csv(path.joinpath(\"confusion_matrix_\" + algorithm +\"_benchmark_\" + mod + \"_\" + stage + \".csv\"), index_col = \"Unnamed: 0\")\n",
    "confusion_matrix_acc_hrv_edr"
   ]
  },
  {
   "cell_type": "code",
   "execution_count": 27,
   "metadata": {},
   "outputs": [
    {
     "name": "stderr",
     "output_type": "stream",
     "text": [
      "/var/folders/kr/z18bsf7n4xsf9cd__hgnn7lh0000gn/T/ipykernel_93107/153225357.py:2: FutureWarning: Support for multi-dimensional indexing (e.g. `obj[:, None]`) is deprecated and will be removed in a future version.  Convert to a numpy array before indexing instead.\n",
      "  x = confusion_matrix.sum(axis=1)[:, np.newaxis]\n",
      "/var/folders/kr/z18bsf7n4xsf9cd__hgnn7lh0000gn/T/ipykernel_93107/153225357.py:2: FutureWarning: Support for multi-dimensional indexing (e.g. `obj[:, None]`) is deprecated and will be removed in a future version.  Convert to a numpy array before indexing instead.\n",
      "  x = confusion_matrix.sum(axis=1)[:, np.newaxis]\n",
      "/var/folders/kr/z18bsf7n4xsf9cd__hgnn7lh0000gn/T/ipykernel_93107/153225357.py:2: FutureWarning: Support for multi-dimensional indexing (e.g. `obj[:, None]`) is deprecated and will be removed in a future version.  Convert to a numpy array before indexing instead.\n",
      "  x = confusion_matrix.sum(axis=1)[:, np.newaxis]\n",
      "/var/folders/kr/z18bsf7n4xsf9cd__hgnn7lh0000gn/T/ipykernel_93107/153225357.py:2: FutureWarning: Support for multi-dimensional indexing (e.g. `obj[:, None]`) is deprecated and will be removed in a future version.  Convert to a numpy array before indexing instead.\n",
      "  x = confusion_matrix.sum(axis=1)[:, np.newaxis]\n"
     ]
    },
    {
     "data": {
      "application/vnd.jupyter.widget-view+json": {
       "model_id": "a5268555f91b46b89c1ced051cd79b18",
       "version_major": 2,
       "version_minor": 0
      },
      "image/png": "[encoded data removed]",
      "text/html": [
       "\n",
       "            <div style=\"display: inline-block;\">\n",
       "                <div class=\"jupyter-widgets widget-label\" style=\"text-align: center;\">\n",
       "                    Figure\n",
       "                </div>\n",
       "                <img src='data:image/png;base64,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' width=1200.0/>\n",
       "            </div>\n",
       "        "
      ],
      "text/plain": [
       "Canvas(toolbar=Toolbar(toolitems=[('Home', 'Reset original view', 'home', 'home'), ('Back', 'Back to previous …"
      ]
     },
     "metadata": {},
     "output_type": "display_data"
    }
   ],
   "source": [
    "fig, axs = plt.subplots(ncols=2, nrows=2, figsize = (12,12))\n",
    "sns.heatmap(conf_matrix(confusion_matrix_acc.rename(columns={\"wake\":\"Wake\", \"n1\":\"N1\", \"n2\":\"N2\", \"n3\":\"N3\", \"rem\": \"REM\"}, index = {\"wake\":\"Wake\", \"n1\":\"N1\", \"n2\":\"N2\", \"n3\":\"N3\", \"rem\": \"REM\"} )\n",
    "), fmt=',.2f',annot=True, ax=axs[0,0], cmap=\"Greens\")\n",
    "sns.heatmap(conf_matrix(confusion_matrix_acc_hrv.rename(columns={\"wake\":\"Wake\", \"n1\":\"N1\", \"n2\":\"N2\", \"n3\":\"N3\", \"rem\": \"REM\"}, index = {\"wake\":\"Wake\", \"n1\":\"N1\", \"n2\":\"N2\", \"n3\":\"N3\", \"rem\": \"REM\"} )\n",
    "), fmt=',.2f',annot=True, ax=axs[0,1], cmap=\"Greens\")\n",
    "sns.heatmap(conf_matrix(confusion_matrix_acc_hrv_rrv.rename(columns={\"wake\":\"Wake\", \"n1\":\"N1\", \"n2\":\"N2\", \"n3\":\"N3\", \"rem\": \"REM\"}, index = {\"wake\":\"Wake\", \"n1\":\"N1\", \"n2\":\"N2\", \"n3\":\"N3\", \"rem\": \"REM\"} )\n",
    "), fmt=',.2f',annot=True, ax=axs[1,0], cmap=\"Greens\")\n",
    "sns.heatmap(conf_matrix(confusion_matrix_acc_hrv_edr.rename(columns={\"wake\":\"Wake\", \"n1\":\"N1\", \"n2\":\"N2\", \"n3\":\"N3\", \"rem\": \"REM\"}, index = {\"wake\":\"Wake\", \"n1\":\"N1\", \"n2\":\"N2\", \"n3\":\"N3\", \"rem\": \"REM\"} )\n",
    "), fmt=',.2f',annot=True, ax=axs[1,1], cmap=\"Greens\")\n",
    "axs[0,0].set_title(\"ACT\")\n",
    "axs[0,0].set_ylabel(\"True\")\n",
    "axs[0,0].set_xlabel(\"Predicted\")\n",
    "\n",
    "axs[0,1].set_title(\"ACT + HRV\")\n",
    "axs[0,1].set_ylabel(\"True\")\n",
    "axs[0,1].set_xlabel(\"Predicted\")\n",
    "\n",
    "axs[1,0].set_title(\"ACT + HRV + RRV\")\n",
    "axs[1,0].set_ylabel(\"True\")\n",
    "axs[1,0].set_xlabel(\"Predicted\")\n",
    "\n",
    "axs[1,1].set_title(\"ACT + HRV + EDR\")\n",
    "axs[1,1].set_ylabel(\"True\")\n",
    "axs[1,1].set_xlabel(\"Predicted\")\n",
    "plt.savefig(\"confusionmatrix_\" + algorithm + \"_\" + stage + \".pdf\",     \n",
    "    format=\"pdf\",\n",
    "    bbox_inches=\"tight\")"
   ]
  },
  {
   "cell_type": "markdown",
   "metadata": {},
   "source": [
    "### Params"
   ]
  },
  {
   "cell_type": "code",
   "execution_count": 28,
   "metadata": {},
   "outputs": [
    {
     "data": {
      "text/plain": [
       "{'batch_size': 512,\n",
       " 'hidden_size': 388,\n",
       " 'learning_rate': 0.0025448906102420754,\n",
       " 'num_layers': 1,\n",
       " 'seq_len': 51}"
      ]
     },
     "metadata": {},
     "output_type": "display_data"
    },
    {
     "data": {
      "text/plain": [
       "{'batch_size': 512,\n",
       " 'hidden_size': 504,\n",
       " 'learning_rate': 0.0002241570791681932,\n",
       " 'num_layers': 2,\n",
       " 'seq_len': 51}"
      ]
     },
     "metadata": {},
     "output_type": "display_data"
    },
    {
     "data": {
      "text/plain": [
       "{'batch_size': 512,\n",
       " 'hidden_size': 288,\n",
       " 'learning_rate': 0.0003583148932841744,\n",
       " 'num_layers': 3,\n",
       " 'seq_len': 101}"
      ]
     },
     "metadata": {},
     "output_type": "display_data"
    },
    {
     "data": {
      "text/plain": [
       "{'batch_size': 512,\n",
       " 'hidden_size': 352,\n",
       " 'learning_rate': 0.0004668422817464261,\n",
       " 'num_layers': 2,\n",
       " 'seq_len': 21}"
      ]
     },
     "metadata": {},
     "output_type": "display_data"
    }
   ],
   "source": [
    "display(optuna.get_all_study_summaries(\"sqlite:///\" + str(db_path) + \"/\" + algorithm + \"_acc_\" + stage + \".db\")[0].best_trial.params)\n",
    "display(optuna.get_all_study_summaries(\"sqlite:///\" + str(db_path) + \"/\" + algorithm + \"_acc_hrv_\" + stage + \".db\")[0].best_trial.params)\n",
    "display(optuna.get_all_study_summaries(\"sqlite:///\" + str(db_path) + \"/\" + algorithm + \"_acc_hrv_RRV_\" + stage + \".db\")[0].best_trial.params)\n",
    "display(optuna.get_all_study_summaries(\"sqlite:///\" + str(db_path) + \"/\" + algorithm + \"_acc_hrv_EDR_\" + stage + \".db\")[0].best_trial.params)"
   ]
  },
  {
   "cell_type": "markdown",
   "metadata": {
    "tags": []
   },
   "source": [
    "# 3 Stage\n",
    "# Acc"
   ]
  },
  {
   "cell_type": "code",
   "execution_count": 29,
   "metadata": {},
   "outputs": [],
   "source": [
    "stage = \"3stage\"\n",
    "mod = \"acc\""
   ]
  },
  {
   "cell_type": "code",
   "execution_count": 30,
   "metadata": {},
   "outputs": [],
   "source": [
    "full_results = pd.read_csv(path.joinpath(algorithm +\"_benchmark_\" + mod + \"_\" + stage + \".csv\"), index_col=\"metric\")\n",
    "full_results.columns.name = \"subject\"\n",
    "results = full_results.drop(index=\"confusion_matrix\")"
   ]
  },
  {
   "cell_type": "code",
   "execution_count": 31,
   "metadata": {},
   "outputs": [],
   "source": [
    "results = pd.DataFrame(results.stack(\"subject\"), columns=[\"data\"]).astype(\"float\")"
   ]
  },
  {
   "cell_type": "code",
   "execution_count": 32,
   "metadata": {},
   "outputs": [
    {
     "data": {
      "text/html": [
       "<div>\n",
       "<style scoped>\n",
       "    .dataframe tbody tr th:only-of-type {\n",
       "        vertical-align: middle;\n",
       "    }\n",
       "\n",
       "    .dataframe tbody tr th {\n",
       "        vertical-align: top;\n",
       "    }\n",
       "\n",
       "    .dataframe thead tr th {\n",
       "        text-align: left;\n",
       "    }\n",
       "\n",
       "    .dataframe thead tr:last-of-type th {\n",
       "        text-align: right;\n",
       "    }\n",
       "</style>\n",
       "<table border=\"1\" class=\"dataframe\">\n",
       "  <thead>\n",
       "    <tr>\n",
       "      <th></th>\n",
       "      <th colspan=\"2\" halign=\"left\">data</th>\n",
       "    </tr>\n",
       "    <tr>\n",
       "      <th></th>\n",
       "      <th>median</th>\n",
       "      <th>&lt;lambda_0&gt;</th>\n",
       "    </tr>\n",
       "    <tr>\n",
       "      <th>metric</th>\n",
       "      <th></th>\n",
       "      <th></th>\n",
       "    </tr>\n",
       "  </thead>\n",
       "  <tbody>\n",
       "    <tr>\n",
       "      <th>accuracy</th>\n",
       "      <td>0.714572</td>\n",
       "      <td>0.113936</td>\n",
       "    </tr>\n",
       "    <tr>\n",
       "      <th>bed_interval_end</th>\n",
       "      <td>1051.500000</td>\n",
       "      <td>181.250000</td>\n",
       "    </tr>\n",
       "    <tr>\n",
       "      <th>bed_interval_start</th>\n",
       "      <td>52.500000</td>\n",
       "      <td>121.000000</td>\n",
       "    </tr>\n",
       "    <tr>\n",
       "      <th>f1</th>\n",
       "      <td>0.652845</td>\n",
       "      <td>0.117278</td>\n",
       "    </tr>\n",
       "    <tr>\n",
       "      <th>getup_latency</th>\n",
       "      <td>0.000000</td>\n",
       "      <td>3.000000</td>\n",
       "    </tr>\n",
       "    <tr>\n",
       "      <th>kappa</th>\n",
       "      <td>0.414315</td>\n",
       "      <td>0.244436</td>\n",
       "    </tr>\n",
       "    <tr>\n",
       "      <th>mcc</th>\n",
       "      <td>0.473652</td>\n",
       "      <td>0.213122</td>\n",
       "    </tr>\n",
       "    <tr>\n",
       "      <th>net_sleep_duration</th>\n",
       "      <td>818.000000</td>\n",
       "      <td>219.250000</td>\n",
       "    </tr>\n",
       "    <tr>\n",
       "      <th>precision</th>\n",
       "      <td>0.647165</td>\n",
       "      <td>0.110547</td>\n",
       "    </tr>\n",
       "    <tr>\n",
       "      <th>recall</th>\n",
       "      <td>0.714572</td>\n",
       "      <td>0.113936</td>\n",
       "    </tr>\n",
       "    <tr>\n",
       "      <th>sleep_efficiency</th>\n",
       "      <td>84.758697</td>\n",
       "      <td>16.865673</td>\n",
       "    </tr>\n",
       "    <tr>\n",
       "      <th>sleep_onset</th>\n",
       "      <td>122.000000</td>\n",
       "      <td>129.500000</td>\n",
       "    </tr>\n",
       "    <tr>\n",
       "      <th>sleep_onset_latency</th>\n",
       "      <td>38.000000</td>\n",
       "      <td>85.750000</td>\n",
       "    </tr>\n",
       "    <tr>\n",
       "      <th>specifity</th>\n",
       "      <td>0.848759</td>\n",
       "      <td>0.124763</td>\n",
       "    </tr>\n",
       "    <tr>\n",
       "      <th>total_sleep_duration</th>\n",
       "      <td>986.500000</td>\n",
       "      <td>196.750000</td>\n",
       "    </tr>\n",
       "    <tr>\n",
       "      <th>wake_after_sleep_onset</th>\n",
       "      <td>59.500000</td>\n",
       "      <td>102.000000</td>\n",
       "    </tr>\n",
       "    <tr>\n",
       "      <th>wake_onset</th>\n",
       "      <td>1033.000000</td>\n",
       "      <td>179.500000</td>\n",
       "    </tr>\n",
       "  </tbody>\n",
       "</table>\n",
       "</div>"
      ],
      "text/plain": [
       "                               data            \n",
       "                             median  <lambda_0>\n",
       "metric                                         \n",
       "accuracy                   0.714572    0.113936\n",
       "bed_interval_end        1051.500000  181.250000\n",
       "bed_interval_start        52.500000  121.000000\n",
       "f1                         0.652845    0.117278\n",
       "getup_latency              0.000000    3.000000\n",
       "kappa                      0.414315    0.244436\n",
       "mcc                        0.473652    0.213122\n",
       "net_sleep_duration       818.000000  219.250000\n",
       "precision                  0.647165    0.110547\n",
       "recall                     0.714572    0.113936\n",
       "sleep_efficiency          84.758697   16.865673\n",
       "sleep_onset              122.000000  129.500000\n",
       "sleep_onset_latency       38.000000   85.750000\n",
       "specifity                  0.848759    0.124763\n",
       "total_sleep_duration     986.500000  196.750000\n",
       "wake_after_sleep_onset    59.500000  102.000000\n",
       "wake_onset              1033.000000  179.500000"
      ]
     },
     "execution_count": 32,
     "metadata": {},
     "output_type": "execute_result"
    }
   ],
   "source": [
    "results.groupby(\"metric\").agg([np.median, lambda x: np.percentile(x, 75) - np.percentile(x, 25)])"
   ]
  },
  {
   "cell_type": "code",
   "execution_count": 33,
   "metadata": {},
   "outputs": [
    {
     "data": {
      "text/html": [
       "<div>\n",
       "<style scoped>\n",
       "    .dataframe tbody tr th:only-of-type {\n",
       "        vertical-align: middle;\n",
       "    }\n",
       "\n",
       "    .dataframe tbody tr th {\n",
       "        vertical-align: top;\n",
       "    }\n",
       "\n",
       "    .dataframe thead th {\n",
       "        text-align: right;\n",
       "    }\n",
       "</style>\n",
       "<table border=\"1\" class=\"dataframe\">\n",
       "  <thead>\n",
       "    <tr style=\"text-align: right;\">\n",
       "      <th></th>\n",
       "      <th>wake</th>\n",
       "      <th>nrem</th>\n",
       "      <th>rem</th>\n",
       "    </tr>\n",
       "  </thead>\n",
       "  <tbody>\n",
       "    <tr>\n",
       "      <th>wake</th>\n",
       "      <td>49829.0</td>\n",
       "      <td>31030.0</td>\n",
       "      <td>0.0</td>\n",
       "    </tr>\n",
       "    <tr>\n",
       "      <th>nrem</th>\n",
       "      <td>10934.0</td>\n",
       "      <td>122335.0</td>\n",
       "      <td>0.0</td>\n",
       "    </tr>\n",
       "    <tr>\n",
       "      <th>rem</th>\n",
       "      <td>1080.0</td>\n",
       "      <td>30740.0</td>\n",
       "      <td>0.0</td>\n",
       "    </tr>\n",
       "  </tbody>\n",
       "</table>\n",
       "</div>"
      ],
      "text/plain": [
       "         wake      nrem  rem\n",
       "wake  49829.0   31030.0  0.0\n",
       "nrem  10934.0  122335.0  0.0\n",
       "rem    1080.0   30740.0  0.0"
      ]
     },
     "execution_count": 33,
     "metadata": {},
     "output_type": "execute_result"
    }
   ],
   "source": [
    "confusion_matrix_acc = pd.read_csv(path.joinpath(\"confusion_matrix_\" + algorithm +\"_benchmark_\" + mod + \"_\" + stage + \".csv\"), index_col = \"Unnamed: 0\")\n",
    "confusion_matrix_acc"
   ]
  },
  {
   "cell_type": "markdown",
   "metadata": {
    "tags": []
   },
   "source": [
    "# 3 Stage\n",
    "# Acc + HRV"
   ]
  },
  {
   "cell_type": "code",
   "execution_count": 34,
   "metadata": {},
   "outputs": [],
   "source": [
    "stage = \"3stage\"\n",
    "mod = \"acc_hrv\""
   ]
  },
  {
   "cell_type": "code",
   "execution_count": 35,
   "metadata": {},
   "outputs": [],
   "source": [
    "full_results = pd.read_csv(path.joinpath(algorithm +\"_benchmark_\" + mod + \"_\" + stage + \".csv\"), index_col=\"metric\")\n",
    "full_results.columns.name = \"subject\"\n",
    "results = full_results.drop(index=\"confusion_matrix\")"
   ]
  },
  {
   "cell_type": "code",
   "execution_count": 36,
   "metadata": {},
   "outputs": [],
   "source": [
    "results = pd.DataFrame(results.stack(\"subject\"), columns=[\"data\"]).astype(\"float\")"
   ]
  },
  {
   "cell_type": "code",
   "execution_count": 37,
   "metadata": {},
   "outputs": [
    {
     "data": {
      "text/html": [
       "<div>\n",
       "<style scoped>\n",
       "    .dataframe tbody tr th:only-of-type {\n",
       "        vertical-align: middle;\n",
       "    }\n",
       "\n",
       "    .dataframe tbody tr th {\n",
       "        vertical-align: top;\n",
       "    }\n",
       "\n",
       "    .dataframe thead tr th {\n",
       "        text-align: left;\n",
       "    }\n",
       "\n",
       "    .dataframe thead tr:last-of-type th {\n",
       "        text-align: right;\n",
       "    }\n",
       "</style>\n",
       "<table border=\"1\" class=\"dataframe\">\n",
       "  <thead>\n",
       "    <tr>\n",
       "      <th></th>\n",
       "      <th colspan=\"2\" halign=\"left\">data</th>\n",
       "    </tr>\n",
       "    <tr>\n",
       "      <th></th>\n",
       "      <th>median</th>\n",
       "      <th>&lt;lambda_0&gt;</th>\n",
       "    </tr>\n",
       "    <tr>\n",
       "      <th>metric</th>\n",
       "      <th></th>\n",
       "      <th></th>\n",
       "    </tr>\n",
       "  </thead>\n",
       "  <tbody>\n",
       "    <tr>\n",
       "      <th>accuracy</th>\n",
       "      <td>0.776754</td>\n",
       "      <td>0.107070</td>\n",
       "    </tr>\n",
       "    <tr>\n",
       "      <th>bed_interval_end</th>\n",
       "      <td>1051.500000</td>\n",
       "      <td>181.250000</td>\n",
       "    </tr>\n",
       "    <tr>\n",
       "      <th>bed_interval_start</th>\n",
       "      <td>52.500000</td>\n",
       "      <td>121.000000</td>\n",
       "    </tr>\n",
       "    <tr>\n",
       "      <th>f1</th>\n",
       "      <td>0.755368</td>\n",
       "      <td>0.122135</td>\n",
       "    </tr>\n",
       "    <tr>\n",
       "      <th>getup_latency</th>\n",
       "      <td>0.000000</td>\n",
       "      <td>0.000000</td>\n",
       "    </tr>\n",
       "    <tr>\n",
       "      <th>kappa</th>\n",
       "      <td>0.569565</td>\n",
       "      <td>0.212568</td>\n",
       "    </tr>\n",
       "    <tr>\n",
       "      <th>mcc</th>\n",
       "      <td>0.604352</td>\n",
       "      <td>0.194161</td>\n",
       "    </tr>\n",
       "    <tr>\n",
       "      <th>net_sleep_duration</th>\n",
       "      <td>834.500000</td>\n",
       "      <td>208.750000</td>\n",
       "    </tr>\n",
       "    <tr>\n",
       "      <th>precision</th>\n",
       "      <td>0.803632</td>\n",
       "      <td>0.091612</td>\n",
       "    </tr>\n",
       "    <tr>\n",
       "      <th>recall</th>\n",
       "      <td>0.776754</td>\n",
       "      <td>0.107070</td>\n",
       "    </tr>\n",
       "    <tr>\n",
       "      <th>sleep_efficiency</th>\n",
       "      <td>87.278630</td>\n",
       "      <td>13.212349</td>\n",
       "    </tr>\n",
       "    <tr>\n",
       "      <th>sleep_onset</th>\n",
       "      <td>117.500000</td>\n",
       "      <td>125.500000</td>\n",
       "    </tr>\n",
       "    <tr>\n",
       "      <th>sleep_onset_latency</th>\n",
       "      <td>21.000000</td>\n",
       "      <td>66.000000</td>\n",
       "    </tr>\n",
       "    <tr>\n",
       "      <th>specifity</th>\n",
       "      <td>0.873801</td>\n",
       "      <td>0.081664</td>\n",
       "    </tr>\n",
       "    <tr>\n",
       "      <th>total_sleep_duration</th>\n",
       "      <td>986.500000</td>\n",
       "      <td>196.750000</td>\n",
       "    </tr>\n",
       "    <tr>\n",
       "      <th>wake_after_sleep_onset</th>\n",
       "      <td>65.500000</td>\n",
       "      <td>96.000000</td>\n",
       "    </tr>\n",
       "    <tr>\n",
       "      <th>wake_onset</th>\n",
       "      <td>1047.500000</td>\n",
       "      <td>166.250000</td>\n",
       "    </tr>\n",
       "  </tbody>\n",
       "</table>\n",
       "</div>"
      ],
      "text/plain": [
       "                               data            \n",
       "                             median  <lambda_0>\n",
       "metric                                         \n",
       "accuracy                   0.776754    0.107070\n",
       "bed_interval_end        1051.500000  181.250000\n",
       "bed_interval_start        52.500000  121.000000\n",
       "f1                         0.755368    0.122135\n",
       "getup_latency              0.000000    0.000000\n",
       "kappa                      0.569565    0.212568\n",
       "mcc                        0.604352    0.194161\n",
       "net_sleep_duration       834.500000  208.750000\n",
       "precision                  0.803632    0.091612\n",
       "recall                     0.776754    0.107070\n",
       "sleep_efficiency          87.278630   13.212349\n",
       "sleep_onset              117.500000  125.500000\n",
       "sleep_onset_latency       21.000000   66.000000\n",
       "specifity                  0.873801    0.081664\n",
       "total_sleep_duration     986.500000  196.750000\n",
       "wake_after_sleep_onset    65.500000   96.000000\n",
       "wake_onset              1047.500000  166.250000"
      ]
     },
     "execution_count": 37,
     "metadata": {},
     "output_type": "execute_result"
    }
   ],
   "source": [
    "results.groupby(\"metric\").agg([np.median, lambda x: np.percentile(x, 75) - np.percentile(x, 25)])"
   ]
  },
  {
   "cell_type": "code",
   "execution_count": 38,
   "metadata": {},
   "outputs": [
    {
     "data": {
      "text/html": [
       "<div>\n",
       "<style scoped>\n",
       "    .dataframe tbody tr th:only-of-type {\n",
       "        vertical-align: middle;\n",
       "    }\n",
       "\n",
       "    .dataframe tbody tr th {\n",
       "        vertical-align: top;\n",
       "    }\n",
       "\n",
       "    .dataframe thead th {\n",
       "        text-align: right;\n",
       "    }\n",
       "</style>\n",
       "<table border=\"1\" class=\"dataframe\">\n",
       "  <thead>\n",
       "    <tr style=\"text-align: right;\">\n",
       "      <th></th>\n",
       "      <th>wake</th>\n",
       "      <th>nrem</th>\n",
       "      <th>rem</th>\n",
       "    </tr>\n",
       "  </thead>\n",
       "  <tbody>\n",
       "    <tr>\n",
       "      <th>wake</th>\n",
       "      <td>49551.0</td>\n",
       "      <td>27969.0</td>\n",
       "      <td>3339.0</td>\n",
       "    </tr>\n",
       "    <tr>\n",
       "      <th>nrem</th>\n",
       "      <td>5018.0</td>\n",
       "      <td>124292.0</td>\n",
       "      <td>3959.0</td>\n",
       "    </tr>\n",
       "    <tr>\n",
       "      <th>rem</th>\n",
       "      <td>1271.0</td>\n",
       "      <td>16411.0</td>\n",
       "      <td>14138.0</td>\n",
       "    </tr>\n",
       "  </tbody>\n",
       "</table>\n",
       "</div>"
      ],
      "text/plain": [
       "         wake      nrem      rem\n",
       "wake  49551.0   27969.0   3339.0\n",
       "nrem   5018.0  124292.0   3959.0\n",
       "rem    1271.0   16411.0  14138.0"
      ]
     },
     "execution_count": 38,
     "metadata": {},
     "output_type": "execute_result"
    }
   ],
   "source": [
    "confusion_matrix_acc_hrv = pd.read_csv(path.joinpath(\"confusion_matrix_\" + algorithm +\"_benchmark_\" + mod + \"_\" + stage + \".csv\"), index_col = \"Unnamed: 0\")\n",
    "confusion_matrix_acc_hrv"
   ]
  },
  {
   "cell_type": "markdown",
   "metadata": {
    "tags": []
   },
   "source": [
    "# 3 Stage\n",
    "# Acc + HRV + RRV"
   ]
  },
  {
   "cell_type": "code",
   "execution_count": 39,
   "metadata": {},
   "outputs": [],
   "source": [
    "stage = \"3stage\"\n",
    "mod = \"acc_hrv_RRV\""
   ]
  },
  {
   "cell_type": "code",
   "execution_count": 40,
   "metadata": {},
   "outputs": [],
   "source": [
    "full_results = pd.read_csv(path.joinpath(algorithm +\"_benchmark_\" + mod + \"_\" + stage + \".csv\"), index_col=\"metric\")\n",
    "full_results.columns.name = \"subject\"\n",
    "results = full_results.drop(index=\"confusion_matrix\")"
   ]
  },
  {
   "cell_type": "code",
   "execution_count": 41,
   "metadata": {},
   "outputs": [],
   "source": [
    "results = pd.DataFrame(results.stack(\"subject\"), columns=[\"data\"]).astype(\"float\")"
   ]
  },
  {
   "cell_type": "code",
   "execution_count": 42,
   "metadata": {},
   "outputs": [
    {
     "data": {
      "text/html": [
       "<div>\n",
       "<style scoped>\n",
       "    .dataframe tbody tr th:only-of-type {\n",
       "        vertical-align: middle;\n",
       "    }\n",
       "\n",
       "    .dataframe tbody tr th {\n",
       "        vertical-align: top;\n",
       "    }\n",
       "\n",
       "    .dataframe thead tr th {\n",
       "        text-align: left;\n",
       "    }\n",
       "\n",
       "    .dataframe thead tr:last-of-type th {\n",
       "        text-align: right;\n",
       "    }\n",
       "</style>\n",
       "<table border=\"1\" class=\"dataframe\">\n",
       "  <thead>\n",
       "    <tr>\n",
       "      <th></th>\n",
       "      <th colspan=\"2\" halign=\"left\">data</th>\n",
       "    </tr>\n",
       "    <tr>\n",
       "      <th></th>\n",
       "      <th>median</th>\n",
       "      <th>&lt;lambda_0&gt;</th>\n",
       "    </tr>\n",
       "    <tr>\n",
       "      <th>metric</th>\n",
       "      <th></th>\n",
       "      <th></th>\n",
       "    </tr>\n",
       "  </thead>\n",
       "  <tbody>\n",
       "    <tr>\n",
       "      <th>accuracy</th>\n",
       "      <td>0.790034</td>\n",
       "      <td>0.097553</td>\n",
       "    </tr>\n",
       "    <tr>\n",
       "      <th>bed_interval_end</th>\n",
       "      <td>1051.500000</td>\n",
       "      <td>181.250000</td>\n",
       "    </tr>\n",
       "    <tr>\n",
       "      <th>bed_interval_start</th>\n",
       "      <td>52.500000</td>\n",
       "      <td>121.000000</td>\n",
       "    </tr>\n",
       "    <tr>\n",
       "      <th>f1</th>\n",
       "      <td>0.777244</td>\n",
       "      <td>0.112715</td>\n",
       "    </tr>\n",
       "    <tr>\n",
       "      <th>getup_latency</th>\n",
       "      <td>2.000000</td>\n",
       "      <td>9.000000</td>\n",
       "    </tr>\n",
       "    <tr>\n",
       "      <th>kappa</th>\n",
       "      <td>0.604851</td>\n",
       "      <td>0.218247</td>\n",
       "    </tr>\n",
       "    <tr>\n",
       "      <th>mcc</th>\n",
       "      <td>0.621507</td>\n",
       "      <td>0.197454</td>\n",
       "    </tr>\n",
       "    <tr>\n",
       "      <th>net_sleep_duration</th>\n",
       "      <td>791.000000</td>\n",
       "      <td>194.500000</td>\n",
       "    </tr>\n",
       "    <tr>\n",
       "      <th>precision</th>\n",
       "      <td>0.802055</td>\n",
       "      <td>0.098428</td>\n",
       "    </tr>\n",
       "    <tr>\n",
       "      <th>recall</th>\n",
       "      <td>0.790034</td>\n",
       "      <td>0.097553</td>\n",
       "    </tr>\n",
       "    <tr>\n",
       "      <th>sleep_efficiency</th>\n",
       "      <td>82.746615</td>\n",
       "      <td>15.685969</td>\n",
       "    </tr>\n",
       "    <tr>\n",
       "      <th>sleep_onset</th>\n",
       "      <td>121.000000</td>\n",
       "      <td>135.750000</td>\n",
       "    </tr>\n",
       "    <tr>\n",
       "      <th>sleep_onset_latency</th>\n",
       "      <td>35.500000</td>\n",
       "      <td>86.250000</td>\n",
       "    </tr>\n",
       "    <tr>\n",
       "      <th>specificity</th>\n",
       "      <td>0.868521</td>\n",
       "      <td>0.099230</td>\n",
       "    </tr>\n",
       "    <tr>\n",
       "      <th>total_sleep_duration</th>\n",
       "      <td>986.500000</td>\n",
       "      <td>196.750000</td>\n",
       "    </tr>\n",
       "    <tr>\n",
       "      <th>wake_after_sleep_onset</th>\n",
       "      <td>97.500000</td>\n",
       "      <td>125.000000</td>\n",
       "    </tr>\n",
       "    <tr>\n",
       "      <th>wake_onset</th>\n",
       "      <td>1047.000000</td>\n",
       "      <td>170.750000</td>\n",
       "    </tr>\n",
       "  </tbody>\n",
       "</table>\n",
       "</div>"
      ],
      "text/plain": [
       "                               data            \n",
       "                             median  <lambda_0>\n",
       "metric                                         \n",
       "accuracy                   0.790034    0.097553\n",
       "bed_interval_end        1051.500000  181.250000\n",
       "bed_interval_start        52.500000  121.000000\n",
       "f1                         0.777244    0.112715\n",
       "getup_latency              2.000000    9.000000\n",
       "kappa                      0.604851    0.218247\n",
       "mcc                        0.621507    0.197454\n",
       "net_sleep_duration       791.000000  194.500000\n",
       "precision                  0.802055    0.098428\n",
       "recall                     0.790034    0.097553\n",
       "sleep_efficiency          82.746615   15.685969\n",
       "sleep_onset              121.000000  135.750000\n",
       "sleep_onset_latency       35.500000   86.250000\n",
       "specificity                0.868521    0.099230\n",
       "total_sleep_duration     986.500000  196.750000\n",
       "wake_after_sleep_onset    97.500000  125.000000\n",
       "wake_onset              1047.000000  170.750000"
      ]
     },
     "execution_count": 42,
     "metadata": {},
     "output_type": "execute_result"
    }
   ],
   "source": [
    "results.groupby(\"metric\").agg([np.median, lambda x: np.percentile(x, 75) - np.percentile(x, 25)])"
   ]
  },
  {
   "cell_type": "code",
   "execution_count": 43,
   "metadata": {},
   "outputs": [
    {
     "data": {
      "text/html": [
       "<div>\n",
       "<style scoped>\n",
       "    .dataframe tbody tr th:only-of-type {\n",
       "        vertical-align: middle;\n",
       "    }\n",
       "\n",
       "    .dataframe tbody tr th {\n",
       "        vertical-align: top;\n",
       "    }\n",
       "\n",
       "    .dataframe thead th {\n",
       "        text-align: right;\n",
       "    }\n",
       "</style>\n",
       "<table border=\"1\" class=\"dataframe\">\n",
       "  <thead>\n",
       "    <tr style=\"text-align: right;\">\n",
       "      <th></th>\n",
       "      <th>wake</th>\n",
       "      <th>nrem</th>\n",
       "      <th>rem</th>\n",
       "    </tr>\n",
       "  </thead>\n",
       "  <tbody>\n",
       "    <tr>\n",
       "      <th>wake</th>\n",
       "      <td>55371.0</td>\n",
       "      <td>21553.0</td>\n",
       "      <td>3935.0</td>\n",
       "    </tr>\n",
       "    <tr>\n",
       "      <th>nrem</th>\n",
       "      <td>9017.0</td>\n",
       "      <td>119206.0</td>\n",
       "      <td>5046.0</td>\n",
       "    </tr>\n",
       "    <tr>\n",
       "      <th>rem</th>\n",
       "      <td>1605.0</td>\n",
       "      <td>13963.0</td>\n",
       "      <td>16252.0</td>\n",
       "    </tr>\n",
       "  </tbody>\n",
       "</table>\n",
       "</div>"
      ],
      "text/plain": [
       "         wake      nrem      rem\n",
       "wake  55371.0   21553.0   3935.0\n",
       "nrem   9017.0  119206.0   5046.0\n",
       "rem    1605.0   13963.0  16252.0"
      ]
     },
     "execution_count": 43,
     "metadata": {},
     "output_type": "execute_result"
    }
   ],
   "source": [
    "confusion_matrix_acc_hrv_rrv = pd.read_csv(path.joinpath(\"confusion_matrix_\" + algorithm +\"_benchmark_\" + mod + \"_\" + stage + \".csv\"), index_col = \"Unnamed: 0\")\n",
    "confusion_matrix_acc_hrv_rrv"
   ]
  },
  {
   "cell_type": "markdown",
   "metadata": {
    "tags": []
   },
   "source": [
    "# 3 Stage\n",
    "# Acc + HRV + EDR"
   ]
  },
  {
   "cell_type": "code",
   "execution_count": 44,
   "metadata": {},
   "outputs": [],
   "source": [
    "stage = \"3stage\"\n",
    "mod = \"acc_hrv_EDR\""
   ]
  },
  {
   "cell_type": "code",
   "execution_count": 45,
   "metadata": {},
   "outputs": [],
   "source": [
    "full_results = pd.read_csv(path.joinpath(algorithm +\"_benchmark_\" + mod + \"_\" + stage + \".csv\"), index_col=\"metric\")\n",
    "full_results.columns.name = \"subject\"\n",
    "results = full_results.drop(index=\"confusion_matrix\")"
   ]
  },
  {
   "cell_type": "code",
   "execution_count": 46,
   "metadata": {},
   "outputs": [],
   "source": [
    "results = pd.DataFrame(results.stack(\"subject\"), columns=[\"data\"]).astype(\"float\")"
   ]
  },
  {
   "cell_type": "code",
   "execution_count": 47,
   "metadata": {},
   "outputs": [
    {
     "data": {
      "text/html": [
       "<div>\n",
       "<style scoped>\n",
       "    .dataframe tbody tr th:only-of-type {\n",
       "        vertical-align: middle;\n",
       "    }\n",
       "\n",
       "    .dataframe tbody tr th {\n",
       "        vertical-align: top;\n",
       "    }\n",
       "\n",
       "    .dataframe thead tr th {\n",
       "        text-align: left;\n",
       "    }\n",
       "\n",
       "    .dataframe thead tr:last-of-type th {\n",
       "        text-align: right;\n",
       "    }\n",
       "</style>\n",
       "<table border=\"1\" class=\"dataframe\">\n",
       "  <thead>\n",
       "    <tr>\n",
       "      <th></th>\n",
       "      <th colspan=\"2\" halign=\"left\">data</th>\n",
       "    </tr>\n",
       "    <tr>\n",
       "      <th></th>\n",
       "      <th>median</th>\n",
       "      <th>&lt;lambda_0&gt;</th>\n",
       "    </tr>\n",
       "    <tr>\n",
       "      <th>metric</th>\n",
       "      <th></th>\n",
       "      <th></th>\n",
       "    </tr>\n",
       "  </thead>\n",
       "  <tbody>\n",
       "    <tr>\n",
       "      <th>accuracy</th>\n",
       "      <td>0.774985</td>\n",
       "      <td>0.115345</td>\n",
       "    </tr>\n",
       "    <tr>\n",
       "      <th>bed_interval_end</th>\n",
       "      <td>1051.500000</td>\n",
       "      <td>181.250000</td>\n",
       "    </tr>\n",
       "    <tr>\n",
       "      <th>bed_interval_start</th>\n",
       "      <td>52.500000</td>\n",
       "      <td>121.000000</td>\n",
       "    </tr>\n",
       "    <tr>\n",
       "      <th>f1</th>\n",
       "      <td>0.756442</td>\n",
       "      <td>0.131019</td>\n",
       "    </tr>\n",
       "    <tr>\n",
       "      <th>getup_latency</th>\n",
       "      <td>1.000000</td>\n",
       "      <td>4.000000</td>\n",
       "    </tr>\n",
       "    <tr>\n",
       "      <th>kappa</th>\n",
       "      <td>0.562387</td>\n",
       "      <td>0.224286</td>\n",
       "    </tr>\n",
       "    <tr>\n",
       "      <th>mcc</th>\n",
       "      <td>0.592670</td>\n",
       "      <td>0.203795</td>\n",
       "    </tr>\n",
       "    <tr>\n",
       "      <th>net_sleep_duration</th>\n",
       "      <td>827.500000</td>\n",
       "      <td>192.250000</td>\n",
       "    </tr>\n",
       "    <tr>\n",
       "      <th>precision</th>\n",
       "      <td>0.797527</td>\n",
       "      <td>0.095236</td>\n",
       "    </tr>\n",
       "    <tr>\n",
       "      <th>recall</th>\n",
       "      <td>0.774985</td>\n",
       "      <td>0.115345</td>\n",
       "    </tr>\n",
       "    <tr>\n",
       "      <th>sleep_efficiency</th>\n",
       "      <td>84.921626</td>\n",
       "      <td>12.194235</td>\n",
       "    </tr>\n",
       "    <tr>\n",
       "      <th>sleep_onset</th>\n",
       "      <td>115.000000</td>\n",
       "      <td>128.500000</td>\n",
       "    </tr>\n",
       "    <tr>\n",
       "      <th>sleep_onset_latency</th>\n",
       "      <td>21.500000</td>\n",
       "      <td>70.250000</td>\n",
       "    </tr>\n",
       "    <tr>\n",
       "      <th>specificity</th>\n",
       "      <td>0.872687</td>\n",
       "      <td>0.090564</td>\n",
       "    </tr>\n",
       "    <tr>\n",
       "      <th>total_sleep_duration</th>\n",
       "      <td>986.500000</td>\n",
       "      <td>196.750000</td>\n",
       "    </tr>\n",
       "    <tr>\n",
       "      <th>wake_after_sleep_onset</th>\n",
       "      <td>79.000000</td>\n",
       "      <td>107.000000</td>\n",
       "    </tr>\n",
       "    <tr>\n",
       "      <th>wake_onset</th>\n",
       "      <td>1045.000000</td>\n",
       "      <td>165.750000</td>\n",
       "    </tr>\n",
       "  </tbody>\n",
       "</table>\n",
       "</div>"
      ],
      "text/plain": [
       "                               data            \n",
       "                             median  <lambda_0>\n",
       "metric                                         \n",
       "accuracy                   0.774985    0.115345\n",
       "bed_interval_end        1051.500000  181.250000\n",
       "bed_interval_start        52.500000  121.000000\n",
       "f1                         0.756442    0.131019\n",
       "getup_latency              1.000000    4.000000\n",
       "kappa                      0.562387    0.224286\n",
       "mcc                        0.592670    0.203795\n",
       "net_sleep_duration       827.500000  192.250000\n",
       "precision                  0.797527    0.095236\n",
       "recall                     0.774985    0.115345\n",
       "sleep_efficiency          84.921626   12.194235\n",
       "sleep_onset              115.000000  128.500000\n",
       "sleep_onset_latency       21.500000   70.250000\n",
       "specificity                0.872687    0.090564\n",
       "total_sleep_duration     986.500000  196.750000\n",
       "wake_after_sleep_onset    79.000000  107.000000\n",
       "wake_onset              1045.000000  165.750000"
      ]
     },
     "execution_count": 47,
     "metadata": {},
     "output_type": "execute_result"
    }
   ],
   "source": [
    "results.groupby(\"metric\").agg([np.median, lambda x: np.percentile(x, 75) - np.percentile(x, 25)])"
   ]
  },
  {
   "cell_type": "code",
   "execution_count": 48,
   "metadata": {},
   "outputs": [
    {
     "data": {
      "text/html": [
       "<div>\n",
       "<style scoped>\n",
       "    .dataframe tbody tr th:only-of-type {\n",
       "        vertical-align: middle;\n",
       "    }\n",
       "\n",
       "    .dataframe tbody tr th {\n",
       "        vertical-align: top;\n",
       "    }\n",
       "\n",
       "    .dataframe thead th {\n",
       "        text-align: right;\n",
       "    }\n",
       "</style>\n",
       "<table border=\"1\" class=\"dataframe\">\n",
       "  <thead>\n",
       "    <tr style=\"text-align: right;\">\n",
       "      <th></th>\n",
       "      <th>wake</th>\n",
       "      <th>nrem</th>\n",
       "      <th>rem</th>\n",
       "    </tr>\n",
       "  </thead>\n",
       "  <tbody>\n",
       "    <tr>\n",
       "      <th>wake</th>\n",
       "      <td>51093.0</td>\n",
       "      <td>26785.0</td>\n",
       "      <td>2981.0</td>\n",
       "    </tr>\n",
       "    <tr>\n",
       "      <th>nrem</th>\n",
       "      <td>6696.0</td>\n",
       "      <td>123182.0</td>\n",
       "      <td>3391.0</td>\n",
       "    </tr>\n",
       "    <tr>\n",
       "      <th>rem</th>\n",
       "      <td>1395.0</td>\n",
       "      <td>17465.0</td>\n",
       "      <td>12960.0</td>\n",
       "    </tr>\n",
       "  </tbody>\n",
       "</table>\n",
       "</div>"
      ],
      "text/plain": [
       "         wake      nrem      rem\n",
       "wake  51093.0   26785.0   2981.0\n",
       "nrem   6696.0  123182.0   3391.0\n",
       "rem    1395.0   17465.0  12960.0"
      ]
     },
     "execution_count": 48,
     "metadata": {},
     "output_type": "execute_result"
    }
   ],
   "source": [
    "confusion_matrix_acc_hrv_edr = pd.read_csv(path.joinpath(\"confusion_matrix_\" + algorithm +\"_benchmark_\" + mod + \"_\" + stage + \".csv\"), index_col = \"Unnamed: 0\")\n",
    "confusion_matrix_acc_hrv_edr"
   ]
  },
  {
   "cell_type": "code",
   "execution_count": 49,
   "metadata": {},
   "outputs": [],
   "source": [
    "sns.set_theme(context=\"talk\", style=\"white\", palette=\"faculties\", font_scale=1.2)\n"
   ]
  },
  {
   "cell_type": "code",
   "execution_count": null,
   "metadata": {},
   "outputs": [],
   "source": [
    "fig, axs = plt.subplots(ncols=2, nrows=2, figsize = (18,18))\n",
    "sns.heatmap(conf_matrix(confusion_matrix_acc.rename(columns={\"wake\":\"Wake\", \"nrem\":\"NREM\", \"rem\": \"REM\"}, index = {\"wake\":\"Wake\", \"nrem\":\"NREM\", \"rem\": \"REM\"})), fmt=',.2f',annot=True, ax=axs[0,0], cmap=\"Greens\")\n",
    "sns.heatmap(conf_matrix(confusion_matrix_acc_hrv.rename(columns={\"wake\":\"Wake\", \"nrem\":\"NREM\", \"rem\": \"REM\"}, index = {\"wake\":\"Wake\", \"nrem\":\"NREM\", \"rem\": \"REM\"})), fmt=',.2f',annot=True, ax=axs[0,1], cmap=\"Greens\")\n",
    "sns.heatmap(conf_matrix(confusion_matrix_acc_hrv_rrv.rename(columns={\"wake\":\"Wake\", \"nrem\":\"NREM\", \"rem\": \"REM\"}, index = {\"wake\":\"Wake\", \"nrem\":\"NREM\", \"rem\": \"REM\"})), fmt=',.2f',annot=True, ax=axs[1,0], cmap=\"Greens\")\n",
    "sns.heatmap(conf_matrix(confusion_matrix_acc_hrv_edr.rename(columns={\"wake\":\"Wake\", \"nrem\":\"NREM\", \"rem\": \"REM\"}, index = {\"wake\":\"Wake\", \"nrem\":\"NREM\", \"rem\": \"REM\"})), fmt=',.2f',annot=True, ax=axs[1,1], cmap=\"Greens\")\n",
    "axs[0,0].set_title(\"ACT\")\n",
    "axs[0,0].set_ylabel(\"True\")\n",
    "axs[0,0].set_xlabel(\"Predicted\")\n",
    "\n",
    "axs[0,1].set_title(\"ACT + HRV\")\n",
    "axs[0,1].set_ylabel(\"True\")\n",
    "axs[0,1].set_xlabel(\"Predicted\")\n",
    "\n",
    "axs[1,0].set_title(\"ACT + HRV + RRV\")\n",
    "axs[1,0].set_ylabel(\"True\")\n",
    "axs[1,0].set_xlabel(\"Predicted\")\n",
    "\n",
    "axs[1,1].set_title(\"ACT + HRV + EDR\")\n",
    "axs[1,1].set_ylabel(\"True\")\n",
    "axs[1,1].set_xlabel(\"Predicted\")\n",
    "\n",
    "plt.savefig(\"confusionmatrix_\" + algorithm + \"_\" + stage + \".pdf\",     \n",
    "    format=\"pdf\",\n",
    "    bbox_inches=\"tight\")"
   ]
  },
  {
   "cell_type": "markdown",
   "metadata": {},
   "source": [
    "### Params"
   ]
  },
  {
   "cell_type": "code",
   "execution_count": null,
   "metadata": {},
   "outputs": [],
   "source": [
    "display(optuna.get_all_study_summaries(\"sqlite:///\" + str(db_path) + \"/\" + algorithm + \"_acc_\" + stage + \".db\")[0].best_trial.params)\n",
    "display(optuna.get_all_study_summaries(\"sqlite:///\" + str(db_path) + \"/\" + algorithm + \"_acc_hrv_\" + stage + \".db\")[0].best_trial.params)\n",
    "display(optuna.get_all_study_summaries(\"sqlite:///\" + str(db_path) + \"/\" + algorithm + \"_acc_hrv_RRV_\" + stage + \".db\")[0].best_trial.params)\n",
    "display(optuna.get_all_study_summaries(\"sqlite:///\" + str(db_path) + \"/\" + algorithm + \"_acc_hrv_EDR_\" + stage + \".db\")[0].best_trial.params)"
   ]
  },
  {
   "cell_type": "markdown",
   "metadata": {},
   "source": [
    "### n_trials"
   ]
  },
  {
   "cell_type": "code",
   "execution_count": null,
   "metadata": {},
   "outputs": [],
   "source": [
    "[optuna.get_all_study_summaries(\"sqlite:///\" + str(db_path) + \"/\" + algorithm + \"_acc_\" + stage + \".db\")[0].n_trials,\n",
    "optuna.get_all_study_summaries(\"sqlite:///\" + str(db_path) + \"/\" + algorithm + \"_acc_hrv_\" + stage + \".db\")[0].n_trials,\n",
    "optuna.get_all_study_summaries(\"sqlite:///\" + str(db_path) + \"/\" + algorithm + \"_acc_hrv_RRV_\" + stage + \".db\")[0].n_trials,\n",
    "optuna.get_all_study_summaries(\"sqlite:///\" + str(db_path) + \"/\" + algorithm + \"_acc_hrv_EDR_\" + stage + \".db\")[0].n_trials]"
   ]
  },
  {
   "cell_type": "markdown",
   "metadata": {
    "tags": []
   },
   "source": [
    "# Binary\n",
    "# Acc only"
   ]
  },
  {
   "cell_type": "code",
   "execution_count": null,
   "metadata": {},
   "outputs": [],
   "source": [
    "stage = \"binary\"\n",
    "mod = \"acc\""
   ]
  },
  {
   "cell_type": "code",
   "execution_count": null,
   "metadata": {},
   "outputs": [],
   "source": [
    "full_results = pd.read_csv(path.joinpath(algorithm +\"_benchmark_\" + mod + \"_\" + stage + \".csv\"), index_col=\"metric\")\n",
    "full_results.columns.name = \"subject\"\n",
    "results = full_results.drop(index=\"confusion_matrix\")"
   ]
  },
  {
   "cell_type": "code",
   "execution_count": null,
   "metadata": {},
   "outputs": [],
   "source": [
    "results = pd.DataFrame(results.stack(\"subject\"), columns=[\"data\"]).astype(\"float\")"
   ]
  },
  {
   "cell_type": "code",
   "execution_count": null,
   "metadata": {},
   "outputs": [],
   "source": [
    "results.groupby(\"metric\").agg([np.median, lambda x: np.percentile(x, 75) - np.percentile(x, 25)])"
   ]
  },
  {
   "cell_type": "code",
   "execution_count": null,
   "metadata": {},
   "outputs": [],
   "source": [
    "confusion_matrix_acc = pd.read_csv(path.joinpath(\"confusion_matrix_\" + algorithm +\"_benchmark_\" + mod + \"_\" + stage + \".csv\"), index_col = \"Unnamed: 0\")\n",
    "confusion_matrix_acc"
   ]
  },
  {
   "cell_type": "markdown",
   "metadata": {
    "tags": []
   },
   "source": [
    "# Binary\n",
    "# Acc + HRV"
   ]
  },
  {
   "cell_type": "code",
   "execution_count": null,
   "metadata": {},
   "outputs": [],
   "source": [
    "stage = \"binary\"\n",
    "mod = \"acc_hrv\""
   ]
  },
  {
   "cell_type": "code",
   "execution_count": null,
   "metadata": {},
   "outputs": [],
   "source": [
    "full_results = pd.read_csv(path.joinpath(algorithm +\"_benchmark_\" + mod + \"_\" + stage + \".csv\"), index_col=\"metric\")\n",
    "full_results.columns.name = \"subject\"\n",
    "results = full_results.drop(index=\"confusion_matrix\")"
   ]
  },
  {
   "cell_type": "code",
   "execution_count": null,
   "metadata": {},
   "outputs": [],
   "source": [
    "results = pd.DataFrame(results.stack(\"subject\"), columns=[\"data\"]).astype(\"float\")"
   ]
  },
  {
   "cell_type": "code",
   "execution_count": null,
   "metadata": {},
   "outputs": [],
   "source": [
    "results.groupby(\"metric\").agg([np.median, lambda x: np.percentile(x, 75) - np.percentile(x, 25)])"
   ]
  },
  {
   "cell_type": "code",
   "execution_count": null,
   "metadata": {},
   "outputs": [],
   "source": [
    "confusion_matrix_acc_hrv = pd.read_csv(path.joinpath(\"confusion_matrix_\" + algorithm +\"_benchmark_\" + mod + \"_\" + stage + \".csv\"), index_col = \"Unnamed: 0\")\n",
    "confusion_matrix_acc_hrv"
   ]
  },
  {
   "cell_type": "markdown",
   "metadata": {
    "tags": []
   },
   "source": [
    "# Binary\n",
    "# Acc + HRV + RRV"
   ]
  },
  {
   "cell_type": "code",
   "execution_count": null,
   "metadata": {},
   "outputs": [],
   "source": [
    "stage = \"binary\"\n",
    "mod = \"acc_hrv_RRV\""
   ]
  },
  {
   "cell_type": "code",
   "execution_count": null,
   "metadata": {},
   "outputs": [],
   "source": [
    "full_results = pd.read_csv(path.joinpath(algorithm +\"_benchmark_\" + mod + \"_\" + stage + \".csv\"), index_col=\"metric\")\n",
    "full_results.columns.name = \"subject\"\n",
    "results = full_results.drop(index=\"confusion_matrix\")"
   ]
  },
  {
   "cell_type": "code",
   "execution_count": null,
   "metadata": {},
   "outputs": [],
   "source": [
    "results = pd.DataFrame(results.stack(\"subject\"), columns=[\"data\"]).astype(\"float\")"
   ]
  },
  {
   "cell_type": "code",
   "execution_count": null,
   "metadata": {},
   "outputs": [],
   "source": [
    "results.groupby(\"metric\").agg([np.median, lambda x: np.percentile(x, 75) - np.percentile(x, 25)])"
   ]
  },
  {
   "cell_type": "code",
   "execution_count": null,
   "metadata": {},
   "outputs": [],
   "source": [
    "confusion_matrix_acc_hrv_rrv = pd.read_csv(path.joinpath(\"confusion_matrix_\" + algorithm +\"_benchmark_\" + mod + \"_\" + stage + \".csv\"), index_col = \"Unnamed: 0\")\n",
    "confusion_matrix_acc_hrv_rrv"
   ]
  },
  {
   "cell_type": "markdown",
   "metadata": {
    "tags": []
   },
   "source": [
    "# Binary\n",
    "# Acc + HRV + EDR"
   ]
  },
  {
   "cell_type": "code",
   "execution_count": null,
   "metadata": {},
   "outputs": [],
   "source": [
    "stage = \"binary\"\n",
    "mod = \"acc_hrv_EDR\""
   ]
  },
  {
   "cell_type": "code",
   "execution_count": null,
   "metadata": {},
   "outputs": [],
   "source": [
    "full_results = pd.read_csv(path.joinpath(algorithm +\"_benchmark_\" + mod + \"_\" + stage + \".csv\"), index_col=\"metric\")\n",
    "full_results.columns.name = \"subject\"\n",
    "results = full_results.drop(index=\"confusion_matrix\")"
   ]
  },
  {
   "cell_type": "code",
   "execution_count": null,
   "metadata": {},
   "outputs": [],
   "source": [
    "results = pd.DataFrame(results.stack(\"subject\"), columns=[\"data\"]).astype(\"float\")"
   ]
  },
  {
   "cell_type": "code",
   "execution_count": null,
   "metadata": {},
   "outputs": [],
   "source": [
    "results.groupby(\"metric\").agg([np.median, lambda x: np.percentile(x, 75) - np.percentile(x, 25)])"
   ]
  },
  {
   "cell_type": "code",
   "execution_count": null,
   "metadata": {},
   "outputs": [],
   "source": [
    "confusion_matrix_acc_hrv_edr = pd.read_csv(path.joinpath(\"confusion_matrix_\" + algorithm +\"_benchmark_\" + mod + \"_\" + stage + \".csv\"), index_col = \"Unnamed: 0\")\n",
    "confusion_matrix_acc_hrv_edr"
   ]
  },
  {
   "cell_type": "code",
   "execution_count": null,
   "metadata": {},
   "outputs": [],
   "source": [
    "sns.set_theme(context=\"poster\", style=\"white\", palette=\"faculties\", font_scale=1.2)"
   ]
  },
  {
   "cell_type": "code",
   "execution_count": null,
   "metadata": {},
   "outputs": [],
   "source": [
    "fig, axs = plt.subplots(ncols=2, nrows=2, figsize = (20,20))\n",
    "\n",
    "sns.heatmap(conf_matrix(confusion_matrix_acc.rename(columns={\"wake\":\"Wake\", \"sleep\":\"Sleep\"}, index = {\"wake\":\"Wake\", \"sleep\":\"Sleep\"})), fmt=',.2f',annot=True, ax=axs[0,0], cmap=\"Greens\")\n",
    "sns.heatmap(conf_matrix(confusion_matrix_acc_hrv.rename(columns={\"wake\":\"Wake\", \"sleep\":\"Sleep\"}, index = {\"wake\":\"Wake\", \"sleep\":\"Sleep\"})), fmt=',.2f',annot=True, ax=axs[0,1], cmap=\"Greens\")\n",
    "sns.heatmap(conf_matrix(confusion_matrix_acc_hrv_rrv.rename(columns={\"wake\":\"Wake\", \"sleep\":\"Sleep\"}, index = {\"wake\":\"Wake\", \"sleep\":\"Sleep\"})), fmt=',.2f',annot=True, ax=axs[1,0], cmap=\"Greens\")\n",
    "sns.heatmap(conf_matrix(confusion_matrix_acc_hrv_edr.rename(columns={\"wake\":\"Wake\", \"sleep\":\"Sleep\"}, index = {\"wake\":\"Wake\", \"sleep\":\"Sleep\"})), fmt=',.2f',annot=True, ax=axs[1,1], cmap=\"Greens\")\n",
    "axs[0,0].set_title(\"ACT\")\n",
    "axs[0,0].set_ylabel(\"True\")\n",
    "axs[0,0].set_xlabel(\"Predicted\")\n",
    "\n",
    "axs[0,1].set_title(\"ACT + HRV\")\n",
    "axs[0,1].set_ylabel(\"True\")\n",
    "axs[0,1].set_xlabel(\"Predicted\")\n",
    "\n",
    "axs[1,0].set_title(\"ACT + HRV + RRV\")\n",
    "axs[1,0].set_ylabel(\"True\")\n",
    "axs[1,0].set_xlabel(\"Predicted\")\n",
    "\n",
    "axs[1,1].set_title(\"ACT + HRV + EDR\")\n",
    "axs[1,1].set_ylabel(\"True\")\n",
    "axs[1,1].set_xlabel(\"Predicted\")\n",
    "\n",
    "plt.savefig(\"confusionmatrix_\" + algorithm + \"_\" + stage + \".pdf\",     \n",
    "    format=\"pdf\",\n",
    "    bbox_inches=\"tight\")"
   ]
  },
  {
   "cell_type": "markdown",
   "metadata": {},
   "source": [
    "### Params"
   ]
  },
  {
   "cell_type": "code",
   "execution_count": null,
   "metadata": {},
   "outputs": [],
   "source": [
    "display(optuna.get_all_study_summaries(\"sqlite:///\" + str(db_path) + \"/\" + algorithm + \"_acc_\" + stage + \".db\")[0].best_trial.params)\n",
    "display(optuna.get_all_study_summaries(\"sqlite:///\" + str(db_path) + \"/\" + algorithm + \"_acc_hrv_\" + stage + \".db\")[0].best_trial.params)\n",
    "display(optuna.get_all_study_summaries(\"sqlite:///\" + str(db_path) + \"/\" + algorithm + \"_acc_hrv_RRV_\" + stage + \".db\")[0].best_trial.params)\n",
    "display(optuna.get_all_study_summaries(\"sqlite:///\" + str(db_path) + \"/\" + algorithm + \"_acc_hrv_EDR_\" + stage + \".db\")[0].best_trial.params)"
   ]
  },
  {
   "cell_type": "markdown",
   "metadata": {},
   "source": [
    "### n_trials"
   ]
  },
  {
   "cell_type": "code",
   "execution_count": null,
   "metadata": {},
   "outputs": [],
   "source": [
    "[optuna.get_all_study_summaries(\"sqlite:///\" + str(db_path) + \"/\" + algorithm + \"_acc_\" + stage + \".db\")[0].n_trials,\n",
    "optuna.get_all_study_summaries(\"sqlite:///\" + str(db_path) + \"/\" + algorithm + \"_acc_hrv_\" + stage + \".db\")[0].n_trials,\n",
    "optuna.get_all_study_summaries(\"sqlite:///\" + str(db_path) + \"/\" + algorithm + \"_acc_hrv_RRV_\" + stage + \".db\")[0].n_trials,\n",
    "optuna.get_all_study_summaries(\"sqlite:///\" + str(db_path) + \"/\" + algorithm + \"_acc_hrv_EDR_\" + stage + \".db\")[0].n_trials]"
   ]
  },
  {
   "cell_type": "markdown",
   "metadata": {},
   "source": [
    "# Number of stages"
   ]
  },
  {
   "cell_type": "code",
   "execution_count": null,
   "metadata": {},
   "outputs": [],
   "source": [
    "confusion_matrix = pd.read_csv(path.joinpath(\"confusion_matrix_\" + algorithm +\"_benchmark_\" + mod + \"_\" + \"5stage\" + \".csv\"), index_col = \"Unnamed: 0\")\n",
    "five_count = confusion_matrix[\"wake\"]+ confusion_matrix[\"n1\"]+ confusion_matrix[\"n2\"]+ confusion_matrix[\"n3\"]+ confusion_matrix[\"rem\"]"
   ]
  },
  {
   "cell_type": "code",
   "execution_count": null,
   "metadata": {},
   "outputs": [],
   "source": [
    "confusion_matrix = pd.read_csv(path.joinpath(\"confusion_matrix_\" + algorithm +\"_benchmark_\" + mod + \"_\" + \"3stage\" + \".csv\"), index_col = \"Unnamed: 0\")\n",
    "three_count = confusion_matrix[\"wake\"]+ confusion_matrix[\"nrem\"]+confusion_matrix[\"rem\"]"
   ]
  },
  {
   "cell_type": "code",
   "execution_count": null,
   "metadata": {},
   "outputs": [],
   "source": [
    "confusion_matrix = pd.read_csv(path.joinpath(\"confusion_matrix_\" + algorithm +\"_benchmark_\" + mod + \"_\" + \"binary\" + \".csv\"), index_col = \"Unnamed: 0\")\n",
    "binary_count = confusion_matrix[\"sleep\"]+ confusion_matrix[\"wake\"]"
   ]
  },
  {
   "cell_type": "code",
   "execution_count": null,
   "metadata": {},
   "outputs": [],
   "source": [
    "fig, ax = plt.subplots(ncols=3, figsize = (35,7))\n",
    "sns.barplot([\"Wake\", \"N1\", \"N2\", \"N3\", \"REM\"],five_count, ax = ax[0],palette=[\"#002F6C\", \"#41748D\", \"#779FB5\", \"#AAC3D1\", \"#FFB81C\"])\n",
    "sns.barplot([\"Wake\", \"NREM\", \"REM\"],three_count, ax=ax[1])\n",
    "sns.barplot([\"Wake\", \"Sleep\"],binary_count, ax = ax[2])\n",
    "ax[0].set_ylim(0,110000)\n",
    "ax[0].set(yticklabels=[])  # remove the tick labels\n",
    "ax[0].set_ylabel(\"Number of epochs\")\n",
    "ax[1].set_ylim(0,155000)\n",
    "ax[1].set(yticklabels=[])  # remove the tick labels\n",
    "ax[1].set_ylabel(\"Number of epochs\")\n",
    "ax[2].set_ylim(0,190000)\n",
    "ax[2].set(yticklabels=[])  # remove the tick labels\n",
    "ax[2].set_ylabel(\"Number of epochs\")\n",
    "\n",
    "\n",
    "for i in ax[0].containers:\n",
    "    ax[0].bar_label(i,)\n",
    "for i in ax[1].containers:\n",
    "    ax[1].bar_label(i,)\n",
    "for i in ax[2].containers:\n",
    "    ax[2].bar_label(i,)    \n",
    "\n",
    "plt.savefig(\"sleep_phases_count.pdf\", format=\"pdf\", bbox_inches=\"tight\")"
   ]
  },
  {
   "cell_type": "code",
   "execution_count": null,
   "metadata": {},
   "outputs": [],
   "source": [
    "from fau_colors import colors_dark, colors_light  # v2021 colors\n",
    "colors_light"
   ]
  },
  {
   "cell_type": "code",
   "execution_count": null,
   "metadata": {},
   "outputs": [],
   "source": []
  }
 ],
 "metadata": {
  "kernelspec": {
   "display_name": "sleep-analysis",
   "language": "python",
   "name": "sleep-analysis"
  },
  "language_info": {
   "codemirror_mode": {
    "name": "ipython",
    "version": 3
   },
   "file_extension": ".py",
   "mimetype": "text/x-python",
   "name": "python",
   "nbconvert_exporter": "python",
   "pygments_lexer": "ipython3",
   "version": "3.9.7"
  }
 },
 "nbformat": 4,
 "nbformat_minor": 4
}
