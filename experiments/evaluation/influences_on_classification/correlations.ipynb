{
 "cells": [
  {
   "cell_type": "code",
   "execution_count": null,
   "id": "5609ea80-84c1-4f41-a91d-094248c91ca4",
   "metadata": {},
   "outputs": [],
   "source": [
    "import numpy as np\n",
    "import pandas as pd\n",
    "\n",
    "from pathlib import Path\n",
    "import matplotlib.pyplot as plt\n",
    "import seaborn as sns\n",
    "from biopsykit.utils.dataframe_handling import multi_xs\n",
    "import optuna\n",
    "\n",
    "from biopsykit.stats import StatsPipeline\n",
    "import pingouin as pg\n",
    "import biopsykit as bp"
   ]
  },
  {
   "cell_type": "code",
   "execution_count": null,
   "id": "e35312b9-6fda-43a0-9ee4-e829df069746",
   "metadata": {},
   "outputs": [],
   "source": [
    "%load_ext autoreload\n",
    "%autoreload 2"
   ]
  },
  {
   "cell_type": "code",
   "execution_count": null,
   "id": "f7579deb-8926-4b4c-bcfa-a029cc177559",
   "metadata": {},
   "outputs": [],
   "source": [
    "from fau_colors import register_cmaps\n",
    "register_cmaps()\n",
    "\n",
    "sns.set_theme(context=\"talk\", style=\"white\", palette=\"faculties\", font_scale=1.2)\n",
    "\n",
    "%matplotlib widget"
   ]
  },
  {
   "cell_type": "markdown",
   "id": "859174bf-5291-4e1f-afbf-054dbfa08af6",
   "metadata": {},
   "source": [
    "# Correlations to subject informations"
   ]
  },
  {
   "cell_type": "code",
   "execution_count": null,
   "id": "d2744aff-0806-457c-b141-4df72802920f",
   "metadata": {},
   "outputs": [],
   "source": [
    "df = pd.read_pickle(\"full_df.pkl\")\n",
    "df = df.rename(index={\"ACT + HRV + EDR\":\"ACT + HRV + ED-RRV\"})"
   ]
  },
  {
   "cell_type": "code",
   "execution_count": null,
   "id": "675040d7-18c3-400a-9a9f-2f456ef66693",
   "metadata": {},
   "outputs": [],
   "source": [
    "algorithm = \"LSTM\"\n",
    "metric = \"accuracy\"\n",
    "stage = \"5stage\"\n",
    "modality_list = [\"ACT\", \"ACT + HRV\", \"ACT + HRV + RRV\", \"ACT + HRV + ED-RRV\"]"
   ]
  },
  {
   "cell_type": "markdown",
   "id": "a706730f-290c-4a2f-8d1f-c4438343dd07",
   "metadata": {},
   "source": [
    "# Method to get regression plots"
   ]
  },
  {
   "cell_type": "code",
   "execution_count": null,
   "id": "371406f1-f966-41c8-9fb8-2df22191c284",
   "metadata": {},
   "outputs": [],
   "source": [
    "def get_regression_table(df, metric, algorithm, stage):\n",
    "    df = multi_xs(df, [metric], level=\"metric\")\n",
    "    df = multi_xs(df, [algorithm], level=\"algorithm\")\n",
    "    df = multi_xs(df, [stage], level=\"stage\")\n",
    "    \n",
    "    \n",
    "    df = df[[\"data\", characteristic]].astype(float)\n",
    "    df_reg_result= df.groupby([\"algorithm\", \"modality\", \"metric\", \"stage\"]).apply(\n",
    "        lambda df: pg.linear_regression(X=df[characteristic], y=df[\"data\"])\n",
    "    )\n",
    "    df_reg_result = df_reg_result.set_index(\"names\", append=True)\n",
    "    df_reg_result = df_reg_result.round(3)\n",
    "    df_reg_result = df_reg_result.xs(characteristic, level=\"names\").sort_values(by=\"r2\", ascending=False).sort_index()\n",
    "    df_reg_result.sort_index()\n",
    "    \n",
    "    return df, df_reg_result.sort_index()"
   ]
  },
  {
   "cell_type": "code",
   "execution_count": null,
   "id": "24bc1767-bcfc-42f5-b55c-9d2ed7096c4b",
   "metadata": {},
   "outputs": [],
   "source": [
    "def get_regression_plot(df, df_reg_result, algorithm, characteristic, characteristic_title):\n",
    "    algorithm_list = [algorithm]\n",
    "    df_reg_2 = df_reg_result[\"r2\"]\n",
    "    df_p = df_reg_result[\"pval\"]\n",
    "    for alg in algorithm_list:\n",
    "        fig, ax = plt.subplots(ncols=4, figsize=(25, 7), sharey=True)\n",
    "        for i, (modality, r2, p) in enumerate(zip(modality_list, df_reg_2, df_p)):\n",
    "\n",
    "            df_corr = multi_xs(df, [alg], level=\"algorithm\")\n",
    "            df_corr = multi_xs(df_corr, [modality], level=\"modality\")\n",
    "            df_corr = multi_xs(df_corr, [stage], level=\"stage\")\n",
    "            df_corr[\"data\"] = df_corr[\"data\"]\n",
    "            df_corr[characteristic] = df_corr[characteristic].astype(float)\n",
    "            df_corr[\"data\"] = df_corr[\"data\"].astype(float)\n",
    "            df_corr[[\"data\", characteristic]]\n",
    "            sns.regplot(\n",
    "                data=df_corr[[\"data\", characteristic]].reset_index(), x=characteristic, y=\"data\", ax=ax[i], line_kws={\"color\": \"#228848\"}\n",
    "            )\n",
    "            ax[i].set_title(modality + \"  r\\u00b2 = \" + str(r2) + \", p = \" + str(p))\n",
    "            ax[i].set_ylabel(\"Accuracy [%]\")\n",
    "            ax[i].set_xlabel(characteristic_title)\n",
    "            ax[i].yaxis.set_tick_params(labelbottom=True)\n",
    "\n",
    "    plt.tight_layout()\n",
    "    return fig, ax"
   ]
  },
  {
   "cell_type": "markdown",
   "id": "0b704737-02e2-4974-ace6-3d386d3537e9",
   "metadata": {},
   "source": [
    "# Method to get statstical boxplots for characteristics"
   ]
  },
  {
   "cell_type": "code",
   "execution_count": null,
   "id": "96c122c4-e8e0-4a22-869a-201b18b4c3c5",
   "metadata": {
    "tags": []
   },
   "outputs": [],
   "source": [
    "def bin_characteristic(df, characteristic, cutoff, labels = [\"bad\", \"good\"]):    \n",
    "    df[\"bin_\" + characteristic] = pd.cut(\n",
    "    df[characteristic],\n",
    "    [df[characteristic].min(), cutoff, df[characteristic].max()],\n",
    "    right=True,\n",
    "    include_lowest=True,\n",
    "    labels=labels\n",
    "                 )\n",
    "    return df"
   ]
  },
  {
   "cell_type": "code",
   "execution_count": null,
   "id": "b5fa3c21-ebb1-4317-8b87-c7d57017bea6",
   "metadata": {
    "tags": []
   },
   "outputs": [],
   "source": [
    "def calculate_stats(df, characteristic):\n",
    "    df = multi_xs(df, [metric], level=\"metric\")\n",
    "    df = multi_xs(df, [algorithm], level=\"algorithm\")\n",
    "    df = multi_xs(df, [stage], level=\"stage\")\n",
    "\n",
    "    dict_stats = {}\n",
    "\n",
    "    for modality in modality_list:\n",
    "        steps = [\n",
    "            # (\"prep\", \"normality\"),\n",
    "            (\"test\", \"pairwise_tests\")\n",
    "        ]\n",
    "\n",
    "        params = {\n",
    "            \"dv\": \"data\",\n",
    "            \"between\": characteristic,\n",
    "            \"groupby\": [\"algorithm\", \"modality\", \"metric\", \"stage\"],\n",
    "            \"parametric\": False,\n",
    "            \"multicomp\": {\"levels\": [\"algorithm\", \"modality\"]},\n",
    "        }\n",
    "\n",
    "        df_slice = multi_xs(df, [modality], level=\"modality\")\n",
    "        pipeline = StatsPipeline(steps, params, round=4)\n",
    "        pipeline.apply(df_slice)\n",
    "\n",
    "        dict_stats[modality] = pipeline\n",
    "\n",
    "    return pipeline, dict_stats"
   ]
  },
  {
   "cell_type": "code",
   "execution_count": null,
   "id": "1f26812f-1476-4d66-87c4-12e3642fc00f",
   "metadata": {},
   "outputs": [],
   "source": [
    "def plot_stats(df, dict_stats, characteristic):\n",
    "    df = multi_xs(df, [metric], level=\"metric\")\n",
    "    df = multi_xs(df, [algorithm], level=\"algorithm\")\n",
    "    df = multi_xs(df, [stage], level=\"stage\")\n",
    "    \n",
    "    dict_brackets = {\n",
    "    key: dict_stats[key].sig_brackets(\"test\",stats_type=\"between\", stats_effect_type=\"between\", plot_type=\"multi\", x=\"algorithm\")\n",
    "    for key in modality_list\n",
    "    }\n",
    "        \n",
    "    box_pairs = {key: val[0] for key, val in dict_brackets.items()}\n",
    "    pvalues = {key: val[1] for key, val in dict_brackets.items()}\n",
    "    \n",
    "    display(box_pairs)\n",
    "    display(pvalues)\n",
    "    \n",
    "    fig, ax = plt.subplots(figsize=(20, 6), ncols=4)\n",
    "\n",
    "    features = [\"ACT\", \"ACT + HRV\", \"ACT + HRV + RRV\", \"ACT + HRV + ED-RRV\"]\n",
    "\n",
    "    \n",
    "    fig, ax = bp.plotting.multi_feature_boxplot(\n",
    "        data=df,\n",
    "        x=\"algorithm\",\n",
    "        y=\"data\",\n",
    "        hue=characteristic,\n",
    "        group=\"modality\",\n",
    "        features=features,\n",
    "        stats_kwargs={\n",
    "            \"box_pairs\": box_pairs,\n",
    "            \"pvalues\": pvalues,\n",
    "            \"fontsize\": \"medium\",\n",
    "            \"text_offset\": -6,\n",
    "            \"verbose\": True,\n",
    "        },\n",
    "        ylabels={\"ACT\": \"Accuracy [%]\", \"ACT + HRV\": \"Accuracy [%]\", \"ACT + HRV + RRV\": \"Accuracy [%]\", \"ACT + HRV + ED-RRV\": \"Accuracy [%]\"},\n",
    "        axs=ax,\n",
    "    )\n",
    "    fig.tight_layout(rect=(0, 0, 0.91, 1), pad=3)\n",
    "    handles, labels = ax[0].get_legend_handles_labels()\n",
    "\n",
    "    for a, modality in zip(ax, features):\n",
    "        a.legend().remove()\n",
    "        a.set_xlabel(\"Algorithm\")\n",
    "        a.set_title(modality)\n",
    "        a.yaxis.set_tick_params(labelbottom=True)\n",
    "\n",
    "    fig.legends[0].set_title(characteristic)\n",
    "    \n",
    "    return fig, ax"
   ]
  },
  {
   "cell_type": "code",
   "execution_count": null,
   "id": "8f00046d-0d18-4478-83c7-ffd1a8b742f6",
   "metadata": {},
   "outputs": [],
   "source": [
    "def kruskal_stats(df, characteristic):\n",
    "    df = multi_xs(df, [metric], level=\"metric\")\n",
    "    df = multi_xs(df, [algorithm], level=\"algorithm\")\n",
    "    df = multi_xs(df, [stage], level=\"stage\")\n",
    "    \n",
    "    steps = [\n",
    "    # (\"prep\", \"normality\"),\n",
    "    (\"test\", \"kruskal\"),\n",
    "    (\"posthoc\", \"pairwise_tests\"),\n",
    "]\n",
    "\n",
    "    params = {\n",
    "        \"dv\": \"data\",\n",
    "        \"between\": characteristic,\n",
    "        \"parametric\": False,\n",
    "        \"groupby\": [\"modality\", \"algorithm\", \"metric\"],\n",
    "        \"multicomp\": {\"levels\": [\"modality\", \"algorithm\"]},\n",
    "    }\n",
    "\n",
    "\n",
    "    pipeline = StatsPipeline(steps, params, round=4)\n",
    "    pipeline.apply(df);\n",
    "    \n",
    "    return pipeline"
   ]
  },
  {
   "cell_type": "markdown",
   "id": "89cc407a-e37e-42fa-8db9-422489fdb257",
   "metadata": {},
   "source": [
    "# Age"
   ]
  },
  {
   "cell_type": "code",
   "execution_count": null,
   "id": "3047033a-fd37-4f44-956c-7da181c7fafb",
   "metadata": {},
   "outputs": [],
   "source": [
    "characteristic = \"age\""
   ]
  },
  {
   "cell_type": "code",
   "execution_count": null,
   "id": "12f0f828-ccda-4f00-ad33-5f0805d249b7",
   "metadata": {},
   "outputs": [],
   "source": [
    "df_, reg_result = get_regression_table(df, metric, algorithm, stage)\n",
    "reg_result"
   ]
  },
  {
   "cell_type": "code",
   "execution_count": null,
   "id": "2db28906-6cf0-4f42-8a4b-a52727f2b2c0",
   "metadata": {},
   "outputs": [],
   "source": [
    "plt.close(\"all\")\n",
    "fig, ax = get_regression_plot(df_, reg_result, algorithm, characteristic, characteristic_title=\"Age\")\n",
    "plt.savefig(\"Regression_to_age.pdf\", format=\"pdf\", bbox_inches=\"tight\")"
   ]
  },
  {
   "cell_type": "markdown",
   "id": "f70f37f3-2eaf-4154-9c3d-5b7c723f1bbb",
   "metadata": {},
   "source": [
    "# AHI"
   ]
  },
  {
   "cell_type": "code",
   "execution_count": null,
   "id": "35496377-82a5-4463-af86-b5fbe7575ddd",
   "metadata": {},
   "outputs": [],
   "source": [
    "characteristic = \"AH-Index\""
   ]
  },
  {
   "cell_type": "code",
   "execution_count": null,
   "id": "a46379da-72d5-4849-9dfe-b4178ca6e1e5",
   "metadata": {},
   "outputs": [],
   "source": [
    "df_, reg_result = get_regression_table(df, metric, algorithm, stage)\n",
    "reg_result"
   ]
  },
  {
   "cell_type": "code",
   "execution_count": null,
   "id": "32c5f0f8-762b-4e7e-a9f9-3e2ea5be91d3",
   "metadata": {},
   "outputs": [],
   "source": [
    "plt.close(\"all\")\n",
    "fig, ax = get_regression_plot(df_, reg_result, algorithm, characteristic, characteristic_title=\"AH-Index\")\n",
    "plt.savefig(\"Regression_to_AHI.pdf\", format=\"pdf\", bbox_inches=\"tight\")"
   ]
  },
  {
   "cell_type": "markdown",
   "id": "90d5944b-f5c4-4d36-a9b5-c1b39a78cf8c",
   "metadata": {},
   "source": [
    "# WHIIRS_score"
   ]
  },
  {
   "cell_type": "code",
   "execution_count": null,
   "id": "15bffb8d-c642-4734-99cb-0bbed1975701",
   "metadata": {},
   "outputs": [],
   "source": [
    "characteristic = \"WHIIRS_score\""
   ]
  },
  {
   "cell_type": "code",
   "execution_count": null,
   "id": "6b4c8822-94b9-42d8-a25a-d90aaed575ee",
   "metadata": {},
   "outputs": [],
   "source": [
    "df_, reg_result = get_regression_table(df, metric, algorithm, stage)\n",
    "reg_result"
   ]
  },
  {
   "cell_type": "code",
   "execution_count": null,
   "id": "5192436a-a0ac-46fa-b6e7-8de2547865b9",
   "metadata": {},
   "outputs": [],
   "source": [
    "get_regression_plot(df_, reg_result, algorithm, characteristic, characteristic_title=\"WHIIRS_score\")"
   ]
  },
  {
   "cell_type": "markdown",
   "id": "d160faea-7a3e-4ec3-85b8-a08a930ad0e1",
   "metadata": {},
   "source": [
    "# Recording Quality"
   ]
  },
  {
   "cell_type": "code",
   "execution_count": null,
   "id": "672b3b30-3c5f-444a-ada3-96644d95fb3c",
   "metadata": {},
   "outputs": [],
   "source": [
    "characteristic = \"PSG_quality\""
   ]
  },
  {
   "cell_type": "code",
   "execution_count": null,
   "id": "2d9d0f84-041a-459c-b4f0-5882e1c10dbf",
   "metadata": {},
   "outputs": [],
   "source": [
    "df_recording_qual = bin_characteristic(df, characteristic, 5)"
   ]
  },
  {
   "cell_type": "code",
   "execution_count": null,
   "id": "c7fca116-3fef-4f6f-9fdf-3876e67b9f46",
   "metadata": {},
   "outputs": [],
   "source": [
    "pipeline, dict_stats = calculate_stats(df_recording_qual, \"bin_\" + characteristic)"
   ]
  },
  {
   "cell_type": "code",
   "execution_count": null,
   "id": "a3a3719d-2248-4465-848a-9f3a99d82307",
   "metadata": {},
   "outputs": [],
   "source": [
    "fig, axs = plot_stats(df_recording_qual, dict_stats, \"bin_\"+characteristic)\n",
    "fig.legends[0].set_title(\"PSG Quality\")\n",
    "plt.savefig(\"recording_quality_psg.pdf\", format=\"pdf\", bbox_inches=\"tight\")"
   ]
  },
  {
   "cell_type": "markdown",
   "id": "eab6caa7-fab0-478c-8a74-98027b8c406e",
   "metadata": {
    "tags": []
   },
   "source": [
    "# Healthy vs. Sick in general"
   ]
  },
  {
   "cell_type": "code",
   "execution_count": null,
   "id": "00ce40fb-a61a-42fa-989f-c8296fb91053",
   "metadata": {},
   "outputs": [],
   "source": [
    "df[\"sick\"] = df[[\"sleep_apnea\", \"insomnia\", \"resstles_legs\"]].sum(axis=1)\n",
    "df[\"sick\"] = pd.cut(\n",
    "    df[\"sick\"], [0, 0.1, 1], include_lowest=True, right=True, labels=[\"healthy\", \"sick\"]\n",
    ")"
   ]
  },
  {
   "cell_type": "code",
   "execution_count": null,
   "id": "f45b1a7f-4b18-4e3c-8792-646a5f97cefe",
   "metadata": {},
   "outputs": [],
   "source": [
    "df"
   ]
  },
  {
   "cell_type": "code",
   "execution_count": null,
   "id": "e027ce76-f63c-49e7-95b2-d1d01ba75772",
   "metadata": {},
   "outputs": [],
   "source": [
    "characteristic = \"sick\""
   ]
  },
  {
   "cell_type": "code",
   "execution_count": null,
   "id": "c347f99f-4939-4272-93cd-3022f3289057",
   "metadata": {},
   "outputs": [],
   "source": [
    "pipeline, dict_stats = calculate_stats(df, characteristic)"
   ]
  },
  {
   "cell_type": "code",
   "execution_count": null,
   "id": "6bcb646f-0742-4644-9bb4-a4f12211e7dc",
   "metadata": {},
   "outputs": [],
   "source": [
    "plot_stats(df_recording_qual, dict_stats, characteristic)"
   ]
  },
  {
   "cell_type": "markdown",
   "id": "38f53d5a-2eec-4b37-93ca-10d7d9158c1f",
   "metadata": {},
   "source": [
    "# Gender"
   ]
  },
  {
   "cell_type": "code",
   "execution_count": null,
   "id": "4b186027-936d-4625-8b72-c450d9bd16a3",
   "metadata": {},
   "outputs": [],
   "source": [
    "characteristic = \"gender\""
   ]
  },
  {
   "cell_type": "code",
   "execution_count": null,
   "id": "dd756876-cd4c-4872-9f71-30cbe74a3551",
   "metadata": {},
   "outputs": [],
   "source": [
    "pipeline, dict_stats = calculate_stats(df, characteristic)"
   ]
  },
  {
   "cell_type": "code",
   "execution_count": null,
   "id": "b5950858-c89c-45f1-bdb9-78c6924d0baa",
   "metadata": {},
   "outputs": [],
   "source": [
    "fig, ax = plot_stats(df_recording_qual, dict_stats, characteristic)\n",
    "fig.legends[0].set_title(\"Gender\")\n",
    "plt.savefig(\"gender_statistics.pdf\", format=\"pdf\", bbox_inches=\"tight\")"
   ]
  },
  {
   "cell_type": "markdown",
   "id": "54685327-2ebb-400a-a5f9-5fe00a48a939",
   "metadata": {},
   "source": [
    "# Sleep Apnea"
   ]
  },
  {
   "cell_type": "code",
   "execution_count": null,
   "id": "30dad886-852e-46c3-8e89-034de3d5fbf7",
   "metadata": {},
   "outputs": [],
   "source": [
    "df[\"sleep_apnea\"].replace(to_replace=[0.0, 1.0], value=[\"healthy\", \"sick\"], inplace=True)\n",
    "df[\"insomnia\"].replace(to_replace=[0.0, 1.0], value=[\"healthy\", \"sick\"], inplace=True)\n",
    "df[\"resstles_legs\"].replace(to_replace=[0.0, 1.0], value=[\"healthy\", \"sick\"], inplace=True)"
   ]
  },
  {
   "cell_type": "code",
   "execution_count": null,
   "id": "838ab6b8-571d-43c5-ad40-dfe95f7600ef",
   "metadata": {},
   "outputs": [],
   "source": [
    "characteristic = \"sleep_apnea\""
   ]
  },
  {
   "cell_type": "code",
   "execution_count": null,
   "id": "415eb8d5-cb1f-4147-b67d-09b041e17490",
   "metadata": {},
   "outputs": [],
   "source": [
    "pipeline, dict_stats = calculate_stats(df, characteristic)"
   ]
  },
  {
   "cell_type": "code",
   "execution_count": null,
   "id": "3b5dceb9-e629-4022-aad4-80bc0d8840fe",
   "metadata": {},
   "outputs": [],
   "source": [
    "fig, ax = plot_stats(df_recording_qual, dict_stats, characteristic)\n",
    "fig.legends[0].set_title(\"Sleep Apnea\")\n",
    "plt.savefig(\"sleep_apnea_statistics.pdf\", format=\"pdf\", bbox_inches=\"tight\")"
   ]
  },
  {
   "cell_type": "markdown",
   "id": "3f558d9c-180d-4696-b7eb-3fbad7d5fe04",
   "metadata": {},
   "source": [
    "# Insomnia"
   ]
  },
  {
   "cell_type": "code",
   "execution_count": null,
   "id": "0efa60bd-37e4-4345-838e-3b4a418b6c41",
   "metadata": {},
   "outputs": [],
   "source": [
    "characteristic = \"insomnia\""
   ]
  },
  {
   "cell_type": "code",
   "execution_count": null,
   "id": "6f8b4382-3452-412a-9523-f578bb74426f",
   "metadata": {},
   "outputs": [],
   "source": [
    "pipeline, dict_stats = calculate_stats(df, characteristic)"
   ]
  },
  {
   "cell_type": "code",
   "execution_count": null,
   "id": "f4c89844-ad9e-4870-9875-7dff57416bf2",
   "metadata": {},
   "outputs": [],
   "source": [
    "fig, ax = plot_stats(df_recording_qual, dict_stats, characteristic)\n",
    "fig.legends[0].set_title(\"Insomnia\")\n",
    "plt.savefig(\"Insomnia_statistics.pdf\", format=\"pdf\", bbox_inches=\"tight\")"
   ]
  },
  {
   "cell_type": "markdown",
   "id": "6598ed23-11d4-4830-9fff-868f6cbed335",
   "metadata": {},
   "source": [
    "# Resstles Legs"
   ]
  },
  {
   "cell_type": "code",
   "execution_count": null,
   "id": "8b64f3dd-28a8-40c8-89a4-3aa0a9bffe57",
   "metadata": {},
   "outputs": [],
   "source": [
    "characteristic = \"resstles_legs\""
   ]
  },
  {
   "cell_type": "code",
   "execution_count": null,
   "id": "025f1a96-226b-4b75-8e1b-aa4c77bd6ea9",
   "metadata": {},
   "outputs": [],
   "source": [
    "pipeline, dict_stats = calculate_stats(df, characteristic)"
   ]
  },
  {
   "cell_type": "code",
   "execution_count": null,
   "id": "e3072c51-b745-4f69-8e75-7568dc06c7fb",
   "metadata": {},
   "outputs": [],
   "source": [
    "fig, ax = plot_stats(df_recording_qual, dict_stats, characteristic)\n",
    "fig.legends[0].set_title(\"RLS\")\n",
    "plt.savefig(\"rls_statistics.pdf\", format=\"pdf\", bbox_inches=\"tight\")"
   ]
  },
  {
   "cell_type": "markdown",
   "id": "7fd844b1-015d-4276-8d16-4087e9fae8fc",
   "metadata": {},
   "source": [
    "# WHIIRS (Insomnia 2)"
   ]
  },
  {
   "cell_type": "code",
   "execution_count": null,
   "id": "f28fd7ab-0a19-413a-a027-c324051a760c",
   "metadata": {},
   "outputs": [],
   "source": [
    "characteristic = \"WHIIRS_score\""
   ]
  },
  {
   "cell_type": "code",
   "execution_count": null,
   "id": "950ad558-f807-4541-945c-b703ffc5bfd8",
   "metadata": {},
   "outputs": [],
   "source": [
    "df_whirrs = bin_characteristic(df, characteristic, 8.9)"
   ]
  },
  {
   "cell_type": "code",
   "execution_count": null,
   "id": "e8af76b8-b2da-4899-a321-327595a98ca2",
   "metadata": {},
   "outputs": [],
   "source": [
    "pipeline, dict_stats = calculate_stats(df_recording_qual, \"bin_\" + characteristic)"
   ]
  },
  {
   "cell_type": "code",
   "execution_count": null,
   "id": "4163bed5-828a-4ac6-9d94-6c7972c1685e",
   "metadata": {},
   "outputs": [],
   "source": [
    "plot_stats(df_recording_qual, dict_stats, \"bin_\"+characteristic)"
   ]
  },
  {
   "cell_type": "markdown",
   "id": "e33a2550-2f9b-40b6-81f2-d087496a03ca",
   "metadata": {},
   "source": [
    "# Race"
   ]
  },
  {
   "cell_type": "code",
   "execution_count": null,
   "id": "c24eca66-7020-4851-a4fe-4c4c8451c0e6",
   "metadata": {},
   "outputs": [],
   "source": [
    "characteristic = \"race\""
   ]
  },
  {
   "cell_type": "code",
   "execution_count": null,
   "id": "3c1d9ebc-e217-4311-a032-d3b206e1fa4e",
   "metadata": {},
   "outputs": [],
   "source": [
    "pipeline = kruskal_stats(df, characteristic)\n",
    "pipeline.display_results()"
   ]
  },
  {
   "cell_type": "code",
   "execution_count": null,
   "id": "f522d765-e3ce-4e09-a7d3-aafb11b9b57f",
   "metadata": {},
   "outputs": [],
   "source": [
    "fig, ax = plt.subplots(ncols=4, figsize=(35,8))\n",
    "\n",
    "for i, modality in enumerate(modality_list):\n",
    "    df_race = multi_xs(df, [algorithm], level=\"algorithm\")\n",
    "    df_race = multi_xs(df_race, [modality], level=\"modality\")\n",
    "    sns.boxplot(\n",
    "        data=multi_xs(df, [metric], level=\"metric\").reset_index(),\n",
    "        x=\"metric\",\n",
    "        y=\"data\",\n",
    "        hue=\"race\",\n",
    "        ax=ax[i],\n",
    "    )\n",
    "    ax[i].set_title(modality)\n",
    "    ax[i].legend().remove()\n",
    "    ax[i].set_xlabel(\"\")\n",
    "    ax[i].set_ylabel(\"Accuracy [%]\")\n",
    "\n",
    "\n",
    "plt.legend(ncol=4, bbox_to_anchor=(-0.5, 1.17))\n",
    "plt.savefig(\"origin_statistics.pdf\", format=\"pdf\", bbox_inches=\"tight\")\n",
    "    \n"
   ]
  },
  {
   "cell_type": "code",
   "execution_count": null,
   "id": "744b1549-e57d-4237-82e3-c451eabf7f39",
   "metadata": {},
   "outputs": [],
   "source": []
  },
  {
   "cell_type": "code",
   "execution_count": null,
   "id": "5e9f7065-3958-4865-8d56-c3e6bdcbc474",
   "metadata": {},
   "outputs": [],
   "source": []
  },
  {
   "cell_type": "code",
   "execution_count": null,
   "id": "c575f4f6-5dbc-41ae-b658-1609b11200bb",
   "metadata": {},
   "outputs": [],
   "source": []
  },
  {
   "cell_type": "code",
   "execution_count": null,
   "id": "3fc6e5fa-2d5a-408e-bc9f-b92fc7486f1c",
   "metadata": {},
   "outputs": [],
   "source": []
  }
 ],
 "metadata": {
  "kernelspec": {
   "display_name": "sleep-analysis",
   "language": "python",
   "name": "sleep-analysis"
  },
  "language_info": {
   "codemirror_mode": {
    "name": "ipython",
    "version": 3
   },
   "file_extension": ".py",
   "mimetype": "text/x-python",
   "name": "python",
   "nbconvert_exporter": "python",
   "pygments_lexer": "ipython3",
   "version": "3.9.7"
  }
 },
 "nbformat": 4,
 "nbformat_minor": 5
}
